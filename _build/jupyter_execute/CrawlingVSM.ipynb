{
 "cells": [
  {
   "cell_type": "markdown",
   "metadata": {
    "id": "GrkNq0qWQ-e5"
   },
   "source": [
    "# CRAWLING DATA TWITTER MENGGUNAKAN METODE VECTOR SPACE MODEL"
   ]
  },
  {
   "cell_type": "markdown",
   "metadata": {
    "id": "Nv80D2ImQNCQ"
   },
   "source": [
    "Crawling Data adalah teknik pengumpulan data yang digunakan untuk mengindeks informasi pada halaman menggunakan URL (Uniform Resource Locator) dengan menyertakan API (Application Programming Interface) untuk melakukan penambangan dataset yang lebih besar.\n",
    "\n",
    "Data yang dapat kamu kumpulkan dapat berupa text, audio, video, dan gambar. Kamu dapat memulai dengan melakukan penambangan data pada API yang bersifat open source seperti yang disediakan oleh Twitter. Untuk melakukan crawling data di Twitter kamu dapat menggunakan library scrapy ataupun twint pada python."
   ]
  },
  {
   "cell_type": "markdown",
   "metadata": {
    "id": "q5lZrmVZqV-C"
   },
   "source": [
    "Untuk Tahap-Tahap sebagai berikut:"
   ]
  },
  {
   "cell_type": "markdown",
   "metadata": {
    "id": "-9lvQMzbq7hz"
   },
   "source": [
    "Lakukan Connect Google colab dengan goole Drive sebagai penyimpanan"
   ]
  },
  {
   "cell_type": "code",
   "execution_count": 1,
   "metadata": {
    "colab": {
     "base_uri": "https://localhost:8080/"
    },
    "id": "CWuNLs8afYHL",
    "outputId": "db9246cb-f761-4792-9d80-c5d80c843a90"
   },
   "outputs": [
    {
     "ename": "ModuleNotFoundError",
     "evalue": "No module named 'google'",
     "output_type": "error",
     "traceback": [
      "\u001b[1;31m---------------------------------------------------------------------------\u001b[0m",
      "\u001b[1;31mModuleNotFoundError\u001b[0m                       Traceback (most recent call last)",
      "\u001b[1;32mC:\\Users\\MNURFA~1\\AppData\\Local\\Temp/ipykernel_20936/1408506528.py\u001b[0m in \u001b[0;36m<module>\u001b[1;34m\u001b[0m\n\u001b[1;32m----> 1\u001b[1;33m \u001b[1;32mfrom\u001b[0m \u001b[0mgoogle\u001b[0m\u001b[1;33m.\u001b[0m\u001b[0mcolab\u001b[0m \u001b[1;32mimport\u001b[0m \u001b[0mdrive\u001b[0m\u001b[1;33m\u001b[0m\u001b[1;33m\u001b[0m\u001b[0m\n\u001b[0m\u001b[0;32m      2\u001b[0m \u001b[0mdrive\u001b[0m\u001b[1;33m.\u001b[0m\u001b[0mmount\u001b[0m\u001b[1;33m(\u001b[0m\u001b[1;34m'/content/drive'\u001b[0m\u001b[1;33m)\u001b[0m\u001b[1;33m\u001b[0m\u001b[1;33m\u001b[0m\u001b[0m\n",
      "\u001b[1;31mModuleNotFoundError\u001b[0m: No module named 'google'"
     ]
    }
   ],
   "source": [
    "from google.colab import drive\n",
    "drive.mount('/content/drive')"
   ]
  },
  {
   "cell_type": "markdown",
   "metadata": {
    "id": "Yj6Oue3broAG"
   },
   "source": [
    "Pindah Path ke /content/drive/MyDrive/webmining/webmining"
   ]
  },
  {
   "cell_type": "code",
   "execution_count": null,
   "metadata": {
    "colab": {
     "base_uri": "https://localhost:8080/"
    },
    "id": "k4EveF720kBC",
    "outputId": "0d7bf676-dec3-4d9f-f1d8-a508996a983a"
   },
   "outputs": [
    {
     "name": "stdout",
     "output_type": "stream",
     "text": [
      "/content/drive/MyDrive/webmining/webmining\n"
     ]
    }
   ],
   "source": [
    "%cd /content/drive/MyDrive/webmining/webmining/"
   ]
  },
  {
   "cell_type": "markdown",
   "metadata": {
    "id": "MrZxGNlQ7s6j"
   },
   "source": [
    "Clone Twint dari Github Twint Project"
   ]
  },
  {
   "cell_type": "code",
   "execution_count": null,
   "metadata": {
    "colab": {
     "base_uri": "https://localhost:8080/"
    },
    "id": "SahVEfOO7mf2",
    "outputId": "091ae666-8bce-4fcd-a97e-5297f690dc18"
   },
   "outputs": [
    {
     "name": "stdout",
     "output_type": "stream",
     "text": [
      "fatal: destination path 'twint' already exists and is not an empty directory.\n",
      "/content/drive/MyDrive/webmining/webmining/twint\n",
      "Looking in indexes: https://pypi.org/simple, https://us-python.pkg.dev/colab-wheels/public/simple/\n",
      "Processing /content/drive/MyDrive/webmining/webmining/twint\n",
      "\u001b[33m  DEPRECATION: A future pip version will change local packages to be built in-place without first copying to a temporary directory. We recommend you use --use-feature=in-tree-build to test your packages with this new behavior before it becomes the default.\n",
      "   pip 21.3 will remove support for this functionality. You can find discussion regarding this at https://github.com/pypa/pip/issues/7555.\u001b[0m\n",
      "Requirement already satisfied: aiohttp in /usr/local/lib/python3.7/dist-packages (from -r requirements.txt (line 1)) (3.8.3)\n",
      "Collecting aiodns\n",
      "  Downloading aiodns-3.0.0-py3-none-any.whl (5.0 kB)\n",
      "Requirement already satisfied: beautifulsoup4 in /usr/local/lib/python3.7/dist-packages (from -r requirements.txt (line 3)) (4.6.3)\n",
      "Collecting cchardet\n",
      "  Downloading cchardet-2.1.7-cp37-cp37m-manylinux2010_x86_64.whl (263 kB)\n",
      "\u001b[K     |████████████████████████████████| 263 kB 7.8 MB/s \n",
      "\u001b[?25hCollecting dataclasses\n",
      "  Downloading dataclasses-0.6-py3-none-any.whl (14 kB)\n",
      "Collecting elasticsearch\n",
      "  Downloading elasticsearch-8.5.0-py3-none-any.whl (385 kB)\n",
      "\u001b[K     |████████████████████████████████| 385 kB 46.5 MB/s \n",
      "\u001b[?25hRequirement already satisfied: pysocks in /usr/local/lib/python3.7/dist-packages (from -r requirements.txt (line 7)) (1.7.1)\n",
      "Requirement already satisfied: pandas>=0.23.0 in /usr/local/lib/python3.7/dist-packages (from -r requirements.txt (line 8)) (1.3.5)\n",
      "Collecting aiohttp_socks<=0.4.1\n",
      "  Downloading aiohttp_socks-0.4.1-py3-none-any.whl (17 kB)\n",
      "Collecting schedule\n",
      "  Downloading schedule-1.1.0-py2.py3-none-any.whl (10 kB)\n",
      "Requirement already satisfied: geopy in /usr/local/lib/python3.7/dist-packages (from -r requirements.txt (line 11)) (1.17.0)\n",
      "Collecting fake-useragent\n",
      "  Downloading fake_useragent-0.1.14-py3-none-any.whl (13 kB)\n",
      "Collecting googletransx\n",
      "  Downloading googletransx-2.4.2.tar.gz (13 kB)\n",
      "Requirement already satisfied: pytz>=2017.3 in /usr/local/lib/python3.7/dist-packages (from pandas>=0.23.0->-r requirements.txt (line 8)) (2022.6)\n",
      "Requirement already satisfied: python-dateutil>=2.7.3 in /usr/local/lib/python3.7/dist-packages (from pandas>=0.23.0->-r requirements.txt (line 8)) (2.8.2)\n",
      "Requirement already satisfied: numpy>=1.17.3 in /usr/local/lib/python3.7/dist-packages (from pandas>=0.23.0->-r requirements.txt (line 8)) (1.21.6)\n",
      "Requirement already satisfied: attrs>=19.2.0 in /usr/local/lib/python3.7/dist-packages (from aiohttp_socks<=0.4.1->-r requirements.txt (line 9)) (22.1.0)\n",
      "Requirement already satisfied: asynctest==0.13.0 in /usr/local/lib/python3.7/dist-packages (from aiohttp->-r requirements.txt (line 1)) (0.13.0)\n",
      "Requirement already satisfied: aiosignal>=1.1.2 in /usr/local/lib/python3.7/dist-packages (from aiohttp->-r requirements.txt (line 1)) (1.2.0)\n",
      "Requirement already satisfied: typing-extensions>=3.7.4 in /usr/local/lib/python3.7/dist-packages (from aiohttp->-r requirements.txt (line 1)) (4.1.1)\n",
      "Requirement already satisfied: multidict<7.0,>=4.5 in /usr/local/lib/python3.7/dist-packages (from aiohttp->-r requirements.txt (line 1)) (6.0.2)\n",
      "Requirement already satisfied: frozenlist>=1.1.1 in /usr/local/lib/python3.7/dist-packages (from aiohttp->-r requirements.txt (line 1)) (1.3.1)\n",
      "Requirement already satisfied: yarl<2.0,>=1.0 in /usr/local/lib/python3.7/dist-packages (from aiohttp->-r requirements.txt (line 1)) (1.8.1)\n",
      "Requirement already satisfied: charset-normalizer<3.0,>=2.0 in /usr/local/lib/python3.7/dist-packages (from aiohttp->-r requirements.txt (line 1)) (2.1.1)\n",
      "Requirement already satisfied: async-timeout<5.0,>=4.0.0a3 in /usr/local/lib/python3.7/dist-packages (from aiohttp->-r requirements.txt (line 1)) (4.0.2)\n",
      "Requirement already satisfied: six>=1.5 in /usr/local/lib/python3.7/dist-packages (from python-dateutil>=2.7.3->pandas>=0.23.0->-r requirements.txt (line 8)) (1.15.0)\n",
      "Requirement already satisfied: idna>=2.0 in /usr/local/lib/python3.7/dist-packages (from yarl<2.0,>=1.0->aiohttp->-r requirements.txt (line 1)) (2.10)\n",
      "Collecting pycares>=4.0.0\n",
      "  Downloading pycares-4.2.2-cp37-cp37m-manylinux_2_17_x86_64.manylinux2014_x86_64.whl (288 kB)\n",
      "\u001b[K     |████████████████████████████████| 288 kB 58.8 MB/s \n",
      "\u001b[?25hRequirement already satisfied: cffi>=1.5.0 in /usr/local/lib/python3.7/dist-packages (from pycares>=4.0.0->aiodns->-r requirements.txt (line 2)) (1.15.1)\n",
      "Requirement already satisfied: pycparser in /usr/local/lib/python3.7/dist-packages (from cffi>=1.5.0->pycares>=4.0.0->aiodns->-r requirements.txt (line 2)) (2.21)\n",
      "Collecting elastic-transport<9,>=8\n",
      "  Downloading elastic_transport-8.4.0-py3-none-any.whl (59 kB)\n",
      "\u001b[K     |████████████████████████████████| 59 kB 6.8 MB/s \n",
      "\u001b[?25hCollecting urllib3<2,>=1.26.2\n",
      "  Downloading urllib3-1.26.12-py2.py3-none-any.whl (140 kB)\n",
      "\u001b[K     |████████████████████████████████| 140 kB 56.9 MB/s \n",
      "\u001b[?25hRequirement already satisfied: certifi in /usr/local/lib/python3.7/dist-packages (from elastic-transport<9,>=8->elasticsearch->-r requirements.txt (line 6)) (2022.9.24)\n",
      "Requirement already satisfied: geographiclib<2,>=1.49 in /usr/local/lib/python3.7/dist-packages (from geopy->-r requirements.txt (line 11)) (1.52)\n",
      "Requirement already satisfied: requests in /usr/local/lib/python3.7/dist-packages (from googletransx->-r requirements.txt (line 13)) (2.23.0)\n",
      "Requirement already satisfied: chardet<4,>=3.0.2 in /usr/local/lib/python3.7/dist-packages (from requests->googletransx->-r requirements.txt (line 13)) (3.0.4)\n",
      "Collecting requests\n",
      "  Downloading requests-2.28.1-py3-none-any.whl (62 kB)\n",
      "\u001b[K     |████████████████████████████████| 62 kB 1.4 MB/s \n",
      "\u001b[?25hBuilding wheels for collected packages: twint, googletransx\n",
      "  Building wheel for twint (setup.py) ... \u001b[?25l\u001b[?25hdone\n",
      "  Created wheel for twint: filename=twint-2.1.21-py3-none-any.whl size=38871 sha256=92b9c3fc040b49f04bd4169f4b4b8ac3da4999e746e6322bdbc1c2e89c30ce38\n",
      "  Stored in directory: /tmp/pip-ephem-wheel-cache-pgyac8fv/wheels/88/61/06/bd5d6a887f43cd7ea07380c2bc1fb104f5cc0d03f92a3c50c4\n",
      "  Building wheel for googletransx (setup.py) ... \u001b[?25l\u001b[?25hdone\n",
      "  Created wheel for googletransx: filename=googletransx-2.4.2-py3-none-any.whl size=15968 sha256=e95cf932c8af78885106971fbdc76ddf3eb518d958397e3d9a63d1ed7bfc4099\n",
      "  Stored in directory: /root/.cache/pip/wheels/66/d5/b1/31104b338f7fd45aa8f7d22587765db06773b13df48a89735f\n",
      "Successfully built twint googletransx\n",
      "Installing collected packages: urllib3, requests, pycares, elastic-transport, schedule, googletransx, fake-useragent, elasticsearch, dataclasses, cchardet, aiohttp-socks, aiodns, twint\n",
      "  Attempting uninstall: urllib3\n",
      "    Found existing installation: urllib3 1.24.3\n",
      "    Uninstalling urllib3-1.24.3:\n",
      "      Successfully uninstalled urllib3-1.24.3\n",
      "  Attempting uninstall: requests\n",
      "    Found existing installation: requests 2.23.0\n",
      "    Uninstalling requests-2.23.0:\n",
      "      Successfully uninstalled requests-2.23.0\n",
      "Successfully installed aiodns-3.0.0 aiohttp-socks-0.4.1 cchardet-2.1.7 dataclasses-0.6 elastic-transport-8.4.0 elasticsearch-8.5.0 fake-useragent-0.1.14 googletransx-2.4.2 pycares-4.2.2 requests-2.28.1 schedule-1.1.0 twint-2.1.21 urllib3-1.26.12\n"
     ]
    }
   ],
   "source": [
    "!git clone --depth=1 https://github.com/twintproject/twint.git\n",
    "%cd twint\n",
    "!pip3 install . -r requirements.txt"
   ]
  },
  {
   "cell_type": "markdown",
   "metadata": {
    "id": "3DW9vgEp7LL7"
   },
   "source": [
    "## Penjelasan Twint"
   ]
  },
  {
   "cell_type": "markdown",
   "metadata": {
    "id": "yD5uqqpt7BCL"
   },
   "source": [
    "Twint adalah alat pengikis Twitter canggih yang ditulis dengan Python yang memungkinkan untuk menggores Tweet dari profil Twitter tanpa menggunakan API Twitter."
   ]
  },
  {
   "cell_type": "markdown",
   "metadata": {
    "id": "MHhGIyqF78hw"
   },
   "source": [
    "install Library Twint"
   ]
  },
  {
   "cell_type": "code",
   "execution_count": null,
   "metadata": {
    "colab": {
     "base_uri": "https://localhost:8080/"
    },
    "id": "HchjwJTW65hA",
    "outputId": "4e1b0d60-7bb7-40df-b0b9-d8082d93090c"
   },
   "outputs": [
    {
     "name": "stdout",
     "output_type": "stream",
     "text": [
      "Looking in indexes: https://pypi.org/simple, https://us-python.pkg.dev/colab-wheels/public/simple/\n",
      "Requirement already satisfied: twint in /usr/local/lib/python3.7/dist-packages (2.1.21)\n",
      "Requirement already satisfied: cchardet in /usr/local/lib/python3.7/dist-packages (from twint) (2.1.7)\n",
      "Requirement already satisfied: pysocks in /usr/local/lib/python3.7/dist-packages (from twint) (1.7.1)\n",
      "Requirement already satisfied: aiohttp-socks in /usr/local/lib/python3.7/dist-packages (from twint) (0.4.1)\n",
      "Requirement already satisfied: beautifulsoup4 in /usr/local/lib/python3.7/dist-packages (from twint) (4.6.3)\n",
      "Requirement already satisfied: aiohttp in /usr/local/lib/python3.7/dist-packages (from twint) (3.8.3)\n",
      "Requirement already satisfied: elasticsearch in /usr/local/lib/python3.7/dist-packages (from twint) (8.5.0)\n",
      "Requirement already satisfied: geopy in /usr/local/lib/python3.7/dist-packages (from twint) (1.17.0)\n",
      "Requirement already satisfied: pandas in /usr/local/lib/python3.7/dist-packages (from twint) (1.3.5)\n",
      "Requirement already satisfied: fake-useragent in /usr/local/lib/python3.7/dist-packages (from twint) (0.1.14)\n",
      "Requirement already satisfied: schedule in /usr/local/lib/python3.7/dist-packages (from twint) (1.1.0)\n",
      "Requirement already satisfied: googletransx in /usr/local/lib/python3.7/dist-packages (from twint) (2.4.2)\n",
      "Requirement already satisfied: dataclasses in /usr/local/lib/python3.7/dist-packages (from twint) (0.6)\n",
      "Requirement already satisfied: aiodns in /usr/local/lib/python3.7/dist-packages (from twint) (3.0.0)\n",
      "Requirement already satisfied: pycares>=4.0.0 in /usr/local/lib/python3.7/dist-packages (from aiodns->twint) (4.2.2)\n",
      "Requirement already satisfied: cffi>=1.5.0 in /usr/local/lib/python3.7/dist-packages (from pycares>=4.0.0->aiodns->twint) (1.15.1)\n",
      "Requirement already satisfied: pycparser in /usr/local/lib/python3.7/dist-packages (from cffi>=1.5.0->pycares>=4.0.0->aiodns->twint) (2.21)\n",
      "Requirement already satisfied: typing-extensions>=3.7.4 in /usr/local/lib/python3.7/dist-packages (from aiohttp->twint) (4.1.1)\n",
      "Requirement already satisfied: attrs>=17.3.0 in /usr/local/lib/python3.7/dist-packages (from aiohttp->twint) (22.1.0)\n",
      "Requirement already satisfied: aiosignal>=1.1.2 in /usr/local/lib/python3.7/dist-packages (from aiohttp->twint) (1.2.0)\n",
      "Requirement already satisfied: asynctest==0.13.0 in /usr/local/lib/python3.7/dist-packages (from aiohttp->twint) (0.13.0)\n",
      "Requirement already satisfied: frozenlist>=1.1.1 in /usr/local/lib/python3.7/dist-packages (from aiohttp->twint) (1.3.1)\n",
      "Requirement already satisfied: async-timeout<5.0,>=4.0.0a3 in /usr/local/lib/python3.7/dist-packages (from aiohttp->twint) (4.0.2)\n",
      "Requirement already satisfied: charset-normalizer<3.0,>=2.0 in /usr/local/lib/python3.7/dist-packages (from aiohttp->twint) (2.1.1)\n",
      "Requirement already satisfied: yarl<2.0,>=1.0 in /usr/local/lib/python3.7/dist-packages (from aiohttp->twint) (1.8.1)\n",
      "Requirement already satisfied: multidict<7.0,>=4.5 in /usr/local/lib/python3.7/dist-packages (from aiohttp->twint) (6.0.2)\n",
      "Requirement already satisfied: idna>=2.0 in /usr/local/lib/python3.7/dist-packages (from yarl<2.0,>=1.0->aiohttp->twint) (2.10)\n",
      "Requirement already satisfied: elastic-transport<9,>=8 in /usr/local/lib/python3.7/dist-packages (from elasticsearch->twint) (8.4.0)\n",
      "Requirement already satisfied: certifi in /usr/local/lib/python3.7/dist-packages (from elastic-transport<9,>=8->elasticsearch->twint) (2022.9.24)\n",
      "Requirement already satisfied: urllib3<2,>=1.26.2 in /usr/local/lib/python3.7/dist-packages (from elastic-transport<9,>=8->elasticsearch->twint) (1.26.12)\n",
      "Requirement already satisfied: geographiclib<2,>=1.49 in /usr/local/lib/python3.7/dist-packages (from geopy->twint) (1.52)\n",
      "Requirement already satisfied: requests in /usr/local/lib/python3.7/dist-packages (from googletransx->twint) (2.28.1)\n",
      "Requirement already satisfied: pytz>=2017.3 in /usr/local/lib/python3.7/dist-packages (from pandas->twint) (2022.6)\n",
      "Requirement already satisfied: numpy>=1.17.3 in /usr/local/lib/python3.7/dist-packages (from pandas->twint) (1.21.6)\n",
      "Requirement already satisfied: python-dateutil>=2.7.3 in /usr/local/lib/python3.7/dist-packages (from pandas->twint) (2.8.2)\n",
      "Requirement already satisfied: six>=1.5 in /usr/local/lib/python3.7/dist-packages (from python-dateutil>=2.7.3->pandas->twint) (1.15.0)\n"
     ]
    }
   ],
   "source": [
    "!pip install twint"
   ]
  },
  {
   "cell_type": "markdown",
   "metadata": {
    "id": "QX3HYJcj8F8j"
   },
   "source": [
    "install aiohttp versi 3.7.0"
   ]
  },
  {
   "cell_type": "code",
   "execution_count": null,
   "metadata": {
    "colab": {
     "base_uri": "https://localhost:8080/"
    },
    "id": "NzxFTdT97P9t",
    "outputId": "205ac288-e8bb-4429-e21d-467920dd9c1b"
   },
   "outputs": [
    {
     "name": "stdout",
     "output_type": "stream",
     "text": [
      "Looking in indexes: https://pypi.org/simple, https://us-python.pkg.dev/colab-wheels/public/simple/\n",
      "Collecting aiohttp==3.7.0\n",
      "  Downloading aiohttp-3.7.0-cp37-cp37m-manylinux2014_x86_64.whl (1.3 MB)\n",
      "\u001b[K     |████████████████████████████████| 1.3 MB 7.6 MB/s \n",
      "\u001b[?25hRequirement already satisfied: chardet<4.0,>=2.0 in /usr/local/lib/python3.7/dist-packages (from aiohttp==3.7.0) (3.0.4)\n",
      "Collecting async-timeout<4.0,>=3.0\n",
      "  Downloading async_timeout-3.0.1-py3-none-any.whl (8.2 kB)\n",
      "Requirement already satisfied: multidict<7.0,>=4.5 in /usr/local/lib/python3.7/dist-packages (from aiohttp==3.7.0) (6.0.2)\n",
      "Requirement already satisfied: attrs>=17.3.0 in /usr/local/lib/python3.7/dist-packages (from aiohttp==3.7.0) (22.1.0)\n",
      "Requirement already satisfied: yarl<2.0,>=1.0 in /usr/local/lib/python3.7/dist-packages (from aiohttp==3.7.0) (1.8.1)\n",
      "Requirement already satisfied: typing-extensions>=3.7.4 in /usr/local/lib/python3.7/dist-packages (from yarl<2.0,>=1.0->aiohttp==3.7.0) (4.1.1)\n",
      "Requirement already satisfied: idna>=2.0 in /usr/local/lib/python3.7/dist-packages (from yarl<2.0,>=1.0->aiohttp==3.7.0) (2.10)\n",
      "Installing collected packages: async-timeout, aiohttp\n",
      "  Attempting uninstall: async-timeout\n",
      "    Found existing installation: async-timeout 4.0.2\n",
      "    Uninstalling async-timeout-4.0.2:\n",
      "      Successfully uninstalled async-timeout-4.0.2\n",
      "  Attempting uninstall: aiohttp\n",
      "    Found existing installation: aiohttp 3.8.3\n",
      "    Uninstalling aiohttp-3.8.3:\n",
      "      Successfully uninstalled aiohttp-3.8.3\n",
      "Successfully installed aiohttp-3.7.0 async-timeout-3.0.1\n"
     ]
    }
   ],
   "source": [
    "!pip install aiohttp==3.7.0"
   ]
  },
  {
   "cell_type": "markdown",
   "metadata": {
    "id": "thc0c9pK8Ubr"
   },
   "source": [
    "melakukan Import Twint"
   ]
  },
  {
   "cell_type": "markdown",
   "metadata": {
    "id": "_kRgiukX9D0z"
   },
   "source": []
  },
  {
   "cell_type": "code",
   "execution_count": null,
   "metadata": {
    "id": "6xBh4QRO8SLj"
   },
   "outputs": [],
   "source": [
    "import twint"
   ]
  },
  {
   "cell_type": "markdown",
   "metadata": {
    "id": "ty7SdKMER2fV"
   },
   "source": [
    "Install Nest Asyncio dan lakukan Import"
   ]
  },
  {
   "cell_type": "code",
   "execution_count": null,
   "metadata": {
    "colab": {
     "base_uri": "https://localhost:8080/"
    },
    "id": "p5-Y07uk9QHt",
    "outputId": "151b5072-f5e8-4874-d742-964789264cbc"
   },
   "outputs": [
    {
     "name": "stdout",
     "output_type": "stream",
     "text": [
      "Looking in indexes: https://pypi.org/simple, https://us-python.pkg.dev/colab-wheels/public/simple/\n",
      "Collecting nest_asyncio\n",
      "  Downloading nest_asyncio-1.5.6-py3-none-any.whl (5.2 kB)\n",
      "Installing collected packages: nest-asyncio\n",
      "Successfully installed nest-asyncio-1.5.6\n"
     ]
    }
   ],
   "source": [
    "!pip install nest_asyncio\n",
    "import nest_asyncio\n",
    "nest_asyncio.apply() "
   ]
  },
  {
   "cell_type": "markdown",
   "metadata": {
    "id": "D-3m3nYu-zJU"
   },
   "source": [
    "\\configurasi Twint dengan value seperti dibawah"
   ]
  },
  {
   "cell_type": "code",
   "execution_count": null,
   "metadata": {
    "colab": {
     "base_uri": "https://localhost:8080/"
    },
    "id": "IC8Q21dW9gnm",
    "outputId": "ae20b6f5-7434-4be0-a52b-39706b2af5f0"
   },
   "outputs": [
    {
     "name": "stdout",
     "output_type": "stream",
     "text": [
      "1590281767667499010 2022-11-09 09:54:54 +0000 <IniBalikpapaner> Mengenang 40 Hari Tragedi Kanjuruhan, Respon Ketua Umum PSSI Mochamad Iriawan  https://t.co/WSEBx8o0Mr\n",
      "1590281264078409728 2022-11-09 09:52:54 +0000 <KecamatanWagir> Camat Wagir, Hendra Tritjahjono, S.Sos.,  https://t.co/amC4lONxm0 menghadiri giat Sholat Ashar Berjama'ah dan Tahlil Bersama untuk memperingati 40 hari tragedi Kanjuruhan yang diselenggarakan di Masjid Taj'didus Sholah, Rabu sore (09/11/2022).  https://t.co/g7tfchDo9M\n",
      "1590280856790536192 2022-11-09 09:51:16 +0000 <goonjol> @AlionelMessi_ Miris sekali penanganan  PAK TRAGEDI KANJURUHAN INI padahal sudah jelas siapa saja yg membawa pelontar gas airmata berapa orang dan siapa saja yg gas airmatanya habis atau tersisa serta siapa yg memberi perintah untuk menembakan gas airmata harusnya SANGAT JELAS KALAU MEREKA MAU\n",
      "1590280521736916993 2022-11-09 09:49:57 +0000 <rmol_id> 40 Hari Tragedi Kanjuruhan, Puluhan Wartawan Bentangkan Banner 37,5 Meter Berisi Karya Jurnalistik  https://t.co/kfjMEtpM4C\n",
      "1590280087869353984 2022-11-09 09:48:13 +0000 <CNNIndonesia> 40 Hari Tragedi Kanjuruhan, Arema FC Gelar Doa Bersama  https://t.co/iU6vLNQelH\n",
      "1590279708079722496 2022-11-09 09:46:43 +0000 <goonjol> 40 hari sudah TRAGEDI kanjuruhan dan para korban sampai sekarang belum mendapatkan keadilan  Para pelaku penembakan gas air mata dan yg memerintah melakukan penembakan  BELUM TERSENTUH HUKUM TETAP KAWAL !! #UsutTuntas  #UsutTragediKanjuruhan  #UsutTuntasTragediKanjuruhan\n",
      "1590278568273399808 2022-11-09 09:42:11 +0000 <detik_jatim> Pria 74 Tahun di Malang Jalan Mundur Peringati 40 Hari Tragedi Kanjuruhan  https://t.co/vJSfHeWcDn\n",
      "1590277778745630721 2022-11-09 09:39:03 +0000 <tauberitamedia> Kusno, warga Janti, Kota Malang Punya cara tak lazim saat memperingati 40 hari Tragedi Kanjuruhan. Pria 74 tahun itu memperingatinya dengan berjalan mundur.  https://t.co/AE4cE6tMyf\n",
      "1590277020910776321 2022-11-09 09:36:02 +0000 <bb_sports_id> Arema FC Delar Doa Bersama Peringati 40 Hari Tragedi Kanjuruhan  https://t.co/BuHiDzPng4 baca juga berita dari media lainnya di Indonesia di  https://t.co/GkwQxScVr9   #aremania #aremafc #tragedikanjuruhan #40haritragedikanjuruhan\n",
      "1590276006207946753 2022-11-09 09:32:00 +0000 <bigwiniyu> @tanyakanrl siapa penyebab tragedi kanjuruhan? ayo jawab anak anak\n",
      "1590275721595080704 2022-11-09 09:30:52 +0000 <jhyunkth> Manusia ini lucu, kemarin pas kanjuruhan dibantu sana sini sama kpopers, besok nya pas ada tragedi the link menyama ratakan kelakuan kpopers😂\n",
      "1590275543014182912 2022-11-09 09:30:10 +0000 <detik_jatim> 135 Bendera Setengah Tiang Dipasang Peringati 40 Hari Tragedi Kanjuruhan  https://t.co/jlljGvUzEv\n",
      "1590275271399464961 2022-11-09 09:29:05 +0000 <beritajatimcom> Sudah 60 Aremania Bersedia Lapor Dugaan Pidana Tragedi Kanjuruhan.  Malang ( https://t.co/ksziGGp1k3) – Sudah 60 Aremania dan Aremanita yang bersedia lapor ke polisi atas dugaan pelanggaran pidana dalam Tragedi…  https://t.co/CHbVK5ECUw #Olahraga #Malang via @beritajatimcom\n",
      "1590275000216567810 2022-11-09 09:28:00 +0000 <Bisniscom> Peringati 40 Hari Tragedi Kanjuruhan, Arema FC Bakal Gelar Doa Bersama Besok  https://t.co/zHCJxmQRub\n",
      "1590274914694881280 2022-11-09 09:27:40 +0000 <detik_jatim> Sejumlah kegiatan digelar untuk memperingati 40 hari Tragedi Kanjuruhan. Arema FC akan menggelar tahlil dan doa bersama di Kantor Arema FC Jalan Mayjen Panjaitan, Kota Malang.   https://t.co/3r2nKIxKPV\n",
      "1590274039721132032 2022-11-09 09:24:11 +0000 <MuhammadMumu113> 6. BOPI sepertinya harus diadakan kembali dalam bentuk pengawasan, karena BOPI harus bisa mengambil langkah-langkah dan tindakan terhadap masalah yang menimpa persepakbolaan Indonesia, Tragedi Kanjuruhan adalah contoh masalah besar sepakbola Indonesia.\n",
      "1590273543937589248 2022-11-09 09:22:13 +0000 <Jonogemblung12> Tak lupa, mari kembali kita panjatkan doa untuk mereka yang gugur dalam Tragedi Kanjuruhan, semoga di berikan tempat terbaik di sisi Tuhan yang maha esa. Al-Fathihah🙏\n",
      "1590273541915955200 2022-11-09 09:22:12 +0000 <Jonogemblung12> 40 hari Tragedi Kanjuruhan. Sudah sejauh mana penyelidikan kasus ini? Apakah cukup hnya dgn 6 tersangka? Penyelidikan yg terkesan lambat dan kurang progresif. Dimana keadilan untuk 135 nyawa saudara kami !  #UsutTuntasTragediKanjuruhan  #JusticeForKanjuruhan\n",
      "1590273499654139907 2022-11-09 09:22:02 +0000 <24hourindonesia> Arema FC gelar doa bersama peringati 40 hari tragedi Kanjuruhan  https://t.co/0oFhRrsuXA\n",
      "1590273110754103296 2022-11-09 09:20:30 +0000 <APPI_info> Audiensi APPI dan PSSI:  Transformasi Sepakbola Indonesia Pasca Tragedi Kanjuruhan  https://t.co/ank02pkJYV  https://t.co/UqzxgabbnE\n",
      "1590273000485851137 2022-11-09 09:20:03 +0000 <MuhammadMumu113> 5. Namun, tampaknya buntut dari Tragedi Kanjuruhan kemarin, sebaiknya BOPI diaktifkan kembali, karena sepertinya tanpa BOPI, masalah Sepakbola terutama semakin meluas.\n",
      "1590272545785511936 2022-11-09 09:18:15 +0000 <inilahdotcom> Arema FC akan mengadakan doa bersama untuk memperingati 40 hari peristiwa tragedi Kanjuruhan yang menewaskan 135 orang. “Doa dan tahlil untuk mendoakan para korban yang meninggal dunia dalam peristiwa tragedi Kanjuruhan, akan dilakukan setelah Ashar…  https://t.co/s3zQt7OAfa\n",
      "1590271917805932547 2022-11-09 09:15:45 +0000 <MuhammadMumu113> 1. Kompetisi Liga 1 dan Liga² lainnya masih belum jelas nasibnya, efek dari Tragedi di Stadion Kanjuruhan kemarin. Akibatnya banyak kontestan yang akhirnya harus menderita akibat ketidakpastian ini.\n",
      "1590271736205152256 2022-11-09 09:15:02 +0000 <Jackma30608085> @Sport77Official @Arie_Kriting Sebelum adanya tragedi kanjuruhan pun saya tidak nonton liga indonesia.   Krn apa?  Krn sebelum tragedi ini sudah ada korban dan sistem organisasi kepemimpinan nya issp tidak ada respon atas tragedi itu.\n",
      "1590271434731159554 2022-11-09 09:13:50 +0000 <Antara_Jabar> 40 hari tragedi Kanjuruhan, Arema FC  adakan doa bersama dan tahlil   https://t.co/h1btW82OLr\n",
      "1590270276830388225 2022-11-09 09:09:14 +0000 <za2ng2509> 60 Keluarga Korban Akan Serentak Lapor ke Bareskrim soal Tragedi Kanjuruhan : Okezone News  https://t.co/HHoYcNyQHX\n",
      "1590269444680744960 2022-11-09 09:05:56 +0000 <malangsatset> Memperingati 40 hari tragedi Kanjuruhan, spanduk sepanjang 37,5 meter terpasang di Stadion Kanjuruhan, Kabupaten Malang, Rabu (9/11/2022). 135 suporter tewas - &amp; ratusan suporter luka-luka sampai Aremania melakukan aksi turun jalan menuntut kasus Kanjuruhan diusut tuntas.  https://t.co/XOwN4BxuiK\n",
      "1590269365437571072 2022-11-09 09:05:37 +0000 <PARLAYPASTIGOL> Arema FC gelar doa bersama peringati 40 hari tragedi Kanjuruhan  https://t.co/9RolVUWOoH\n",
      "1590268845541167107 2022-11-09 09:03:33 +0000 <jatimnowdotcom> Instruksi itu diberikan langsung oleh Wali Kota Malang Sutiaji. #JatimNow #40HariTragediKanjuruhan #TragediKanjuruhan #walikotamalang #sutiaji #KotaMalang  https://t.co/cMqbNwuu4D\n",
      "1590268567701823490 2022-11-09 09:02:26 +0000 <Mableo1Brien> Arema FC bakal gelar doa bersama peringati 40 hari tragedi Kanjuruhan\n",
      "1590268298104434688 2022-11-09 09:01:22 +0000 <memontum_online> 40 Hari Tragedi Kanjuruhan, Pegawai Pemkot Malang Kenakan Pakaian Nuansa Hitam  https://t.co/CuKSPQMnan\n",
      "1590267722973052928 2022-11-09 08:59:05 +0000 <PakrwCom> \"Aksi ini bertujuan untuk merawat ingatan kita, tentang tragedi kemanusiaan yang sangat memilukan ini,\" katanya. #JatimNow #TragediKanjuruhan #KorbanTragediKanjuruhan #JurnalisMalangRaya #JMR #Malang  https://t.co/HtvDlsnIlA\n",
      "1590267705231577091 2022-11-09 08:59:01 +0000 <SafitriFit8> TGIPF Bubar, Komisi X DPR Tunda Rapat Rekomendasi Hasil Investigasi Tragedi Kanjuruhan  https://t.co/oJZ3HVEL7G\n",
      "1590267568404791296 2022-11-09 08:58:28 +0000 <twit_olahraga> Arema FC gelar doa bersama peringati 40 hari tragedi Kanjuruhan  https://t.co/1rAbJjDIQ4\n",
      "1590266468352282625 2022-11-09 08:54:06 +0000 <pikiran_rakyat> Peringati 40 Hari Tragedi Kanjuruhan, Arema FC Bakal Gelar Doa Bersama Aremania  https://t.co/fggP218qsX  https://t.co/GEifycZybz\n",
      "1590266242233171969 2022-11-09 08:53:12 +0000 <irvan_isnandar> @BayuHanggoro255 @kmzputra @RahmatSuardi @ITZD_2 @txtdrberseragam Iyes terus tragedi penembakan gas air mata di Kanjuruhan siapa yang salah? Saksi banyak dan bukti juga banyak, dan sampai saat ini kasusnya sampai mana.?\n",
      "1590265706616160258 2022-11-09 08:51:04 +0000 <LScorebola> Influencer Banjiri Piala Dunia 2022, Qatar Belajar Dari Tragedi Kanjuruhan &amp; Itaewon  https://t.co/cHpRffwuWS\n",
      "1590264185711386625 2022-11-09 08:45:02 +0000 <bb_sports_id> Iwan Bule Harapkan Liga 1 Segera Bergulir Lagi demi Timnas Indonesia  https://t.co/nWnRQf3BZ3 baca juga berita dari media lainnya di Indonesia di  https://t.co/GkwQxScVr9   #liga1 #timnasindonesia #iwanbule #mochamadiriawan #pssi #tragedikanjuruhan\n",
      "1590263975132147713 2022-11-09 08:44:12 +0000 <ManiakRT> Polisi Buru Pelaku Vandalisme danquot;Polisi Pembunuhdanquot;, Diduga Dilakukan Pasca-Tragedi Kanjuruhan  https://t.co/xvrKT3ganl\n",
      "1590263953258840064 2022-11-09 08:44:06 +0000 <GR_Bergerak> Sampai Jumpa nanti malam jam 19.00 WIB di Sanggar Bulungan kita berdoa bersama untuk seluruh korban Tragedi Kanjuruhan.   #UsutTuntasTragediKanjuruhan\n",
      "1590262440104955906 2022-11-09 08:38:06 +0000 <aiyu_asayaka> @DalemSatrio Nuwunsewu ndan, kalau boleh tau, sudah sampai mana pengusutan tuntas tragedi kanjuruhan selama sampun 40hari meniko ndan.. nyuwun duko nggih bade tanglet kemawon sebagai warga malang 🙏🏻\n",
      "1590259949673713664 2022-11-09 08:28:12 +0000 <Serucoid1> Jelang 40 Hari Tragedi Kanjuruhan, Foto-foto  Karya JMR Hiasi Halaman Stadion  https://t.co/qRPrtFNPcX\n",
      "1590258554849882112 2022-11-09 08:22:39 +0000 <PasebanM> TAWASHSHULAN 40 HARI TRAGEDI KANJURUHAN  https://t.co/vIulWRJ3Vq\n",
      "1590256835738705920 2022-11-09 08:15:49 +0000 <google_foto> #40 Hari Tragedi Kanjuruhan, JMR Bentangkan Banner Foto Jurnalistik Menolak Lupa - JatimNow #foto #fotogoogle  https://t.co/Iyd0iQbaCW\n",
      "1590256822862352384 2022-11-09 08:15:46 +0000 <Doneh> Semakin kesini, kata \"dimobilisasi\" semakin cetha kalo demo2 suporter yg menuntut usut tuntas tragedi Kanjuruhan itu dibiayai. Yungalah nelongso men nasib e para suporter ini.\n",
      "1590256562484183042 2022-11-09 08:14:44 +0000 <Zyanpatra> Peringati 40 Hari Tragedi Kanjuruhan, Arema FC Gelar Doa Bersama  https://t.co/xKs34AT0l6\n",
      "1590255887230201856 2022-11-09 08:12:03 +0000 <jpnncom> Arema FC akan mengadakan doa bersama dan tahlil untuk memperingati 40 hari tragedi Kanjuruhan 1 Oktober 2022. #TragediKanjuruhan  https://t.co/d2wsaXzWck\n",
      "1590255879173152769 2022-11-09 08:12:01 +0000 <bb_sports_id> Tangani 176 Korban Luka, Crisis Center Arema Tutup Hari Ini  https://t.co/fpP6hXEJOS baca juga berita dari media lainnya di Indonesia di  https://t.co/GkwQxScnBB   #persebayasurabaya #aremafc #tragedikanjuruhan #korbantragedikanjuruhan\n",
      "1590255776026984450 2022-11-09 08:11:37 +0000 <sugestiamali> @catchmeupid Byuh ra urusan lah. Harusnya media jg gak usah up berita ini, kesenengen isilop dikira tugasnya dah bener. Padahal tragedi Kanjuruhan yg lebih penting aja gak diurus dengan baik\n",
      "1590255263873142785 2022-11-09 08:09:35 +0000 <Popularitascom> Arema FC gelar doa bersama peringati 40 hari tragedi Kanjuruhan   #Arema #Kanjuruhan #popularitascom  https://t.co/kOQXh5yRum\n",
      "1590255136416620544 2022-11-09 08:09:04 +0000 <malangsatset> Memperingati 40 hari tragedi Kanjuruhan, Kusnoaki (74) warga Janti, Sukun, Kota Malang, melakukan aksi jalan kaki mundur dari Balai Kota Malang menuju Stadion Kanjuruhan, Kabupaten Malang, dengan jarak tempuh 23 Km Rabu (9/111/2022). ( Sumber video : ADM)  https://t.co/d2Hojb8P8v\n",
      "1590254802394828800 2022-11-09 08:07:45 +0000 <abit_1928> 40 hari tragedi kemanusiaan kanjuruhan, 🙏 #UsutTuntasTragediKanjuruhan\n",
      "1590254620206514176 2022-11-09 08:07:01 +0000 <Serucoid1> 40 Hari Tragedi Kanjuruhan, Pegawai Pemkot Malang Kenakan Pakaian Hitam  https://t.co/VefnsVREIs\n",
      "1590254370561568768 2022-11-09 08:06:02 +0000 <bb_sports_id> Tragedi Kanjuruhan: Puluhan Korban akan Buat Laporan Hukum ke Bareskrim Mabes Polri   https://t.co/BlJTwDO6bE baca juga berita dari media lainnya di Indonesia di  https://t.co/GkwQxRUMd1   #tragedikanjuruhan #aremania #aremafc #polri #bareskrim\n",
      "1590254364849233920 2022-11-09 08:06:00 +0000 <antaranews> Rangkaian doa bersama dan tahlil yang diadakan Arema FC untuk memperingati 40 hari peristiwa tragedi Kanjuruhan, akan dilaksanakan pada 10 November 2022 mulai pukul 09.00 WIB.   #Kanjuruhan #StadionKanjuruhan    https://t.co/ateAEsJAqG\n",
      "1590253316881408000 2022-11-09 08:01:50 +0000 <antaramakassar> Arema FC menggelar doa bersama peringati 40 hari tragedi Kanjuruhan  https://t.co/g3bpUuZxZt\n",
      "1590252592302804992 2022-11-09 07:58:58 +0000 <malangsatset> Malangsatset. Sebanyak 135 bendera merah putih setengah tiang terpasang di Stadion luar Kanjuruhan. Pemasangan Bendera setengah tiang ini untuk memperingati 40 hari tragedi Kanjuruhan dan sebagai bentuk duka cita Aremania terhadap para korban  Kanjuruhan.  https://t.co/10EXZRjIpx\n",
      "1590252374740066304 2022-11-09 07:58:06 +0000 <Baarnees> 40 HARI TANPA KEADILAN, USUT TUNTAS TRAGEDI KANJURUHAN!! #UsutTuntasTragediKanjuruhan\n",
      "1590250772083912704 2022-11-09 07:51:44 +0000 <bayuajisasmith> Alhamdulillah, masih bisa ziarah untuk 40 harinya tragedi kanjuruhan.  https://t.co/yp87ACi5bv\n",
      "1590249724711698432 2022-11-09 07:47:34 +0000 <jatimnowdotcom> \"Aksi ini bertujuan untuk merawat ingatan kita, tentang tragedi kemanusiaan yang sangat memilukan ini,\" katanya. #JatimNow #TragediKanjuruhan #KorbanTragediKanjuruhan #JurnalisMalangRaya #JMR #Malang  https://t.co/j7vgGulg71\n"
     ]
    }
   ],
   "source": [
    "c = twint.Config()\n",
    "c.Search = 'tragedi kanjuruhan'\n",
    "c.Pandas = True\n",
    "c.Limit = 60\n",
    "c.Store_csv = True\n",
    "c.Custom[\"tweet\"] = [\"tweet\"]\n",
    "c.Output = \"dataGanjar.csv\"\n",
    "twint.run.Search(c)"
   ]
  },
  {
   "cell_type": "markdown",
   "metadata": {
    "id": "72nQgcK5nplf"
   },
   "source": [
    "## Penjelasan Pandas"
   ]
  },
  {
   "cell_type": "markdown",
   "metadata": {
    "id": "TXgNM7G7P_gF"
   },
   "source": [
    "**Pandas adalah paket Python open source yang paling sering dipakai untuk menganalisis data serta membangun sebuah machine learning. Pandas dibuat berdasarkan satu package lain bernama Numpy**"
   ]
  },
  {
   "cell_type": "markdown",
   "metadata": {
    "id": "dHvwWYe8-6ib"
   },
   "source": [
    "melakukan Import Pandas"
   ]
  },
  {
   "cell_type": "code",
   "execution_count": null,
   "metadata": {
    "id": "cXUnqsB_-RtM"
   },
   "outputs": [],
   "source": [
    "import pandas as pd"
   ]
  },
  {
   "cell_type": "markdown",
   "metadata": {
    "id": "CO0Yww6U-_27"
   },
   "source": [
    "Baca data excel dataGanjar.xlsx yang telah diberi label (Positif,Negatif dan Netral) yang telah simpan di Google Drive"
   ]
  },
  {
   "cell_type": "code",
   "execution_count": null,
   "metadata": {
    "colab": {
     "base_uri": "https://localhost:8080/",
     "height": 424
    },
    "id": "sJbeN8bZ-a19",
    "outputId": "ffdde610-709e-4192-9012-e47d70fec7b2"
   },
   "outputs": [
    {
     "data": {
      "text/html": [
       "\n",
       "  <div id=\"df-d1ed72b4-6647-4b96-801c-bec3489d7f00\">\n",
       "    <div class=\"colab-df-container\">\n",
       "      <div>\n",
       "<style scoped>\n",
       "    .dataframe tbody tr th:only-of-type {\n",
       "        vertical-align: middle;\n",
       "    }\n",
       "\n",
       "    .dataframe tbody tr th {\n",
       "        vertical-align: top;\n",
       "    }\n",
       "\n",
       "    .dataframe thead th {\n",
       "        text-align: right;\n",
       "    }\n",
       "</style>\n",
       "<table border=\"1\" class=\"dataframe\">\n",
       "  <thead>\n",
       "    <tr style=\"text-align: right;\">\n",
       "      <th></th>\n",
       "      <th>tweet</th>\n",
       "      <th>label</th>\n",
       "    </tr>\n",
       "  </thead>\n",
       "  <tbody>\n",
       "    <tr>\n",
       "      <th>0</th>\n",
       "      <td>Ia berharap agar semakin banyak kerja sama yan...</td>\n",
       "      <td>positif</td>\n",
       "    </tr>\n",
       "    <tr>\n",
       "      <th>1</th>\n",
       "      <td>Duta Besar Australia untuk Indonesia Penny Wil...</td>\n",
       "      <td>positif</td>\n",
       "    </tr>\n",
       "    <tr>\n",
       "      <th>2</th>\n",
       "      <td>Butuh jalan panjang memang, untuk menâ€™sejati...</td>\n",
       "      <td>netral</td>\n",
       "    </tr>\n",
       "    <tr>\n",
       "      <th>3</th>\n",
       "      <td>Kita bisa belajar memandang setiap hubungan pe...</td>\n",
       "      <td>netral</td>\n",
       "    </tr>\n",
       "    <tr>\n",
       "      <th>4</th>\n",
       "      <td>Mas Ganjar bantu masyarakat kurang mampu nikma...</td>\n",
       "      <td>positif</td>\n",
       "    </tr>\n",
       "    <tr>\n",
       "      <th>...</th>\n",
       "      <td>...</td>\n",
       "      <td>...</td>\n",
       "    </tr>\n",
       "    <tr>\n",
       "      <th>68</th>\n",
       "      <td>Mas Ganjar siap menjalankan instruksi Presiden...</td>\n",
       "      <td>positif</td>\n",
       "    </tr>\n",
       "    <tr>\n",
       "      <th>69</th>\n",
       "      <td>Jawa Tengah tercatat sebagai provinsi dengan t...</td>\n",
       "      <td>positif</td>\n",
       "    </tr>\n",
       "    <tr>\n",
       "      <th>70</th>\n",
       "      <td>Yayasan Dokter Peduli (doctorSHARE) menemui  @...</td>\n",
       "      <td>positif</td>\n",
       "    </tr>\n",
       "    <tr>\n",
       "      <th>71</th>\n",
       "      <td>Cocok banget deh ah ðŸ‡²ðŸ‡¨ðŸ‘ðŸ‘   #airlan...</td>\n",
       "      <td>netral</td>\n",
       "    </tr>\n",
       "    <tr>\n",
       "      <th>72</th>\n",
       "      <td>Mengambil tajuk â€œJumâ€™at Berkahâ€, Sahabat...</td>\n",
       "      <td>positif</td>\n",
       "    </tr>\n",
       "  </tbody>\n",
       "</table>\n",
       "<p>73 rows × 2 columns</p>\n",
       "</div>\n",
       "      <button class=\"colab-df-convert\" onclick=\"convertToInteractive('df-d1ed72b4-6647-4b96-801c-bec3489d7f00')\"\n",
       "              title=\"Convert this dataframe to an interactive table.\"\n",
       "              style=\"display:none;\">\n",
       "\n",
       "  <svg xmlns=\"http://www.w3.org/2000/svg\" height=\"24px\"viewBox=\"0 0 24 24\"\n",
       "       width=\"24px\">\n",
       "    <path d=\"M0 0h24v24H0V0z\" fill=\"none\"/>\n",
       "    <path d=\"M18.56 5.44l.94 2.06.94-2.06 2.06-.94-2.06-.94-.94-2.06-.94 2.06-2.06.94zm-11 1L8.5 8.5l.94-2.06 2.06-.94-2.06-.94L8.5 2.5l-.94 2.06-2.06.94zm10 10l.94 2.06.94-2.06 2.06-.94-2.06-.94-.94-2.06-.94 2.06-2.06.94z\"/><path d=\"M17.41 7.96l-1.37-1.37c-.4-.4-.92-.59-1.43-.59-.52 0-1.04.2-1.43.59L10.3 9.45l-7.72 7.72c-.78.78-.78 2.05 0 2.83L4 21.41c.39.39.9.59 1.41.59.51 0 1.02-.2 1.41-.59l7.78-7.78 2.81-2.81c.8-.78.8-2.07 0-2.86zM5.41 20L4 18.59l7.72-7.72 1.47 1.35L5.41 20z\"/>\n",
       "  </svg>\n",
       "      </button>\n",
       "\n",
       "  <style>\n",
       "    .colab-df-container {\n",
       "      display:flex;\n",
       "      flex-wrap:wrap;\n",
       "      gap: 12px;\n",
       "    }\n",
       "\n",
       "    .colab-df-convert {\n",
       "      background-color: #E8F0FE;\n",
       "      border: none;\n",
       "      border-radius: 50%;\n",
       "      cursor: pointer;\n",
       "      display: none;\n",
       "      fill: #1967D2;\n",
       "      height: 32px;\n",
       "      padding: 0 0 0 0;\n",
       "      width: 32px;\n",
       "    }\n",
       "\n",
       "    .colab-df-convert:hover {\n",
       "      background-color: #E2EBFA;\n",
       "      box-shadow: 0px 1px 2px rgba(60, 64, 67, 0.3), 0px 1px 3px 1px rgba(60, 64, 67, 0.15);\n",
       "      fill: #174EA6;\n",
       "    }\n",
       "\n",
       "    [theme=dark] .colab-df-convert {\n",
       "      background-color: #3B4455;\n",
       "      fill: #D2E3FC;\n",
       "    }\n",
       "\n",
       "    [theme=dark] .colab-df-convert:hover {\n",
       "      background-color: #434B5C;\n",
       "      box-shadow: 0px 1px 3px 1px rgba(0, 0, 0, 0.15);\n",
       "      filter: drop-shadow(0px 1px 2px rgba(0, 0, 0, 0.3));\n",
       "      fill: #FFFFFF;\n",
       "    }\n",
       "  </style>\n",
       "\n",
       "      <script>\n",
       "        const buttonEl =\n",
       "          document.querySelector('#df-d1ed72b4-6647-4b96-801c-bec3489d7f00 button.colab-df-convert');\n",
       "        buttonEl.style.display =\n",
       "          google.colab.kernel.accessAllowed ? 'block' : 'none';\n",
       "\n",
       "        async function convertToInteractive(key) {\n",
       "          const element = document.querySelector('#df-d1ed72b4-6647-4b96-801c-bec3489d7f00');\n",
       "          const dataTable =\n",
       "            await google.colab.kernel.invokeFunction('convertToInteractive',\n",
       "                                                     [key], {});\n",
       "          if (!dataTable) return;\n",
       "\n",
       "          const docLinkHtml = 'Like what you see? Visit the ' +\n",
       "            '<a target=\"_blank\" href=https://colab.research.google.com/notebooks/data_table.ipynb>data table notebook</a>'\n",
       "            + ' to learn more about interactive tables.';\n",
       "          element.innerHTML = '';\n",
       "          dataTable['output_type'] = 'display_data';\n",
       "          await google.colab.output.renderOutput(dataTable, element);\n",
       "          const docLink = document.createElement('div');\n",
       "          docLink.innerHTML = docLinkHtml;\n",
       "          element.appendChild(docLink);\n",
       "        }\n",
       "      </script>\n",
       "    </div>\n",
       "  </div>\n"
      ],
      "text/plain": [
       "                                                tweet    label\n",
       "0   Ia berharap agar semakin banyak kerja sama yan...  positif\n",
       "1   Duta Besar Australia untuk Indonesia Penny Wil...  positif\n",
       "2   Butuh jalan panjang memang, untuk menâ€™sejati...   netral\n",
       "3   Kita bisa belajar memandang setiap hubungan pe...   netral\n",
       "4   Mas Ganjar bantu masyarakat kurang mampu nikma...  positif\n",
       "..                                                ...      ...\n",
       "68  Mas Ganjar siap menjalankan instruksi Presiden...  positif\n",
       "69  Jawa Tengah tercatat sebagai provinsi dengan t...  positif\n",
       "70  Yayasan Dokter Peduli (doctorSHARE) menemui  @...  positif\n",
       "71  Cocok banget deh ah ðŸ‡²ðŸ‡¨ðŸ‘ðŸ‘   #airlan...   netral\n",
       "72  Mengambil tajuk â€œJumâ€™at Berkahâ€, Sahabat...  positif\n",
       "\n",
       "[73 rows x 2 columns]"
      ]
     },
     "execution_count": 10,
     "metadata": {},
     "output_type": "execute_result"
    }
   ],
   "source": [
    "data = pd.read_excel('dataGanjar.xlsx')\n",
    "data"
   ]
  },
  {
   "cell_type": "markdown",
   "metadata": {
    "id": "kzEbq_RknYdN"
   },
   "source": [
    "## Penjelasan NLTK"
   ]
  },
  {
   "cell_type": "markdown",
   "metadata": {
    "id": "T2lQlZr5D0pb"
   },
   "source": [
    "**NLTK adalah singkatan dari Natural Language Tool Kit, yaitu sebuah library yang digunakan untuk membantu kita dalam bekerja dengan teks. Library ini memudahkan kita untuk memproses teks seperti melakukan classification, tokenization, stemming, tagging, parsing, dan semantic reasoning.**"
   ]
  },
  {
   "cell_type": "markdown",
   "metadata": {
    "id": "PxzEBvygncmW"
   },
   "source": [
    "## Penjelasan Sastrawi"
   ]
  },
  {
   "cell_type": "markdown",
   "metadata": {
    "id": "eh0IBQeaESeT"
   },
   "source": [
    "**Python Sastrawi adalah pengembangan dari proyek PHP Sastrawi. Python Sastrawi merupakan library sederhana yang dapat mengubah kata berimbuhan bahasa Indonesia menjadi bentuk dasarnya. Sastrawi juga dapat diinstal melalui “pip”**"
   ]
  },
  {
   "cell_type": "markdown",
   "metadata": {
    "id": "kO1FeLQC9ZE0"
   },
   "source": [
    "Install Library nltk dan Sastrawi"
   ]
  },
  {
   "cell_type": "code",
   "execution_count": null,
   "metadata": {
    "colab": {
     "base_uri": "https://localhost:8080/"
    },
    "id": "aRoIa80m1td9",
    "outputId": "038111c1-81aa-4e5e-cd92-a82ad18afacb"
   },
   "outputs": [
    {
     "name": "stdout",
     "output_type": "stream",
     "text": [
      "Looking in indexes: https://pypi.org/simple, https://us-python.pkg.dev/colab-wheels/public/simple/\n",
      "Requirement already satisfied: nltk in /usr/local/lib/python3.7/dist-packages (3.7)\n",
      "Requirement already satisfied: regex>=2021.8.3 in /usr/local/lib/python3.7/dist-packages (from nltk) (2022.6.2)\n",
      "Requirement already satisfied: click in /usr/local/lib/python3.7/dist-packages (from nltk) (7.1.2)\n",
      "Requirement already satisfied: joblib in /usr/local/lib/python3.7/dist-packages (from nltk) (1.2.0)\n",
      "Requirement already satisfied: tqdm in /usr/local/lib/python3.7/dist-packages (from nltk) (4.64.1)\n",
      "Looking in indexes: https://pypi.org/simple, https://us-python.pkg.dev/colab-wheels/public/simple/\n",
      "Collecting Sastrawi\n",
      "  Downloading Sastrawi-1.0.1-py2.py3-none-any.whl (209 kB)\n",
      "\u001b[K     |████████████████████████████████| 209 kB 8.7 MB/s \n",
      "\u001b[?25hInstalling collected packages: Sastrawi\n",
      "Successfully installed Sastrawi-1.0.1\n"
     ]
    }
   ],
   "source": [
    "!pip install nltk\n",
    "!pip install Sastrawi"
   ]
  },
  {
   "cell_type": "markdown",
   "metadata": {
    "id": "qfu-2hS9nx9g"
   },
   "source": [
    "## Penjelasan RE"
   ]
  },
  {
   "cell_type": "markdown",
   "metadata": {
    "id": "76AX2eOIPSDs"
   },
   "source": [
    "**Re module Python menyediakan seperangkat fungsi yang memungkinkan kita untuk mencari sebuah string untuk match (match).**"
   ]
  },
  {
   "cell_type": "markdown",
   "metadata": {
    "id": "iPYl7aj-SJOz"
   },
   "source": [
    "Lakukan Import beberapa Library seperti Pandas,re,nltk,string dan Sastrawi"
   ]
  },
  {
   "cell_type": "code",
   "execution_count": null,
   "metadata": {
    "colab": {
     "base_uri": "https://localhost:8080/"
    },
    "id": "3qsi76CnGdOM",
    "outputId": "75e1abec-4b71-433b-d547-c6990740ab00"
   },
   "outputs": [
    {
     "name": "stderr",
     "output_type": "stream",
     "text": [
      "[nltk_data] Downloading package punkt to /root/nltk_data...\n",
      "[nltk_data]   Unzipping tokenizers/punkt.zip.\n"
     ]
    }
   ],
   "source": [
    "import pandas as pd\n",
    "import re\n",
    "import numpy as np\n",
    "\n",
    "import nltk\n",
    "nltk.download('punkt')\n",
    "import string\n",
    "from Sastrawi.Stemmer.StemmerFactory import StemmerFactory"
   ]
  },
  {
   "cell_type": "markdown",
   "metadata": {
    "id": "TEyrB3QsSkf5"
   },
   "source": [
    "Selanjutnya membuat Function Remove Stopwords yang fungsinya adalah menghapus kata-kata yang tidak diperlukan dalam proses nantinya,sehingga dapat mempercepat proses VSM"
   ]
  },
  {
   "cell_type": "code",
   "execution_count": null,
   "metadata": {
    "id": "sdYPHtiiGuX3"
   },
   "outputs": [],
   "source": [
    "def remove_stopwords(text):\n",
    "    with open('/content/drive/MyDrive/webmining/webmining/contents/stopwords.txt') as f:\n",
    "        stopwords = f.readlines()\n",
    "        stopwords = [x.strip() for x in stopwords]\n",
    "    \n",
    "    text = nltk.word_tokenize(text)\n",
    "    text = [word for word in text if word not in stopwords]\n",
    "                     \n",
    "    return text\n"
   ]
  },
  {
   "cell_type": "markdown",
   "metadata": {
    "id": "Xzv5GHH4TgPp"
   },
   "source": [
    "Steming merupakan proses mengubah kata dalam bahasa Indonesia ke akar katanya misalkan 'Mereka meniru-nirukannya' menjadi 'mereka tiru'"
   ]
  },
  {
   "cell_type": "code",
   "execution_count": null,
   "metadata": {
    "id": "p3EK-ZAzGwG7"
   },
   "outputs": [],
   "source": [
    "def stemming(text):\n",
    "    factory = StemmerFactory()\n",
    "    stemmer = factory.create_stemmer()\n",
    "    \n",
    "    result = [stemmer.stem(word) for word in text]\n",
    "    \n",
    "    return result"
   ]
  },
  {
   "cell_type": "markdown",
   "metadata": {
    "id": "oRpRSdDrUWxY"
   },
   "source": [
    "Selanjutnya tahap preprocessing,untuk tahap ini ada beberapa proses seperti:  \n",
    "\n",
    "\n",
    "> 1.Mengubah Text menjadi huruf kecil\n",
    "\n",
    "> 2.Menghapus Kata non Ascii\n",
    "\n",
    "> 4.Menghapus Hastag,Link dan Mention\n",
    "\n",
    "> 5.Mengubah/menghilangkan tanda (misalkan garis miring menjadi spasi)\n",
    "\n",
    "> 6.Melakukan tokenization kata dan Penghapusan Kata yang tidak digunakan\n",
    "\n",
    "> 7.Memfilter kata dari tanda baca\n",
    "\n",
    "> 8.Mengubah kata dalam bahasa Indonesia ke akar katanya\n",
    "\n",
    "> 9.Menghapus String kosong\n",
    "\n",
    "\n",
    "\n",
    "\n",
    "\n",
    "\n",
    "\n",
    "\n",
    "\n",
    "\n",
    "\n",
    "\n",
    "\n"
   ]
  },
  {
   "cell_type": "code",
   "execution_count": null,
   "metadata": {
    "id": "h_B8m0RfGyJH"
   },
   "outputs": [],
   "source": [
    "def preprocessing(text):\n",
    "    #case folding\n",
    "    text = text.lower()\n",
    "\n",
    "    #remove non ASCII (emoticon, chinese word, .etc)\n",
    "    text = text.replace('\\\\t',\" \").replace('\\\\n',\" \").replace('\\\\u',\" \").replace('\\\\',\" \").replace('\\\\f',\" \").replace('\\\\r',\" \")\n",
    "\n",
    "    # remove non ASCII (emoticon, chinese word, .etc)\n",
    "    text = text.encode('ascii', 'replace').decode('ascii')\n",
    "\n",
    "    # remove mention, link, hashtag\n",
    "    text = ' '.join(re.sub(\"([@#][A-Za-z0-9]+)|(\\w+:\\/\\/\\S+)\",\" \", text).split())\n",
    "\n",
    "    #replace weird characters\n",
    "    text = text.replace('“', '\"')\n",
    "    text = text.replace('”', '\"')\n",
    "    text = text.replace('-', ' ')\n",
    "\n",
    "    #tokenization and remove stopwords\n",
    "    text = remove_stopwords(text)\n",
    "\n",
    "    #remove punctuation    \n",
    "    text = [''.join(c for c in s if c not in string.punctuation) for s in text]  \n",
    "\n",
    "    #stemming\n",
    "    text = stemming(text)\n",
    "\n",
    "    #remove empty string\n",
    "    text = list(filter(None, text))\n",
    "    return text"
   ]
  },
  {
   "cell_type": "markdown",
   "metadata": {
    "id": "VQXuZkr6UJ-G"
   },
   "source": [
    "Selanjutnya pindah Path ke Folder contents"
   ]
  },
  {
   "cell_type": "code",
   "execution_count": null,
   "metadata": {
    "colab": {
     "base_uri": "https://localhost:8080/"
    },
    "id": "ZcX2mhNk_-_j",
    "outputId": "e95a7e3a-fb00-40e4-eefa-f16f7fd691f9"
   },
   "outputs": [
    {
     "name": "stdout",
     "output_type": "stream",
     "text": [
      "/content/drive/MyDrive/webmining/webmining/contents\n"
     ]
    }
   ],
   "source": [
    "%cd /content/drive/MyDrive/webmining/webmining/contents"
   ]
  },
  {
   "cell_type": "markdown",
   "metadata": {
    "id": "5Oso5DEuUTuG"
   },
   "source": [
    "Simpan hasil dari preprocessing ke dalam bentuk CSV"
   ]
  },
  {
   "cell_type": "code",
   "execution_count": null,
   "metadata": {
    "id": "aX7_vGk_UQ62"
   },
   "outputs": [],
   "source": [
    "#data['tweet'].apply(preprocessing).to_excel('preprocessing.xlsx')\n"
   ]
  },
  {
   "cell_type": "markdown",
   "metadata": {
    "id": "st3sgVRTJy2m"
   },
   "source": [
    "Tokenizing adalah proses pemisahan teks menjadi potongan-potongan yang disebut sebagai token untuk kemudian di analisa. Kata, angka, simbol, tanda baca dan entitas penting lainnya dapat dianggap sebagai token."
   ]
  },
  {
   "cell_type": "code",
   "execution_count": null,
   "metadata": {
    "colab": {
     "base_uri": "https://localhost:8080/",
     "height": 424
    },
    "id": "i5rplfpmZw_R",
    "outputId": "4e2650de-78b2-423e-8cf7-1c5be05cfe59"
   },
   "outputs": [
    {
     "data": {
      "text/html": [
       "\n",
       "  <div id=\"df-c1185839-0041-4a56-86db-a3dbd4e2c4d9\">\n",
       "    <div class=\"colab-df-container\">\n",
       "      <div>\n",
       "<style scoped>\n",
       "    .dataframe tbody tr th:only-of-type {\n",
       "        vertical-align: middle;\n",
       "    }\n",
       "\n",
       "    .dataframe tbody tr th {\n",
       "        vertical-align: top;\n",
       "    }\n",
       "\n",
       "    .dataframe thead th {\n",
       "        text-align: right;\n",
       "    }\n",
       "</style>\n",
       "<table border=\"1\" class=\"dataframe\">\n",
       "  <thead>\n",
       "    <tr style=\"text-align: right;\">\n",
       "      <th></th>\n",
       "      <th>Unnamed: 0</th>\n",
       "      <th>tweet</th>\n",
       "      <th>label</th>\n",
       "    </tr>\n",
       "  </thead>\n",
       "  <tbody>\n",
       "    <tr>\n",
       "      <th>0</th>\n",
       "      <td>0</td>\n",
       "      <td>['harap', 'kerja', 'jalin', 'jawa', 'australia']</td>\n",
       "      <td>positif</td>\n",
       "    </tr>\n",
       "    <tr>\n",
       "      <th>1</th>\n",
       "      <td>1</td>\n",
       "      <td>['duta', 'australia', 'indonesia', 'penny', 'w...</td>\n",
       "      <td>positif</td>\n",
       "    </tr>\n",
       "    <tr>\n",
       "      <th>2</th>\n",
       "      <td>2</td>\n",
       "      <td>['butuh', 'jalan', 'men', 'sejati', 'teman', '...</td>\n",
       "      <td>netral</td>\n",
       "    </tr>\n",
       "    <tr>\n",
       "      <th>3</th>\n",
       "      <td>3</td>\n",
       "      <td>['ajar', 'pandang', 'hubung', 'teman', 'milik'...</td>\n",
       "      <td>netral</td>\n",
       "    </tr>\n",
       "    <tr>\n",
       "      <th>4</th>\n",
       "      <td>4</td>\n",
       "      <td>['mas', 'ganjar', 'bantu', 'masyarakat', 'nikm...</td>\n",
       "      <td>positif</td>\n",
       "    </tr>\n",
       "    <tr>\n",
       "      <th>...</th>\n",
       "      <td>...</td>\n",
       "      <td>...</td>\n",
       "      <td>...</td>\n",
       "    </tr>\n",
       "    <tr>\n",
       "      <th>68</th>\n",
       "      <td>68</td>\n",
       "      <td>['mas', 'ganjar', 'jalan', 'instruksi', 'presi...</td>\n",
       "      <td>positif</td>\n",
       "    </tr>\n",
       "    <tr>\n",
       "      <th>69</th>\n",
       "      <td>69</td>\n",
       "      <td>['jawa', 'catat', 'provinsi', 'tingkat', 'infl...</td>\n",
       "      <td>positif</td>\n",
       "    </tr>\n",
       "    <tr>\n",
       "      <th>70</th>\n",
       "      <td>70</td>\n",
       "      <td>['yayasan', 'dokter', 'peduli', 'doctorshare',...</td>\n",
       "      <td>positif</td>\n",
       "    </tr>\n",
       "    <tr>\n",
       "      <th>71</th>\n",
       "      <td>71</td>\n",
       "      <td>['cocok', 'banget', 'deh', 'ah', 'typa', 'girl']</td>\n",
       "      <td>netral</td>\n",
       "    </tr>\n",
       "    <tr>\n",
       "      <th>72</th>\n",
       "      <td>72</td>\n",
       "      <td>['ambil', 'tajuk', 'jum', 'at', 'berkah', 'sah...</td>\n",
       "      <td>positif</td>\n",
       "    </tr>\n",
       "  </tbody>\n",
       "</table>\n",
       "<p>73 rows × 3 columns</p>\n",
       "</div>\n",
       "      <button class=\"colab-df-convert\" onclick=\"convertToInteractive('df-c1185839-0041-4a56-86db-a3dbd4e2c4d9')\"\n",
       "              title=\"Convert this dataframe to an interactive table.\"\n",
       "              style=\"display:none;\">\n",
       "\n",
       "  <svg xmlns=\"http://www.w3.org/2000/svg\" height=\"24px\"viewBox=\"0 0 24 24\"\n",
       "       width=\"24px\">\n",
       "    <path d=\"M0 0h24v24H0V0z\" fill=\"none\"/>\n",
       "    <path d=\"M18.56 5.44l.94 2.06.94-2.06 2.06-.94-2.06-.94-.94-2.06-.94 2.06-2.06.94zm-11 1L8.5 8.5l.94-2.06 2.06-.94-2.06-.94L8.5 2.5l-.94 2.06-2.06.94zm10 10l.94 2.06.94-2.06 2.06-.94-2.06-.94-.94-2.06-.94 2.06-2.06.94z\"/><path d=\"M17.41 7.96l-1.37-1.37c-.4-.4-.92-.59-1.43-.59-.52 0-1.04.2-1.43.59L10.3 9.45l-7.72 7.72c-.78.78-.78 2.05 0 2.83L4 21.41c.39.39.9.59 1.41.59.51 0 1.02-.2 1.41-.59l7.78-7.78 2.81-2.81c.8-.78.8-2.07 0-2.86zM5.41 20L4 18.59l7.72-7.72 1.47 1.35L5.41 20z\"/>\n",
       "  </svg>\n",
       "      </button>\n",
       "\n",
       "  <style>\n",
       "    .colab-df-container {\n",
       "      display:flex;\n",
       "      flex-wrap:wrap;\n",
       "      gap: 12px;\n",
       "    }\n",
       "\n",
       "    .colab-df-convert {\n",
       "      background-color: #E8F0FE;\n",
       "      border: none;\n",
       "      border-radius: 50%;\n",
       "      cursor: pointer;\n",
       "      display: none;\n",
       "      fill: #1967D2;\n",
       "      height: 32px;\n",
       "      padding: 0 0 0 0;\n",
       "      width: 32px;\n",
       "    }\n",
       "\n",
       "    .colab-df-convert:hover {\n",
       "      background-color: #E2EBFA;\n",
       "      box-shadow: 0px 1px 2px rgba(60, 64, 67, 0.3), 0px 1px 3px 1px rgba(60, 64, 67, 0.15);\n",
       "      fill: #174EA6;\n",
       "    }\n",
       "\n",
       "    [theme=dark] .colab-df-convert {\n",
       "      background-color: #3B4455;\n",
       "      fill: #D2E3FC;\n",
       "    }\n",
       "\n",
       "    [theme=dark] .colab-df-convert:hover {\n",
       "      background-color: #434B5C;\n",
       "      box-shadow: 0px 1px 3px 1px rgba(0, 0, 0, 0.15);\n",
       "      filter: drop-shadow(0px 1px 2px rgba(0, 0, 0, 0.3));\n",
       "      fill: #FFFFFF;\n",
       "    }\n",
       "  </style>\n",
       "\n",
       "      <script>\n",
       "        const buttonEl =\n",
       "          document.querySelector('#df-c1185839-0041-4a56-86db-a3dbd4e2c4d9 button.colab-df-convert');\n",
       "        buttonEl.style.display =\n",
       "          google.colab.kernel.accessAllowed ? 'block' : 'none';\n",
       "\n",
       "        async function convertToInteractive(key) {\n",
       "          const element = document.querySelector('#df-c1185839-0041-4a56-86db-a3dbd4e2c4d9');\n",
       "          const dataTable =\n",
       "            await google.colab.kernel.invokeFunction('convertToInteractive',\n",
       "                                                     [key], {});\n",
       "          if (!dataTable) return;\n",
       "\n",
       "          const docLinkHtml = 'Like what you see? Visit the ' +\n",
       "            '<a target=\"_blank\" href=https://colab.research.google.com/notebooks/data_table.ipynb>data table notebook</a>'\n",
       "            + ' to learn more about interactive tables.';\n",
       "          element.innerHTML = '';\n",
       "          dataTable['output_type'] = 'display_data';\n",
       "          await google.colab.output.renderOutput(dataTable, element);\n",
       "          const docLink = document.createElement('div');\n",
       "          docLink.innerHTML = docLinkHtml;\n",
       "          element.appendChild(docLink);\n",
       "        }\n",
       "      </script>\n",
       "    </div>\n",
       "  </div>\n"
      ],
      "text/plain": [
       "    Unnamed: 0                                              tweet    label\n",
       "0            0   ['harap', 'kerja', 'jalin', 'jawa', 'australia']  positif\n",
       "1            1  ['duta', 'australia', 'indonesia', 'penny', 'w...  positif\n",
       "2            2  ['butuh', 'jalan', 'men', 'sejati', 'teman', '...   netral\n",
       "3            3  ['ajar', 'pandang', 'hubung', 'teman', 'milik'...   netral\n",
       "4            4  ['mas', 'ganjar', 'bantu', 'masyarakat', 'nikm...  positif\n",
       "..         ...                                                ...      ...\n",
       "68          68  ['mas', 'ganjar', 'jalan', 'instruksi', 'presi...  positif\n",
       "69          69  ['jawa', 'catat', 'provinsi', 'tingkat', 'infl...  positif\n",
       "70          70  ['yayasan', 'dokter', 'peduli', 'doctorshare',...  positif\n",
       "71          71   ['cocok', 'banget', 'deh', 'ah', 'typa', 'girl']   netral\n",
       "72          72  ['ambil', 'tajuk', 'jum', 'at', 'berkah', 'sah...  positif\n",
       "\n",
       "[73 rows x 3 columns]"
      ]
     },
     "execution_count": 18,
     "metadata": {},
     "output_type": "execute_result"
    }
   ],
   "source": [
    "from sklearn.feature_extraction.text import TfidfTransformer, TfidfVectorizer, CountVectorizer\n",
    "dataTextPre = pd.read_excel('/content/drive/MyDrive/webmining/webmining/contents/preprocessing.xlsx')\n",
    "vectorizer = CountVectorizer(min_df=1)\n",
    "bag = vectorizer.fit_transform(dataTextPre['tweet'])\n",
    "dataTextPre"
   ]
  },
  {
   "cell_type": "markdown",
   "metadata": {
    "id": "QwlkbCdclhuv"
   },
   "source": [
    "Melihat Jumlah Baris dan Kata"
   ]
  },
  {
   "cell_type": "code",
   "execution_count": null,
   "metadata": {
    "colab": {
     "base_uri": "https://localhost:8080/"
    },
    "id": "3oT0lnjLZ9BX",
    "outputId": "0cd91c0c-2196-48be-9881-9bd950961f8f"
   },
   "outputs": [
    {
     "data": {
      "text/plain": [
       "(73, 398)"
      ]
     },
     "execution_count": 19,
     "metadata": {},
     "output_type": "execute_result"
    }
   ],
   "source": [
    "matrik_vsm=bag.toarray()\n",
    "matrik_vsm.shape"
   ]
  },
  {
   "cell_type": "code",
   "execution_count": null,
   "metadata": {
    "colab": {
     "base_uri": "https://localhost:8080/"
    },
    "id": "dcDN5hPzaAKw",
    "outputId": "886f54cf-7cd1-474c-b5ce-4ad0ae9af3f2"
   },
   "outputs": [
    {
     "data": {
      "text/plain": [
       "array([0, 0, 0, 0, 0, 0, 0, 0, 0, 0, 0, 0, 0, 0, 0, 0, 0, 0, 0, 0, 0, 0,\n",
       "       0, 0, 0, 0, 0, 0, 0, 0, 0, 0, 1, 0, 0, 0, 0, 0, 0, 0, 0, 0, 0, 0,\n",
       "       0, 0, 0, 0, 0, 0, 0, 0, 0, 0, 0, 0, 0, 0, 0, 0, 0, 0, 0, 0, 0, 0,\n",
       "       0, 0, 0, 0, 0, 0, 0, 0, 0, 0, 0, 0, 0, 0, 0, 0, 0, 0, 0, 0, 0, 0,\n",
       "       0, 0, 0, 0, 0, 0, 0, 0, 0, 0, 0, 0, 0, 0, 0, 0, 0, 0, 0, 0, 0, 0,\n",
       "       0, 0, 0, 0, 0, 0, 0, 0, 0, 0, 0, 0, 0, 0, 0, 0, 0, 0, 0, 0, 0, 0,\n",
       "       0, 0, 0, 0, 0, 0, 1, 0, 0, 0, 0, 0, 0, 0, 0, 0, 0, 0, 0, 0, 0, 0,\n",
       "       0, 0, 1, 0, 0, 0, 1, 0, 0, 0, 0, 0, 0, 0, 0, 0, 0, 0, 0, 0, 0, 0,\n",
       "       0, 0, 0, 0, 0, 0, 0, 0, 1, 0, 0, 0, 0, 0, 0, 0, 0, 0, 0, 0, 0, 0,\n",
       "       0, 0, 0, 0, 0, 0, 0, 0, 0, 0, 0, 0, 0, 0, 0, 0, 0, 0, 0, 0, 0, 0,\n",
       "       0, 0, 0, 0, 0, 0, 0, 0, 0, 0, 0, 0, 0, 0, 0, 0, 0, 0, 0, 0, 0, 0,\n",
       "       0, 0, 0, 0, 0, 0, 0, 0, 0, 0, 0, 0, 0, 0, 0, 0, 0, 0, 0, 0, 0, 0,\n",
       "       0, 0, 0, 0, 0, 0, 0, 0, 0, 0, 0, 0, 0, 0, 0, 0, 0, 0, 0, 0, 0, 0,\n",
       "       0, 0, 0, 0, 0, 0, 0, 0, 0, 0, 0, 0, 0, 0, 0, 0, 0, 0, 0, 0, 0, 0,\n",
       "       0, 0, 0, 0, 0, 0, 0, 0, 0, 0, 0, 0, 0, 0, 0, 0, 0, 0, 0, 0, 0, 0,\n",
       "       0, 0, 0, 0, 0, 0, 0, 0, 0, 0, 0, 0, 0, 0, 0, 0, 0, 0, 0, 0, 0, 0,\n",
       "       0, 0, 0, 0, 0, 0, 0, 0, 0, 0, 0, 0, 0, 0, 0, 0, 0, 0, 0, 0, 0, 0,\n",
       "       0, 0, 0, 0, 0, 0, 0, 0, 0, 0, 0, 0, 0, 0, 0, 0, 0, 0, 0, 0, 0, 0,\n",
       "       0, 0])"
      ]
     },
     "execution_count": 20,
     "metadata": {},
     "output_type": "execute_result"
    }
   ],
   "source": [
    "matrik_vsm[0]"
   ]
  },
  {
   "cell_type": "code",
   "execution_count": null,
   "metadata": {
    "colab": {
     "base_uri": "https://localhost:8080/"
    },
    "id": "z2Eky3rOaIdY",
    "outputId": "b27a35a6-ce06-4d3f-b729-437c2df097c5"
   },
   "outputs": [
    {
     "name": "stderr",
     "output_type": "stream",
     "text": [
      "/usr/local/lib/python3.7/dist-packages/sklearn/utils/deprecation.py:87: FutureWarning: Function get_feature_names is deprecated; get_feature_names is deprecated in 1.0 and will be removed in 1.2. Please use get_feature_names_out instead.\n",
      "  warnings.warn(msg, category=FutureWarning)\n"
     ]
    }
   ],
   "source": [
    "a=vectorizer.get_feature_names()"
   ]
  },
  {
   "cell_type": "markdown",
   "metadata": {
    "id": "yYLJTj9DKBwX"
   },
   "source": [
    "Tampilan data VSM dengan labelnya "
   ]
  },
  {
   "cell_type": "code",
   "execution_count": null,
   "metadata": {
    "colab": {
     "base_uri": "https://localhost:8080/",
     "height": 424
    },
    "id": "cZMUH4G4aYno",
    "outputId": "f4283739-4554-4fa8-b10f-6c85f6c8de2f"
   },
   "outputs": [
    {
     "data": {
      "text/html": [
       "\n",
       "  <div id=\"df-74287522-7b9e-4b32-9d4a-164e4024f830\">\n",
       "    <div class=\"colab-df-container\">\n",
       "      <div>\n",
       "<style scoped>\n",
       "    .dataframe tbody tr th:only-of-type {\n",
       "        vertical-align: middle;\n",
       "    }\n",
       "\n",
       "    .dataframe tbody tr th {\n",
       "        vertical-align: top;\n",
       "    }\n",
       "\n",
       "    .dataframe thead tr th {\n",
       "        text-align: left;\n",
       "    }\n",
       "</style>\n",
       "<table border=\"1\" class=\"dataframe\">\n",
       "  <thead>\n",
       "    <tr>\n",
       "      <th></th>\n",
       "      <th>1000</th>\n",
       "      <th>17</th>\n",
       "      <th>17092022</th>\n",
       "      <th>20</th>\n",
       "      <th>2022</th>\n",
       "      <th>2024</th>\n",
       "      <th>30</th>\n",
       "      <th>acara</th>\n",
       "      <th>ada</th>\n",
       "      <th>agenda</th>\n",
       "      <th>...</th>\n",
       "      <th>warga</th>\n",
       "      <th>wilayah</th>\n",
       "      <th>wiliam</th>\n",
       "      <th>ya</th>\n",
       "      <th>yaqowiyu</th>\n",
       "      <th>yayasan</th>\n",
       "      <th>yeah</th>\n",
       "      <th>yg</th>\n",
       "      <th>yogyakarta</th>\n",
       "      <th>zaman</th>\n",
       "    </tr>\n",
       "  </thead>\n",
       "  <tbody>\n",
       "    <tr>\n",
       "      <th>1</th>\n",
       "      <td>0</td>\n",
       "      <td>0</td>\n",
       "      <td>0</td>\n",
       "      <td>0</td>\n",
       "      <td>0</td>\n",
       "      <td>0</td>\n",
       "      <td>0</td>\n",
       "      <td>0</td>\n",
       "      <td>0</td>\n",
       "      <td>0</td>\n",
       "      <td>...</td>\n",
       "      <td>0</td>\n",
       "      <td>0</td>\n",
       "      <td>0</td>\n",
       "      <td>0</td>\n",
       "      <td>0</td>\n",
       "      <td>0</td>\n",
       "      <td>0</td>\n",
       "      <td>0</td>\n",
       "      <td>0</td>\n",
       "      <td>0</td>\n",
       "    </tr>\n",
       "    <tr>\n",
       "      <th>2</th>\n",
       "      <td>0</td>\n",
       "      <td>0</td>\n",
       "      <td>0</td>\n",
       "      <td>0</td>\n",
       "      <td>0</td>\n",
       "      <td>0</td>\n",
       "      <td>0</td>\n",
       "      <td>0</td>\n",
       "      <td>0</td>\n",
       "      <td>0</td>\n",
       "      <td>...</td>\n",
       "      <td>0</td>\n",
       "      <td>0</td>\n",
       "      <td>1</td>\n",
       "      <td>0</td>\n",
       "      <td>0</td>\n",
       "      <td>0</td>\n",
       "      <td>0</td>\n",
       "      <td>0</td>\n",
       "      <td>0</td>\n",
       "      <td>0</td>\n",
       "    </tr>\n",
       "    <tr>\n",
       "      <th>3</th>\n",
       "      <td>0</td>\n",
       "      <td>0</td>\n",
       "      <td>0</td>\n",
       "      <td>0</td>\n",
       "      <td>0</td>\n",
       "      <td>0</td>\n",
       "      <td>0</td>\n",
       "      <td>0</td>\n",
       "      <td>0</td>\n",
       "      <td>0</td>\n",
       "      <td>...</td>\n",
       "      <td>0</td>\n",
       "      <td>0</td>\n",
       "      <td>0</td>\n",
       "      <td>0</td>\n",
       "      <td>0</td>\n",
       "      <td>0</td>\n",
       "      <td>0</td>\n",
       "      <td>0</td>\n",
       "      <td>0</td>\n",
       "      <td>0</td>\n",
       "    </tr>\n",
       "    <tr>\n",
       "      <th>4</th>\n",
       "      <td>0</td>\n",
       "      <td>0</td>\n",
       "      <td>0</td>\n",
       "      <td>0</td>\n",
       "      <td>0</td>\n",
       "      <td>0</td>\n",
       "      <td>0</td>\n",
       "      <td>0</td>\n",
       "      <td>0</td>\n",
       "      <td>0</td>\n",
       "      <td>...</td>\n",
       "      <td>0</td>\n",
       "      <td>0</td>\n",
       "      <td>0</td>\n",
       "      <td>0</td>\n",
       "      <td>0</td>\n",
       "      <td>0</td>\n",
       "      <td>0</td>\n",
       "      <td>0</td>\n",
       "      <td>0</td>\n",
       "      <td>0</td>\n",
       "    </tr>\n",
       "    <tr>\n",
       "      <th>5</th>\n",
       "      <td>0</td>\n",
       "      <td>0</td>\n",
       "      <td>0</td>\n",
       "      <td>0</td>\n",
       "      <td>0</td>\n",
       "      <td>0</td>\n",
       "      <td>1</td>\n",
       "      <td>0</td>\n",
       "      <td>0</td>\n",
       "      <td>0</td>\n",
       "      <td>...</td>\n",
       "      <td>0</td>\n",
       "      <td>0</td>\n",
       "      <td>0</td>\n",
       "      <td>0</td>\n",
       "      <td>0</td>\n",
       "      <td>0</td>\n",
       "      <td>0</td>\n",
       "      <td>0</td>\n",
       "      <td>0</td>\n",
       "      <td>0</td>\n",
       "    </tr>\n",
       "    <tr>\n",
       "      <th>...</th>\n",
       "      <td>...</td>\n",
       "      <td>...</td>\n",
       "      <td>...</td>\n",
       "      <td>...</td>\n",
       "      <td>...</td>\n",
       "      <td>...</td>\n",
       "      <td>...</td>\n",
       "      <td>...</td>\n",
       "      <td>...</td>\n",
       "      <td>...</td>\n",
       "      <td>...</td>\n",
       "      <td>...</td>\n",
       "      <td>...</td>\n",
       "      <td>...</td>\n",
       "      <td>...</td>\n",
       "      <td>...</td>\n",
       "      <td>...</td>\n",
       "      <td>...</td>\n",
       "      <td>...</td>\n",
       "      <td>...</td>\n",
       "      <td>...</td>\n",
       "    </tr>\n",
       "    <tr>\n",
       "      <th>69</th>\n",
       "      <td>0</td>\n",
       "      <td>0</td>\n",
       "      <td>0</td>\n",
       "      <td>0</td>\n",
       "      <td>0</td>\n",
       "      <td>0</td>\n",
       "      <td>0</td>\n",
       "      <td>0</td>\n",
       "      <td>0</td>\n",
       "      <td>0</td>\n",
       "      <td>...</td>\n",
       "      <td>0</td>\n",
       "      <td>0</td>\n",
       "      <td>0</td>\n",
       "      <td>0</td>\n",
       "      <td>0</td>\n",
       "      <td>0</td>\n",
       "      <td>0</td>\n",
       "      <td>0</td>\n",
       "      <td>0</td>\n",
       "      <td>0</td>\n",
       "    </tr>\n",
       "    <tr>\n",
       "      <th>70</th>\n",
       "      <td>0</td>\n",
       "      <td>0</td>\n",
       "      <td>0</td>\n",
       "      <td>0</td>\n",
       "      <td>0</td>\n",
       "      <td>0</td>\n",
       "      <td>0</td>\n",
       "      <td>0</td>\n",
       "      <td>0</td>\n",
       "      <td>0</td>\n",
       "      <td>...</td>\n",
       "      <td>0</td>\n",
       "      <td>0</td>\n",
       "      <td>0</td>\n",
       "      <td>0</td>\n",
       "      <td>0</td>\n",
       "      <td>0</td>\n",
       "      <td>3</td>\n",
       "      <td>0</td>\n",
       "      <td>0</td>\n",
       "      <td>0</td>\n",
       "    </tr>\n",
       "    <tr>\n",
       "      <th>71</th>\n",
       "      <td>0</td>\n",
       "      <td>0</td>\n",
       "      <td>0</td>\n",
       "      <td>0</td>\n",
       "      <td>0</td>\n",
       "      <td>0</td>\n",
       "      <td>0</td>\n",
       "      <td>0</td>\n",
       "      <td>0</td>\n",
       "      <td>0</td>\n",
       "      <td>...</td>\n",
       "      <td>0</td>\n",
       "      <td>0</td>\n",
       "      <td>0</td>\n",
       "      <td>0</td>\n",
       "      <td>0</td>\n",
       "      <td>1</td>\n",
       "      <td>3</td>\n",
       "      <td>0</td>\n",
       "      <td>0</td>\n",
       "      <td>0</td>\n",
       "    </tr>\n",
       "    <tr>\n",
       "      <th>72</th>\n",
       "      <td>0</td>\n",
       "      <td>0</td>\n",
       "      <td>0</td>\n",
       "      <td>0</td>\n",
       "      <td>0</td>\n",
       "      <td>0</td>\n",
       "      <td>0</td>\n",
       "      <td>0</td>\n",
       "      <td>0</td>\n",
       "      <td>0</td>\n",
       "      <td>...</td>\n",
       "      <td>0</td>\n",
       "      <td>0</td>\n",
       "      <td>0</td>\n",
       "      <td>0</td>\n",
       "      <td>0</td>\n",
       "      <td>0</td>\n",
       "      <td>0</td>\n",
       "      <td>0</td>\n",
       "      <td>0</td>\n",
       "      <td>0</td>\n",
       "    </tr>\n",
       "    <tr>\n",
       "      <th>73</th>\n",
       "      <td>0</td>\n",
       "      <td>0</td>\n",
       "      <td>0</td>\n",
       "      <td>0</td>\n",
       "      <td>0</td>\n",
       "      <td>0</td>\n",
       "      <td>0</td>\n",
       "      <td>1</td>\n",
       "      <td>1</td>\n",
       "      <td>0</td>\n",
       "      <td>...</td>\n",
       "      <td>1</td>\n",
       "      <td>0</td>\n",
       "      <td>0</td>\n",
       "      <td>0</td>\n",
       "      <td>0</td>\n",
       "      <td>0</td>\n",
       "      <td>0</td>\n",
       "      <td>0</td>\n",
       "      <td>0</td>\n",
       "      <td>0</td>\n",
       "    </tr>\n",
       "  </tbody>\n",
       "</table>\n",
       "<p>73 rows × 398 columns</p>\n",
       "</div>\n",
       "      <button class=\"colab-df-convert\" onclick=\"convertToInteractive('df-74287522-7b9e-4b32-9d4a-164e4024f830')\"\n",
       "              title=\"Convert this dataframe to an interactive table.\"\n",
       "              style=\"display:none;\">\n",
       "\n",
       "  <svg xmlns=\"http://www.w3.org/2000/svg\" height=\"24px\"viewBox=\"0 0 24 24\"\n",
       "       width=\"24px\">\n",
       "    <path d=\"M0 0h24v24H0V0z\" fill=\"none\"/>\n",
       "    <path d=\"M18.56 5.44l.94 2.06.94-2.06 2.06-.94-2.06-.94-.94-2.06-.94 2.06-2.06.94zm-11 1L8.5 8.5l.94-2.06 2.06-.94-2.06-.94L8.5 2.5l-.94 2.06-2.06.94zm10 10l.94 2.06.94-2.06 2.06-.94-2.06-.94-.94-2.06-.94 2.06-2.06.94z\"/><path d=\"M17.41 7.96l-1.37-1.37c-.4-.4-.92-.59-1.43-.59-.52 0-1.04.2-1.43.59L10.3 9.45l-7.72 7.72c-.78.78-.78 2.05 0 2.83L4 21.41c.39.39.9.59 1.41.59.51 0 1.02-.2 1.41-.59l7.78-7.78 2.81-2.81c.8-.78.8-2.07 0-2.86zM5.41 20L4 18.59l7.72-7.72 1.47 1.35L5.41 20z\"/>\n",
       "  </svg>\n",
       "      </button>\n",
       "\n",
       "  <style>\n",
       "    .colab-df-container {\n",
       "      display:flex;\n",
       "      flex-wrap:wrap;\n",
       "      gap: 12px;\n",
       "    }\n",
       "\n",
       "    .colab-df-convert {\n",
       "      background-color: #E8F0FE;\n",
       "      border: none;\n",
       "      border-radius: 50%;\n",
       "      cursor: pointer;\n",
       "      display: none;\n",
       "      fill: #1967D2;\n",
       "      height: 32px;\n",
       "      padding: 0 0 0 0;\n",
       "      width: 32px;\n",
       "    }\n",
       "\n",
       "    .colab-df-convert:hover {\n",
       "      background-color: #E2EBFA;\n",
       "      box-shadow: 0px 1px 2px rgba(60, 64, 67, 0.3), 0px 1px 3px 1px rgba(60, 64, 67, 0.15);\n",
       "      fill: #174EA6;\n",
       "    }\n",
       "\n",
       "    [theme=dark] .colab-df-convert {\n",
       "      background-color: #3B4455;\n",
       "      fill: #D2E3FC;\n",
       "    }\n",
       "\n",
       "    [theme=dark] .colab-df-convert:hover {\n",
       "      background-color: #434B5C;\n",
       "      box-shadow: 0px 1px 3px 1px rgba(0, 0, 0, 0.15);\n",
       "      filter: drop-shadow(0px 1px 2px rgba(0, 0, 0, 0.3));\n",
       "      fill: #FFFFFF;\n",
       "    }\n",
       "  </style>\n",
       "\n",
       "      <script>\n",
       "        const buttonEl =\n",
       "          document.querySelector('#df-74287522-7b9e-4b32-9d4a-164e4024f830 button.colab-df-convert');\n",
       "        buttonEl.style.display =\n",
       "          google.colab.kernel.accessAllowed ? 'block' : 'none';\n",
       "\n",
       "        async function convertToInteractive(key) {\n",
       "          const element = document.querySelector('#df-74287522-7b9e-4b32-9d4a-164e4024f830');\n",
       "          const dataTable =\n",
       "            await google.colab.kernel.invokeFunction('convertToInteractive',\n",
       "                                                     [key], {});\n",
       "          if (!dataTable) return;\n",
       "\n",
       "          const docLinkHtml = 'Like what you see? Visit the ' +\n",
       "            '<a target=\"_blank\" href=https://colab.research.google.com/notebooks/data_table.ipynb>data table notebook</a>'\n",
       "            + ' to learn more about interactive tables.';\n",
       "          element.innerHTML = '';\n",
       "          dataTable['output_type'] = 'display_data';\n",
       "          await google.colab.output.renderOutput(dataTable, element);\n",
       "          const docLink = document.createElement('div');\n",
       "          docLink.innerHTML = docLinkHtml;\n",
       "          element.appendChild(docLink);\n",
       "        }\n",
       "      </script>\n",
       "    </div>\n",
       "  </div>\n"
      ],
      "text/plain": [
       "   1000 17 17092022 20 2022 2024 30 acara ada agenda  ... warga wilayah  \\\n",
       "1     0  0        0  0    0    0  0     0   0      0  ...     0       0   \n",
       "2     0  0        0  0    0    0  0     0   0      0  ...     0       0   \n",
       "3     0  0        0  0    0    0  0     0   0      0  ...     0       0   \n",
       "4     0  0        0  0    0    0  0     0   0      0  ...     0       0   \n",
       "5     0  0        0  0    0    0  1     0   0      0  ...     0       0   \n",
       "..  ... ..      ... ..  ...  ... ..   ...  ..    ...  ...   ...     ...   \n",
       "69    0  0        0  0    0    0  0     0   0      0  ...     0       0   \n",
       "70    0  0        0  0    0    0  0     0   0      0  ...     0       0   \n",
       "71    0  0        0  0    0    0  0     0   0      0  ...     0       0   \n",
       "72    0  0        0  0    0    0  0     0   0      0  ...     0       0   \n",
       "73    0  0        0  0    0    0  0     1   1      0  ...     1       0   \n",
       "\n",
       "   wiliam ya yaqowiyu yayasan yeah yg yogyakarta zaman  \n",
       "1       0  0        0       0    0  0          0     0  \n",
       "2       1  0        0       0    0  0          0     0  \n",
       "3       0  0        0       0    0  0          0     0  \n",
       "4       0  0        0       0    0  0          0     0  \n",
       "5       0  0        0       0    0  0          0     0  \n",
       "..    ... ..      ...     ...  ... ..        ...   ...  \n",
       "69      0  0        0       0    0  0          0     0  \n",
       "70      0  0        0       0    3  0          0     0  \n",
       "71      0  0        0       1    3  0          0     0  \n",
       "72      0  0        0       0    0  0          0     0  \n",
       "73      0  0        0       0    0  0          0     0  \n",
       "\n",
       "[73 rows x 398 columns]"
      ]
     },
     "execution_count": 22,
     "metadata": {},
     "output_type": "execute_result"
    }
   ],
   "source": [
    "dataTF =pd.DataFrame(data=matrik_vsm,index=list(range(1, len(matrik_vsm[:,1])+1, )),columns=[a])\n",
    "dataTF\n"
   ]
  },
  {
   "cell_type": "markdown",
   "metadata": {
    "id": "UCJsNPSpKQA4"
   },
   "source": [
    "\n",
    "\n",
    "```\n",
    "# Ini diformat sebagai kode\n",
    "```\n",
    "\n",
    "lalu data diatas ditambahkan dengan label (positif,netral dan negatif)"
   ]
  },
  {
   "cell_type": "code",
   "execution_count": null,
   "metadata": {
    "colab": {
     "base_uri": "https://localhost:8080/",
     "height": 424
    },
    "id": "EK7t__ZnqVFg",
    "outputId": "7ccf579a-5e5f-479a-d2a2-2639ae1cc018"
   },
   "outputs": [
    {
     "data": {
      "text/html": [
       "\n",
       "  <div id=\"df-57aedd08-19f5-453e-9495-b968e3a218ce\">\n",
       "    <div class=\"colab-df-container\">\n",
       "      <div>\n",
       "<style scoped>\n",
       "    .dataframe tbody tr th:only-of-type {\n",
       "        vertical-align: middle;\n",
       "    }\n",
       "\n",
       "    .dataframe tbody tr th {\n",
       "        vertical-align: top;\n",
       "    }\n",
       "\n",
       "    .dataframe thead th {\n",
       "        text-align: right;\n",
       "    }\n",
       "</style>\n",
       "<table border=\"1\" class=\"dataframe\">\n",
       "  <thead>\n",
       "    <tr style=\"text-align: right;\">\n",
       "      <th></th>\n",
       "      <th>(index,)</th>\n",
       "      <th>(1000,)</th>\n",
       "      <th>(17,)</th>\n",
       "      <th>(17092022,)</th>\n",
       "      <th>(20,)</th>\n",
       "      <th>(2022,)</th>\n",
       "      <th>(2024,)</th>\n",
       "      <th>(30,)</th>\n",
       "      <th>(acara,)</th>\n",
       "      <th>(ada,)</th>\n",
       "      <th>...</th>\n",
       "      <th>(wilayah,)</th>\n",
       "      <th>(wiliam,)</th>\n",
       "      <th>(ya,)</th>\n",
       "      <th>(yaqowiyu,)</th>\n",
       "      <th>(yayasan,)</th>\n",
       "      <th>(yeah,)</th>\n",
       "      <th>(yg,)</th>\n",
       "      <th>(yogyakarta,)</th>\n",
       "      <th>(zaman,)</th>\n",
       "      <th>label</th>\n",
       "    </tr>\n",
       "  </thead>\n",
       "  <tbody>\n",
       "    <tr>\n",
       "      <th>0</th>\n",
       "      <td>1</td>\n",
       "      <td>0</td>\n",
       "      <td>0</td>\n",
       "      <td>0</td>\n",
       "      <td>0</td>\n",
       "      <td>0</td>\n",
       "      <td>0</td>\n",
       "      <td>0</td>\n",
       "      <td>0</td>\n",
       "      <td>0</td>\n",
       "      <td>...</td>\n",
       "      <td>0</td>\n",
       "      <td>0</td>\n",
       "      <td>0</td>\n",
       "      <td>0</td>\n",
       "      <td>0</td>\n",
       "      <td>0</td>\n",
       "      <td>0</td>\n",
       "      <td>0</td>\n",
       "      <td>0</td>\n",
       "      <td>positif</td>\n",
       "    </tr>\n",
       "    <tr>\n",
       "      <th>1</th>\n",
       "      <td>2</td>\n",
       "      <td>0</td>\n",
       "      <td>0</td>\n",
       "      <td>0</td>\n",
       "      <td>0</td>\n",
       "      <td>0</td>\n",
       "      <td>0</td>\n",
       "      <td>0</td>\n",
       "      <td>0</td>\n",
       "      <td>0</td>\n",
       "      <td>...</td>\n",
       "      <td>0</td>\n",
       "      <td>1</td>\n",
       "      <td>0</td>\n",
       "      <td>0</td>\n",
       "      <td>0</td>\n",
       "      <td>0</td>\n",
       "      <td>0</td>\n",
       "      <td>0</td>\n",
       "      <td>0</td>\n",
       "      <td>positif</td>\n",
       "    </tr>\n",
       "    <tr>\n",
       "      <th>2</th>\n",
       "      <td>3</td>\n",
       "      <td>0</td>\n",
       "      <td>0</td>\n",
       "      <td>0</td>\n",
       "      <td>0</td>\n",
       "      <td>0</td>\n",
       "      <td>0</td>\n",
       "      <td>0</td>\n",
       "      <td>0</td>\n",
       "      <td>0</td>\n",
       "      <td>...</td>\n",
       "      <td>0</td>\n",
       "      <td>0</td>\n",
       "      <td>0</td>\n",
       "      <td>0</td>\n",
       "      <td>0</td>\n",
       "      <td>0</td>\n",
       "      <td>0</td>\n",
       "      <td>0</td>\n",
       "      <td>0</td>\n",
       "      <td>netral</td>\n",
       "    </tr>\n",
       "    <tr>\n",
       "      <th>3</th>\n",
       "      <td>4</td>\n",
       "      <td>0</td>\n",
       "      <td>0</td>\n",
       "      <td>0</td>\n",
       "      <td>0</td>\n",
       "      <td>0</td>\n",
       "      <td>0</td>\n",
       "      <td>0</td>\n",
       "      <td>0</td>\n",
       "      <td>0</td>\n",
       "      <td>...</td>\n",
       "      <td>0</td>\n",
       "      <td>0</td>\n",
       "      <td>0</td>\n",
       "      <td>0</td>\n",
       "      <td>0</td>\n",
       "      <td>0</td>\n",
       "      <td>0</td>\n",
       "      <td>0</td>\n",
       "      <td>0</td>\n",
       "      <td>netral</td>\n",
       "    </tr>\n",
       "    <tr>\n",
       "      <th>4</th>\n",
       "      <td>5</td>\n",
       "      <td>0</td>\n",
       "      <td>0</td>\n",
       "      <td>0</td>\n",
       "      <td>0</td>\n",
       "      <td>0</td>\n",
       "      <td>0</td>\n",
       "      <td>1</td>\n",
       "      <td>0</td>\n",
       "      <td>0</td>\n",
       "      <td>...</td>\n",
       "      <td>0</td>\n",
       "      <td>0</td>\n",
       "      <td>0</td>\n",
       "      <td>0</td>\n",
       "      <td>0</td>\n",
       "      <td>0</td>\n",
       "      <td>0</td>\n",
       "      <td>0</td>\n",
       "      <td>0</td>\n",
       "      <td>positif</td>\n",
       "    </tr>\n",
       "    <tr>\n",
       "      <th>...</th>\n",
       "      <td>...</td>\n",
       "      <td>...</td>\n",
       "      <td>...</td>\n",
       "      <td>...</td>\n",
       "      <td>...</td>\n",
       "      <td>...</td>\n",
       "      <td>...</td>\n",
       "      <td>...</td>\n",
       "      <td>...</td>\n",
       "      <td>...</td>\n",
       "      <td>...</td>\n",
       "      <td>...</td>\n",
       "      <td>...</td>\n",
       "      <td>...</td>\n",
       "      <td>...</td>\n",
       "      <td>...</td>\n",
       "      <td>...</td>\n",
       "      <td>...</td>\n",
       "      <td>...</td>\n",
       "      <td>...</td>\n",
       "      <td>...</td>\n",
       "    </tr>\n",
       "    <tr>\n",
       "      <th>68</th>\n",
       "      <td>69</td>\n",
       "      <td>0</td>\n",
       "      <td>0</td>\n",
       "      <td>0</td>\n",
       "      <td>0</td>\n",
       "      <td>0</td>\n",
       "      <td>0</td>\n",
       "      <td>0</td>\n",
       "      <td>0</td>\n",
       "      <td>0</td>\n",
       "      <td>...</td>\n",
       "      <td>0</td>\n",
       "      <td>0</td>\n",
       "      <td>0</td>\n",
       "      <td>0</td>\n",
       "      <td>0</td>\n",
       "      <td>0</td>\n",
       "      <td>0</td>\n",
       "      <td>0</td>\n",
       "      <td>0</td>\n",
       "      <td>positif</td>\n",
       "    </tr>\n",
       "    <tr>\n",
       "      <th>69</th>\n",
       "      <td>70</td>\n",
       "      <td>0</td>\n",
       "      <td>0</td>\n",
       "      <td>0</td>\n",
       "      <td>0</td>\n",
       "      <td>0</td>\n",
       "      <td>0</td>\n",
       "      <td>0</td>\n",
       "      <td>0</td>\n",
       "      <td>0</td>\n",
       "      <td>...</td>\n",
       "      <td>0</td>\n",
       "      <td>0</td>\n",
       "      <td>0</td>\n",
       "      <td>0</td>\n",
       "      <td>0</td>\n",
       "      <td>3</td>\n",
       "      <td>0</td>\n",
       "      <td>0</td>\n",
       "      <td>0</td>\n",
       "      <td>positif</td>\n",
       "    </tr>\n",
       "    <tr>\n",
       "      <th>70</th>\n",
       "      <td>71</td>\n",
       "      <td>0</td>\n",
       "      <td>0</td>\n",
       "      <td>0</td>\n",
       "      <td>0</td>\n",
       "      <td>0</td>\n",
       "      <td>0</td>\n",
       "      <td>0</td>\n",
       "      <td>0</td>\n",
       "      <td>0</td>\n",
       "      <td>...</td>\n",
       "      <td>0</td>\n",
       "      <td>0</td>\n",
       "      <td>0</td>\n",
       "      <td>0</td>\n",
       "      <td>1</td>\n",
       "      <td>3</td>\n",
       "      <td>0</td>\n",
       "      <td>0</td>\n",
       "      <td>0</td>\n",
       "      <td>positif</td>\n",
       "    </tr>\n",
       "    <tr>\n",
       "      <th>71</th>\n",
       "      <td>72</td>\n",
       "      <td>0</td>\n",
       "      <td>0</td>\n",
       "      <td>0</td>\n",
       "      <td>0</td>\n",
       "      <td>0</td>\n",
       "      <td>0</td>\n",
       "      <td>0</td>\n",
       "      <td>0</td>\n",
       "      <td>0</td>\n",
       "      <td>...</td>\n",
       "      <td>0</td>\n",
       "      <td>0</td>\n",
       "      <td>0</td>\n",
       "      <td>0</td>\n",
       "      <td>0</td>\n",
       "      <td>0</td>\n",
       "      <td>0</td>\n",
       "      <td>0</td>\n",
       "      <td>0</td>\n",
       "      <td>netral</td>\n",
       "    </tr>\n",
       "    <tr>\n",
       "      <th>72</th>\n",
       "      <td>73</td>\n",
       "      <td>0</td>\n",
       "      <td>0</td>\n",
       "      <td>0</td>\n",
       "      <td>0</td>\n",
       "      <td>0</td>\n",
       "      <td>0</td>\n",
       "      <td>0</td>\n",
       "      <td>1</td>\n",
       "      <td>1</td>\n",
       "      <td>...</td>\n",
       "      <td>0</td>\n",
       "      <td>0</td>\n",
       "      <td>0</td>\n",
       "      <td>0</td>\n",
       "      <td>0</td>\n",
       "      <td>0</td>\n",
       "      <td>0</td>\n",
       "      <td>0</td>\n",
       "      <td>0</td>\n",
       "      <td>positif</td>\n",
       "    </tr>\n",
       "  </tbody>\n",
       "</table>\n",
       "<p>73 rows × 400 columns</p>\n",
       "</div>\n",
       "      <button class=\"colab-df-convert\" onclick=\"convertToInteractive('df-57aedd08-19f5-453e-9495-b968e3a218ce')\"\n",
       "              title=\"Convert this dataframe to an interactive table.\"\n",
       "              style=\"display:none;\">\n",
       "\n",
       "  <svg xmlns=\"http://www.w3.org/2000/svg\" height=\"24px\"viewBox=\"0 0 24 24\"\n",
       "       width=\"24px\">\n",
       "    <path d=\"M0 0h24v24H0V0z\" fill=\"none\"/>\n",
       "    <path d=\"M18.56 5.44l.94 2.06.94-2.06 2.06-.94-2.06-.94-.94-2.06-.94 2.06-2.06.94zm-11 1L8.5 8.5l.94-2.06 2.06-.94-2.06-.94L8.5 2.5l-.94 2.06-2.06.94zm10 10l.94 2.06.94-2.06 2.06-.94-2.06-.94-.94-2.06-.94 2.06-2.06.94z\"/><path d=\"M17.41 7.96l-1.37-1.37c-.4-.4-.92-.59-1.43-.59-.52 0-1.04.2-1.43.59L10.3 9.45l-7.72 7.72c-.78.78-.78 2.05 0 2.83L4 21.41c.39.39.9.59 1.41.59.51 0 1.02-.2 1.41-.59l7.78-7.78 2.81-2.81c.8-.78.8-2.07 0-2.86zM5.41 20L4 18.59l7.72-7.72 1.47 1.35L5.41 20z\"/>\n",
       "  </svg>\n",
       "      </button>\n",
       "\n",
       "  <style>\n",
       "    .colab-df-container {\n",
       "      display:flex;\n",
       "      flex-wrap:wrap;\n",
       "      gap: 12px;\n",
       "    }\n",
       "\n",
       "    .colab-df-convert {\n",
       "      background-color: #E8F0FE;\n",
       "      border: none;\n",
       "      border-radius: 50%;\n",
       "      cursor: pointer;\n",
       "      display: none;\n",
       "      fill: #1967D2;\n",
       "      height: 32px;\n",
       "      padding: 0 0 0 0;\n",
       "      width: 32px;\n",
       "    }\n",
       "\n",
       "    .colab-df-convert:hover {\n",
       "      background-color: #E2EBFA;\n",
       "      box-shadow: 0px 1px 2px rgba(60, 64, 67, 0.3), 0px 1px 3px 1px rgba(60, 64, 67, 0.15);\n",
       "      fill: #174EA6;\n",
       "    }\n",
       "\n",
       "    [theme=dark] .colab-df-convert {\n",
       "      background-color: #3B4455;\n",
       "      fill: #D2E3FC;\n",
       "    }\n",
       "\n",
       "    [theme=dark] .colab-df-convert:hover {\n",
       "      background-color: #434B5C;\n",
       "      box-shadow: 0px 1px 3px 1px rgba(0, 0, 0, 0.15);\n",
       "      filter: drop-shadow(0px 1px 2px rgba(0, 0, 0, 0.3));\n",
       "      fill: #FFFFFF;\n",
       "    }\n",
       "  </style>\n",
       "\n",
       "      <script>\n",
       "        const buttonEl =\n",
       "          document.querySelector('#df-57aedd08-19f5-453e-9495-b968e3a218ce button.colab-df-convert');\n",
       "        buttonEl.style.display =\n",
       "          google.colab.kernel.accessAllowed ? 'block' : 'none';\n",
       "\n",
       "        async function convertToInteractive(key) {\n",
       "          const element = document.querySelector('#df-57aedd08-19f5-453e-9495-b968e3a218ce');\n",
       "          const dataTable =\n",
       "            await google.colab.kernel.invokeFunction('convertToInteractive',\n",
       "                                                     [key], {});\n",
       "          if (!dataTable) return;\n",
       "\n",
       "          const docLinkHtml = 'Like what you see? Visit the ' +\n",
       "            '<a target=\"_blank\" href=https://colab.research.google.com/notebooks/data_table.ipynb>data table notebook</a>'\n",
       "            + ' to learn more about interactive tables.';\n",
       "          element.innerHTML = '';\n",
       "          dataTable['output_type'] = 'display_data';\n",
       "          await google.colab.output.renderOutput(dataTable, element);\n",
       "          const docLink = document.createElement('div');\n",
       "          docLink.innerHTML = docLinkHtml;\n",
       "          element.appendChild(docLink);\n",
       "        }\n",
       "      </script>\n",
       "    </div>\n",
       "  </div>\n"
      ],
      "text/plain": [
       "    (index,)  (1000,)  (17,)  (17092022,)  (20,)  (2022,)  (2024,)  (30,)  \\\n",
       "0          1        0      0            0      0        0        0      0   \n",
       "1          2        0      0            0      0        0        0      0   \n",
       "2          3        0      0            0      0        0        0      0   \n",
       "3          4        0      0            0      0        0        0      0   \n",
       "4          5        0      0            0      0        0        0      1   \n",
       "..       ...      ...    ...          ...    ...      ...      ...    ...   \n",
       "68        69        0      0            0      0        0        0      0   \n",
       "69        70        0      0            0      0        0        0      0   \n",
       "70        71        0      0            0      0        0        0      0   \n",
       "71        72        0      0            0      0        0        0      0   \n",
       "72        73        0      0            0      0        0        0      0   \n",
       "\n",
       "    (acara,)  (ada,)  ...  (wilayah,)  (wiliam,)  (ya,)  (yaqowiyu,)  \\\n",
       "0          0       0  ...           0          0      0            0   \n",
       "1          0       0  ...           0          1      0            0   \n",
       "2          0       0  ...           0          0      0            0   \n",
       "3          0       0  ...           0          0      0            0   \n",
       "4          0       0  ...           0          0      0            0   \n",
       "..       ...     ...  ...         ...        ...    ...          ...   \n",
       "68         0       0  ...           0          0      0            0   \n",
       "69         0       0  ...           0          0      0            0   \n",
       "70         0       0  ...           0          0      0            0   \n",
       "71         0       0  ...           0          0      0            0   \n",
       "72         1       1  ...           0          0      0            0   \n",
       "\n",
       "    (yayasan,)  (yeah,)  (yg,)  (yogyakarta,)  (zaman,)    label  \n",
       "0            0        0      0              0         0  positif  \n",
       "1            0        0      0              0         0  positif  \n",
       "2            0        0      0              0         0   netral  \n",
       "3            0        0      0              0         0   netral  \n",
       "4            0        0      0              0         0  positif  \n",
       "..         ...      ...    ...            ...       ...      ...  \n",
       "68           0        0      0              0         0  positif  \n",
       "69           0        3      0              0         0  positif  \n",
       "70           1        3      0              0         0  positif  \n",
       "71           0        0      0              0         0   netral  \n",
       "72           0        0      0              0         0  positif  \n",
       "\n",
       "[73 rows x 400 columns]"
      ]
     },
     "execution_count": 23,
     "metadata": {},
     "output_type": "execute_result"
    }
   ],
   "source": [
    "label = pd.read_excel('/content/drive/MyDrive/webmining/webmining/twint/dataGanjar.xlsx')\n",
    "dj = pd.concat([dataTF.reset_index(), label[\"label\"]], axis=1)\n",
    "dj"
   ]
  },
  {
   "cell_type": "code",
   "execution_count": null,
   "metadata": {
    "colab": {
     "base_uri": "https://localhost:8080/"
    },
    "id": "DySvvKoBr1Eh",
    "outputId": "f723c295-fd61-46c2-c589-cfe85af80aaf"
   },
   "outputs": [
    {
     "data": {
      "text/plain": [
       "array(['positif', 'netral', 'negatif'], dtype=object)"
      ]
     },
     "execution_count": 24,
     "metadata": {},
     "output_type": "execute_result"
    }
   ],
   "source": [
    "dj['label'].unique()"
   ]
  },
  {
   "cell_type": "markdown",
   "metadata": {
    "id": "Af4QSFZvB7v8"
   },
   "source": [
    "## Penjelasan Scikit-learn"
   ]
  },
  {
   "cell_type": "markdown",
   "metadata": {
    "id": "aW5zuWwrB7Kc"
   },
   "source": [
    "Scikit-learn atau sklearn merupakan sebuah module dari bahasa pemrograman Python yang dibangun berdasarkan NumPy, SciPy, dan Matplotlib. Fungsi dari module ini adalah untuk membantu melakukan processing data ataupun melakukan training data untuk kebutuhan machine learning atau data science."
   ]
  },
  {
   "cell_type": "markdown",
   "metadata": {
    "id": "cQkIOn9JBvic"
   },
   "source": [
    "install scikit-learn"
   ]
  },
  {
   "cell_type": "code",
   "execution_count": null,
   "metadata": {
    "colab": {
     "base_uri": "https://localhost:8080/"
    },
    "id": "uswkdBy8BuFT",
    "outputId": "faa5c1c4-c56f-4c5c-b554-64e194e78ade"
   },
   "outputs": [
    {
     "name": "stdout",
     "output_type": "stream",
     "text": [
      "Looking in indexes: https://pypi.org/simple, https://us-python.pkg.dev/colab-wheels/public/simple/\n",
      "Requirement already satisfied: scikit-learn in /usr/local/lib/python3.7/dist-packages (1.0.2)\n",
      "Requirement already satisfied: threadpoolctl>=2.0.0 in /usr/local/lib/python3.7/dist-packages (from scikit-learn) (3.1.0)\n",
      "Requirement already satisfied: numpy>=1.14.6 in /usr/local/lib/python3.7/dist-packages (from scikit-learn) (1.21.6)\n",
      "Requirement already satisfied: joblib>=0.11 in /usr/local/lib/python3.7/dist-packages (from scikit-learn) (1.2.0)\n",
      "Requirement already satisfied: scipy>=1.1.0 in /usr/local/lib/python3.7/dist-packages (from scikit-learn) (1.7.3)\n"
     ]
    }
   ],
   "source": [
    "!pip install -U scikit-learn\n"
   ]
  },
  {
   "cell_type": "markdown",
   "metadata": {
    "id": "2g_sIq0KHxWz"
   },
   "source": [
    "## Penjelasan Information Gain"
   ]
  },
  {
   "cell_type": "markdown",
   "metadata": {
    "id": "xX4jh2nKDWqr"
   },
   "source": [
    "Information Gain merupakan teknik seleksi fitur yang memakai metode scoring untuk nominal\n",
    "ataupun pembobotan atribut kontinue yang didiskretkan menggunakan maksimal entropy. Suatu entropy\n",
    "digunakan untuk mendefinisikan nilai Information Gain. Entropy menggambarkan banyaknya informasi\n",
    "yang dibutuhkan untuk mengkodekan suatu kelas. Information Gain (IG) dari suatu term diukur\n",
    "dengan menghitung jumlah bit informasi yang diambil dari prediksi kategori dengan ada atau tidaknya\n",
    "term dalam suatu dokumen."
   ]
  },
  {
   "cell_type": "markdown",
   "metadata": {
    "id": "iF6JbxjjKC0s"
   },
   "source": [
    "\n",
    "$$\n",
    "Entropy \\ (S) \\equiv \\sum ^{c}_{i}P_{i}\\log _{2}p_{i}\n",
    "$$\n",
    "\n",
    "c : jumlah nilai yang ada pada atribut target (jumlah kelas klasifikasi).\n",
    "\n",
    "Pi : porsi sampel untuk kelas i."
   ]
  },
  {
   "cell_type": "markdown",
   "metadata": {
    "id": "UON1SUboMAM9"
   },
   "source": [
    "\n",
    "$$\n",
    "Gain \\ (S,A) \\equiv Entropy(S) - \\sum _{\\nu \\varepsilon \\ values } \\dfrac{\\left| S_{i}\\right| }{\\left| S\\right|} Entropy(S_{v})\n",
    "$$\n",
    "\n",
    "A : atribut\n",
    "\n",
    "V : menyatakan suatu nilai yang mungkin untuk atribut A\n",
    "\n",
    "Values (A) : himpunan nilai-nilai yang mungkin untuk atribut A\n",
    "\n",
    "|Sv| : jumlah Sampel untuk nilai v\n",
    "\n",
    "|S| : jumlah seluruh sample data Entropy \n",
    "\n",
    "(Sv) : entropy untuk sampel sampel yang memiliki nilai v\n"
   ]
  },
  {
   "cell_type": "code",
   "execution_count": null,
   "metadata": {
    "id": "h3cT73NrsuJf"
   },
   "outputs": [],
   "source": [
    "from sklearn.model_selection import train_test_split\n",
    "#membagi kumpulan data menjadi data pelatihan dan data pengujian.\n",
    "X_train,X_test,y_train,y_test=train_test_split(dj.drop(labels=['label'], axis=1),\n",
    "    dj['label'],\n",
    "    test_size=0.3,\n",
    "    random_state=0)"
   ]
  },
  {
   "cell_type": "markdown",
   "metadata": {
    "id": "J0_7t9pZolAv"
   },
   "source": [
    "**Penjelasan mutual_info_classif**\n",
    "mengukur ketergantungan antara variabel. Itu sama dengan nol jika dan hanya jika dua variabel acak independen, dan nilai yang lebih tinggi berarti ketergantungan yang lebih tinggi."
   ]
  },
  {
   "cell_type": "code",
   "execution_count": null,
   "metadata": {
    "colab": {
     "base_uri": "https://localhost:8080/"
    },
    "id": "V831DlNxtRny",
    "outputId": "4256917e-f749-44c4-9785-293002ff4309"
   },
   "outputs": [
    {
     "data": {
      "text/plain": [
       "array([0.00000000e+00, 0.00000000e+00, 0.00000000e+00, 0.00000000e+00,\n",
       "       3.74345173e-02, 1.45882393e-01, 7.96404191e-02, 0.00000000e+00,\n",
       "       0.00000000e+00, 3.14687962e-02, 3.06576822e-03, 0.00000000e+00,\n",
       "       0.00000000e+00, 4.78868029e-02, 0.00000000e+00, 3.72889021e-02,\n",
       "       0.00000000e+00, 1.12521272e-02, 3.40469548e-03, 7.44379481e-03,\n",
       "       4.33674348e-02, 7.46373067e-02, 1.87579192e-02, 6.39435808e-02,\n",
       "       0.00000000e+00, 5.60725162e-04, 0.00000000e+00, 8.75164415e-02,\n",
       "       2.57954291e-02, 0.00000000e+00, 2.68184535e-04, 0.00000000e+00,\n",
       "       2.78740428e-04, 1.23880730e-01, 1.12870104e-01, 0.00000000e+00,\n",
       "       9.79072557e-02, 9.83820452e-02, 0.00000000e+00, 0.00000000e+00,\n",
       "       0.00000000e+00, 6.75793432e-02, 0.00000000e+00, 1.16875597e-01,\n",
       "       0.00000000e+00, 0.00000000e+00, 2.82805317e-02, 6.12121644e-04,\n",
       "       3.47143653e-02, 0.00000000e+00, 0.00000000e+00, 0.00000000e+00,\n",
       "       0.00000000e+00, 0.00000000e+00, 6.01512753e-02, 0.00000000e+00,\n",
       "       2.64149348e-02, 0.00000000e+00, 4.64824954e-02, 7.98070745e-02,\n",
       "       4.37032618e-02, 6.31604508e-02, 0.00000000e+00, 0.00000000e+00,\n",
       "       0.00000000e+00, 1.31415312e-02, 0.00000000e+00, 1.04205943e-01,\n",
       "       0.00000000e+00, 2.85299554e-02, 7.66258987e-02, 0.00000000e+00,\n",
       "       0.00000000e+00, 7.59450424e-02, 0.00000000e+00, 0.00000000e+00,\n",
       "       0.00000000e+00, 1.59186753e-02, 0.00000000e+00, 0.00000000e+00,\n",
       "       0.00000000e+00, 0.00000000e+00, 4.24742331e-02, 0.00000000e+00,\n",
       "       5.33714871e-02, 8.09280123e-02, 3.01370418e-02, 4.44032363e-03,\n",
       "       6.89281930e-02, 1.33322447e-02, 4.33209448e-03, 0.00000000e+00,\n",
       "       8.83521921e-02, 0.00000000e+00, 0.00000000e+00, 5.21653342e-03,\n",
       "       4.35783986e-02, 1.00488228e-01, 0.00000000e+00, 3.83976129e-03,\n",
       "       0.00000000e+00, 0.00000000e+00, 7.23230578e-04, 5.19923903e-02,\n",
       "       3.49759502e-02, 0.00000000e+00, 0.00000000e+00, 0.00000000e+00,\n",
       "       0.00000000e+00, 4.88663024e-02, 4.83076411e-02, 1.20306323e-02,\n",
       "       0.00000000e+00, 4.68124819e-02, 0.00000000e+00, 8.11285551e-02,\n",
       "       0.00000000e+00, 3.51548495e-01, 2.00582902e-01, 0.00000000e+00,\n",
       "       0.00000000e+00, 1.56888307e-03, 0.00000000e+00, 6.94517707e-02,\n",
       "       0.00000000e+00, 0.00000000e+00, 0.00000000e+00, 0.00000000e+00,\n",
       "       1.29577534e-02, 4.53875120e-02, 0.00000000e+00, 1.07798991e-02,\n",
       "       3.69609076e-02, 0.00000000e+00, 0.00000000e+00, 0.00000000e+00,\n",
       "       1.01746180e-02, 0.00000000e+00, 0.00000000e+00, 0.00000000e+00,\n",
       "       0.00000000e+00, 0.00000000e+00, 9.08630120e-02, 0.00000000e+00,\n",
       "       0.00000000e+00, 0.00000000e+00, 3.42208252e-02, 0.00000000e+00,\n",
       "       0.00000000e+00, 4.49831459e-03, 6.17432483e-02, 7.62985267e-02,\n",
       "       0.00000000e+00, 1.54626295e-01, 2.07214826e-02, 3.62962189e-03,\n",
       "       0.00000000e+00, 0.00000000e+00, 4.95678248e-02, 0.00000000e+00,\n",
       "       3.09109692e-03, 0.00000000e+00, 0.00000000e+00, 0.00000000e+00,\n",
       "       5.40051087e-02, 7.29669647e-02, 8.25873838e-03, 0.00000000e+00,\n",
       "       0.00000000e+00, 0.00000000e+00, 0.00000000e+00, 0.00000000e+00,\n",
       "       0.00000000e+00, 7.67719640e-02, 4.51786682e-02, 1.23221048e-01,\n",
       "       7.87645792e-02, 0.00000000e+00, 0.00000000e+00, 0.00000000e+00,\n",
       "       0.00000000e+00, 3.77349474e-03, 0.00000000e+00, 0.00000000e+00,\n",
       "       1.17688132e-01, 3.31211703e-02, 0.00000000e+00, 1.08641017e-01,\n",
       "       4.73441478e-02, 2.12201548e-02, 0.00000000e+00, 1.27424107e-01,\n",
       "       9.97643059e-02, 1.43218791e-01, 3.70597154e-02, 0.00000000e+00,\n",
       "       0.00000000e+00, 5.19186582e-02, 0.00000000e+00, 0.00000000e+00,\n",
       "       6.00538822e-02, 1.55485933e-02, 0.00000000e+00, 0.00000000e+00,\n",
       "       0.00000000e+00, 0.00000000e+00, 0.00000000e+00, 4.04432600e-02,\n",
       "       0.00000000e+00, 0.00000000e+00, 7.84088789e-02, 0.00000000e+00,\n",
       "       0.00000000e+00, 0.00000000e+00, 0.00000000e+00, 0.00000000e+00,\n",
       "       1.01052973e-02, 0.00000000e+00, 0.00000000e+00, 0.00000000e+00,\n",
       "       9.23291262e-03, 1.14162989e-01, 0.00000000e+00, 3.97519568e-03,\n",
       "       0.00000000e+00, 2.59688416e-02, 0.00000000e+00, 5.12567984e-02,\n",
       "       0.00000000e+00, 0.00000000e+00, 4.72106484e-02, 8.05086957e-02,\n",
       "       5.02496726e-02, 5.26735751e-02, 3.93113379e-03, 3.00658064e-02,\n",
       "       0.00000000e+00, 0.00000000e+00, 0.00000000e+00, 0.00000000e+00,\n",
       "       0.00000000e+00, 0.00000000e+00, 0.00000000e+00, 0.00000000e+00,\n",
       "       0.00000000e+00, 0.00000000e+00, 8.43540253e-02, 1.73478641e-02,\n",
       "       2.24910324e-03, 0.00000000e+00, 0.00000000e+00, 0.00000000e+00,\n",
       "       0.00000000e+00, 2.92829114e-02, 0.00000000e+00, 9.86548329e-03,\n",
       "       0.00000000e+00, 6.27489417e-02, 2.15133012e-04, 0.00000000e+00,\n",
       "       0.00000000e+00, 0.00000000e+00, 0.00000000e+00, 2.50209505e-02,\n",
       "       6.40436248e-02, 1.14854190e-01, 0.00000000e+00, 1.48631232e-02,\n",
       "       0.00000000e+00, 1.49009258e-01, 0.00000000e+00, 6.37570841e-02,\n",
       "       0.00000000e+00, 3.75247258e-03, 7.75035642e-02, 1.50869090e-02,\n",
       "       5.20982445e-02, 3.34580672e-02, 4.27837804e-02, 0.00000000e+00,\n",
       "       5.33852744e-02, 0.00000000e+00, 9.65013438e-02, 2.27859558e-02,\n",
       "       0.00000000e+00, 6.12986708e-02, 0.00000000e+00, 0.00000000e+00,\n",
       "       0.00000000e+00, 4.56912388e-02, 0.00000000e+00, 2.22961758e-02,\n",
       "       0.00000000e+00, 0.00000000e+00, 8.22232190e-03, 1.55025083e-01,\n",
       "       7.28854704e-02, 5.02952816e-02, 0.00000000e+00, 0.00000000e+00,\n",
       "       0.00000000e+00, 5.35047668e-02, 8.04758521e-02, 5.00283665e-02,\n",
       "       6.27496433e-02, 1.23845642e-01, 0.00000000e+00, 1.24299328e-01,\n",
       "       0.00000000e+00, 1.14647680e-01, 6.45208205e-02, 0.00000000e+00,\n",
       "       0.00000000e+00, 0.00000000e+00, 0.00000000e+00, 0.00000000e+00,\n",
       "       0.00000000e+00, 1.20759512e-01, 1.37596107e-01, 0.00000000e+00,\n",
       "       0.00000000e+00, 0.00000000e+00, 1.06074803e-01, 0.00000000e+00,\n",
       "       1.31356660e-02, 0.00000000e+00, 0.00000000e+00, 2.51693183e-02,\n",
       "       0.00000000e+00, 0.00000000e+00, 0.00000000e+00, 1.31056658e-02,\n",
       "       0.00000000e+00, 0.00000000e+00, 0.00000000e+00, 0.00000000e+00,\n",
       "       0.00000000e+00, 0.00000000e+00, 0.00000000e+00, 8.52773544e-03,\n",
       "       8.40328424e-02, 0.00000000e+00, 0.00000000e+00, 5.86806871e-02,\n",
       "       8.58709874e-03, 0.00000000e+00, 0.00000000e+00, 0.00000000e+00,\n",
       "       7.41842648e-02, 3.29110823e-02, 6.78701973e-03, 0.00000000e+00,\n",
       "       2.83752546e-02, 1.93796831e-02, 2.65162415e-01, 4.12609608e-02,\n",
       "       0.00000000e+00, 1.09844672e-02, 8.80084159e-03, 1.17154923e-02,\n",
       "       1.07602444e-02, 6.98633225e-03, 0.00000000e+00, 0.00000000e+00,\n",
       "       0.00000000e+00, 1.30172213e-01, 1.41639320e-01, 0.00000000e+00,\n",
       "       4.38842423e-02, 0.00000000e+00, 0.00000000e+00, 1.24062646e-01,\n",
       "       0.00000000e+00, 0.00000000e+00, 0.00000000e+00, 0.00000000e+00,\n",
       "       0.00000000e+00, 4.78118696e-02, 9.65180201e-03, 8.30695879e-02,\n",
       "       7.36586125e-02, 0.00000000e+00, 3.83490466e-02, 0.00000000e+00,\n",
       "       2.40924832e-02, 0.00000000e+00, 1.12273157e-01, 0.00000000e+00,\n",
       "       3.92444628e-02, 7.11587676e-03, 6.71229529e-02, 6.05254654e-02,\n",
       "       0.00000000e+00, 0.00000000e+00, 0.00000000e+00, 4.18291834e-02,\n",
       "       6.35133564e-02, 0.00000000e+00, 0.00000000e+00])"
      ]
     },
     "execution_count": 30,
     "metadata": {},
     "output_type": "execute_result"
    }
   ],
   "source": [
    "from sklearn.feature_selection import mutual_info_classif\n",
    "mutual_info = mutual_info_classif(X_train, y_train)\n",
    "mutual_info"
   ]
  },
  {
   "cell_type": "markdown",
   "metadata": {
    "id": "ukm3cBVqKh02"
   },
   "source": [
    "merangking fitur(Kata) sesuai dengan fitur(Kata) yang paling banyak keluar"
   ]
  },
  {
   "cell_type": "code",
   "execution_count": null,
   "metadata": {
    "colab": {
     "base_uri": "https://localhost:8080/"
    },
    "id": "UphgaWnAtjnQ",
    "outputId": "6f460ba3-d166-41ed-8eba-976dd4f5cc3c"
   },
   "outputs": [
    {
     "data": {
      "text/plain": [
       "(ganjar,)      0.351548\n",
       "(tarik,)       0.265162\n",
       "(garut,)       0.200583\n",
       "(sahabat,)     0.155025\n",
       "(is,)          0.154626\n",
       "                 ...   \n",
       "(kuliner,)     0.000000\n",
       "(kuntadhi,)    0.000000\n",
       "(kurang,)      0.000000\n",
       "(1000,)        0.000000\n",
       "(zaman,)       0.000000\n",
       "Length: 399, dtype: float64"
      ]
     },
     "execution_count": 31,
     "metadata": {},
     "output_type": "execute_result"
    }
   ],
   "source": [
    "mutual_info = pd.Series(mutual_info)\n",
    "mutual_info.index = X_train.columns\n",
    "mutual_info.sort_values(ascending=False)"
   ]
  },
  {
   "cell_type": "markdown",
   "metadata": {
    "id": "YVtoZ4P0K5em"
   },
   "source": [
    "menvisualkan data dengan grafik bar dengan urutan paling besar ke rendah"
   ]
  },
  {
   "cell_type": "code",
   "execution_count": null,
   "metadata": {
    "colab": {
     "base_uri": "https://localhost:8080/",
     "height": 702
    },
    "id": "50W_DXlstnUv",
    "outputId": "d63825ef-35f3-457a-bf31-6e677b92ac9f"
   },
   "outputs": [
    {
     "data": {
      "text/plain": [
       "<matplotlib.axes._subplots.AxesSubplot at 0x7f542e8b3dd0>"
      ]
     },
     "execution_count": 32,
     "metadata": {},
     "output_type": "execute_result"
    },
    {
     "data": {
      "image/png": "[encoded data removed]",
      "text/plain": [
       "<Figure size 3600x1440 with 1 Axes>"
      ]
     },
     "metadata": {
      "filenames": {
       "image/png": "C:\\Users\\M Nur Fauzan W\\OneDrive\\Desktop\\content\\webmining\\_build\\jupyter_execute\\CrawlingVSM_73_1.png"
      },
      "needs_background": "light"
     },
     "output_type": "display_data"
    }
   ],
   "source": [
    "mutual_info.sort_values(ascending=False).plot.bar(figsize=(50, 20))\n"
   ]
  },
  {
   "cell_type": "markdown",
   "metadata": {
    "id": "ZDgOKHiHpZsi"
   },
   "source": [
    "Import SelectKBest"
   ]
  },
  {
   "cell_type": "code",
   "execution_count": null,
   "metadata": {
    "id": "u0CwVv_5uTSZ"
   },
   "outputs": [],
   "source": [
    "from sklearn.feature_selection import SelectKBest\n"
   ]
  },
  {
   "cell_type": "markdown",
   "metadata": {
    "id": "8avuSKJ4pW7w"
   },
   "source": [
    "Pilih fitur menurut k skor tertinggi."
   ]
  },
  {
   "cell_type": "code",
   "execution_count": null,
   "metadata": {
    "colab": {
     "base_uri": "https://localhost:8080/"
    },
    "id": "dERECPV4uWHA",
    "outputId": "bdfe4794-761f-49ff-c5ab-8dfb130ba12f"
   },
   "outputs": [
    {
     "name": "stderr",
     "output_type": "stream",
     "text": [
      "/usr/local/lib/python3.7/dist-packages/sklearn/utils/validation.py:1692: FutureWarning: Feature names only support names that are all strings. Got feature names with dtypes: ['tuple']. An error will be raised in 1.2.\n",
      "  FutureWarning,\n"
     ]
    },
    {
     "data": {
      "text/plain": [
       "Index([         ('1000',),      ('17092022',),            ('ah',),\n",
       "           ('airlangga',),          ('aksi',), ('alhamdulillah',),\n",
       "                 ('asa',),          ('asal',),            ('at',),\n",
       "                 ('ayu',),         ('baduy',),         ('bahan',),\n",
       "              ('banget',),        ('bangun',),        ('bentuk',),\n",
       "              ('berkah',),         ('bogor',),        ('cerita',),\n",
       "           ('cibeureum',),       ('cipedes',),       ('cirebon',),\n",
       "              ('coming',), ('configuration',),        ('daerah',),\n",
       "              ('dakwah',),          ('dana',),     ('dharmawan',),\n",
       "            ('disamput',),           ('dpw',),     ('duampanua',),\n",
       "                ('film',),           ('gak',),       ('gandeng',),\n",
       "              ('ganjar',),          ('gaya',),          ('giat',),\n",
       "                ('girl',),      ('gubernur',),         ('hadir',),\n",
       "              ('hangat',),      ('hartarto',),       ('hidayah',),\n",
       "               ('hotel',),        ('hubung',),          ('huni',),\n",
       "               ('jalin',),          ('jawa',),        ('jibaku',),\n",
       "               ('juang',),           ('jum',),          ('juta',),\n",
       "           ('kabupaten',),        ('kendal',),       ('kendara',),\n",
       "               ('kerja',),     ('komunitas',),          ('kota',),\n",
       "                ('laku',),           ('lie',),         ('lokal',),\n",
       "               ('makan',),           ('men',),        ('menang',),\n",
       "              ('nikmat',),           ('out',),         ('paket',),\n",
       "         ('partisipasi',),     ('perempuan',),      ('perintah',),\n",
       "           ('pesantren',),       ('pinrang',),       ('pranowo',),\n",
       "            ('provinsi',),        ('rangka',),        ('rendah',),\n",
       "                ('riah',),          ('saba',),        ('safari',),\n",
       "             ('sahabat',),        ('sambut',),           ('sdg',),\n",
       "           ('sejahtera',),       ('selamat',),      ('semangat',),\n",
       "              ('shopee',),         ('siswa',),         ('sosok',),\n",
       "            ('sukacita',),        ('sukses',),      ('sumatera',),\n",
       "               ('tajuk',),        ('tegang',),         ('teman',),\n",
       "                 ('tim',),       ('tradisi',),      ('trending',),\n",
       "               ('tugas',),          ('tuju',),       ('twitter',),\n",
       "               ('ulama',)],\n",
       "      dtype='object')"
      ]
     },
     "execution_count": 34,
     "metadata": {},
     "output_type": "execute_result"
    }
   ],
   "source": [
    "sel_five_cols = SelectKBest(mutual_info_classif, k=100)\n",
    "sel_five_cols.fit(X_train, y_train)\n",
    "X_train.columns[sel_five_cols.get_support()]"
   ]
  },
  {
   "cell_type": "code",
   "execution_count": null,
   "metadata": {
    "id": "JaYsXYWD-m0l"
   },
   "outputs": [],
   "source": [
    "X_train=X_train.values\n",
    "y_train=y_train.values\n",
    "X_test=X_test.values\n",
    "y_test=y_test.values"
   ]
  },
  {
   "cell_type": "markdown",
   "metadata": {
    "id": "9xOeZFYLIFNi"
   },
   "source": [
    "## Penjelasan Naive Bayes"
   ]
  },
  {
   "cell_type": "markdown",
   "metadata": {
    "id": "t3Z8DDfLFnn5"
   },
   "source": [
    "Naive Bayes adalah algoritma machine learning yang digunakan untuk keperluan klasifikasi atau pengelompokan suatu data. Algoritma ini didasarkan pada teorema probabilitas yang dikenalkan oleh ilmuwan Inggris Thomas Bayes. Naive Bayes berfungsi memprediksi probabilitas di masa depan berdasarkan pengalaman sebelumnya, sehingga dapat digunakan untuk pengambilan keputusan."
   ]
  },
  {
   "cell_type": "code",
   "execution_count": null,
   "metadata": {
    "colab": {
     "base_uri": "https://localhost:8080/"
    },
    "id": "1IfrucEZyk0Q",
    "outputId": "fb79bd1d-318e-4134-e865-7b81936a34dc"
   },
   "outputs": [
    {
     "data": {
      "text/plain": [
       "GaussianNB()"
      ]
     },
     "execution_count": 36,
     "metadata": {},
     "output_type": "execute_result"
    }
   ],
   "source": [
    "# from sklearn.neighbors import KNeighborsClassifier\n",
    "from sklearn.naive_bayes import GaussianNB\n",
    "# from sklearn.pipeline import make_pipeline\n",
    "# from sklearn.preprocessing import StandardScaler\n",
    "gauss = GaussianNB()\n",
    "gauss.fit(X_train, y_train)"
   ]
  },
  {
   "cell_type": "markdown",
   "metadata": {
    "id": "GxVybDghq3fa"
   },
   "source": [
    "Menampilkan accuracy dari nilai test dengan method Gaussion Naive Bayes"
   ]
  },
  {
   "cell_type": "code",
   "execution_count": null,
   "metadata": {
    "colab": {
     "base_uri": "https://localhost:8080/"
    },
    "id": "-s6Wc9Yy09HI",
    "outputId": "7fc19f51-5f44-4a7c-f504-65efe990867d"
   },
   "outputs": [
    {
     "data": {
      "text/plain": [
       "72.73"
      ]
     },
     "execution_count": 37,
     "metadata": {},
     "output_type": "execute_result"
    }
   ],
   "source": [
    "from sklearn.metrics import make_scorer, accuracy_score,precision_score\n",
    "testing = gauss.predict(X_test) \n",
    "accuracy_gauss=round(accuracy_score(y_test,testing)* 100, 2)\n",
    "accuracy_gauss"
   ]
  },
  {
   "cell_type": "markdown",
   "metadata": {
    "id": "INF_NgA7JdcC"
   },
   "source": [
    "## Penjelasan Matplotib"
   ]
  },
  {
   "cell_type": "markdown",
   "metadata": {
    "id": "e9kqmPwWJbbb"
   },
   "source": [
    "Matplotlib adalah library Python yang fokus pada visualisasi data seperti membuat plot grafik. Matplotlib pertama kali diciptakan oleh John D. Hunter dan sekarang telah dikelola oleh tim developer yang besar. Awalnya matplotlib dirancang untuk menghasilkan plot grafik yang sesuai pada publikasi jurnal atau artikel ilmiah. Matplotlib dapat digunakan dalam skrip Python, Python dan IPython shell, server aplikasi web, dan beberapa toolkit graphical user interface (GUI) lainnya."
   ]
  },
  {
   "cell_type": "code",
   "execution_count": null,
   "metadata": {
    "id": "b8QJP2keAewo"
   },
   "outputs": [],
   "source": [
    "#import plt\n",
    "import matplotlib.pyplot as plt\n",
    "#import metrics\n",
    "from sklearn import metrics"
   ]
  },
  {
   "cell_type": "markdown",
   "metadata": {
    "id": "3dq8HBKGL_Ja"
   },
   "source": [
    "## Penjelasan Confusion Matrix"
   ]
  },
  {
   "cell_type": "markdown",
   "metadata": {
    "id": "lqMeFpDkL0_a"
   },
   "source": [
    "Confusion matrix juga sering disebut error matrix. Pada dasarnya confusion matrix memberikan informasi perbandingan hasil klasifikasi yang dilakukan oleh sistem (model) dengan hasil klasifikasi sebenarnya. Confusion matrix berbentuk tabel matriks yang menggambarkan kinerja model klasifikasi pada serangkaian data uji yang nilai sebenarnya diketahui."
   ]
  },
  {
   "cell_type": "markdown",
   "metadata": {
    "id": "DT1TMCU4sCxx"
   },
   "source": [
    "membuat Confusion Matrix dengan column vertical (negatif,netral dan positif) dan column horizontal (negatif,netral dan positif)"
   ]
  },
  {
   "cell_type": "code",
   "execution_count": null,
   "metadata": {
    "colab": {
     "base_uri": "https://localhost:8080/",
     "height": 283
    },
    "id": "Rwy1EY5NAgNf",
    "outputId": "5a86633a-aad5-4699-9c0a-ddea8bf70407"
   },
   "outputs": [
    {
     "data": {
      "image/png": "[encoded data removed]",
      "text/plain": [
       "<Figure size 432x288 with 2 Axes>"
      ]
     },
     "metadata": {
      "filenames": {
       "image/png": "C:\\Users\\M Nur Fauzan W\\OneDrive\\Desktop\\content\\webmining\\_build\\jupyter_execute\\CrawlingVSM_90_0.png"
      },
      "needs_background": "light"
     },
     "output_type": "display_data"
    }
   ],
   "source": [
    "conf_matrix =metrics.confusion_matrix(y_true=y_test, y_pred=testing)\n",
    "cm_display = metrics.ConfusionMatrixDisplay(confusion_matrix = conf_matrix, display_labels = ['negatif', 'netral','positif'])\n",
    "cm_display.plot()\n",
    "plt.show()"
   ]
  },
  {
   "cell_type": "markdown",
   "metadata": {
    "id": "o3_oWOV3WMXo"
   },
   "source": [
    "## Penjelasan K-Means"
   ]
  },
  {
   "cell_type": "markdown",
   "metadata": {
    "id": "DOc7KqjrWPH2"
   },
   "source": [
    "K-Means Clustering merupakan algoritma yang efektif untuk menentukan cluster dalam sekumpulan data, di mana pada algortima tersebut dilakukan analisis kelompok yang mengacu pada pemartisian N objek ke dalam K kelompok (Cluster) berdasarkan nilai rata-rata (means) terdekat. Adapun persamaan yang sering digunakan dalam pemecahan masalah dalam menentukan jarak terdekat adalah persamaan Euclidean berikut :"
   ]
  },
  {
   "cell_type": "markdown",
   "metadata": {
    "id": "CgY8IyclYNJt"
   },
   "source": [
    "\n",
    "$$\n",
    "d(p,q) = \\sqrt{(p_{1}-q_{1})^2+(p_{2}-q_{2})^2+(p_{3}-q_{3})^2}\n",
    "$$\n",
    "\n",
    "\n",
    "d = jarak obyek\n",
    "\n",
    "p = data \n",
    "\n",
    "q = centroid"
   ]
  },
  {
   "cell_type": "markdown",
   "metadata": {
    "id": "TNfmn8y-tBbG"
   },
   "source": [
    "TruncatedSVD adalah Teknik pengurangan dimensi menggunakan SVD terpotong"
   ]
  },
  {
   "cell_type": "code",
   "execution_count": null,
   "metadata": {
    "id": "ovyglvlT_qkf"
   },
   "outputs": [],
   "source": [
    "from sklearn.cluster import KMeans\n",
    "from sklearn.decomposition import TruncatedSVD\n"
   ]
  },
  {
   "cell_type": "code",
   "execution_count": null,
   "metadata": {
    "colab": {
     "base_uri": "https://localhost:8080/",
     "height": 338
    },
    "id": "jS8tGaZ2QZ5O",
    "outputId": "b6770abd-dfa5-4e25-8528-6f1f382cea0d"
   },
   "outputs": [
    {
     "name": "stdout",
     "output_type": "stream",
     "text": [
      "[[ 0.82415033  0.32511502]\n",
      " [ 2.93244943 -0.25533275]\n",
      " [ 4.4367268  -1.57718986]]\n"
     ]
    },
    {
     "data": {
      "text/plain": [
       "<matplotlib.collections.PathCollection at 0x7f5428c7fd10>"
      ]
     },
     "execution_count": 41,
     "metadata": {},
     "output_type": "execute_result"
    },
    {
     "data": {
      "image/png": "[encoded data removed]",
      "text/plain": [
       "<Figure size 432x288 with 1 Axes>"
      ]
     },
     "metadata": {
      "filenames": {
       "image/png": "C:\\Users\\M Nur Fauzan W\\OneDrive\\Desktop\\content\\webmining\\_build\\jupyter_execute\\CrawlingVSM_96_2.png"
      },
      "needs_background": "light"
     },
     "output_type": "display_data"
    }
   ],
   "source": [
    "# Latih Kmeans dengan n cluster terbaik\n",
    "modelKm = KMeans(n_clusters=3, random_state=12)\n",
    "modelKm.fit(dataTF.values)\n",
    "prediksi = modelKm.predict(dataTF.values)\n",
    "\n",
    "# Pengurangan dimensi digunakan untuk memplot dalam representasi 2d\n",
    "pc=TruncatedSVD(n_components=2)\n",
    "X_new=pc.fit_transform(dataTF.values)\n",
    "centroids=pc.transform(modelKm.cluster_centers_)\n",
    "print(centroids)\n",
    "plt.scatter(X_new[:,0],X_new[:,1],c=prediksi, cmap='viridis')\n",
    "plt.scatter(centroids[:,0] , centroids[:,1] , s = 50, color = 'red')"
   ]
  },
  {
   "cell_type": "markdown",
   "metadata": {
    "id": "tQcffeW7Bug2"
   },
   "source": [
    "## Perangkingan Kalimat Berita dengan Method Page Rank"
   ]
  },
  {
   "cell_type": "markdown",
   "metadata": {
    "id": "MGl1SXf3uWq6"
   },
   "source": [
    "## Penjelasan Scrapy"
   ]
  },
  {
   "cell_type": "markdown",
   "metadata": {
    "id": "wUZexI-NuZ_0"
   },
   "source": [
    "Scrapy adalah web crawling dan web scraping framework tingkat tinggi yang cepat, digunakan untuk merayapi situs web dan mengekstrak data terstruktur dari halaman mereka. Ini dapat digunakan untuk berbagai tujuan, mulai dari penambangan data hingga pemantauan dan pengujian otomatis."
   ]
  },
  {
   "cell_type": "code",
   "execution_count": null,
   "metadata": {
    "colab": {
     "base_uri": "https://localhost:8080/"
    },
    "id": "2Jcc32f7Btg7",
    "outputId": "bc9e1ce9-90e9-4077-eb09-6b7f26fd4d74"
   },
   "outputs": [
    {
     "name": "stdout",
     "output_type": "stream",
     "text": [
      "Looking in indexes: https://pypi.org/simple, https://us-python.pkg.dev/colab-wheels/public/simple/\n",
      "Collecting scrapy\n",
      "  Downloading Scrapy-2.7.1-py2.py3-none-any.whl (271 kB)\n",
      "\u001b[K     |████████████████████████████████| 271 kB 7.9 MB/s \n",
      "\u001b[?25hCollecting itemadapter>=0.1.0\n",
      "  Downloading itemadapter-0.7.0-py3-none-any.whl (10 kB)\n",
      "Collecting itemloaders>=1.0.1\n",
      "  Downloading itemloaders-1.0.6-py3-none-any.whl (11 kB)\n",
      "Collecting service-identity>=18.1.0\n",
      "  Downloading service_identity-21.1.0-py2.py3-none-any.whl (12 kB)\n",
      "Collecting Twisted>=18.9.0\n",
      "  Downloading Twisted-22.10.0-py3-none-any.whl (3.1 MB)\n",
      "\u001b[K     |████████████████████████████████| 3.1 MB 38.2 MB/s \n",
      "\u001b[?25hCollecting PyDispatcher>=2.0.5\n",
      "  Downloading PyDispatcher-2.0.6.tar.gz (38 kB)\n",
      "Requirement already satisfied: lxml>=4.3.0 in /usr/local/lib/python3.7/dist-packages (from scrapy) (4.9.1)\n",
      "Collecting cryptography>=3.3\n",
      "  Downloading cryptography-38.0.3-cp36-abi3-manylinux_2_24_x86_64.whl (4.1 MB)\n",
      "\u001b[K     |████████████████████████████████| 4.1 MB 46.3 MB/s \n",
      "\u001b[?25hRequirement already satisfied: setuptools in /usr/local/lib/python3.7/dist-packages (from scrapy) (57.4.0)\n",
      "Collecting pyOpenSSL>=21.0.0\n",
      "  Downloading pyOpenSSL-22.1.0-py3-none-any.whl (57 kB)\n",
      "\u001b[K     |████████████████████████████████| 57 kB 4.8 MB/s \n",
      "\u001b[?25hCollecting cssselect>=0.9.1\n",
      "  Downloading cssselect-1.2.0-py2.py3-none-any.whl (18 kB)\n",
      "Collecting parsel>=1.5.0\n",
      "  Downloading parsel-1.7.0-py2.py3-none-any.whl (14 kB)\n",
      "Collecting protego>=0.1.15\n",
      "  Downloading Protego-0.2.1-py2.py3-none-any.whl (8.2 kB)\n",
      "Collecting tldextract\n",
      "  Downloading tldextract-3.4.0-py3-none-any.whl (93 kB)\n",
      "\u001b[K     |████████████████████████████████| 93 kB 2.7 MB/s \n",
      "\u001b[?25hCollecting zope.interface>=5.1.0\n",
      "  Downloading zope.interface-5.5.1-cp37-cp37m-manylinux_2_5_x86_64.manylinux1_x86_64.manylinux_2_12_x86_64.manylinux2010_x86_64.whl (254 kB)\n",
      "\u001b[K     |████████████████████████████████| 254 kB 49.8 MB/s \n",
      "\u001b[?25hCollecting queuelib>=1.4.2\n",
      "  Downloading queuelib-1.6.2-py2.py3-none-any.whl (13 kB)\n",
      "Requirement already satisfied: packaging in /usr/local/lib/python3.7/dist-packages (from scrapy) (21.3)\n",
      "Collecting w3lib>=1.17.0\n",
      "  Downloading w3lib-2.0.1-py3-none-any.whl (20 kB)\n",
      "Requirement already satisfied: cffi>=1.12 in /usr/local/lib/python3.7/dist-packages (from cryptography>=3.3->scrapy) (1.15.1)\n",
      "Requirement already satisfied: pycparser in /usr/local/lib/python3.7/dist-packages (from cffi>=1.12->cryptography>=3.3->scrapy) (2.21)\n",
      "Collecting jmespath>=0.9.5\n",
      "  Downloading jmespath-1.0.1-py3-none-any.whl (20 kB)\n",
      "Requirement already satisfied: six in /usr/local/lib/python3.7/dist-packages (from protego>=0.1.15->scrapy) (1.15.0)\n",
      "Requirement already satisfied: pyasn1 in /usr/local/lib/python3.7/dist-packages (from service-identity>=18.1.0->scrapy) (0.4.8)\n",
      "Requirement already satisfied: attrs>=19.1.0 in /usr/local/lib/python3.7/dist-packages (from service-identity>=18.1.0->scrapy) (22.1.0)\n",
      "Requirement already satisfied: pyasn1-modules in /usr/local/lib/python3.7/dist-packages (from service-identity>=18.1.0->scrapy) (0.2.8)\n",
      "Collecting constantly>=15.1\n",
      "  Downloading constantly-15.1.0-py2.py3-none-any.whl (7.9 kB)\n",
      "Collecting incremental>=21.3.0\n",
      "  Downloading incremental-22.10.0-py2.py3-none-any.whl (16 kB)\n",
      "Requirement already satisfied: typing-extensions>=3.6.5 in /usr/local/lib/python3.7/dist-packages (from Twisted>=18.9.0->scrapy) (4.1.1)\n",
      "Collecting Automat>=0.8.0\n",
      "  Downloading Automat-22.10.0-py2.py3-none-any.whl (26 kB)\n",
      "Collecting hyperlink>=17.1.1\n",
      "  Downloading hyperlink-21.0.0-py2.py3-none-any.whl (74 kB)\n",
      "\u001b[K     |████████████████████████████████| 74 kB 3.2 MB/s \n",
      "\u001b[?25hRequirement already satisfied: idna>=2.5 in /usr/local/lib/python3.7/dist-packages (from hyperlink>=17.1.1->Twisted>=18.9.0->scrapy) (2.10)\n",
      "Requirement already satisfied: pyparsing!=3.0.5,>=2.0.2 in /usr/local/lib/python3.7/dist-packages (from packaging->scrapy) (3.0.9)\n",
      "Requirement already satisfied: filelock>=3.0.8 in /usr/local/lib/python3.7/dist-packages (from tldextract->scrapy) (3.8.0)\n",
      "Collecting requests-file>=1.4\n",
      "  Downloading requests_file-1.5.1-py2.py3-none-any.whl (3.7 kB)\n",
      "Requirement already satisfied: requests>=2.1.0 in /usr/local/lib/python3.7/dist-packages (from tldextract->scrapy) (2.28.1)\n",
      "Requirement already satisfied: charset-normalizer<3,>=2 in /usr/local/lib/python3.7/dist-packages (from requests>=2.1.0->tldextract->scrapy) (2.1.1)\n",
      "Requirement already satisfied: urllib3<1.27,>=1.21.1 in /usr/local/lib/python3.7/dist-packages (from requests>=2.1.0->tldextract->scrapy) (1.26.12)\n",
      "Requirement already satisfied: certifi>=2017.4.17 in /usr/local/lib/python3.7/dist-packages (from requests>=2.1.0->tldextract->scrapy) (2022.9.24)\n",
      "Building wheels for collected packages: PyDispatcher\n",
      "  Building wheel for PyDispatcher (setup.py) ... \u001b[?25l\u001b[?25hdone\n",
      "  Created wheel for PyDispatcher: filename=PyDispatcher-2.0.6-py3-none-any.whl size=11959 sha256=171f107633556d2eabf86af613fdea658ef1ef9eca5fd8d3e17ebb1b609da548\n",
      "  Stored in directory: /root/.cache/pip/wheels/c9/d6/6a/de198d890277cde60ca3dbebe7ae592d3b381c7d9bb2455f4d\n",
      "Successfully built PyDispatcher\n",
      "Installing collected packages: w3lib, cssselect, zope.interface, requests-file, parsel, jmespath, itemadapter, incremental, hyperlink, cryptography, constantly, Automat, Twisted, tldextract, service-identity, queuelib, pyOpenSSL, PyDispatcher, protego, itemloaders, scrapy\n",
      "Successfully installed Automat-22.10.0 PyDispatcher-2.0.6 Twisted-22.10.0 constantly-15.1.0 cryptography-38.0.3 cssselect-1.2.0 hyperlink-21.0.0 incremental-22.10.0 itemadapter-0.7.0 itemloaders-1.0.6 jmespath-1.0.1 parsel-1.7.0 protego-0.2.1 pyOpenSSL-22.1.0 queuelib-1.6.2 requests-file-1.5.1 scrapy-2.7.1 service-identity-21.1.0 tldextract-3.4.0 w3lib-2.0.1 zope.interface-5.5.1\n",
      "Looking in indexes: https://pypi.org/simple, https://us-python.pkg.dev/colab-wheels/public/simple/\n",
      "Collecting crochet\n",
      "  Downloading crochet-2.0.0-py3-none-any.whl (31 kB)\n",
      "Requirement already satisfied: Twisted>=16.0 in /usr/local/lib/python3.7/dist-packages (from crochet) (22.10.0)\n",
      "Requirement already satisfied: wrapt in /usr/local/lib/python3.7/dist-packages (from crochet) (1.14.1)\n",
      "Requirement already satisfied: hyperlink>=17.1.1 in /usr/local/lib/python3.7/dist-packages (from Twisted>=16.0->crochet) (21.0.0)\n",
      "Requirement already satisfied: constantly>=15.1 in /usr/local/lib/python3.7/dist-packages (from Twisted>=16.0->crochet) (15.1.0)\n",
      "Requirement already satisfied: attrs>=19.2.0 in /usr/local/lib/python3.7/dist-packages (from Twisted>=16.0->crochet) (22.1.0)\n",
      "Requirement already satisfied: Automat>=0.8.0 in /usr/local/lib/python3.7/dist-packages (from Twisted>=16.0->crochet) (22.10.0)\n",
      "Requirement already satisfied: zope.interface>=4.4.2 in /usr/local/lib/python3.7/dist-packages (from Twisted>=16.0->crochet) (5.5.1)\n",
      "Requirement already satisfied: typing-extensions>=3.6.5 in /usr/local/lib/python3.7/dist-packages (from Twisted>=16.0->crochet) (4.1.1)\n",
      "Requirement already satisfied: incremental>=21.3.0 in /usr/local/lib/python3.7/dist-packages (from Twisted>=16.0->crochet) (22.10.0)\n",
      "Requirement already satisfied: six in /usr/local/lib/python3.7/dist-packages (from Automat>=0.8.0->Twisted>=16.0->crochet) (1.15.0)\n",
      "Requirement already satisfied: idna>=2.5 in /usr/local/lib/python3.7/dist-packages (from hyperlink>=17.1.1->Twisted>=16.0->crochet) (2.10)\n",
      "Requirement already satisfied: setuptools in /usr/local/lib/python3.7/dist-packages (from zope.interface>=4.4.2->Twisted>=16.0->crochet) (57.4.0)\n",
      "Installing collected packages: crochet\n",
      "Successfully installed crochet-2.0.0\n"
     ]
    }
   ],
   "source": [
    "!pip install scrapy\n",
    "!pip install crochet"
   ]
  },
  {
   "cell_type": "code",
   "execution_count": null,
   "metadata": {
    "id": "Z6Rh4FkyE7cY"
   },
   "outputs": [],
   "source": [
    "import scrapy"
   ]
  },
  {
   "cell_type": "code",
   "execution_count": null,
   "metadata": {
    "id": "__9hNBAYFOzm"
   },
   "outputs": [],
   "source": [
    "import scrapy\n",
    "from scrapy.crawler import CrawlerRunner\n",
    "import re\n",
    "from crochet import setup, wait_for\n",
    "setup()\n",
    "\n",
    "class QuotesToCsv(scrapy.Spider):\n",
    "    name = \"MJKQuotesToCsv\"\n",
    "    start_urls = [\n",
    "        'https://nasional.tempo.co/read/1642981/usai-tragedi-kanjuruhan-jokowi-klaim-indonesia-tak-dikenai-sanksi-dari-fifa',\n",
    "    ]\n",
    "    custom_settings = {\n",
    "        'ITEM_PIPELINES': {\n",
    "            '__main__.ExtractFirstLine': 1\n",
    "        },\n",
    "        'FEEDS': {\n",
    "            'news.csv': {\n",
    "                'format': 'csv',\n",
    "                'overwrite': True\n",
    "            }\n",
    "        }\n",
    "    }\n",
    "\n",
    "    def parse(self, response):\n",
    "        \"\"\"parse data from urls\"\"\"\n",
    "        for quote in response.css('#isi > p'):\n",
    "            yield {'news': quote.extract()}\n",
    "\n",
    "\n",
    "class ExtractFirstLine(object):\n",
    "    def process_item(self, item, spider):\n",
    "        \"\"\"text processing\"\"\"\n",
    "        lines = dict(item)[\"news\"].splitlines()\n",
    "        first_line = self.__remove_html_tags__(lines[0])\n",
    "\n",
    "        return {'news': first_line}\n",
    "\n",
    "    def __remove_html_tags__(self, text):\n",
    "        \"\"\"remove html tags from string\"\"\"\n",
    "        html_tags = re.compile('<.*?>')\n",
    "        return re.sub(html_tags, '', text)\n",
    "\n",
    "@wait_for(10)\n",
    "def run_spider():\n",
    "    \"\"\"run spider with MJKQuotesToCsv\"\"\"\n",
    "    crawler = CrawlerRunner()\n",
    "    d = crawler.crawl(QuotesToCsv)\n",
    "    return d"
   ]
  },
  {
   "cell_type": "code",
   "execution_count": null,
   "metadata": {
    "id": "q5HENOZSFxGN"
   },
   "outputs": [],
   "source": [
    "# run_spider()"
   ]
  },
  {
   "cell_type": "markdown",
   "metadata": {
    "id": "NJgZxnN0vBsX"
   },
   "source": [
    "Mengambil dan Membaca data CSV yang bernama news.csv"
   ]
  },
  {
   "cell_type": "code",
   "execution_count": null,
   "metadata": {
    "colab": {
     "base_uri": "https://localhost:8080/",
     "height": 488
    },
    "id": "U-FVRl8LZbWC",
    "outputId": "fe32bb6f-88ed-408b-b68f-83931794f2d0"
   },
   "outputs": [
    {
     "data": {
      "text/html": [
       "\n",
       "  <div id=\"df-f5481edd-c75b-4db8-a80f-a82bd2a51711\">\n",
       "    <div class=\"colab-df-container\">\n",
       "      <div>\n",
       "<style scoped>\n",
       "    .dataframe tbody tr th:only-of-type {\n",
       "        vertical-align: middle;\n",
       "    }\n",
       "\n",
       "    .dataframe tbody tr th {\n",
       "        vertical-align: top;\n",
       "    }\n",
       "\n",
       "    .dataframe thead th {\n",
       "        text-align: right;\n",
       "    }\n",
       "</style>\n",
       "<table border=\"1\" class=\"dataframe\">\n",
       "  <thead>\n",
       "    <tr style=\"text-align: right;\">\n",
       "      <th></th>\n",
       "      <th>news</th>\n",
       "    </tr>\n",
       "  </thead>\n",
       "  <tbody>\n",
       "    <tr>\n",
       "      <th>0</th>\n",
       "      <td>TEMPO.CO, Jakarta - Presiden Joko Widodo atau ...</td>\n",
       "    </tr>\n",
       "    <tr>\n",
       "      <th>1</th>\n",
       "      <td>\"Alhamdulillah sepak bola Indonesia tidak dike...</td>\n",
       "    </tr>\n",
       "    <tr>\n",
       "      <th>2</th>\n",
       "      <td>Jokowi menjelaskan selain FIFA, Asian Football...</td>\n",
       "    </tr>\n",
       "    <tr>\n",
       "      <th>3</th>\n",
       "      <td>\"Kita juga akan bersama-sama melakukan sosiali...</td>\n",
       "    </tr>\n",
       "    <tr>\n",
       "      <th>4</th>\n",
       "      <td>FIFA dan AFC bakal membantu</td>\n",
       "    </tr>\n",
       "    <tr>\n",
       "      <th>5</th>\n",
       "      <td>Selain itu, FIFA dan AFC bakal membantu membua...</td>\n",
       "    </tr>\n",
       "    <tr>\n",
       "      <th>6</th>\n",
       "      <td>Sebelumnya, Menteri BUMN Erick Thohir membeber...</td>\n",
       "    </tr>\n",
       "    <tr>\n",
       "      <th>7</th>\n",
       "      <td>\"Selain menyampaikan belasungkawa atas kejadia...</td>\n",
       "    </tr>\n",
       "    <tr>\n",
       "      <th>8</th>\n",
       "      <td>Di dalam pertemuan itu, menurut Erick, FIFA me...</td>\n",
       "    </tr>\n",
       "    <tr>\n",
       "      <th>9</th>\n",
       "      <td>Dukungan itu diberikan FIFA, kata Erick, agar ...</td>\n",
       "    </tr>\n",
       "    <tr>\n",
       "      <th>10</th>\n",
       "      <td>\"Pada kesempatan ini saya juga menyampaikan sa...</td>\n",
       "    </tr>\n",
       "    <tr>\n",
       "      <th>11</th>\n",
       "      <td>Adapun Presiden Jokowi sebelumnya telah menele...</td>\n",
       "    </tr>\n",
       "    <tr>\n",
       "      <th>12</th>\n",
       "      <td>M JULNIS FIRMANSYAH</td>\n",
       "    </tr>\n",
       "    <tr>\n",
       "      <th>13</th>\n",
       "      <td>Baca: Kronologi Tragedi Kanjuruhan Malang yan...</td>\n",
       "    </tr>\n",
       "  </tbody>\n",
       "</table>\n",
       "</div>\n",
       "      <button class=\"colab-df-convert\" onclick=\"convertToInteractive('df-f5481edd-c75b-4db8-a80f-a82bd2a51711')\"\n",
       "              title=\"Convert this dataframe to an interactive table.\"\n",
       "              style=\"display:none;\">\n",
       "\n",
       "  <svg xmlns=\"http://www.w3.org/2000/svg\" height=\"24px\"viewBox=\"0 0 24 24\"\n",
       "       width=\"24px\">\n",
       "    <path d=\"M0 0h24v24H0V0z\" fill=\"none\"/>\n",
       "    <path d=\"M18.56 5.44l.94 2.06.94-2.06 2.06-.94-2.06-.94-.94-2.06-.94 2.06-2.06.94zm-11 1L8.5 8.5l.94-2.06 2.06-.94-2.06-.94L8.5 2.5l-.94 2.06-2.06.94zm10 10l.94 2.06.94-2.06 2.06-.94-2.06-.94-.94-2.06-.94 2.06-2.06.94z\"/><path d=\"M17.41 7.96l-1.37-1.37c-.4-.4-.92-.59-1.43-.59-.52 0-1.04.2-1.43.59L10.3 9.45l-7.72 7.72c-.78.78-.78 2.05 0 2.83L4 21.41c.39.39.9.59 1.41.59.51 0 1.02-.2 1.41-.59l7.78-7.78 2.81-2.81c.8-.78.8-2.07 0-2.86zM5.41 20L4 18.59l7.72-7.72 1.47 1.35L5.41 20z\"/>\n",
       "  </svg>\n",
       "      </button>\n",
       "\n",
       "  <style>\n",
       "    .colab-df-container {\n",
       "      display:flex;\n",
       "      flex-wrap:wrap;\n",
       "      gap: 12px;\n",
       "    }\n",
       "\n",
       "    .colab-df-convert {\n",
       "      background-color: #E8F0FE;\n",
       "      border: none;\n",
       "      border-radius: 50%;\n",
       "      cursor: pointer;\n",
       "      display: none;\n",
       "      fill: #1967D2;\n",
       "      height: 32px;\n",
       "      padding: 0 0 0 0;\n",
       "      width: 32px;\n",
       "    }\n",
       "\n",
       "    .colab-df-convert:hover {\n",
       "      background-color: #E2EBFA;\n",
       "      box-shadow: 0px 1px 2px rgba(60, 64, 67, 0.3), 0px 1px 3px 1px rgba(60, 64, 67, 0.15);\n",
       "      fill: #174EA6;\n",
       "    }\n",
       "\n",
       "    [theme=dark] .colab-df-convert {\n",
       "      background-color: #3B4455;\n",
       "      fill: #D2E3FC;\n",
       "    }\n",
       "\n",
       "    [theme=dark] .colab-df-convert:hover {\n",
       "      background-color: #434B5C;\n",
       "      box-shadow: 0px 1px 3px 1px rgba(0, 0, 0, 0.15);\n",
       "      filter: drop-shadow(0px 1px 2px rgba(0, 0, 0, 0.3));\n",
       "      fill: #FFFFFF;\n",
       "    }\n",
       "  </style>\n",
       "\n",
       "      <script>\n",
       "        const buttonEl =\n",
       "          document.querySelector('#df-f5481edd-c75b-4db8-a80f-a82bd2a51711 button.colab-df-convert');\n",
       "        buttonEl.style.display =\n",
       "          google.colab.kernel.accessAllowed ? 'block' : 'none';\n",
       "\n",
       "        async function convertToInteractive(key) {\n",
       "          const element = document.querySelector('#df-f5481edd-c75b-4db8-a80f-a82bd2a51711');\n",
       "          const dataTable =\n",
       "            await google.colab.kernel.invokeFunction('convertToInteractive',\n",
       "                                                     [key], {});\n",
       "          if (!dataTable) return;\n",
       "\n",
       "          const docLinkHtml = 'Like what you see? Visit the ' +\n",
       "            '<a target=\"_blank\" href=https://colab.research.google.com/notebooks/data_table.ipynb>data table notebook</a>'\n",
       "            + ' to learn more about interactive tables.';\n",
       "          element.innerHTML = '';\n",
       "          dataTable['output_type'] = 'display_data';\n",
       "          await google.colab.output.renderOutput(dataTable, element);\n",
       "          const docLink = document.createElement('div');\n",
       "          docLink.innerHTML = docLinkHtml;\n",
       "          element.appendChild(docLink);\n",
       "        }\n",
       "      </script>\n",
       "    </div>\n",
       "  </div>\n"
      ],
      "text/plain": [
       "                                                 news\n",
       "0   TEMPO.CO, Jakarta - Presiden Joko Widodo atau ...\n",
       "1   \"Alhamdulillah sepak bola Indonesia tidak dike...\n",
       "2   Jokowi menjelaskan selain FIFA, Asian Football...\n",
       "3   \"Kita juga akan bersama-sama melakukan sosiali...\n",
       "4                         FIFA dan AFC bakal membantu\n",
       "5   Selain itu, FIFA dan AFC bakal membantu membua...\n",
       "6   Sebelumnya, Menteri BUMN Erick Thohir membeber...\n",
       "7   \"Selain menyampaikan belasungkawa atas kejadia...\n",
       "8   Di dalam pertemuan itu, menurut Erick, FIFA me...\n",
       "9   Dukungan itu diberikan FIFA, kata Erick, agar ...\n",
       "10  \"Pada kesempatan ini saya juga menyampaikan sa...\n",
       "11  Adapun Presiden Jokowi sebelumnya telah menele...\n",
       "12                               M JULNIS FIRMANSYAH \n",
       "13   Baca: Kronologi Tragedi Kanjuruhan Malang yan..."
      ]
     },
     "execution_count": 46,
     "metadata": {},
     "output_type": "execute_result"
    }
   ],
   "source": [
    "dataNews = pd.read_csv('news.csv')\n",
    "dataNews"
   ]
  },
  {
   "cell_type": "markdown",
   "metadata": {
    "id": "jnHAT0G1vQFI"
   },
   "source": [
    "PyPDF2 adalah pustaka PDF python murni gratis dan open-source yang mampu memisahkan, menggabungkan , memotong, dan mengubah halaman file PDF."
   ]
  },
  {
   "cell_type": "markdown",
   "metadata": {
    "id": "wmCO1GCpvXmZ"
   },
   "source": [
    "Install PyPDF2"
   ]
  },
  {
   "cell_type": "code",
   "execution_count": null,
   "metadata": {
    "colab": {
     "base_uri": "https://localhost:8080/"
    },
    "id": "nSyg8YFSgSdI",
    "outputId": "f808b91d-1bce-4519-b4fa-cafadad2a5a4"
   },
   "outputs": [
    {
     "name": "stdout",
     "output_type": "stream",
     "text": [
      "Looking in indexes: https://pypi.org/simple, https://us-python.pkg.dev/colab-wheels/public/simple/\n",
      "Collecting PyPDF2\n",
      "  Downloading PyPDF2-2.11.1-py3-none-any.whl (220 kB)\n",
      "\u001b[K     |████████████████████████████████| 220 kB 6.4 MB/s \n",
      "\u001b[?25hRequirement already satisfied: typing-extensions>=3.10.0.0 in /usr/local/lib/python3.7/dist-packages (from PyPDF2) (4.1.1)\n",
      "Installing collected packages: PyPDF2\n",
      "Successfully installed PyPDF2-2.11.1\n"
     ]
    }
   ],
   "source": [
    "!pip install PyPDF2"
   ]
  },
  {
   "cell_type": "markdown",
   "metadata": {
    "id": "Agx_tLk5vTVm"
   },
   "source": [
    "import PyPDF2"
   ]
  },
  {
   "cell_type": "code",
   "execution_count": null,
   "metadata": {
    "id": "U3LrdLfDg0DT"
   },
   "outputs": [],
   "source": [
    "import PyPDF2"
   ]
  },
  {
   "cell_type": "markdown",
   "metadata": {
    "id": "9vjDrR2lvblU"
   },
   "source": [
    "Membaca Pdf dari file lalu dibuat menjadi bentuk document Text"
   ]
  },
  {
   "cell_type": "code",
   "execution_count": null,
   "metadata": {
    "colab": {
     "base_uri": "https://localhost:8080/",
     "height": 109
    },
    "id": "9fWSXGFRglDJ",
    "outputId": "5d399a34-1725-4d69-86c4-fae78c610062"
   },
   "outputs": [
    {
     "data": {
      "application/vnd.google.colaboratory.intrinsic+json": {
       "type": "string"
      },
      "text/plain": [
       "'TEMPO.CO, Jakarta - Presiden Joko Widodo atau Jokowi mengklaim Indonesia tidak dikenai sanksi \\noleh Federasi Sepak Bola Internasional (FIFA) usai Tragedi Kanjuruhan di Malang, Jawa Timur yang \\nmenelan korban jiwa hingga 131 orang. Sebelumnya, Jokowi khawatir Indonesia dikenai sanksi \\nhingga menelepon dan mengutus Menteri BUMN Erick Thohir untuk bertemu Presiden FIFA Gianni \\nInvantino.  \\n\"Alhamdulillah sepak bola Indonesia tidak dikenakan sanksi oleh FIFA dan FIFA bersama -sama \\ndengan pemerintah akan membentuk tim transformasi sepak bola Indonesia dan FIFA akan \\nberkantor di Indonesia selama proses -proses tersebut,\" ujar Jokowi dalam keterangan nya, Sabtu, \\n8 Oktober 2022.   \\nJokowi menjelaskan selain FIFA, Asian Football Confederation atau AFC juga akan membantu \\npemerintah Indonesia membangun stadion dengan standar keamanan tinggi. Selain itu, kedua \\norganisasi sepak bola itu bakal membantu Indonesia memformulasikan standar protokol dan \\nprosedur pengamanan yang dilakukan kepolisian berdasarkan standar keamanan internasional.  \\n\"Kita juga akan bersama -sama melakukan sosialisasi dan diskusi dengan klub -klub bola di \\nIndonesia, termasuk perwakilan suporter untuk mendapatkan saran dan masukan, serta \\nkomitmen bersama,\" kata Jokowi.   \\nFIFA dan AFC bakal membantu      \\nSelain itu, FIF A dan AFC bakal membantu membuat pengaturan jadwal pertandingan yang \\nmemperhitungkan potensi -potensi risiko. Jokowi menyebut Presiden FIFA akan datang ke \\nIndonesia pada Oktober atau November untuk memberikan pendampingan tersebut serta \\nberdiskusi dengan pe merintah.  \\nSebelumnya, Menteri BUMN Erick Thohir membeberkan agenda pertemuannya dengan Gianni \\nInfantino di Qatar, pada Rabu, 5 Oktober 2022. Pertemuan itu membahas soal tragedi Kanjuruhan \\ndan masa depan sepak bola Indonesia.   \\n\"Selain menyampaikan belasungkawa atas kejadian di Kanjuruhan, kami juga membahas banyak \\nhal untuk kemajuan sepak bola di masa depan, khususnya di Indonesia,\" kata Erick.  \\nDi dalam pert emuan itu, menurut Erick, FIFA melihat adanya potensi, popularitas, dan \\nperkembangan sepak bola yang besar di Indonesia. Dikaitkan dengan pertumbuhan ekonomi \\nnasional yang konstan, pasar yang besar, dan kondisi sosial politik yang stabil, FIFA menyatakan \\nsiap memberikan dukungan maksimal.  \\nDukungan itu diberikan FIFA, kata Erick, agar sepak bola yang merupakan olahraga paling populer \\ndan dicintai di Indonesia dapat menjadi kebanggaan bangsa dan salah satu pilar yang \\nberkontribusi bagi kemajuan bangsa.  \\n\"Pada kesempatan ini saya juga menyampaikan salam dan surat khusus dari Presiden Joko Widodo \\nkepada Presiden FIFA, Gianni Infantino,\" ucap Erick Thohir.  \\nAdapun Presiden Jokowi sebelumnya telah menelepon Presiden FIFA Giovanni Vincenzo Infantino \\nuntuk membahas tragedi Kanjuruhan setelah pertandingan sepak bola di Stadion Kanjuruhan, \\nKabupaten Malang, Jawa Timur.  \\nM JULNIS FIRMANSYAH      \\nBaca: Kronologi Tragedi Kanjuruhan Malang yang Dipaparkan Kapolri  \\n '"
      ]
     },
     "execution_count": 49,
     "metadata": {},
     "output_type": "execute_result"
    }
   ],
   "source": [
    "pdfReader = PyPDF2.PdfFileReader('/content/drive/MyDrive/webmining/webmining/contents/news.pdf')\n",
    "pageObj = pdfReader.getPage(0)\n",
    "document = pageObj.extractText()\n",
    "document"
   ]
  },
  {
   "cell_type": "markdown",
   "metadata": {
    "id": "qVEyMPTZvja6"
   },
   "source": [
    "PunktSentenceTokenizer adalah Sebuah tokenizer kalimat yang menggunakan algoritma tanpa pengawasan untuk membangun model untuk kata-kata singkatan, kolokasi, dan kata-kata yang memulai kalimat dan kemudian menggunakan model itu untuk menemukan batas kalimat."
   ]
  },
  {
   "cell_type": "code",
   "execution_count": null,
   "metadata": {
    "id": "70X3ix1WhDI5"
   },
   "outputs": [],
   "source": [
    "from nltk.tokenize.punkt import PunktSentenceTokenizer"
   ]
  },
  {
   "cell_type": "code",
   "execution_count": null,
   "metadata": {
    "id": "WpYH0-w9hINg"
   },
   "outputs": [],
   "source": [
    "def tokenize(document):\n",
    "    # Kita memecahnya menggunakan  PunktSentenceTokenizer\n",
    "    doc_tokenizer = PunktSentenceTokenizer()\n",
    "    # sentences_list adalah daftar masing masing kalimat dari dokumen yang ada.\n",
    "    sentences_list = doc_tokenizer.tokenize(document)\n",
    "    return sentences_list"
   ]
  },
  {
   "cell_type": "code",
   "execution_count": null,
   "metadata": {
    "colab": {
     "base_uri": "https://localhost:8080/"
    },
    "id": "ClcbjsTShKWO",
    "outputId": "fb740d1e-dde4-44fa-c115-e16a7188fde8"
   },
   "outputs": [
    {
     "data": {
      "text/plain": [
       "['TEMPO.CO, Jakarta - Presiden Joko Widodo atau Jokowi mengklaim Indonesia tidak dikenai sanksi \\noleh Federasi Sepak Bola Internasional (FIFA) usai Tragedi Kanjuruhan di Malang, Jawa Timur yang \\nmenelan korban jiwa hingga 131 orang.',\n",
       " 'Sebelumnya, Jokowi khawatir Indonesia dikenai sanksi \\nhingga menelepon dan mengutus Menteri BUMN Erick Thohir untuk bertemu Presiden FIFA Gianni \\nInvantino.',\n",
       " '\"Alhamdulillah sepak bola Indonesia tidak dikenakan sanksi oleh FIFA dan FIFA bersama -sama \\ndengan pemerintah akan membentuk tim transformasi sepak bola Indonesia dan FIFA akan \\nberkantor di Indonesia selama proses -proses tersebut,\" ujar Jokowi dalam keterangan nya, Sabtu, \\n8 Oktober 2022.',\n",
       " 'Jokowi menjelaskan selain FIFA, Asian Football Confederation atau AFC juga akan membantu \\npemerintah Indonesia membangun stadion dengan standar keamanan tinggi.',\n",
       " 'Selain itu, kedua \\norganisasi sepak bola itu bakal membantu Indonesia memformulasikan standar protokol dan \\nprosedur pengamanan yang dilakukan kepolisian berdasarkan standar keamanan internasional.',\n",
       " '\"Kita juga akan bersama -sama melakukan sosialisasi dan diskusi dengan klub -klub bola di \\nIndonesia, termasuk perwakilan suporter untuk mendapatkan saran dan masukan, serta \\nkomitmen bersama,\" kata Jokowi.',\n",
       " 'FIFA dan AFC bakal membantu      \\nSelain itu, FIF A dan AFC bakal membantu membuat pengaturan jadwal pertandingan yang \\nmemperhitungkan potensi -potensi risiko.',\n",
       " 'Jokowi menyebut Presiden FIFA akan datang ke \\nIndonesia pada Oktober atau November untuk memberikan pendampingan tersebut serta \\nberdiskusi dengan pe merintah.',\n",
       " 'Sebelumnya, Menteri BUMN Erick Thohir membeberkan agenda pertemuannya dengan Gianni \\nInfantino di Qatar, pada Rabu, 5 Oktober 2022.',\n",
       " 'Pertemuan itu membahas soal tragedi Kanjuruhan \\ndan masa depan sepak bola Indonesia.',\n",
       " '\"Selain menyampaikan belasungkawa atas kejadian di Kanjuruhan, kami juga membahas banyak \\nhal untuk kemajuan sepak bola di masa depan, khususnya di Indonesia,\" kata Erick.',\n",
       " 'Di dalam pert emuan itu, menurut Erick, FIFA melihat adanya potensi, popularitas, dan \\nperkembangan sepak bola yang besar di Indonesia.',\n",
       " 'Dikaitkan dengan pertumbuhan ekonomi \\nnasional yang konstan, pasar yang besar, dan kondisi sosial politik yang stabil, FIFA menyatakan \\nsiap memberikan dukungan maksimal.',\n",
       " 'Dukungan itu diberikan FIFA, kata Erick, agar sepak bola yang merupakan olahraga paling populer \\ndan dicintai di Indonesia dapat menjadi kebanggaan bangsa dan salah satu pilar yang \\nberkontribusi bagi kemajuan bangsa.',\n",
       " '\"Pada kesempatan ini saya juga menyampaikan salam dan surat khusus dari Presiden Joko Widodo \\nkepada Presiden FIFA, Gianni Infantino,\" ucap Erick Thohir.',\n",
       " 'Adapun Presiden Jokowi sebelumnya telah menelepon Presiden FIFA Giovanni Vincenzo Infantino \\nuntuk membahas tragedi Kanjuruhan setelah pertandingan sepak bola di Stadion Kanjuruhan, \\nKabupaten Malang, Jawa Timur.',\n",
       " 'M JULNIS FIRMANSYAH      \\nBaca: Kronologi Tragedi Kanjuruhan Malang yang Dipaparkan Kapolri']"
      ]
     },
     "execution_count": 52,
     "metadata": {},
     "output_type": "execute_result"
    }
   ],
   "source": [
    "sentences_list = tokenize(document)\n",
    "sentences_list"
   ]
  },
  {
   "cell_type": "markdown",
   "metadata": {
    "id": "YooV0xFbwUzl"
   },
   "source": [
    "Merapikan data di atas sehingga lebih enak dibaca"
   ]
  },
  {
   "cell_type": "code",
   "execution_count": null,
   "metadata": {
    "colab": {
     "base_uri": "https://localhost:8080/"
    },
    "id": "TcziWhtQhNFx",
    "outputId": "83dd7e24-2232-4efe-a3c9-09a87a3ba824"
   },
   "outputs": [
    {
     "name": "stdout",
     "output_type": "stream",
     "text": [
      "\n",
      "Kalimat 1\n",
      "TEMPO.CO, Jakarta - Presiden Joko Widodo atau Jokowi mengklaim Indonesia tidak dikenai sanksi \n",
      "oleh Federasi Sepak Bola Internasional (FIFA) usai Tragedi Kanjuruhan di Malang, Jawa Timur yang \n",
      "menelan korban jiwa hingga 131 orang.\n",
      "\n",
      "Kalimat 2\n",
      "Sebelumnya, Jokowi khawatir Indonesia dikenai sanksi \n",
      "hingga menelepon dan mengutus Menteri BUMN Erick Thohir untuk bertemu Presiden FIFA Gianni \n",
      "Invantino.\n",
      "\n",
      "Kalimat 3\n",
      "\"Alhamdulillah sepak bola Indonesia tidak dikenakan sanksi oleh FIFA dan FIFA bersama -sama \n",
      "dengan pemerintah akan membentuk tim transformasi sepak bola Indonesia dan FIFA akan \n",
      "berkantor di Indonesia selama proses -proses tersebut,\" ujar Jokowi dalam keterangan nya, Sabtu, \n",
      "8 Oktober 2022.\n",
      "\n",
      "Kalimat 4\n",
      "Jokowi menjelaskan selain FIFA, Asian Football Confederation atau AFC juga akan membantu \n",
      "pemerintah Indonesia membangun stadion dengan standar keamanan tinggi.\n",
      "\n",
      "Kalimat 5\n",
      "Selain itu, kedua \n",
      "organisasi sepak bola itu bakal membantu Indonesia memformulasikan standar protokol dan \n",
      "prosedur pengamanan yang dilakukan kepolisian berdasarkan standar keamanan internasional.\n",
      "\n",
      "Kalimat 6\n",
      "\"Kita juga akan bersama -sama melakukan sosialisasi dan diskusi dengan klub -klub bola di \n",
      "Indonesia, termasuk perwakilan suporter untuk mendapatkan saran dan masukan, serta \n",
      "komitmen bersama,\" kata Jokowi.\n",
      "\n",
      "Kalimat 7\n",
      "FIFA dan AFC bakal membantu      \n",
      "Selain itu, FIF A dan AFC bakal membantu membuat pengaturan jadwal pertandingan yang \n",
      "memperhitungkan potensi -potensi risiko.\n",
      "\n",
      "Kalimat 8\n",
      "Jokowi menyebut Presiden FIFA akan datang ke \n",
      "Indonesia pada Oktober atau November untuk memberikan pendampingan tersebut serta \n",
      "berdiskusi dengan pe merintah.\n",
      "\n",
      "Kalimat 9\n",
      "Sebelumnya, Menteri BUMN Erick Thohir membeberkan agenda pertemuannya dengan Gianni \n",
      "Infantino di Qatar, pada Rabu, 5 Oktober 2022.\n",
      "\n",
      "Kalimat 10\n",
      "Pertemuan itu membahas soal tragedi Kanjuruhan \n",
      "dan masa depan sepak bola Indonesia.\n",
      "\n",
      "Kalimat 11\n",
      "\"Selain menyampaikan belasungkawa atas kejadian di Kanjuruhan, kami juga membahas banyak \n",
      "hal untuk kemajuan sepak bola di masa depan, khususnya di Indonesia,\" kata Erick.\n",
      "\n",
      "Kalimat 12\n",
      "Di dalam pert emuan itu, menurut Erick, FIFA melihat adanya potensi, popularitas, dan \n",
      "perkembangan sepak bola yang besar di Indonesia.\n",
      "\n",
      "Kalimat 13\n",
      "Dikaitkan dengan pertumbuhan ekonomi \n",
      "nasional yang konstan, pasar yang besar, dan kondisi sosial politik yang stabil, FIFA menyatakan \n",
      "siap memberikan dukungan maksimal.\n",
      "\n",
      "Kalimat 14\n",
      "Dukungan itu diberikan FIFA, kata Erick, agar sepak bola yang merupakan olahraga paling populer \n",
      "dan dicintai di Indonesia dapat menjadi kebanggaan bangsa dan salah satu pilar yang \n",
      "berkontribusi bagi kemajuan bangsa.\n",
      "\n",
      "Kalimat 15\n",
      "\"Pada kesempatan ini saya juga menyampaikan salam dan surat khusus dari Presiden Joko Widodo \n",
      "kepada Presiden FIFA, Gianni Infantino,\" ucap Erick Thohir.\n",
      "\n",
      "Kalimat 16\n",
      "Adapun Presiden Jokowi sebelumnya telah menelepon Presiden FIFA Giovanni Vincenzo Infantino \n",
      "untuk membahas tragedi Kanjuruhan setelah pertandingan sepak bola di Stadion Kanjuruhan, \n",
      "Kabupaten Malang, Jawa Timur.\n",
      "\n",
      "Kalimat 17\n",
      "M JULNIS FIRMANSYAH      \n",
      "Baca: Kronologi Tragedi Kanjuruhan Malang yang Dipaparkan Kapolri\n"
     ]
    }
   ],
   "source": [
    "kal=1\n",
    "for i in sentences_list:\n",
    "    print('\\nKalimat {}'.format(kal))\n",
    "    kal+=1\n",
    "    print(i)"
   ]
  },
  {
   "cell_type": "markdown",
   "metadata": {
    "id": "Sg-bDJQVwgU5"
   },
   "source": [
    "Tokenizing adalah proses pemisahan teks menjadi potongan-potongan yang disebut sebagai token untuk kemudian di analisa. Kata, angka, simbol, tanda baca dan entitas penting lainnya dapat dianggap sebagai token."
   ]
  },
  {
   "cell_type": "code",
   "execution_count": null,
   "metadata": {
    "id": "qNZkuvW7iFXj"
   },
   "outputs": [],
   "source": [
    "from sklearn.feature_extraction.text import TfidfTransformer, CountVectorizer\n",
    "vectorizer = CountVectorizer()\n",
    "cv_matrix=vectorizer.fit_transform(sentences_list)"
   ]
  },
  {
   "cell_type": "markdown",
   "metadata": {
    "id": "Gqr-bb34wlRo"
   },
   "source": [
    "Menampilkan jumlah Kosa Kata dari Data"
   ]
  },
  {
   "cell_type": "code",
   "execution_count": null,
   "metadata": {
    "colab": {
     "base_uri": "https://localhost:8080/"
    },
    "id": "gFvPCNTapL-2",
    "outputId": "ce45b49a-4f44-4aaa-f326-aec0e80ae6a7"
   },
   "outputs": [
    {
     "name": "stdout",
     "output_type": "stream",
     "text": [
      "Banyaknya kosa kata =  202\n"
     ]
    }
   ],
   "source": [
    "print (\"Banyaknya kosa kata = \", len((vectorizer.get_feature_names_out())))"
   ]
  },
  {
   "cell_type": "markdown",
   "metadata": {
    "id": "bZLPHgE9wr1Q"
   },
   "source": [
    "Menampilkan jumlah Kalimat dari Data"
   ]
  },
  {
   "cell_type": "code",
   "execution_count": null,
   "metadata": {
    "colab": {
     "base_uri": "https://localhost:8080/"
    },
    "id": "uMTqZWanpKdn",
    "outputId": "3b5c0963-3a94-42ce-ed16-76bbb007225b"
   },
   "outputs": [
    {
     "name": "stdout",
     "output_type": "stream",
     "text": [
      "Banyaknya kalimat =  17\n"
     ]
    }
   ],
   "source": [
    "print (\"Banyaknya kalimat = \", (len(sentences_list)))"
   ]
  },
  {
   "cell_type": "markdown",
   "metadata": {
    "id": "q352DrPGw1cm"
   },
   "source": [
    "Menampilkan Kosa Kata dari Data"
   ]
  },
  {
   "cell_type": "code",
   "execution_count": null,
   "metadata": {
    "colab": {
     "base_uri": "https://localhost:8080/"
    },
    "id": "0G2yyy5apa7m",
    "outputId": "da121c2c-f05b-4881-cfb6-e394eec50824"
   },
   "outputs": [
    {
     "name": "stdout",
     "output_type": "stream",
     "text": [
      "kosa kata =  ['131' '2022' 'adanya' 'adapun' 'afc' 'agar' 'agenda' 'akan'\n",
      " 'alhamdulillah' 'asian' 'atas' 'atau' 'baca' 'bagi' 'bakal' 'bangsa'\n",
      " 'banyak' 'belasungkawa' 'berdasarkan' 'berdiskusi' 'berkantor'\n",
      " 'berkontribusi' 'bersama' 'bertemu' 'besar' 'bola' 'bumn' 'co'\n",
      " 'confederation' 'dalam' 'dan' 'dapat' 'dari' 'datang' 'dengan' 'depan'\n",
      " 'di' 'diberikan' 'dicintai' 'dikaitkan' 'dikenai' 'dikenakan' 'dilakukan'\n",
      " 'dipaparkan' 'diskusi' 'dukungan' 'ekonomi' 'emuan' 'erick' 'federasi'\n",
      " 'fif' 'fifa' 'firmansyah' 'football' 'gianni' 'giovanni' 'hal' 'hingga'\n",
      " 'indonesia' 'infantino' 'ini' 'internasional' 'invantino' 'itu' 'jadwal'\n",
      " 'jakarta' 'jawa' 'jiwa' 'joko' 'jokowi' 'juga' 'julnis' 'kabupaten'\n",
      " 'kami' 'kanjuruhan' 'kapolri' 'kata' 'ke' 'keamanan' 'kebanggaan' 'kedua'\n",
      " 'kejadian' 'kemajuan' 'kepada' 'kepolisian' 'kesempatan' 'keterangan'\n",
      " 'khawatir' 'khusus' 'khususnya' 'kita' 'klub' 'komitmen' 'kondisi'\n",
      " 'konstan' 'korban' 'kronologi' 'maksimal' 'malang' 'masa' 'masukan'\n",
      " 'melakukan' 'melihat' 'membahas' 'membangun' 'membantu' 'membeberkan'\n",
      " 'membentuk' 'memberikan' 'membuat' 'memformulasikan' 'memperhitungkan'\n",
      " 'mendapatkan' 'menelan' 'menelepon' 'mengklaim' 'mengutus' 'menjadi'\n",
      " 'menjelaskan' 'menteri' 'menurut' 'menyampaikan' 'menyatakan' 'menyebut'\n",
      " 'merintah' 'merupakan' 'nasional' 'november' 'nya' 'oktober' 'olahraga'\n",
      " 'oleh' 'orang' 'organisasi' 'pada' 'paling' 'pasar' 'pe' 'pemerintah'\n",
      " 'pendampingan' 'pengamanan' 'pengaturan' 'perkembangan' 'pert'\n",
      " 'pertandingan' 'pertemuan' 'pertemuannya' 'pertumbuhan' 'perwakilan'\n",
      " 'pilar' 'politik' 'popularitas' 'populer' 'potensi' 'presiden' 'prosedur'\n",
      " 'proses' 'protokol' 'qatar' 'rabu' 'risiko' 'sabtu' 'salah' 'salam'\n",
      " 'sama' 'sanksi' 'saran' 'satu' 'saya' 'sebelumnya' 'selain' 'selama'\n",
      " 'sepak' 'serta' 'setelah' 'siap' 'soal' 'sosial' 'sosialisasi' 'stabil'\n",
      " 'stadion' 'standar' 'suporter' 'surat' 'telah' 'tempo' 'termasuk'\n",
      " 'tersebut' 'thohir' 'tidak' 'tim' 'timur' 'tinggi' 'tragedi'\n",
      " 'transformasi' 'ucap' 'ujar' 'untuk' 'usai' 'vincenzo' 'widodo' 'yang']\n"
     ]
    }
   ],
   "source": [
    "print (\"kosa kata = \", (vectorizer.get_feature_names_out()))"
   ]
  },
  {
   "cell_type": "code",
   "execution_count": null,
   "metadata": {
    "colab": {
     "base_uri": "https://localhost:8080/"
    },
    "id": "ZAJscylQJGtU",
    "outputId": "d3eea9e9-74e0-4562-a22c-b24338142b8a"
   },
   "outputs": [
    {
     "name": "stdout",
     "output_type": "stream",
     "text": [
      "[[0.20893039 0.         0.         ... 0.         0.18243429 0.11833962]\n",
      " [0.         0.         0.         ... 0.         0.         0.        ]\n",
      " [0.         0.15486352 0.         ... 0.         0.         0.        ]\n",
      " ...\n",
      " [0.         0.         0.         ... 0.         0.2133249  0.        ]\n",
      " [0.         0.         0.         ... 0.23587291 0.         0.        ]\n",
      " [0.         0.         0.         ... 0.         0.         0.20185071]]\n"
     ]
    }
   ],
   "source": [
    "# mengubah kumpulan dokumen mentah menjadi matriks fitur TF-IDF\n",
    "normal_matrix = TfidfTransformer().fit_transform(cv_matrix)\n",
    "print(normal_matrix.toarray())"
   ]
  },
  {
   "cell_type": "markdown",
   "metadata": {
    "id": "AnGSlGvjxbCg"
   },
   "source": [
    "Menampilkan Jumlah Kalimat dan Kosa Kata"
   ]
  },
  {
   "cell_type": "code",
   "execution_count": null,
   "metadata": {
    "colab": {
     "base_uri": "https://localhost:8080/"
    },
    "id": "oUec8vm2LefT",
    "outputId": "bace26aa-ecaa-4745-b818-8519a16841e3"
   },
   "outputs": [
    {
     "data": {
      "text/plain": [
       "(17, 202)"
      ]
     },
     "execution_count": 59,
     "metadata": {},
     "output_type": "execute_result"
    }
   ],
   "source": [
    "normal_matrix.shape"
   ]
  },
  {
   "cell_type": "markdown",
   "metadata": {
    "id": "XeKHOMRoAQe2"
   },
   "source": [
    "NetworkX adalah paket Python untuk pembuatan, manipulasi, dan studi tentang struktur, dinamika, dan fungsi jaringan yang kompleks. Ini menyediakan:"
   ]
  },
  {
   "cell_type": "code",
   "execution_count": null,
   "metadata": {
    "id": "0csQUXz1JLIt"
   },
   "outputs": [],
   "source": [
    "import networkx as nx"
   ]
  },
  {
   "cell_type": "markdown",
   "metadata": {
    "id": "jX9Z1nQ-Aqjg"
   },
   "source": [
    "Graph adalah kumpulan dati titik (node) dan garis dimana pasangan – pasangan titik (node) tersebut dihubungkan oleh segmen garis. Node ini biasa disebut simpul (vertex) dan segmen garis disebut ruas (edge)"
   ]
  },
  {
   "cell_type": "code",
   "execution_count": null,
   "metadata": {
    "colab": {
     "base_uri": "https://localhost:8080/"
    },
    "id": "2mHH8sYmJN2y",
    "outputId": "053fd64e-c19a-4da1-da8c-1e0fc9b0ab1f"
   },
   "outputs": [
    {
     "name": "stdout",
     "output_type": "stream",
     "text": [
      "  (0, 8)\t0.016922784978310058\n",
      "  (0, 5)\t0.044476229416547094\n",
      "  (0, 3)\t0.07470507531673126\n",
      "  (0, 7)\t0.09585456914285453\n",
      "  (0, 1)\t0.1942213246421451\n",
      "  (0, 10)\t0.10165371278754455\n",
      "  (0, 2)\t0.18353774740874507\n",
      "  (0, 15)\t0.28051691717998695\n",
      "  (0, 9)\t0.13660061427043854\n",
      "  (0, 14)\t0.1316822405035506\n",
      "  (0, 16)\t0.13953329173052492\n",
      "  (0, 13)\t0.0762655091348627\n",
      "  (0, 12)\t0.05545907185229088\n",
      "  (0, 11)\t0.10540780689091514\n",
      "  (0, 6)\t0.02361139650449116\n",
      "  (0, 4)\t0.08774693053033637\n",
      "  (0, 0)\t1.0000000000000004\n",
      "  (1, 12)\t0.02679277158898258\n",
      "  (1, 6)\t0.03923635955100562\n",
      "  (1, 13)\t0.06726236381671076\n",
      "  (1, 11)\t0.07768078633033922\n",
      "  (1, 9)\t0.045941343628468176\n",
      "  (1, 4)\t0.027163452336286264\n",
      "  (1, 3)\t0.054329672164743555\n",
      "  (1, 2)\t0.12728192723024565\n",
      "  :\t:\n",
      "  (15, 14)\t0.14579337689260602\n",
      "  (15, 8)\t0.1026815863923701\n",
      "  (15, 13)\t0.04694037434692812\n",
      "  (15, 11)\t0.08492566544152216\n",
      "  (15, 4)\t0.028949538948435584\n",
      "  (15, 2)\t0.09350206458577603\n",
      "  (15, 3)\t0.08151611797404915\n",
      "  (15, 16)\t0.16677525808873744\n",
      "  (15, 9)\t0.23327088145908648\n",
      "  (15, 0)\t0.28051691717998695\n",
      "  (15, 10)\t0.1885945236007393\n",
      "  (15, 7)\t0.11161585112148718\n",
      "  (15, 5)\t0.06167086426659253\n",
      "  (15, 1)\t0.2129762375293368\n",
      "  (15, 15)\t1.0000000000000002\n",
      "  (16, 10)\t0.037492873034486555\n",
      "  (16, 15)\t0.16677525808873744\n",
      "  (16, 9)\t0.13190208965584627\n",
      "  (16, 16)\t1.0\n",
      "  (16, 13)\t0.04547079188001421\n",
      "  (16, 12)\t0.07877893045655979\n",
      "  (16, 11)\t0.03212965960427992\n",
      "  (16, 6)\t0.025134426032986\n",
      "  (16, 4)\t0.02662294835074497\n",
      "  (16, 0)\t0.13953329173052492\n"
     ]
    }
   ],
   "source": [
    "res_graph = normal_matrix * normal_matrix.T\n",
    "print(res_graph)"
   ]
  },
  {
   "cell_type": "code",
   "execution_count": null,
   "metadata": {
    "id": "7MGVA-htJQC2"
   },
   "outputs": [],
   "source": [
    "nx_graph = nx.from_scipy_sparse_matrix(res_graph)\n"
   ]
  },
  {
   "cell_type": "code",
   "execution_count": null,
   "metadata": {
    "colab": {
     "base_uri": "https://localhost:8080/",
     "height": 319
    },
    "id": "SfuxWEzeJX0D",
    "outputId": "3139c7d3-62e7-4365-fe59-6ab9eb372d9f"
   },
   "outputs": [
    {
     "data": {
      "image/png": "[encoded data removed]",
      "text/plain": [
       "<Figure size 432x288 with 1 Axes>"
      ]
     },
     "metadata": {
      "filenames": {
       "image/png": "C:\\Users\\M Nur Fauzan W\\OneDrive\\Desktop\\content\\webmining\\_build\\jupyter_execute\\CrawlingVSM_135_0.png"
      }
     },
     "output_type": "display_data"
    }
   ],
   "source": [
    "nx.draw_circular(nx_graph)"
   ]
  },
  {
   "cell_type": "markdown",
   "metadata": {
    "id": "hntHmK1ZAviZ"
   },
   "source": [
    "Jumlah Banyak Sisi "
   ]
  },
  {
   "cell_type": "code",
   "execution_count": null,
   "metadata": {
    "colab": {
     "base_uri": "https://localhost:8080/"
    },
    "id": "iXC841f_Jk3C",
    "outputId": "e0a1512b-a6f4-40ea-99e7-e42695256a67"
   },
   "outputs": [
    {
     "name": "stdout",
     "output_type": "stream",
     "text": [
      "Banyaknya sisi 142\n"
     ]
    }
   ],
   "source": [
    "print('Banyaknya sisi {}'.format(nx_graph.number_of_edges()))"
   ]
  },
  {
   "cell_type": "markdown",
   "metadata": {
    "id": "scM5btXzCAQM"
   },
   "source": [
    "Menkalikan data dengan data Transpose"
   ]
  },
  {
   "cell_type": "code",
   "execution_count": null,
   "metadata": {
    "id": "CzwDPgPSJvFp"
   },
   "outputs": [],
   "source": [
    "res_graph = normal_matrix * normal_matrix.T"
   ]
  },
  {
   "cell_type": "markdown",
   "metadata": {
    "id": "OVJPHFEWDFq9"
   },
   "source": [
    "PageRank menghitung peringkat node dalam grafik G berdasarkan struktur tautan masuk. Awalnya dirancang sebagai algoritma untuk menentukan peringkat halaman web."
   ]
  },
  {
   "cell_type": "code",
   "execution_count": null,
   "metadata": {
    "id": "0JTP22O2J0_x"
   },
   "outputs": [],
   "source": [
    "ranks=nx.pagerank(nx_graph,)\n"
   ]
  },
  {
   "cell_type": "markdown",
   "metadata": {
    "id": "D4fi3uKnEgHM"
   },
   "source": [
    "memasukkan data ke array"
   ]
  },
  {
   "cell_type": "code",
   "execution_count": null,
   "metadata": {
    "id": "NpgoT7zVKKqO"
   },
   "outputs": [],
   "source": [
    "arrRank=[]\n",
    "for i in ranks:\n",
    "    arrRank.append(ranks[i])"
   ]
  },
  {
   "cell_type": "markdown",
   "metadata": {
    "id": "fat4TmkgEm1j"
   },
   "source": [
    "menjadikan data kedalam bentuk tabel lalu digabungkan "
   ]
  },
  {
   "cell_type": "code",
   "execution_count": null,
   "metadata": {
    "colab": {
     "base_uri": "https://localhost:8080/",
     "height": 582
    },
    "id": "eYf7C93DCui4",
    "outputId": "38510e58-5803-4a60-97f3-2a5c2b87da59"
   },
   "outputs": [
    {
     "data": {
      "text/html": [
       "\n",
       "  <div id=\"df-0a9414ea-85b1-45f5-ad00-a637230b48ea\">\n",
       "    <div class=\"colab-df-container\">\n",
       "      <div>\n",
       "<style scoped>\n",
       "    .dataframe tbody tr th:only-of-type {\n",
       "        vertical-align: middle;\n",
       "    }\n",
       "\n",
       "    .dataframe tbody tr th {\n",
       "        vertical-align: top;\n",
       "    }\n",
       "\n",
       "    .dataframe thead th {\n",
       "        text-align: right;\n",
       "    }\n",
       "</style>\n",
       "<table border=\"1\" class=\"dataframe\">\n",
       "  <thead>\n",
       "    <tr style=\"text-align: right;\">\n",
       "      <th></th>\n",
       "      <th>News</th>\n",
       "      <th>PageRank</th>\n",
       "    </tr>\n",
       "  </thead>\n",
       "  <tbody>\n",
       "    <tr>\n",
       "      <th>0</th>\n",
       "      <td>TEMPO.CO, Jakarta - Presiden Joko Widodo atau ...</td>\n",
       "      <td>0.065057</td>\n",
       "    </tr>\n",
       "    <tr>\n",
       "      <th>1</th>\n",
       "      <td>Sebelumnya, Jokowi khawatir Indonesia dikenai ...</td>\n",
       "      <td>0.062935</td>\n",
       "    </tr>\n",
       "    <tr>\n",
       "      <th>2</th>\n",
       "      <td>\"Alhamdulillah sepak bola Indonesia tidak dike...</td>\n",
       "      <td>0.068197</td>\n",
       "    </tr>\n",
       "    <tr>\n",
       "      <th>3</th>\n",
       "      <td>Jokowi menjelaskan selain FIFA, Asian Football...</td>\n",
       "      <td>0.057320</td>\n",
       "    </tr>\n",
       "    <tr>\n",
       "      <th>4</th>\n",
       "      <td>Selain itu, kedua \\norganisasi sepak bola itu ...</td>\n",
       "      <td>0.057742</td>\n",
       "    </tr>\n",
       "    <tr>\n",
       "      <th>5</th>\n",
       "      <td>\"Kita juga akan bersama -sama melakukan sosial...</td>\n",
       "      <td>0.055186</td>\n",
       "    </tr>\n",
       "    <tr>\n",
       "      <th>6</th>\n",
       "      <td>FIFA dan AFC bakal membantu      \\nSelain itu,...</td>\n",
       "      <td>0.054671</td>\n",
       "    </tr>\n",
       "    <tr>\n",
       "      <th>7</th>\n",
       "      <td>Jokowi menyebut Presiden FIFA akan datang ke \\...</td>\n",
       "      <td>0.055650</td>\n",
       "    </tr>\n",
       "    <tr>\n",
       "      <th>8</th>\n",
       "      <td>Sebelumnya, Menteri BUMN Erick Thohir membeber...</td>\n",
       "      <td>0.053352</td>\n",
       "    </tr>\n",
       "    <tr>\n",
       "      <th>9</th>\n",
       "      <td>Pertemuan itu membahas soal tragedi Kanjuruhan...</td>\n",
       "      <td>0.063451</td>\n",
       "    </tr>\n",
       "    <tr>\n",
       "      <th>10</th>\n",
       "      <td>\"Selain menyampaikan belasungkawa atas kejadia...</td>\n",
       "      <td>0.063975</td>\n",
       "    </tr>\n",
       "    <tr>\n",
       "      <th>11</th>\n",
       "      <td>Di dalam pert emuan itu, menurut Erick, FIFA m...</td>\n",
       "      <td>0.065238</td>\n",
       "    </tr>\n",
       "    <tr>\n",
       "      <th>12</th>\n",
       "      <td>Dikaitkan dengan pertumbuhan ekonomi \\nnasiona...</td>\n",
       "      <td>0.049587</td>\n",
       "    </tr>\n",
       "    <tr>\n",
       "      <th>13</th>\n",
       "      <td>Dukungan itu diberikan FIFA, kata Erick, agar ...</td>\n",
       "      <td>0.058770</td>\n",
       "    </tr>\n",
       "    <tr>\n",
       "      <th>14</th>\n",
       "      <td>\"Pada kesempatan ini saya juga menyampaikan sa...</td>\n",
       "      <td>0.054695</td>\n",
       "    </tr>\n",
       "    <tr>\n",
       "      <th>15</th>\n",
       "      <td>Adapun Presiden Jokowi sebelumnya telah menele...</td>\n",
       "      <td>0.068102</td>\n",
       "    </tr>\n",
       "    <tr>\n",
       "      <th>16</th>\n",
       "      <td>M JULNIS FIRMANSYAH      \\nBaca: Kronologi Tra...</td>\n",
       "      <td>0.046070</td>\n",
       "    </tr>\n",
       "  </tbody>\n",
       "</table>\n",
       "</div>\n",
       "      <button class=\"colab-df-convert\" onclick=\"convertToInteractive('df-0a9414ea-85b1-45f5-ad00-a637230b48ea')\"\n",
       "              title=\"Convert this dataframe to an interactive table.\"\n",
       "              style=\"display:none;\">\n",
       "\n",
       "  <svg xmlns=\"http://www.w3.org/2000/svg\" height=\"24px\"viewBox=\"0 0 24 24\"\n",
       "       width=\"24px\">\n",
       "    <path d=\"M0 0h24v24H0V0z\" fill=\"none\"/>\n",
       "    <path d=\"M18.56 5.44l.94 2.06.94-2.06 2.06-.94-2.06-.94-.94-2.06-.94 2.06-2.06.94zm-11 1L8.5 8.5l.94-2.06 2.06-.94-2.06-.94L8.5 2.5l-.94 2.06-2.06.94zm10 10l.94 2.06.94-2.06 2.06-.94-2.06-.94-.94-2.06-.94 2.06-2.06.94z\"/><path d=\"M17.41 7.96l-1.37-1.37c-.4-.4-.92-.59-1.43-.59-.52 0-1.04.2-1.43.59L10.3 9.45l-7.72 7.72c-.78.78-.78 2.05 0 2.83L4 21.41c.39.39.9.59 1.41.59.51 0 1.02-.2 1.41-.59l7.78-7.78 2.81-2.81c.8-.78.8-2.07 0-2.86zM5.41 20L4 18.59l7.72-7.72 1.47 1.35L5.41 20z\"/>\n",
       "  </svg>\n",
       "      </button>\n",
       "\n",
       "  <style>\n",
       "    .colab-df-container {\n",
       "      display:flex;\n",
       "      flex-wrap:wrap;\n",
       "      gap: 12px;\n",
       "    }\n",
       "\n",
       "    .colab-df-convert {\n",
       "      background-color: #E8F0FE;\n",
       "      border: none;\n",
       "      border-radius: 50%;\n",
       "      cursor: pointer;\n",
       "      display: none;\n",
       "      fill: #1967D2;\n",
       "      height: 32px;\n",
       "      padding: 0 0 0 0;\n",
       "      width: 32px;\n",
       "    }\n",
       "\n",
       "    .colab-df-convert:hover {\n",
       "      background-color: #E2EBFA;\n",
       "      box-shadow: 0px 1px 2px rgba(60, 64, 67, 0.3), 0px 1px 3px 1px rgba(60, 64, 67, 0.15);\n",
       "      fill: #174EA6;\n",
       "    }\n",
       "\n",
       "    [theme=dark] .colab-df-convert {\n",
       "      background-color: #3B4455;\n",
       "      fill: #D2E3FC;\n",
       "    }\n",
       "\n",
       "    [theme=dark] .colab-df-convert:hover {\n",
       "      background-color: #434B5C;\n",
       "      box-shadow: 0px 1px 3px 1px rgba(0, 0, 0, 0.15);\n",
       "      filter: drop-shadow(0px 1px 2px rgba(0, 0, 0, 0.3));\n",
       "      fill: #FFFFFF;\n",
       "    }\n",
       "  </style>\n",
       "\n",
       "      <script>\n",
       "        const buttonEl =\n",
       "          document.querySelector('#df-0a9414ea-85b1-45f5-ad00-a637230b48ea button.colab-df-convert');\n",
       "        buttonEl.style.display =\n",
       "          google.colab.kernel.accessAllowed ? 'block' : 'none';\n",
       "\n",
       "        async function convertToInteractive(key) {\n",
       "          const element = document.querySelector('#df-0a9414ea-85b1-45f5-ad00-a637230b48ea');\n",
       "          const dataTable =\n",
       "            await google.colab.kernel.invokeFunction('convertToInteractive',\n",
       "                                                     [key], {});\n",
       "          if (!dataTable) return;\n",
       "\n",
       "          const docLinkHtml = 'Like what you see? Visit the ' +\n",
       "            '<a target=\"_blank\" href=https://colab.research.google.com/notebooks/data_table.ipynb>data table notebook</a>'\n",
       "            + ' to learn more about interactive tables.';\n",
       "          element.innerHTML = '';\n",
       "          dataTable['output_type'] = 'display_data';\n",
       "          await google.colab.output.renderOutput(dataTable, element);\n",
       "          const docLink = document.createElement('div');\n",
       "          docLink.innerHTML = docLinkHtml;\n",
       "          element.appendChild(docLink);\n",
       "        }\n",
       "      </script>\n",
       "    </div>\n",
       "  </div>\n"
      ],
      "text/plain": [
       "                                                 News  PageRank\n",
       "0   TEMPO.CO, Jakarta - Presiden Joko Widodo atau ...  0.065057\n",
       "1   Sebelumnya, Jokowi khawatir Indonesia dikenai ...  0.062935\n",
       "2   \"Alhamdulillah sepak bola Indonesia tidak dike...  0.068197\n",
       "3   Jokowi menjelaskan selain FIFA, Asian Football...  0.057320\n",
       "4   Selain itu, kedua \\norganisasi sepak bola itu ...  0.057742\n",
       "5   \"Kita juga akan bersama -sama melakukan sosial...  0.055186\n",
       "6   FIFA dan AFC bakal membantu      \\nSelain itu,...  0.054671\n",
       "7   Jokowi menyebut Presiden FIFA akan datang ke \\...  0.055650\n",
       "8   Sebelumnya, Menteri BUMN Erick Thohir membeber...  0.053352\n",
       "9   Pertemuan itu membahas soal tragedi Kanjuruhan...  0.063451\n",
       "10  \"Selain menyampaikan belasungkawa atas kejadia...  0.063975\n",
       "11  Di dalam pert emuan itu, menurut Erick, FIFA m...  0.065238\n",
       "12  Dikaitkan dengan pertumbuhan ekonomi \\nnasiona...  0.049587\n",
       "13  Dukungan itu diberikan FIFA, kata Erick, agar ...  0.058770\n",
       "14  \"Pada kesempatan ini saya juga menyampaikan sa...  0.054695\n",
       "15  Adapun Presiden Jokowi sebelumnya telah menele...  0.068102\n",
       "16  M JULNIS FIRMANSYAH      \\nBaca: Kronologi Tra...  0.046070"
      ]
     },
     "execution_count": 68,
     "metadata": {},
     "output_type": "execute_result"
    }
   ],
   "source": [
    "dfRanks = pd.DataFrame(arrRank,columns=['PageRank'])\n",
    "dfSentence = pd.DataFrame(sentences_list,columns=['News'])\n",
    "dfJoin = pd.concat([dfSentence,dfRanks], axis=1)\n",
    "dfJoin"
   ]
  },
  {
   "cell_type": "markdown",
   "metadata": {
    "id": "RG2PNpY_FHYq"
   },
   "source": [
    "Mengurutkan data berdasarkan hasil tertinggi"
   ]
  },
  {
   "cell_type": "code",
   "execution_count": null,
   "metadata": {
    "colab": {
     "base_uri": "https://localhost:8080/",
     "height": 582
    },
    "id": "HgrY9v7ULDoK",
    "outputId": "fa576aa2-2d14-43e0-bbea-2ca949a0c7f4"
   },
   "outputs": [
    {
     "data": {
      "text/html": [
       "\n",
       "  <div id=\"df-4490db82-aa90-4d16-9f8e-191b32537097\">\n",
       "    <div class=\"colab-df-container\">\n",
       "      <div>\n",
       "<style scoped>\n",
       "    .dataframe tbody tr th:only-of-type {\n",
       "        vertical-align: middle;\n",
       "    }\n",
       "\n",
       "    .dataframe tbody tr th {\n",
       "        vertical-align: top;\n",
       "    }\n",
       "\n",
       "    .dataframe thead th {\n",
       "        text-align: right;\n",
       "    }\n",
       "</style>\n",
       "<table border=\"1\" class=\"dataframe\">\n",
       "  <thead>\n",
       "    <tr style=\"text-align: right;\">\n",
       "      <th></th>\n",
       "      <th>News</th>\n",
       "      <th>PageRank</th>\n",
       "    </tr>\n",
       "  </thead>\n",
       "  <tbody>\n",
       "    <tr>\n",
       "      <th>2</th>\n",
       "      <td>\"Alhamdulillah sepak bola Indonesia tidak dike...</td>\n",
       "      <td>0.068197</td>\n",
       "    </tr>\n",
       "    <tr>\n",
       "      <th>15</th>\n",
       "      <td>Adapun Presiden Jokowi sebelumnya telah menele...</td>\n",
       "      <td>0.068102</td>\n",
       "    </tr>\n",
       "    <tr>\n",
       "      <th>11</th>\n",
       "      <td>Di dalam pert emuan itu, menurut Erick, FIFA m...</td>\n",
       "      <td>0.065238</td>\n",
       "    </tr>\n",
       "    <tr>\n",
       "      <th>0</th>\n",
       "      <td>TEMPO.CO, Jakarta - Presiden Joko Widodo atau ...</td>\n",
       "      <td>0.065057</td>\n",
       "    </tr>\n",
       "    <tr>\n",
       "      <th>10</th>\n",
       "      <td>\"Selain menyampaikan belasungkawa atas kejadia...</td>\n",
       "      <td>0.063975</td>\n",
       "    </tr>\n",
       "    <tr>\n",
       "      <th>9</th>\n",
       "      <td>Pertemuan itu membahas soal tragedi Kanjuruhan...</td>\n",
       "      <td>0.063451</td>\n",
       "    </tr>\n",
       "    <tr>\n",
       "      <th>1</th>\n",
       "      <td>Sebelumnya, Jokowi khawatir Indonesia dikenai ...</td>\n",
       "      <td>0.062935</td>\n",
       "    </tr>\n",
       "    <tr>\n",
       "      <th>13</th>\n",
       "      <td>Dukungan itu diberikan FIFA, kata Erick, agar ...</td>\n",
       "      <td>0.058770</td>\n",
       "    </tr>\n",
       "    <tr>\n",
       "      <th>4</th>\n",
       "      <td>Selain itu, kedua \\norganisasi sepak bola itu ...</td>\n",
       "      <td>0.057742</td>\n",
       "    </tr>\n",
       "    <tr>\n",
       "      <th>3</th>\n",
       "      <td>Jokowi menjelaskan selain FIFA, Asian Football...</td>\n",
       "      <td>0.057320</td>\n",
       "    </tr>\n",
       "    <tr>\n",
       "      <th>7</th>\n",
       "      <td>Jokowi menyebut Presiden FIFA akan datang ke \\...</td>\n",
       "      <td>0.055650</td>\n",
       "    </tr>\n",
       "    <tr>\n",
       "      <th>5</th>\n",
       "      <td>\"Kita juga akan bersama -sama melakukan sosial...</td>\n",
       "      <td>0.055186</td>\n",
       "    </tr>\n",
       "    <tr>\n",
       "      <th>14</th>\n",
       "      <td>\"Pada kesempatan ini saya juga menyampaikan sa...</td>\n",
       "      <td>0.054695</td>\n",
       "    </tr>\n",
       "    <tr>\n",
       "      <th>6</th>\n",
       "      <td>FIFA dan AFC bakal membantu      \\nSelain itu,...</td>\n",
       "      <td>0.054671</td>\n",
       "    </tr>\n",
       "    <tr>\n",
       "      <th>8</th>\n",
       "      <td>Sebelumnya, Menteri BUMN Erick Thohir membeber...</td>\n",
       "      <td>0.053352</td>\n",
       "    </tr>\n",
       "    <tr>\n",
       "      <th>12</th>\n",
       "      <td>Dikaitkan dengan pertumbuhan ekonomi \\nnasiona...</td>\n",
       "      <td>0.049587</td>\n",
       "    </tr>\n",
       "    <tr>\n",
       "      <th>16</th>\n",
       "      <td>M JULNIS FIRMANSYAH      \\nBaca: Kronologi Tra...</td>\n",
       "      <td>0.046070</td>\n",
       "    </tr>\n",
       "  </tbody>\n",
       "</table>\n",
       "</div>\n",
       "      <button class=\"colab-df-convert\" onclick=\"convertToInteractive('df-4490db82-aa90-4d16-9f8e-191b32537097')\"\n",
       "              title=\"Convert this dataframe to an interactive table.\"\n",
       "              style=\"display:none;\">\n",
       "\n",
       "  <svg xmlns=\"http://www.w3.org/2000/svg\" height=\"24px\"viewBox=\"0 0 24 24\"\n",
       "       width=\"24px\">\n",
       "    <path d=\"M0 0h24v24H0V0z\" fill=\"none\"/>\n",
       "    <path d=\"M18.56 5.44l.94 2.06.94-2.06 2.06-.94-2.06-.94-.94-2.06-.94 2.06-2.06.94zm-11 1L8.5 8.5l.94-2.06 2.06-.94-2.06-.94L8.5 2.5l-.94 2.06-2.06.94zm10 10l.94 2.06.94-2.06 2.06-.94-2.06-.94-.94-2.06-.94 2.06-2.06.94z\"/><path d=\"M17.41 7.96l-1.37-1.37c-.4-.4-.92-.59-1.43-.59-.52 0-1.04.2-1.43.59L10.3 9.45l-7.72 7.72c-.78.78-.78 2.05 0 2.83L4 21.41c.39.39.9.59 1.41.59.51 0 1.02-.2 1.41-.59l7.78-7.78 2.81-2.81c.8-.78.8-2.07 0-2.86zM5.41 20L4 18.59l7.72-7.72 1.47 1.35L5.41 20z\"/>\n",
       "  </svg>\n",
       "      </button>\n",
       "\n",
       "  <style>\n",
       "    .colab-df-container {\n",
       "      display:flex;\n",
       "      flex-wrap:wrap;\n",
       "      gap: 12px;\n",
       "    }\n",
       "\n",
       "    .colab-df-convert {\n",
       "      background-color: #E8F0FE;\n",
       "      border: none;\n",
       "      border-radius: 50%;\n",
       "      cursor: pointer;\n",
       "      display: none;\n",
       "      fill: #1967D2;\n",
       "      height: 32px;\n",
       "      padding: 0 0 0 0;\n",
       "      width: 32px;\n",
       "    }\n",
       "\n",
       "    .colab-df-convert:hover {\n",
       "      background-color: #E2EBFA;\n",
       "      box-shadow: 0px 1px 2px rgba(60, 64, 67, 0.3), 0px 1px 3px 1px rgba(60, 64, 67, 0.15);\n",
       "      fill: #174EA6;\n",
       "    }\n",
       "\n",
       "    [theme=dark] .colab-df-convert {\n",
       "      background-color: #3B4455;\n",
       "      fill: #D2E3FC;\n",
       "    }\n",
       "\n",
       "    [theme=dark] .colab-df-convert:hover {\n",
       "      background-color: #434B5C;\n",
       "      box-shadow: 0px 1px 3px 1px rgba(0, 0, 0, 0.15);\n",
       "      filter: drop-shadow(0px 1px 2px rgba(0, 0, 0, 0.3));\n",
       "      fill: #FFFFFF;\n",
       "    }\n",
       "  </style>\n",
       "\n",
       "      <script>\n",
       "        const buttonEl =\n",
       "          document.querySelector('#df-4490db82-aa90-4d16-9f8e-191b32537097 button.colab-df-convert');\n",
       "        buttonEl.style.display =\n",
       "          google.colab.kernel.accessAllowed ? 'block' : 'none';\n",
       "\n",
       "        async function convertToInteractive(key) {\n",
       "          const element = document.querySelector('#df-4490db82-aa90-4d16-9f8e-191b32537097');\n",
       "          const dataTable =\n",
       "            await google.colab.kernel.invokeFunction('convertToInteractive',\n",
       "                                                     [key], {});\n",
       "          if (!dataTable) return;\n",
       "\n",
       "          const docLinkHtml = 'Like what you see? Visit the ' +\n",
       "            '<a target=\"_blank\" href=https://colab.research.google.com/notebooks/data_table.ipynb>data table notebook</a>'\n",
       "            + ' to learn more about interactive tables.';\n",
       "          element.innerHTML = '';\n",
       "          dataTable['output_type'] = 'display_data';\n",
       "          await google.colab.output.renderOutput(dataTable, element);\n",
       "          const docLink = document.createElement('div');\n",
       "          docLink.innerHTML = docLinkHtml;\n",
       "          element.appendChild(docLink);\n",
       "        }\n",
       "      </script>\n",
       "    </div>\n",
       "  </div>\n"
      ],
      "text/plain": [
       "                                                 News  PageRank\n",
       "2   \"Alhamdulillah sepak bola Indonesia tidak dike...  0.068197\n",
       "15  Adapun Presiden Jokowi sebelumnya telah menele...  0.068102\n",
       "11  Di dalam pert emuan itu, menurut Erick, FIFA m...  0.065238\n",
       "0   TEMPO.CO, Jakarta - Presiden Joko Widodo atau ...  0.065057\n",
       "10  \"Selain menyampaikan belasungkawa atas kejadia...  0.063975\n",
       "9   Pertemuan itu membahas soal tragedi Kanjuruhan...  0.063451\n",
       "1   Sebelumnya, Jokowi khawatir Indonesia dikenai ...  0.062935\n",
       "13  Dukungan itu diberikan FIFA, kata Erick, agar ...  0.058770\n",
       "4   Selain itu, kedua \\norganisasi sepak bola itu ...  0.057742\n",
       "3   Jokowi menjelaskan selain FIFA, Asian Football...  0.057320\n",
       "7   Jokowi menyebut Presiden FIFA akan datang ke \\...  0.055650\n",
       "5   \"Kita juga akan bersama -sama melakukan sosial...  0.055186\n",
       "14  \"Pada kesempatan ini saya juga menyampaikan sa...  0.054695\n",
       "6   FIFA dan AFC bakal membantu      \\nSelain itu,...  0.054671\n",
       "8   Sebelumnya, Menteri BUMN Erick Thohir membeber...  0.053352\n",
       "12  Dikaitkan dengan pertumbuhan ekonomi \\nnasiona...  0.049587\n",
       "16  M JULNIS FIRMANSYAH      \\nBaca: Kronologi Tra...  0.046070"
      ]
     },
     "execution_count": 69,
     "metadata": {},
     "output_type": "execute_result"
    }
   ],
   "source": [
    "sortSentence=dfJoin.sort_values(by=['PageRank'],ascending=False)\n",
    "sortSentence"
   ]
  },
  {
   "cell_type": "markdown",
   "metadata": {
    "id": "9d3Yh4xiFNfy"
   },
   "source": [
    "Menampilkan data dari 5 ke atas"
   ]
  },
  {
   "cell_type": "code",
   "execution_count": null,
   "metadata": {
    "colab": {
     "base_uri": "https://localhost:8080/",
     "height": 206
    },
    "id": "qdEz6Zy9MWN3",
    "outputId": "6508e0dd-7e62-4e79-c874-2e15859ca302"
   },
   "outputs": [
    {
     "data": {
      "text/html": [
       "\n",
       "  <div id=\"df-628a70a8-b156-42b1-88d7-76ec75a2dedf\">\n",
       "    <div class=\"colab-df-container\">\n",
       "      <div>\n",
       "<style scoped>\n",
       "    .dataframe tbody tr th:only-of-type {\n",
       "        vertical-align: middle;\n",
       "    }\n",
       "\n",
       "    .dataframe tbody tr th {\n",
       "        vertical-align: top;\n",
       "    }\n",
       "\n",
       "    .dataframe thead th {\n",
       "        text-align: right;\n",
       "    }\n",
       "</style>\n",
       "<table border=\"1\" class=\"dataframe\">\n",
       "  <thead>\n",
       "    <tr style=\"text-align: right;\">\n",
       "      <th></th>\n",
       "      <th>News</th>\n",
       "      <th>PageRank</th>\n",
       "    </tr>\n",
       "  </thead>\n",
       "  <tbody>\n",
       "    <tr>\n",
       "      <th>2</th>\n",
       "      <td>\"Alhamdulillah sepak bola Indonesia tidak dike...</td>\n",
       "      <td>0.068197</td>\n",
       "    </tr>\n",
       "    <tr>\n",
       "      <th>15</th>\n",
       "      <td>Adapun Presiden Jokowi sebelumnya telah menele...</td>\n",
       "      <td>0.068102</td>\n",
       "    </tr>\n",
       "    <tr>\n",
       "      <th>11</th>\n",
       "      <td>Di dalam pert emuan itu, menurut Erick, FIFA m...</td>\n",
       "      <td>0.065238</td>\n",
       "    </tr>\n",
       "    <tr>\n",
       "      <th>0</th>\n",
       "      <td>TEMPO.CO, Jakarta - Presiden Joko Widodo atau ...</td>\n",
       "      <td>0.065057</td>\n",
       "    </tr>\n",
       "    <tr>\n",
       "      <th>10</th>\n",
       "      <td>\"Selain menyampaikan belasungkawa atas kejadia...</td>\n",
       "      <td>0.063975</td>\n",
       "    </tr>\n",
       "  </tbody>\n",
       "</table>\n",
       "</div>\n",
       "      <button class=\"colab-df-convert\" onclick=\"convertToInteractive('df-628a70a8-b156-42b1-88d7-76ec75a2dedf')\"\n",
       "              title=\"Convert this dataframe to an interactive table.\"\n",
       "              style=\"display:none;\">\n",
       "\n",
       "  <svg xmlns=\"http://www.w3.org/2000/svg\" height=\"24px\"viewBox=\"0 0 24 24\"\n",
       "       width=\"24px\">\n",
       "    <path d=\"M0 0h24v24H0V0z\" fill=\"none\"/>\n",
       "    <path d=\"M18.56 5.44l.94 2.06.94-2.06 2.06-.94-2.06-.94-.94-2.06-.94 2.06-2.06.94zm-11 1L8.5 8.5l.94-2.06 2.06-.94-2.06-.94L8.5 2.5l-.94 2.06-2.06.94zm10 10l.94 2.06.94-2.06 2.06-.94-2.06-.94-.94-2.06-.94 2.06-2.06.94z\"/><path d=\"M17.41 7.96l-1.37-1.37c-.4-.4-.92-.59-1.43-.59-.52 0-1.04.2-1.43.59L10.3 9.45l-7.72 7.72c-.78.78-.78 2.05 0 2.83L4 21.41c.39.39.9.59 1.41.59.51 0 1.02-.2 1.41-.59l7.78-7.78 2.81-2.81c.8-.78.8-2.07 0-2.86zM5.41 20L4 18.59l7.72-7.72 1.47 1.35L5.41 20z\"/>\n",
       "  </svg>\n",
       "      </button>\n",
       "\n",
       "  <style>\n",
       "    .colab-df-container {\n",
       "      display:flex;\n",
       "      flex-wrap:wrap;\n",
       "      gap: 12px;\n",
       "    }\n",
       "\n",
       "    .colab-df-convert {\n",
       "      background-color: #E8F0FE;\n",
       "      border: none;\n",
       "      border-radius: 50%;\n",
       "      cursor: pointer;\n",
       "      display: none;\n",
       "      fill: #1967D2;\n",
       "      height: 32px;\n",
       "      padding: 0 0 0 0;\n",
       "      width: 32px;\n",
       "    }\n",
       "\n",
       "    .colab-df-convert:hover {\n",
       "      background-color: #E2EBFA;\n",
       "      box-shadow: 0px 1px 2px rgba(60, 64, 67, 0.3), 0px 1px 3px 1px rgba(60, 64, 67, 0.15);\n",
       "      fill: #174EA6;\n",
       "    }\n",
       "\n",
       "    [theme=dark] .colab-df-convert {\n",
       "      background-color: #3B4455;\n",
       "      fill: #D2E3FC;\n",
       "    }\n",
       "\n",
       "    [theme=dark] .colab-df-convert:hover {\n",
       "      background-color: #434B5C;\n",
       "      box-shadow: 0px 1px 3px 1px rgba(0, 0, 0, 0.15);\n",
       "      filter: drop-shadow(0px 1px 2px rgba(0, 0, 0, 0.3));\n",
       "      fill: #FFFFFF;\n",
       "    }\n",
       "  </style>\n",
       "\n",
       "      <script>\n",
       "        const buttonEl =\n",
       "          document.querySelector('#df-628a70a8-b156-42b1-88d7-76ec75a2dedf button.colab-df-convert');\n",
       "        buttonEl.style.display =\n",
       "          google.colab.kernel.accessAllowed ? 'block' : 'none';\n",
       "\n",
       "        async function convertToInteractive(key) {\n",
       "          const element = document.querySelector('#df-628a70a8-b156-42b1-88d7-76ec75a2dedf');\n",
       "          const dataTable =\n",
       "            await google.colab.kernel.invokeFunction('convertToInteractive',\n",
       "                                                     [key], {});\n",
       "          if (!dataTable) return;\n",
       "\n",
       "          const docLinkHtml = 'Like what you see? Visit the ' +\n",
       "            '<a target=\"_blank\" href=https://colab.research.google.com/notebooks/data_table.ipynb>data table notebook</a>'\n",
       "            + ' to learn more about interactive tables.';\n",
       "          element.innerHTML = '';\n",
       "          dataTable['output_type'] = 'display_data';\n",
       "          await google.colab.output.renderOutput(dataTable, element);\n",
       "          const docLink = document.createElement('div');\n",
       "          docLink.innerHTML = docLinkHtml;\n",
       "          element.appendChild(docLink);\n",
       "        }\n",
       "      </script>\n",
       "    </div>\n",
       "  </div>\n"
      ],
      "text/plain": [
       "                                                 News  PageRank\n",
       "2   \"Alhamdulillah sepak bola Indonesia tidak dike...  0.068197\n",
       "15  Adapun Presiden Jokowi sebelumnya telah menele...  0.068102\n",
       "11  Di dalam pert emuan itu, menurut Erick, FIFA m...  0.065238\n",
       "0   TEMPO.CO, Jakarta - Presiden Joko Widodo atau ...  0.065057\n",
       "10  \"Selain menyampaikan belasungkawa atas kejadia...  0.063975"
      ]
     },
     "execution_count": 70,
     "metadata": {},
     "output_type": "execute_result"
    }
   ],
   "source": [
    "sortSentence.head(5)"
   ]
  },
  {
   "cell_type": "markdown",
   "metadata": {
    "id": "4xQcbJFT7Xtt"
   },
   "source": [
    "## Latent Semantic Indexing(LSI) Topik Berita"
   ]
  },
  {
   "cell_type": "code",
   "execution_count": null,
   "metadata": {
    "colab": {
     "base_uri": "https://localhost:8080/"
    },
    "id": "JbpRjfSvKmP3",
    "outputId": "d1d27c45-fc9b-4a90-d51c-eb8a58e63b98"
   },
   "outputs": [
    {
     "name": "stdout",
     "output_type": "stream",
     "text": [
      "Looking in indexes: https://pypi.org/simple, https://us-python.pkg.dev/colab-wheels/public/simple/\n",
      "Requirement already satisfied: nltk in /usr/local/lib/python3.7/dist-packages (3.7)\n",
      "Requirement already satisfied: joblib in /usr/local/lib/python3.7/dist-packages (from nltk) (1.2.0)\n",
      "Requirement already satisfied: tqdm in /usr/local/lib/python3.7/dist-packages (from nltk) (4.64.1)\n",
      "Requirement already satisfied: regex>=2021.8.3 in /usr/local/lib/python3.7/dist-packages (from nltk) (2022.6.2)\n",
      "Requirement already satisfied: click in /usr/local/lib/python3.7/dist-packages (from nltk) (7.1.2)\n"
     ]
    }
   ],
   "source": [
    "!pip install nltk"
   ]
  },
  {
   "cell_type": "code",
   "execution_count": null,
   "metadata": {
    "colab": {
     "base_uri": "https://localhost:8080/",
     "height": 216
    },
    "id": "nu2NEk3RK32D",
    "outputId": "efab4649-61ec-42a9-877c-7c2628a00818"
   },
   "outputs": [
    {
     "name": "stdout",
     "output_type": "stream",
     "text": [
      "Looking in indexes: https://pypi.org/simple, https://us-python.pkg.dev/colab-wheels/public/simple/\n",
      "Collecting PySastrawi\n",
      "  Downloading PySastrawi-1.2.0-py2.py3-none-any.whl (210 kB)\n",
      "\u001b[K     |████████████████████████████████| 210 kB 7.3 MB/s \n",
      "\u001b[?25hInstalling collected packages: PySastrawi\n",
      "Successfully installed PySastrawi-1.2.0\n"
     ]
    },
    {
     "data": {
      "application/vnd.colab-display-data+json": {
       "pip_warning": {
        "packages": [
         "Sastrawi"
        ]
       }
      }
     },
     "metadata": {},
     "output_type": "display_data"
    }
   ],
   "source": [
    "!pip install PySastrawi"
   ]
  },
  {
   "cell_type": "code",
   "execution_count": null,
   "metadata": {
    "colab": {
     "base_uri": "https://localhost:8080/"
    },
    "id": "RdENoz91LD5s",
    "outputId": "b2231cea-f5dc-434b-c4f7-6b65c3610ef9"
   },
   "outputs": [
    {
     "name": "stdout",
     "output_type": "stream",
     "text": [
      "Looking in indexes: https://pypi.org/simple, https://us-python.pkg.dev/colab-wheels/public/simple/\n",
      "Requirement already satisfied: Sastrawi in /usr/local/lib/python3.7/dist-packages (1.0.1)\n"
     ]
    }
   ],
   "source": [
    "!pip install Sastrawi"
   ]
  },
  {
   "cell_type": "code",
   "execution_count": null,
   "metadata": {
    "id": "0mcgkDNrLegP"
   },
   "outputs": [],
   "source": [
    "import PyPDF2"
   ]
  },
  {
   "cell_type": "code",
   "execution_count": null,
   "metadata": {
    "colab": {
     "base_uri": "https://localhost:8080/"
    },
    "id": "iZNScMODLWHx",
    "outputId": "8371ae05-57a4-4957-e6e5-fb3de9b6635e"
   },
   "outputs": [
    {
     "name": "stdout",
     "output_type": "stream",
     "text": [
      "TEMPO.CO, Jakarta - Presiden Joko Widodo atau Jokowi mengklaim Indonesia tidak dikenai sanksi \n",
      "oleh Federasi Sepak Bola Internasional (FIFA) usai Tragedi Kanjuruhan di Malang, Jawa Timur yang \n",
      "menelan korban jiwa hingga 131 orang. Sebelumnya, Jokowi khawatir Indonesia dikenai sanksi \n",
      "hingga menelepon dan mengutus Menteri BUMN Erick Thohir untuk bertemu Presiden FIFA Gianni \n",
      "Invantino.  \n",
      "\"Alhamdulillah sepak bola Indonesia tidak dikenakan sanksi oleh FIFA dan FIFA bersama -sama \n",
      "dengan pemerintah akan membentuk tim transformasi sepak bola Indonesia dan FIFA akan \n",
      "berkantor di Indonesia selama proses -proses tersebut,\" ujar Jokowi dalam keterangan nya, Sabtu, \n",
      "8 Oktober 2022.   \n",
      "Jokowi menjelaskan selain FIFA, Asian Football Confederation atau AFC juga akan membantu \n",
      "pemerintah Indonesia membangun stadion dengan standar keamanan tinggi. Selain itu, kedua \n",
      "organisasi sepak bola itu bakal membantu Indonesia memformulasikan standar protokol dan \n",
      "prosedur pengamanan yang dilakukan kepolisian berdasarkan standar keamanan internasional.  \n",
      "\"Kita juga akan bersama -sama melakukan sosialisasi dan diskusi dengan klub -klub bola di \n",
      "Indonesia, termasuk perwakilan suporter untuk mendapatkan saran dan masukan, serta \n",
      "komitmen bersama,\" kata Jokowi.   \n",
      "FIFA dan AFC bakal membantu      \n",
      "Selain itu, FIF A dan AFC bakal membantu membuat pengaturan jadwal pertandingan yang \n",
      "memperhitungkan potensi -potensi risiko. Jokowi menyebut Presiden FIFA akan datang ke \n",
      "Indonesia pada Oktober atau November untuk memberikan pendampingan tersebut serta \n",
      "berdiskusi dengan pe merintah.  \n",
      "Sebelumnya, Menteri BUMN Erick Thohir membeberkan agenda pertemuannya dengan Gianni \n",
      "Infantino di Qatar, pada Rabu, 5 Oktober 2022. Pertemuan itu membahas soal tragedi Kanjuruhan \n",
      "dan masa depan sepak bola Indonesia.   \n",
      "\"Selain menyampaikan belasungkawa atas kejadian di Kanjuruhan, kami juga membahas banyak \n",
      "hal untuk kemajuan sepak bola di masa depan, khususnya di Indonesia,\" kata Erick.  \n",
      "Di dalam pert emuan itu, menurut Erick, FIFA melihat adanya potensi, popularitas, dan \n",
      "perkembangan sepak bola yang besar di Indonesia. Dikaitkan dengan pertumbuhan ekonomi \n",
      "nasional yang konstan, pasar yang besar, dan kondisi sosial politik yang stabil, FIFA menyatakan \n",
      "siap memberikan dukungan maksimal.  \n",
      "Dukungan itu diberikan FIFA, kata Erick, agar sepak bola yang merupakan olahraga paling populer \n",
      "dan dicintai di Indonesia dapat menjadi kebanggaan bangsa dan salah satu pilar yang \n",
      "berkontribusi bagi kemajuan bangsa.  \n",
      "\"Pada kesempatan ini saya juga menyampaikan salam dan surat khusus dari Presiden Joko Widodo \n",
      "kepada Presiden FIFA, Gianni Infantino,\" ucap Erick Thohir.  \n",
      "Adapun Presiden Jokowi sebelumnya telah menelepon Presiden FIFA Giovanni Vincenzo Infantino \n",
      "untuk membahas tragedi Kanjuruhan setelah pertandingan sepak bola di Stadion Kanjuruhan, \n",
      "Kabupaten Malang, Jawa Timur.  \n",
      "M JULNIS FIRMANSYAH      \n",
      "Baca: Kronologi Tragedi Kanjuruhan Malang yang Dipaparkan Kapolri  \n",
      " \n"
     ]
    }
   ],
   "source": [
    "pdfReader = PyPDF2.PdfFileReader('/content/drive/MyDrive/webmining/webmining/contents/news.pdf')\n",
    "pageObj = pdfReader.getPage(0)\n",
    "document = pageObj.extractText()\n",
    "print(document)"
   ]
  },
  {
   "cell_type": "code",
   "execution_count": null,
   "metadata": {
    "colab": {
     "base_uri": "https://localhost:8080/"
    },
    "id": "daML-Qq0Lv60",
    "outputId": "abf3f6f9-6f55-472e-aea2-9dcd74f17d9f"
   },
   "outputs": [
    {
     "name": "stderr",
     "output_type": "stream",
     "text": [
      "[nltk_data] Downloading package stopwords to /root/nltk_data...\n",
      "[nltk_data]   Unzipping corpora/stopwords.zip.\n"
     ]
    },
    {
     "data": {
      "text/plain": [
       "True"
      ]
     },
     "execution_count": 76,
     "metadata": {},
     "output_type": "execute_result"
    }
   ],
   "source": [
    "import pandas as pd\n",
    "import re\n",
    "from nltk.corpus import stopwords\n",
    "from nltk.tokenize import word_tokenize\n",
    "import nltk\n",
    "nltk.download('stopwords')"
   ]
  },
  {
   "cell_type": "code",
   "execution_count": null,
   "metadata": {
    "colab": {
     "base_uri": "https://localhost:8080/"
    },
    "id": "7L_6qtZpLomO",
    "outputId": "6a6fbfd9-9788-4bc8-a2ac-709a0334429c"
   },
   "outputs": [
    {
     "name": "stdout",
     "output_type": "stream",
     "text": [
      "['TEMPO.CO', ',', 'Jakarta', '-', 'Presiden', 'Joko', 'Widodo', 'atau', 'Jokowi', 'mengklaim', 'Indonesia', 'tidak', 'dikenai', 'sanksi', 'oleh', 'Federasi', 'Sepak', 'Bola', 'Internasional', '(', 'FIFA', ')', 'usai', 'Tragedi', 'Kanjuruhan', 'di', 'Malang', ',', 'Jawa', 'Timur', 'yang', 'menelan', 'korban', 'jiwa', 'hingga', '131', 'orang', '.', 'Sebelumnya', ',', 'Jokowi', 'khawatir', 'Indonesia', 'dikenai', 'sanksi', 'hingga', 'menelepon', 'dan', 'mengutus', 'Menteri', 'BUMN', 'Erick', 'Thohir', 'untuk', 'bertemu', 'Presiden', 'FIFA', 'Gianni', 'Invantino', '.', '``', 'Alhamdulillah', 'sepak', 'bola', 'Indonesia', 'tidak', 'dikenakan', 'sanksi', 'oleh', 'FIFA', 'dan', 'FIFA', 'bersama', '-sama', 'dengan', 'pemerintah', 'akan', 'membentuk', 'tim', 'transformasi', 'sepak', 'bola', 'Indonesia', 'dan', 'FIFA', 'akan', 'berkantor', 'di', 'Indonesia', 'selama', 'proses', '-proses', 'tersebut', ',', \"''\", 'ujar', 'Jokowi', 'dalam', 'keterangan', 'nya', ',', 'Sabtu', ',', '8', 'Oktober', '2022', '.', 'Jokowi', 'menjelaskan', 'selain', 'FIFA', ',', 'Asian', 'Football', 'Confederation', 'atau', 'AFC', 'juga', 'akan', 'membantu', 'pemerintah', 'Indonesia', 'membangun', 'stadion', 'dengan', 'standar', 'keamanan', 'tinggi', '.', 'Selain', 'itu', ',', 'kedua', 'organisasi', 'sepak', 'bola', 'itu', 'bakal', 'membantu', 'Indonesia', 'memformulasikan', 'standar', 'protokol', 'dan', 'prosedur', 'pengamanan', 'yang', 'dilakukan', 'kepolisian', 'berdasarkan', 'standar', 'keamanan', 'internasional', '.', '``', 'Kita', 'juga', 'akan', 'bersama', '-sama', 'melakukan', 'sosialisasi', 'dan', 'diskusi', 'dengan', 'klub', '-klub', 'bola', 'di', 'Indonesia', ',', 'termasuk', 'perwakilan', 'suporter', 'untuk', 'mendapatkan', 'saran', 'dan', 'masukan', ',', 'serta', 'komitmen', 'bersama', ',', \"''\", 'kata', 'Jokowi', '.', 'FIFA', 'dan', 'AFC', 'bakal', 'membantu', 'Selain', 'itu', ',', 'FIF', 'A', 'dan', 'AFC', 'bakal', 'membantu', 'membuat', 'pengaturan', 'jadwal', 'pertandingan', 'yang', 'memperhitungkan', 'potensi', '-potensi', 'risiko', '.', 'Jokowi', 'menyebut', 'Presiden', 'FIFA', 'akan', 'datang', 'ke', 'Indonesia', 'pada', 'Oktober', 'atau', 'November', 'untuk', 'memberikan', 'pendampingan', 'tersebut', 'serta', 'berdiskusi', 'dengan', 'pe', 'merintah', '.', 'Sebelumnya', ',', 'Menteri', 'BUMN', 'Erick', 'Thohir', 'membeberkan', 'agenda', 'pertemuannya', 'dengan', 'Gianni', 'Infantino', 'di', 'Qatar', ',', 'pada', 'Rabu', ',', '5', 'Oktober', '2022', '.', 'Pertemuan', 'itu', 'membahas', 'soal', 'tragedi', 'Kanjuruhan', 'dan', 'masa', 'depan', 'sepak', 'bola', 'Indonesia', '.', '``', 'Selain', 'menyampaikan', 'belasungkawa', 'atas', 'kejadian', 'di', 'Kanjuruhan', ',', 'kami', 'juga', 'membahas', 'banyak', 'hal', 'untuk', 'kemajuan', 'sepak', 'bola', 'di', 'masa', 'depan', ',', 'khususnya', 'di', 'Indonesia', ',', \"''\", 'kata', 'Erick', '.', 'Di', 'dalam', 'pert', 'emuan', 'itu', ',', 'menurut', 'Erick', ',', 'FIFA', 'melihat', 'adanya', 'potensi', ',', 'popularitas', ',', 'dan', 'perkembangan', 'sepak', 'bola', 'yang', 'besar', 'di', 'Indonesia', '.', 'Dikaitkan', 'dengan', 'pertumbuhan', 'ekonomi', 'nasional', 'yang', 'konstan', ',', 'pasar', 'yang', 'besar', ',', 'dan', 'kondisi', 'sosial', 'politik', 'yang', 'stabil', ',', 'FIFA', 'menyatakan', 'siap', 'memberikan', 'dukungan', 'maksimal', '.', 'Dukungan', 'itu', 'diberikan', 'FIFA', ',', 'kata', 'Erick', ',', 'agar', 'sepak', 'bola', 'yang', 'merupakan', 'olahraga', 'paling', 'populer', 'dan', 'dicintai', 'di', 'Indonesia', 'dapat', 'menjadi', 'kebanggaan', 'bangsa', 'dan', 'salah', 'satu', 'pilar', 'yang', 'berkontribusi', 'bagi', 'kemajuan', 'bangsa', '.', '``', 'Pada', 'kesempatan', 'ini', 'saya', 'juga', 'menyampaikan', 'salam', 'dan', 'surat', 'khusus', 'dari', 'Presiden', 'Joko', 'Widodo', 'kepada', 'Presiden', 'FIFA', ',', 'Gianni', 'Infantino', ',', \"''\", 'ucap', 'Erick', 'Thohir', '.', 'Adapun', 'Presiden', 'Jokowi', 'sebelumnya', 'telah', 'menelepon', 'Presiden', 'FIFA', 'Giovanni', 'Vincenzo', 'Infantino', 'untuk', 'membahas', 'tragedi', 'Kanjuruhan', 'setelah', 'pertandingan', 'sepak', 'bola', 'di', 'Stadion', 'Kanjuruhan', ',', 'Kabupaten', 'Malang', ',', 'Jawa', 'Timur', '.', 'M', 'JULNIS', 'FIRMANSYAH', 'Baca', ':', 'Kronologi', 'Tragedi', 'Kanjuruhan', 'Malang', 'yang', 'Dipaparkan', 'Kapolri']\n"
     ]
    }
   ],
   "source": [
    "word_tokens = word_tokenize(document)\n",
    "print(word_tokens)"
   ]
  },
  {
   "cell_type": "code",
   "execution_count": null,
   "metadata": {
    "colab": {
     "base_uri": "https://localhost:8080/"
    },
    "id": "k83NMA5NL3WE",
    "outputId": "4824619a-13eb-45a0-8544-0bbb930b31b6"
   },
   "outputs": [
    {
     "name": "stdout",
     "output_type": "stream",
     "text": [
      "['TEMPO.CO', ',', 'Jakarta', '-', 'Presiden', 'Joko', 'Widodo', 'Jokowi', 'mengklaim', 'Indonesia', 'dikenai', 'sanksi', 'Federasi', 'Sepak', 'Bola', 'Internasional', '(', 'FIFA', ')', 'Tragedi', 'Kanjuruhan', 'Malang', ',', 'Jawa', 'Timur', 'menelan', 'korban', 'jiwa', '131', 'orang', '.', 'Sebelumnya', ',', 'Jokowi', 'khawatir', 'Indonesia', 'dikenai', 'sanksi', 'menelepon', 'mengutus', 'Menteri', 'BUMN', 'Erick', 'Thohir', 'bertemu', 'Presiden', 'FIFA', 'Gianni', 'Invantino', '.', '``', 'Alhamdulillah', 'sepak', 'bola', 'Indonesia', 'dikenakan', 'sanksi', 'FIFA', 'FIFA', '-sama', 'pemerintah', 'membentuk', 'tim', 'transformasi', 'sepak', 'bola', 'Indonesia', 'FIFA', 'berkantor', 'Indonesia', 'proses', '-proses', ',', \"''\", 'Jokowi', 'keterangan', 'nya', ',', 'Sabtu', ',', '8', 'Oktober', '2022', '.', 'Jokowi', 'FIFA', ',', 'Asian', 'Football', 'Confederation', 'AFC', 'membantu', 'pemerintah', 'Indonesia', 'membangun', 'stadion', 'standar', 'keamanan', '.', 'Selain', ',', 'organisasi', 'sepak', 'bola', 'membantu', 'Indonesia', 'memformulasikan', 'standar', 'protokol', 'prosedur', 'pengamanan', 'kepolisian', 'berdasarkan', 'standar', 'keamanan', 'internasional', '.', '``', 'Kita', '-sama', 'sosialisasi', 'diskusi', 'klub', '-klub', 'bola', 'Indonesia', ',', 'perwakilan', 'suporter', 'saran', 'masukan', ',', 'komitmen', ',', \"''\", 'Jokowi', '.', 'FIFA', 'AFC', 'membantu', 'Selain', ',', 'FIF', 'A', 'AFC', 'membantu', 'pengaturan', 'jadwal', 'pertandingan', 'memperhitungkan', 'potensi', '-potensi', 'risiko', '.', 'Jokowi', 'menyebut', 'Presiden', 'FIFA', 'Indonesia', 'Oktober', 'November', 'pendampingan', 'berdiskusi', 'pe', 'merintah', '.', 'Sebelumnya', ',', 'Menteri', 'BUMN', 'Erick', 'Thohir', 'membeberkan', 'agenda', 'pertemuannya', 'Gianni', 'Infantino', 'Qatar', ',', 'Rabu', ',', '5', 'Oktober', '2022', '.', 'Pertemuan', 'membahas', 'tragedi', 'Kanjuruhan', 'sepak', 'bola', 'Indonesia', '.', '``', 'Selain', 'belasungkawa', 'kejadian', 'Kanjuruhan', ',', 'membahas', 'kemajuan', 'sepak', 'bola', ',', 'Indonesia', ',', \"''\", 'Erick', '.', 'Di', 'pert', 'emuan', ',', 'Erick', ',', 'FIFA', 'potensi', ',', 'popularitas', ',', 'perkembangan', 'sepak', 'bola', 'Indonesia', '.', 'Dikaitkan', 'pertumbuhan', 'ekonomi', 'nasional', 'konstan', ',', 'pasar', ',', 'kondisi', 'sosial', 'politik', 'stabil', ',', 'FIFA', 'dukungan', 'maksimal', '.', 'Dukungan', 'FIFA', ',', 'Erick', ',', 'sepak', 'bola', 'olahraga', 'populer', 'dicintai', 'Indonesia', 'kebanggaan', 'bangsa', 'salah', 'pilar', 'berkontribusi', 'kemajuan', 'bangsa', '.', '``', 'Pada', 'kesempatan', 'salam', 'surat', 'khusus', 'Presiden', 'Joko', 'Widodo', 'Presiden', 'FIFA', ',', 'Gianni', 'Infantino', ',', \"''\", 'Erick', 'Thohir', '.', 'Adapun', 'Presiden', 'Jokowi', 'menelepon', 'Presiden', 'FIFA', 'Giovanni', 'Vincenzo', 'Infantino', 'membahas', 'tragedi', 'Kanjuruhan', 'pertandingan', 'sepak', 'bola', 'Stadion', 'Kanjuruhan', ',', 'Kabupaten', 'Malang', ',', 'Jawa', 'Timur', '.', 'M', 'JULNIS', 'FIRMANSYAH', 'Baca', ':', 'Kronologi', 'Tragedi', 'Kanjuruhan', 'Malang', 'Dipaparkan', 'Kapolri']\n"
     ]
    }
   ],
   "source": [
    "stop_words = set(stopwords.words('indonesian'))\n",
    "word_tokens_no_stopwords = [w for w in word_tokens if not w in stop_words]\n",
    "print(word_tokens_no_stopwords)"
   ]
  },
  {
   "cell_type": "code",
   "execution_count": null,
   "metadata": {
    "id": "TkRQr00_NPPf"
   },
   "outputs": [],
   "source": [
    "import os\n",
    "from nltk.tokenize import RegexpTokenizer\n",
    "from sklearn.feature_extraction.text import TfidfVectorizer\n",
    "from sklearn.decomposition import TruncatedSVD"
   ]
  },
  {
   "cell_type": "code",
   "execution_count": null,
   "metadata": {
    "colab": {
     "base_uri": "https://localhost:8080/"
    },
    "id": "q-yBLrfwM6bo",
    "outputId": "8e88a6eb-7e88-4e3d-90b7-3d45c095d470"
   },
   "outputs": [
    {
     "data": {
      "text/plain": [
       "<315x141 sparse matrix of type '<class 'numpy.float64'>'\n",
       "\twith 253 stored elements in Compressed Sparse Row format>"
      ]
     },
     "execution_count": 80,
     "metadata": {},
     "output_type": "execute_result"
    }
   ],
   "source": [
    "# Vectorize document using TF-IDF\n",
    "tfidf = TfidfVectorizer(lowercase=True,\n",
    "                        ngram_range = (1,1))\n",
    "\n",
    "# Fit and Transform the documents\n",
    "train_data = tfidf.fit_transform(word_tokens_no_stopwords)\n",
    "train_data"
   ]
  },
  {
   "cell_type": "code",
   "execution_count": null,
   "metadata": {
    "colab": {
     "base_uri": "https://localhost:8080/"
    },
    "id": "ycGytov6Nrnw",
    "outputId": "f7fec77e-e0d6-46fe-dc70-b0ef48811428"
   },
   "outputs": [
    {
     "data": {
      "text/plain": [
       "array([[-1.76411253e-40, -6.05571388e-34,  1.29759521e-28, ...,\n",
       "         3.58308622e-47, -8.56927179e-42,  1.51873740e-41],\n",
       "       [-1.51182000e-41,  1.47888260e-41,  1.11202112e-29, ...,\n",
       "         2.78209105e-36,  7.09623423e-32,  1.36102024e-31],\n",
       "       [ 1.25877713e-38, -3.35498012e-36,  1.89228285e-26, ...,\n",
       "         2.61724925e-35, -6.23459073e-30,  1.10486958e-29],\n",
       "       ...,\n",
       "       [ 8.95224200e-82,  2.04375092e-71,  4.21445647e-81, ...,\n",
       "         3.81834753e-67,  2.24323584e-62, -7.88042045e-62],\n",
       "       [ 1.34216341e-82,  3.42339915e-72,  1.84045500e-81, ...,\n",
       "        -9.51542727e-66,  4.58719364e-62,  1.14798657e-62],\n",
       "       [-5.86541397e-51, -1.34215608e-40, -2.05482515e-41, ...,\n",
       "        -6.58044396e-19, -3.69409347e-31,  1.41803731e-31]])"
      ]
     },
     "execution_count": 81,
     "metadata": {},
     "output_type": "execute_result"
    }
   ],
   "source": [
    "num_components=10\n",
    "\n",
    "# Create SVD object\n",
    "lsa = TruncatedSVD(n_components=num_components, n_iter=100, random_state=42)\n",
    "\n",
    "# Fit SVD model on data\n",
    "lsa.fit_transform(train_data)\n",
    "\n",
    "# Get Singular values and Components \n",
    "Sigma = lsa.singular_values_ \n",
    "V_transpose = lsa.components_.T\n",
    "V_transpose"
   ]
  },
  {
   "cell_type": "code",
   "execution_count": null,
   "metadata": {
    "colab": {
     "base_uri": "https://localhost:8080/"
    },
    "id": "zs5JRGvqNw55",
    "outputId": "1dd7305e-5956-4cc4-84da-be1f47fd520c"
   },
   "outputs": [
    {
     "name": "stderr",
     "output_type": "stream",
     "text": [
      "WARNING:twisted:/usr/local/lib/python3.7/dist-packages/sklearn/utils/deprecation.py:87: builtins.FutureWarning: Function get_feature_names is deprecated; get_feature_names is deprecated in 1.0 and will be removed in 1.2. Please use get_feature_names_out instead.\n"
     ]
    },
    {
     "name": "stdout",
     "output_type": "stream",
     "text": [
      "Topic 1:  ['indonesia', 'fifa', 'bola', 'sepak', 'afc']\n",
      "Topic 2:  ['fifa', 'co', 'tempo', 'presiden', 'jokowi']\n",
      "Topic 3:  ['bola', 'sepak', 'adapun', 'jakarta', '131']\n",
      "Topic 4:  ['sepak', 'fifa', 'adapun', 'jakarta', 'presiden']\n",
      "Topic 5:  ['presiden', 'jokowi', 'indonesia', 'afc', 'standar']\n",
      "Topic 6:  ['jokowi', 'erick', 'agenda', 'selain', 'tragedi']\n",
      "Topic 7:  ['erick', 'membantu', 'potensi', 'oktober', 'infantino']\n",
      "Topic 8:  ['kanjuruhan', 'erick', 'membantu', 'joko', 'potensi']\n",
      "Topic 9:  ['tragedi', 'gianni', 'membahas', 'standar', 'selain']\n",
      "Topic 10:  ['membantu', 'tragedi', 'gianni', 'membahas', 'standar']\n"
     ]
    }
   ],
   "source": [
    "# Print the topics with their terms\n",
    "terms = tfidf.get_feature_names()\n",
    "\n",
    "for index, component in enumerate(lsa.components_):\n",
    "    zipped = zip(terms, component)\n",
    "    top_terms_key=sorted(zipped, key = lambda t: t[1], reverse=True)[:5]\n",
    "    top_terms_list=list(dict(top_terms_key).keys())\n",
    "    print(\"Topic \"+str(index+1)+\": \",top_terms_list)"
   ]
  },
  {
   "cell_type": "markdown",
   "metadata": {
    "id": "ox3XV8HhM-Ay"
   },
   "source": [
    "## Ensemble BaggingClassifier dengan Metode DecisionTreeClassifier "
   ]
  },
  {
   "cell_type": "code",
   "execution_count": null,
   "metadata": {
    "colab": {
     "base_uri": "https://localhost:8080/"
    },
    "id": "Ob_GCCfs4rAe",
    "outputId": "31559e51-3cff-4ca7-ac09-28edbf690368"
   },
   "outputs": [
    {
     "name": "stdout",
     "output_type": "stream",
     "text": [
      "accuracy :\n",
      "0.9\n"
     ]
    }
   ],
   "source": [
    "from sklearn import model_selection\n",
    "from sklearn.ensemble import BaggingClassifier\n",
    "from sklearn.tree import DecisionTreeClassifier\n",
    "import pandas as pd\n",
    "\n",
    "X = X_train\n",
    "Y = y_train\n",
    "\n",
    "# seed = 8\n",
    "# kfold = model_selection.KFold(n_splits = 3,\n",
    "# \t\t\t\t\trandom_state = seed)\n",
    "\n",
    "# initialize the base classifier\n",
    "base_cls = DecisionTreeClassifier()\n",
    "\n",
    "# no. of base classifier\n",
    "num_trees = 500\n",
    "\n",
    "# bagging classifier\n",
    "model = BaggingClassifier(base_estimator = base_cls,\n",
    "\t\t\t\t\t\tn_estimators = num_trees)\n",
    "\n",
    "results = model_selection.cross_val_score(model, X, Y)\n",
    "print(\"accuracy :\")\n",
    "print(results.mean())\n"
   ]
  },
  {
   "cell_type": "markdown",
   "metadata": {
    "id": "3XMpL9K77vdI"
   },
   "source": [
    "## Ensemble BaggingClassifier dengan Metode SVC "
   ]
  },
  {
   "cell_type": "code",
   "execution_count": null,
   "metadata": {
    "colab": {
     "base_uri": "https://localhost:8080/"
    },
    "id": "no2sVMes4zpO",
    "outputId": "58d3108d-b73b-4034-e90f-913f15cb6e3e"
   },
   "outputs": [
    {
     "name": "stdout",
     "output_type": "stream",
     "text": [
      "accuracy :\n",
      "0.7254545454545456\n"
     ]
    }
   ],
   "source": [
    "from sklearn import model_selection\n",
    "from sklearn.ensemble import BaggingClassifier\n",
    "from sklearn.svm import SVC\n",
    "import pandas as pd\n",
    "\n",
    "X = X_train\n",
    "Y = y_train\n",
    "\n",
    "# seed = 8\n",
    "# kfold = model_selection.KFold(n_splits = 3,\n",
    "# \t\t\t\t\trandom_state = seed)\n",
    "\n",
    "# initialize the base classifier\n",
    "base_cls = SVC()\n",
    "\n",
    "# no. of base classifier\n",
    "num_trees = 500\n",
    "\n",
    "# bagging classifier\n",
    "model = BaggingClassifier(base_estimator = base_cls,\n",
    "\t\t\t\t\t\tn_estimators = num_trees)\n",
    "\n",
    "results = model_selection.cross_val_score(model, X, Y)\n",
    "print(\"accuracy :\")\n",
    "print(results.mean())\n"
   ]
  },
  {
   "cell_type": "markdown",
   "metadata": {
    "id": "uXX0r6ov72yx"
   },
   "source": [
    "## Ensemble RandomForestClassifier dengan GridSearchCV"
   ]
  },
  {
   "cell_type": "code",
   "execution_count": null,
   "metadata": {
    "colab": {
     "base_uri": "https://localhost:8080/"
    },
    "id": "UuY-QjHg44eZ",
    "outputId": "fac07dab-b603-4f4c-af09-50aebf7b38b2"
   },
   "outputs": [
    {
     "data": {
      "text/plain": [
       "GridSearchCV(cv=5, estimator=RandomForestClassifier(random_state=42),\n",
       "             param_grid={'criterion': ['gini', 'entropy'],\n",
       "                         'max_depth': [4, 5, 6, 7, 8],\n",
       "                         'max_features': ['auto', 'sqrt', 'log2'],\n",
       "                         'n_estimators': [50, 100, 200, 500]})"
      ]
     },
     "execution_count": 85,
     "metadata": {},
     "output_type": "execute_result"
    }
   ],
   "source": [
    "from sklearn.ensemble import RandomForestClassifier\n",
    "from sklearn.datasets import make_classification\n",
    "from sklearn.model_selection import GridSearchCV\n",
    "# 'n_estimators': [i for i in range(800)],\n",
    "rfc=RandomForestClassifier(random_state=42)\n",
    "param_grid = { \n",
    "    'n_estimators': [50,100,200,500],\n",
    "    'max_features': ['auto', 'sqrt', 'log2'],\n",
    "    'max_depth' : [4,5,6,7,8],\n",
    "    'criterion' :['gini', 'entropy']\n",
    "}\n",
    "CV_rfc = GridSearchCV(estimator=rfc, param_grid=param_grid, cv= 5)\n",
    "CV_rfc.fit(X_train, y_train)"
   ]
  },
  {
   "cell_type": "code",
   "execution_count": null,
   "metadata": {
    "colab": {
     "base_uri": "https://localhost:8080/"
    },
    "id": "6WWx_M0T_CiX",
    "outputId": "305762f3-efcb-4dc5-8056-ea6859753900"
   },
   "outputs": [
    {
     "data": {
      "text/plain": [
       "{'criterion': 'gini',\n",
       " 'max_depth': 8,\n",
       " 'max_features': 'auto',\n",
       " 'n_estimators': 100}"
      ]
     },
     "execution_count": 86,
     "metadata": {},
     "output_type": "execute_result"
    }
   ],
   "source": [
    "CV_rfc.best_params_"
   ]
  },
  {
   "cell_type": "code",
   "execution_count": null,
   "metadata": {
    "colab": {
     "base_uri": "https://localhost:8080/"
    },
    "id": "BQQyFc-B_R0h",
    "outputId": "acd2ed18-4752-44b9-87c5-c770de567935"
   },
   "outputs": [
    {
     "data": {
      "text/plain": [
       "RandomForestClassifier(criterion='entropy', max_depth=8, random_state=42)"
      ]
     },
     "execution_count": 87,
     "metadata": {},
     "output_type": "execute_result"
    }
   ],
   "source": [
    "rfc1=RandomForestClassifier(random_state=42, max_features='auto', n_estimators= 100, max_depth=8, criterion='entropy')\n",
    "rfc1.fit(X_train, y_train)"
   ]
  },
  {
   "cell_type": "code",
   "execution_count": null,
   "metadata": {
    "colab": {
     "base_uri": "https://localhost:8080/"
    },
    "id": "DKMWRJMu_zia",
    "outputId": "a8b62139-2ba3-4bdd-cb96-a98b54d0d5d7"
   },
   "outputs": [
    {
     "name": "stdout",
     "output_type": "stream",
     "text": [
      "Accuracy for Random Forest on CV data:  0.7727272727272727\n"
     ]
    }
   ],
   "source": [
    "pred=rfc1.predict(X_test)\n",
    "print(\"Accuracy for Random Forest on CV data: \",accuracy_score(y_test,pred))"
   ]
  },
  {
   "cell_type": "markdown",
   "metadata": {
    "id": "J736zXgx8PgH"
   },
   "source": [
    "## Ensemble StackingClassifier "
   ]
  },
  {
   "cell_type": "code",
   "execution_count": null,
   "metadata": {
    "id": "sqOdt34g2l4d"
   },
   "outputs": [],
   "source": [
    "from sklearn.model_selection import train_test_split\n",
    "#membagi kumpulan data menjadi data pelatihan dan data pengujian.\n",
    "X_train,X_test,y_train,y_test=train_test_split(dj.drop(labels=['label'], axis=1),\n",
    "    dj['label'],\n",
    "    test_size=0.3,\n",
    "    random_state=0)"
   ]
  },
  {
   "cell_type": "code",
   "execution_count": null,
   "metadata": {
    "colab": {
     "base_uri": "https://localhost:8080/"
    },
    "id": "CLh0WMz1zoN8",
    "outputId": "08eafc48-5d8e-4169-c584-cbbee6ec1e2d"
   },
   "outputs": [
    {
     "data": {
      "text/plain": [
       "0.7272727272727273"
      ]
     },
     "execution_count": 113,
     "metadata": {},
     "output_type": "execute_result"
    }
   ],
   "source": [
    "from sklearn.datasets import load_iris\n",
    "from sklearn.ensemble import RandomForestClassifier\n",
    "from sklearn.svm import LinearSVC\n",
    "from sklearn.linear_model import LogisticRegression\n",
    "from sklearn.preprocessing import StandardScaler\n",
    "from sklearn.pipeline import make_pipeline\n",
    "from sklearn.ensemble import StackingClassifier\n",
    "from sklearn.naive_bayes import GaussianNB\n",
    "estimators = [\n",
    "    ('rf', RandomForestClassifier(random_state=42,max_features='auto', n_estimators= 100, max_depth=8, criterion='gini')),\n",
    "    ('rf2', RandomForestClassifier(random_state=42,max_features='auto', n_estimators= 100, max_depth=8, criterion='entropy'))\n",
    "]\n",
    "clf = StackingClassifier(\n",
    "    estimators=estimators, final_estimator=RandomForestClassifier(n_estimators=10, random_state=42)\n",
    ")\n",
    "# from sklearn.model_selection import train_test_split\n",
    "# X_train, X_test, y_train, y_test = train_test_split(\n",
    "#     X, y, stratify=y, random_state=42\n",
    "# )\n",
    "clf.fit(X_train.values, y_train.values).score(X_test.values, y_test.values)"
   ]
  }
 ],
 "metadata": {
  "colab": {
   "collapsed_sections": [],
   "provenance": []
  },
  "kernelspec": {
   "display_name": "Python 3",
   "language": "python",
   "name": "python3"
  },
  "language_info": {
   "codemirror_mode": {
    "name": "ipython",
    "version": 3
   },
   "file_extension": ".py",
   "mimetype": "text/x-python",
   "name": "python",
   "nbconvert_exporter": "python",
   "pygments_lexer": "ipython3",
   "version": "3.9.5"
  }
 },
 "nbformat": 4,
 "nbformat_minor": 0
}