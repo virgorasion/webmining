{
  "cells": [
    {
      "cell_type": "markdown",
      "metadata": {
        "id": "opswrvLT7W80"
      },
      "source": [
        "# Crawling Twitter Using Twint\n",
        "Twint adalah library python yang difungsikan untuk crawling data timeline di twitter dengan cara yang sangat mudah dan simpel.\n",
        "\n",
        "Karena kodingan ini dibuat di colab oleh karena itu kita sambungkan terlebih dahulu ke google drive kita."
      ]
    },
    {
      "cell_type": "markdown",
      "metadata": {
        "id": "nKhG3tv7p8D9"
      },
      "source": [
        "Hubungkan colab ke google drive"
      ]
    },
    {
      "cell_type": "code",
      "execution_count": 1,
      "metadata": {
        "colab": {
          "base_uri": "https://localhost:8080/"
        },
        "id": "4rtITdGL7yxE",
        "outputId": "8f54a912-a480-4fe1-ae8b-12959145b56f"
      },
      "outputs": [
        {
          "output_type": "stream",
          "name": "stdout",
          "text": [
            "Mounted at /content/drive\n"
          ]
        }
      ],
      "source": [
        "from google.colab import drive\n",
        "drive.mount('/content/drive')"
      ]
    },
    {
      "cell_type": "code",
      "execution_count": 2,
      "metadata": {
        "colab": {
          "base_uri": "https://localhost:8080/"
        },
        "id": "yUccO7_96XZm",
        "outputId": "e1598801-a17a-4df1-a48c-f5296a5ddd0e"
      },
      "outputs": [
        {
          "output_type": "stream",
          "name": "stdout",
          "text": [
            "/content/drive/MyDrive/webmining/TugasWebmining\n"
          ]
        }
      ],
      "source": [
        "%cd drive/MyDrive/webmining/TugasWebmining/"
      ]
    },
    {
      "cell_type": "markdown",
      "metadata": {
        "id": "Skmzz0oKqQCt"
      },
      "source": [
        "instalasi twint. lebih jelasnya dapat dilihat di link yang akan di cloning"
      ]
    },
    {
      "cell_type": "code",
      "execution_count": 3,
      "metadata": {
        "colab": {
          "base_uri": "https://localhost:8080/"
        },
        "id": "nhlXU2xY6Z06",
        "outputId": "d4d67dcb-a63c-4e6b-a097-e82aa690e518"
      },
      "outputs": [
        {
          "output_type": "stream",
          "name": "stdout",
          "text": [
            "fatal: destination path 'twint' already exists and is not an empty directory.\n",
            "/content/drive/MyDrive/webmining/TugasWebmining/twint\n",
            "Looking in indexes: https://pypi.org/simple, https://us-python.pkg.dev/colab-wheels/public/simple/\n",
            "Processing /content/drive/MyDrive/webmining/TugasWebmining/twint\n",
            "\u001b[33m  DEPRECATION: A future pip version will change local packages to be built in-place without first copying to a temporary directory. We recommend you use --use-feature=in-tree-build to test your packages with this new behavior before it becomes the default.\n",
            "   pip 21.3 will remove support for this functionality. You can find discussion regarding this at https://github.com/pypa/pip/issues/7555.\u001b[0m\n",
            "Requirement already satisfied: aiohttp in /usr/local/lib/python3.7/dist-packages (from -r requirements.txt (line 1)) (3.8.3)\n",
            "Collecting aiodns\n",
            "  Downloading aiodns-3.0.0-py3-none-any.whl (5.0 kB)\n",
            "Requirement already satisfied: beautifulsoup4 in /usr/local/lib/python3.7/dist-packages (from -r requirements.txt (line 3)) (4.6.3)\n",
            "Collecting cchardet\n",
            "  Downloading cchardet-2.1.7-cp37-cp37m-manylinux2010_x86_64.whl (263 kB)\n",
            "\u001b[K     |████████████████████████████████| 263 kB 5.2 MB/s \n",
            "\u001b[?25hCollecting dataclasses\n",
            "  Downloading dataclasses-0.6-py3-none-any.whl (14 kB)\n",
            "Collecting elasticsearch\n",
            "  Downloading elasticsearch-8.5.0-py3-none-any.whl (385 kB)\n",
            "\u001b[K     |████████████████████████████████| 385 kB 55.2 MB/s \n",
            "\u001b[?25hRequirement already satisfied: pysocks in /usr/local/lib/python3.7/dist-packages (from -r requirements.txt (line 7)) (1.7.1)\n",
            "Requirement already satisfied: pandas>=0.23.0 in /usr/local/lib/python3.7/dist-packages (from -r requirements.txt (line 8)) (1.3.5)\n",
            "Collecting aiohttp_socks<=0.4.1\n",
            "  Downloading aiohttp_socks-0.4.1-py3-none-any.whl (17 kB)\n",
            "Collecting schedule\n",
            "  Downloading schedule-1.1.0-py2.py3-none-any.whl (10 kB)\n",
            "Requirement already satisfied: geopy in /usr/local/lib/python3.7/dist-packages (from -r requirements.txt (line 11)) (1.17.0)\n",
            "Collecting fake-useragent\n",
            "  Downloading fake_useragent-0.1.14-py3-none-any.whl (13 kB)\n",
            "Collecting googletransx\n",
            "  Downloading googletransx-2.4.2.tar.gz (13 kB)\n",
            "Requirement already satisfied: python-dateutil>=2.7.3 in /usr/local/lib/python3.7/dist-packages (from pandas>=0.23.0->-r requirements.txt (line 8)) (2.8.2)\n",
            "Requirement already satisfied: pytz>=2017.3 in /usr/local/lib/python3.7/dist-packages (from pandas>=0.23.0->-r requirements.txt (line 8)) (2022.6)\n",
            "Requirement already satisfied: numpy>=1.17.3 in /usr/local/lib/python3.7/dist-packages (from pandas>=0.23.0->-r requirements.txt (line 8)) (1.21.6)\n",
            "Requirement already satisfied: attrs>=19.2.0 in /usr/local/lib/python3.7/dist-packages (from aiohttp_socks<=0.4.1->-r requirements.txt (line 9)) (22.1.0)\n",
            "Requirement already satisfied: yarl<2.0,>=1.0 in /usr/local/lib/python3.7/dist-packages (from aiohttp->-r requirements.txt (line 1)) (1.8.1)\n",
            "Requirement already satisfied: typing-extensions>=3.7.4 in /usr/local/lib/python3.7/dist-packages (from aiohttp->-r requirements.txt (line 1)) (4.1.1)\n",
            "Requirement already satisfied: charset-normalizer<3.0,>=2.0 in /usr/local/lib/python3.7/dist-packages (from aiohttp->-r requirements.txt (line 1)) (2.1.1)\n",
            "Requirement already satisfied: aiosignal>=1.1.2 in /usr/local/lib/python3.7/dist-packages (from aiohttp->-r requirements.txt (line 1)) (1.3.1)\n",
            "Requirement already satisfied: multidict<7.0,>=4.5 in /usr/local/lib/python3.7/dist-packages (from aiohttp->-r requirements.txt (line 1)) (6.0.2)\n",
            "Requirement already satisfied: async-timeout<5.0,>=4.0.0a3 in /usr/local/lib/python3.7/dist-packages (from aiohttp->-r requirements.txt (line 1)) (4.0.2)\n",
            "Requirement already satisfied: asynctest==0.13.0 in /usr/local/lib/python3.7/dist-packages (from aiohttp->-r requirements.txt (line 1)) (0.13.0)\n",
            "Requirement already satisfied: frozenlist>=1.1.1 in /usr/local/lib/python3.7/dist-packages (from aiohttp->-r requirements.txt (line 1)) (1.3.3)\n",
            "Requirement already satisfied: six>=1.5 in /usr/local/lib/python3.7/dist-packages (from python-dateutil>=2.7.3->pandas>=0.23.0->-r requirements.txt (line 8)) (1.15.0)\n",
            "Requirement already satisfied: idna>=2.0 in /usr/local/lib/python3.7/dist-packages (from yarl<2.0,>=1.0->aiohttp->-r requirements.txt (line 1)) (2.10)\n",
            "Collecting pycares>=4.0.0\n",
            "  Downloading pycares-4.2.2-cp37-cp37m-manylinux_2_17_x86_64.manylinux2014_x86_64.whl (288 kB)\n",
            "\u001b[K     |████████████████████████████████| 288 kB 49.7 MB/s \n",
            "\u001b[?25hRequirement already satisfied: cffi>=1.5.0 in /usr/local/lib/python3.7/dist-packages (from pycares>=4.0.0->aiodns->-r requirements.txt (line 2)) (1.15.1)\n",
            "Requirement already satisfied: pycparser in /usr/local/lib/python3.7/dist-packages (from cffi>=1.5.0->pycares>=4.0.0->aiodns->-r requirements.txt (line 2)) (2.21)\n",
            "Collecting elastic-transport<9,>=8\n",
            "  Downloading elastic_transport-8.4.0-py3-none-any.whl (59 kB)\n",
            "\u001b[K     |████████████████████████████████| 59 kB 4.0 MB/s \n",
            "\u001b[?25hRequirement already satisfied: certifi in /usr/local/lib/python3.7/dist-packages (from elastic-transport<9,>=8->elasticsearch->-r requirements.txt (line 6)) (2022.9.24)\n",
            "Collecting urllib3<2,>=1.26.2\n",
            "  Downloading urllib3-1.26.12-py2.py3-none-any.whl (140 kB)\n",
            "\u001b[K     |████████████████████████████████| 140 kB 41.4 MB/s \n",
            "\u001b[?25hRequirement already satisfied: geographiclib<2,>=1.49 in /usr/local/lib/python3.7/dist-packages (from geopy->-r requirements.txt (line 11)) (1.52)\n",
            "Requirement already satisfied: requests in /usr/local/lib/python3.7/dist-packages (from googletransx->-r requirements.txt (line 13)) (2.23.0)\n",
            "Collecting requests\n",
            "  Downloading requests-2.28.1-py3-none-any.whl (62 kB)\n",
            "\u001b[K     |████████████████████████████████| 62 kB 1.1 MB/s \n",
            "\u001b[?25hBuilding wheels for collected packages: twint, googletransx\n",
            "  Building wheel for twint (setup.py) ... \u001b[?25l\u001b[?25hdone\n",
            "  Created wheel for twint: filename=twint-2.1.21-py3-none-any.whl size=38871 sha256=70ea1b0298046fdff113873d521ebcfd1c95a094aadb6043877c7c7b8c5bb764\n",
            "  Stored in directory: /tmp/pip-ephem-wheel-cache-sdzw4yg6/wheels/5b/56/e5/d88ef7617f18280026a04abd4e64f32d24fb46833095919639\n",
            "  Building wheel for googletransx (setup.py) ... \u001b[?25l\u001b[?25hdone\n",
            "  Created wheel for googletransx: filename=googletransx-2.4.2-py3-none-any.whl size=15968 sha256=4a1d64159364ecaa5727d60681eab989928a4dca6b3a576051fd492e59a9cad3\n",
            "  Stored in directory: /root/.cache/pip/wheels/66/d5/b1/31104b338f7fd45aa8f7d22587765db06773b13df48a89735f\n",
            "Successfully built twint googletransx\n",
            "Installing collected packages: urllib3, requests, pycares, elastic-transport, schedule, googletransx, fake-useragent, elasticsearch, dataclasses, cchardet, aiohttp-socks, aiodns, twint\n",
            "  Attempting uninstall: urllib3\n",
            "    Found existing installation: urllib3 1.24.3\n",
            "    Uninstalling urllib3-1.24.3:\n",
            "      Successfully uninstalled urllib3-1.24.3\n",
            "  Attempting uninstall: requests\n",
            "    Found existing installation: requests 2.23.0\n",
            "    Uninstalling requests-2.23.0:\n",
            "      Successfully uninstalled requests-2.23.0\n",
            "Successfully installed aiodns-3.0.0 aiohttp-socks-0.4.1 cchardet-2.1.7 dataclasses-0.6 elastic-transport-8.4.0 elasticsearch-8.5.0 fake-useragent-0.1.14 googletransx-2.4.2 pycares-4.2.2 requests-2.28.1 schedule-1.1.0 twint-2.1.21 urllib3-1.26.12\n",
            "Looking in indexes: https://pypi.org/simple, https://us-python.pkg.dev/colab-wheels/public/simple/\n",
            "Requirement already satisfied: twint in /usr/local/lib/python3.7/dist-packages (2.1.21)\n",
            "Requirement already satisfied: dataclasses in /usr/local/lib/python3.7/dist-packages (from twint) (0.6)\n",
            "Requirement already satisfied: pysocks in /usr/local/lib/python3.7/dist-packages (from twint) (1.7.1)\n",
            "Requirement already satisfied: aiohttp in /usr/local/lib/python3.7/dist-packages (from twint) (3.8.3)\n",
            "Requirement already satisfied: pandas in /usr/local/lib/python3.7/dist-packages (from twint) (1.3.5)\n",
            "Requirement already satisfied: googletransx in /usr/local/lib/python3.7/dist-packages (from twint) (2.4.2)\n",
            "Requirement already satisfied: fake-useragent in /usr/local/lib/python3.7/dist-packages (from twint) (0.1.14)\n",
            "Requirement already satisfied: schedule in /usr/local/lib/python3.7/dist-packages (from twint) (1.1.0)\n",
            "Requirement already satisfied: aiohttp-socks in /usr/local/lib/python3.7/dist-packages (from twint) (0.4.1)\n",
            "Requirement already satisfied: elasticsearch in /usr/local/lib/python3.7/dist-packages (from twint) (8.5.0)\n",
            "Requirement already satisfied: beautifulsoup4 in /usr/local/lib/python3.7/dist-packages (from twint) (4.6.3)\n",
            "Requirement already satisfied: cchardet in /usr/local/lib/python3.7/dist-packages (from twint) (2.1.7)\n",
            "Requirement already satisfied: aiodns in /usr/local/lib/python3.7/dist-packages (from twint) (3.0.0)\n",
            "Requirement already satisfied: geopy in /usr/local/lib/python3.7/dist-packages (from twint) (1.17.0)\n",
            "Requirement already satisfied: pycares>=4.0.0 in /usr/local/lib/python3.7/dist-packages (from aiodns->twint) (4.2.2)\n",
            "Requirement already satisfied: cffi>=1.5.0 in /usr/local/lib/python3.7/dist-packages (from pycares>=4.0.0->aiodns->twint) (1.15.1)\n",
            "Requirement already satisfied: pycparser in /usr/local/lib/python3.7/dist-packages (from cffi>=1.5.0->pycares>=4.0.0->aiodns->twint) (2.21)\n",
            "Requirement already satisfied: asynctest==0.13.0 in /usr/local/lib/python3.7/dist-packages (from aiohttp->twint) (0.13.0)\n",
            "Requirement already satisfied: charset-normalizer<3.0,>=2.0 in /usr/local/lib/python3.7/dist-packages (from aiohttp->twint) (2.1.1)\n",
            "Requirement already satisfied: multidict<7.0,>=4.5 in /usr/local/lib/python3.7/dist-packages (from aiohttp->twint) (6.0.2)\n",
            "Requirement already satisfied: async-timeout<5.0,>=4.0.0a3 in /usr/local/lib/python3.7/dist-packages (from aiohttp->twint) (4.0.2)\n",
            "Requirement already satisfied: aiosignal>=1.1.2 in /usr/local/lib/python3.7/dist-packages (from aiohttp->twint) (1.3.1)\n",
            "Requirement already satisfied: yarl<2.0,>=1.0 in /usr/local/lib/python3.7/dist-packages (from aiohttp->twint) (1.8.1)\n",
            "Requirement already satisfied: frozenlist>=1.1.1 in /usr/local/lib/python3.7/dist-packages (from aiohttp->twint) (1.3.3)\n",
            "Requirement already satisfied: typing-extensions>=3.7.4 in /usr/local/lib/python3.7/dist-packages (from aiohttp->twint) (4.1.1)\n",
            "Requirement already satisfied: attrs>=17.3.0 in /usr/local/lib/python3.7/dist-packages (from aiohttp->twint) (22.1.0)\n",
            "Requirement already satisfied: idna>=2.0 in /usr/local/lib/python3.7/dist-packages (from yarl<2.0,>=1.0->aiohttp->twint) (2.10)\n",
            "Requirement already satisfied: elastic-transport<9,>=8 in /usr/local/lib/python3.7/dist-packages (from elasticsearch->twint) (8.4.0)\n",
            "Requirement already satisfied: urllib3<2,>=1.26.2 in /usr/local/lib/python3.7/dist-packages (from elastic-transport<9,>=8->elasticsearch->twint) (1.26.12)\n",
            "Requirement already satisfied: certifi in /usr/local/lib/python3.7/dist-packages (from elastic-transport<9,>=8->elasticsearch->twint) (2022.9.24)\n",
            "Requirement already satisfied: geographiclib<2,>=1.49 in /usr/local/lib/python3.7/dist-packages (from geopy->twint) (1.52)\n",
            "Requirement already satisfied: requests in /usr/local/lib/python3.7/dist-packages (from googletransx->twint) (2.28.1)\n",
            "Requirement already satisfied: pytz>=2017.3 in /usr/local/lib/python3.7/dist-packages (from pandas->twint) (2022.6)\n",
            "Requirement already satisfied: numpy>=1.17.3 in /usr/local/lib/python3.7/dist-packages (from pandas->twint) (1.21.6)\n",
            "Requirement already satisfied: python-dateutil>=2.7.3 in /usr/local/lib/python3.7/dist-packages (from pandas->twint) (2.8.2)\n",
            "Requirement already satisfied: six>=1.5 in /usr/local/lib/python3.7/dist-packages (from python-dateutil>=2.7.3->pandas->twint) (1.15.0)\n",
            "Looking in indexes: https://pypi.org/simple, https://us-python.pkg.dev/colab-wheels/public/simple/\n",
            "Collecting aiohttp==3.7.0\n",
            "  Downloading aiohttp-3.7.0-cp37-cp37m-manylinux2014_x86_64.whl (1.3 MB)\n",
            "\u001b[K     |████████████████████████████████| 1.3 MB 4.9 MB/s \n",
            "\u001b[?25hRequirement already satisfied: chardet<4.0,>=2.0 in /usr/local/lib/python3.7/dist-packages (from aiohttp==3.7.0) (3.0.4)\n",
            "Requirement already satisfied: multidict<7.0,>=4.5 in /usr/local/lib/python3.7/dist-packages (from aiohttp==3.7.0) (6.0.2)\n",
            "Collecting async-timeout<4.0,>=3.0\n",
            "  Downloading async_timeout-3.0.1-py3-none-any.whl (8.2 kB)\n",
            "Requirement already satisfied: attrs>=17.3.0 in /usr/local/lib/python3.7/dist-packages (from aiohttp==3.7.0) (22.1.0)\n",
            "Requirement already satisfied: yarl<2.0,>=1.0 in /usr/local/lib/python3.7/dist-packages (from aiohttp==3.7.0) (1.8.1)\n",
            "Requirement already satisfied: idna>=2.0 in /usr/local/lib/python3.7/dist-packages (from yarl<2.0,>=1.0->aiohttp==3.7.0) (2.10)\n",
            "Requirement already satisfied: typing-extensions>=3.7.4 in /usr/local/lib/python3.7/dist-packages (from yarl<2.0,>=1.0->aiohttp==3.7.0) (4.1.1)\n",
            "Installing collected packages: async-timeout, aiohttp\n",
            "  Attempting uninstall: async-timeout\n",
            "    Found existing installation: async-timeout 4.0.2\n",
            "    Uninstalling async-timeout-4.0.2:\n",
            "      Successfully uninstalled async-timeout-4.0.2\n",
            "  Attempting uninstall: aiohttp\n",
            "    Found existing installation: aiohttp 3.8.3\n",
            "    Uninstalling aiohttp-3.8.3:\n",
            "      Successfully uninstalled aiohttp-3.8.3\n",
            "Successfully installed aiohttp-3.7.0 async-timeout-3.0.1\n",
            "Looking in indexes: https://pypi.org/simple, https://us-python.pkg.dev/colab-wheels/public/simple/\n",
            "Collecting nest_asyncio\n",
            "  Downloading nest_asyncio-1.5.6-py3-none-any.whl (5.2 kB)\n",
            "Installing collected packages: nest-asyncio\n",
            "Successfully installed nest-asyncio-1.5.6\n"
          ]
        }
      ],
      "source": [
        "!git clone --depth=1 https://github.com/twintproject/twint.git\n",
        "%cd twint\n",
        "!pip3 install . -r requirements.txt\n",
        "!pip install twint\n",
        "!pip install aiohttp==3.7.0\n",
        "!pip install nest_asyncio\n",
        "import twint\n",
        "import nest_asyncio\n",
        "nest_asyncio.apply()"
      ]
    },
    {
      "cell_type": "markdown",
      "metadata": {
        "id": "qIjJbYhpqlcq"
      },
      "source": [
        "cek, apakah kita sudah berada di direktori yang diinginkan"
      ]
    },
    {
      "cell_type": "code",
      "execution_count": 4,
      "metadata": {
        "colab": {
          "base_uri": "https://localhost:8080/"
        },
        "id": "9RNMTnYfD26U",
        "outputId": "e5e3c9f3-819c-4e62-a0b4-93a6abcee48f"
      },
      "outputs": [
        {
          "output_type": "stream",
          "name": "stdout",
          "text": [
            "/content/drive/MyDrive/webmining/TugasWebmining/twint\n"
          ]
        }
      ],
      "source": [
        "!pwd"
      ]
    },
    {
      "cell_type": "markdown",
      "metadata": {
        "id": "JSpWZwH7qsvZ"
      },
      "source": [
        "Konfigurasi crawling dengan twint"
      ]
    },
    {
      "cell_type": "code",
      "execution_count": 8,
      "metadata": {
        "id": "YJ1uX_hL63QE",
        "outputId": "b0dd1118-3d8e-439f-b36c-5d42fd69641b",
        "colab": {
          "base_uri": "https://localhost:8080/"
        }
      },
      "outputs": [
        {
          "output_type": "stream",
          "name": "stdout",
          "text": [
            "1592510247507091456 2022-11-15 13:30:05 +0000 <KompasKlasika> Penyidik Polda Jatim periksa salah satu dokter di Malang sebagai saksi kasus tragedi Kanjuruhan. #Nusantara #AdadiKompas  https://t.co/49c2dZU4V7\n",
            "1592510153215315968 2022-11-15 13:29:42 +0000 <AkuComelYa_> Puan Maharani mendukung penuh upaya penegakan hukum atas tragedi kemanusiaan di Stadion Kanjuruhan, Malang, yang menewaskan 135 orang.  Puan juga mendukung pembenahan tata kelola dunia sepak bola nasional.  https://t.co/sqqWVhkzxd\n",
            "1592510079441727489 2022-11-15 13:29:25 +0000 <KanalnewsC> Ferry Paulus Resmi Jadi Dirut PT LIB  https://t.co/yH00iQ0iij lewat @KanalnewsC #PersijaJakarta #tragediKanjuruhan\n",
            "1592510012706164738 2022-11-15 13:29:09 +0000 <_alrouf_> @idextratime masih inget aksi positif fansnya saat tragedi kanjuruhan ga min\n",
            "1592509789032321029 2022-11-15 13:28:15 +0000 <AkuComelYa_> Ketua DPR RI Puan Maharani meminta masyarakat, khususnya di Jawa Timur, tidak mudah emosi dengan berita-berita terkait tragedi Kanjuruhan Malang.  https://t.co/x9ZZgQFKhg\n",
            "1592508836371640320 2022-11-15 13:24:28 +0000 <tugumalang_id> Penyidik Polda Jatim Periksa Dokter RS Wava Husada Terkait Tragedi Kanjuruhan  https://t.co/M2nJJKx3ti\n",
            "1592507815125401600 2022-11-15 13:20:25 +0000 <hariankompas> Penyidik Polda Jatim periksa salah satu dokter di Malang sebagai saksi kasus tragedi Kanjuruhan. #Nusantara #AdadiKompas  https://t.co/mIYLFV1MZP\n",
            "1592507713015029760 2022-11-15 13:20:00 +0000 <AuisGrand> Penyidik Polda Jatim periksa salah satu dokter di Malang sebagai saksi kasus tragedi Kanjuruhan. #Nusantara #AdadiKompas  https://t.co/FgA6kgilZI\n",
            "1592507335624515584 2022-11-15 13:18:30 +0000 <goonjol> Kalau urusan yg ginian cepat amat Giliran urusan  Tragedi Kanjuruhan Lama bangeettt\n",
            "1592505171640455172 2022-11-15 13:09:54 +0000 <ayaya73z> @MaduroPoiares I think it's related tp indonesia's security related to kanjuruhan tragedy.\n",
            "1592504958674669568 2022-11-15 13:09:04 +0000 <kompascom> Dokter RS Wava Husada diperiksa sebagai saksi dalam tragedi Kanjuruhan. Ia diperiksa oleh penyidik Polda Jatim di Polres Malang  https://t.co/RduFSquNXs\n",
            "1592504690884886532 2022-11-15 13:08:00 +0000 <AHYm4nt4bb> 40 Hari pasca tragedi Kanjuruhan, AHY ajak masyarakat kawal investigasi hingga tuntas  https://t.co/vQVhdFtzZv\n",
            "1592503473081577473 2022-11-15 13:03:09 +0000 <darkkkwallpaper> @detikcom @detik_jatim Kelanjutan tragedi kanjuruhan gimana ya? Kok mulai beralih ke bokep²an\n",
            "1592502698414608385 2022-11-15 13:00:05 +0000 <bb_sports_id> Ferry Paulus Jadi Direktur Utama PT LIB Gantikan Akhmad Hadian Lukita  https://t.co/9fWVjxgy8x baca juga berita dari media lainnya di Indonesia di  https://t.co/GkwQxScVr9   #ferrypaulus #ptlib #dirutptlib #akhmadhadianlukita #persijajakarta #liga1 #pssi #tragedikanjuruhan\n",
            "1592501939622875141 2022-11-15 12:57:04 +0000 <bb_sports_id> Hasil RUPS Luar Biasa PT LIB: Ferry Paulus Jadi Direktur Utama   https://t.co/K1sFo1GQXD baca juga berita dari media lainnya di Indonesia di  https://t.co/GkwQxScnBB   #ptlib #ferrypaulus #liga1 #akhmadhadianlukita #persijajakarta #tragedikanjuruhan #aremafc #persebayasurabaya\n",
            "1592500388720431111 2022-11-15 12:50:54 +0000 <tempodotco> 40 Hari Tragedi Kanjuruhan dalam Catatan Bambang Widjojanto dan Novel Baswedan #TempoNasional  https://t.co/5gLeuPf0OK\n",
            "1592499000762327042 2022-11-15 12:45:23 +0000 <gnrlfans> Kasian persija, dg squad yg memang layak juara sepertinya akan mendapat gelar si anak papa. Ya, menunjukkan bahwa MEREKA tidak ingin melihat fans \"adem\" Sekarang stlh tragedi kanjuruhan pilihannya ada di supporter sendiri, mau tetap tunduk &amp; diadu domba atau memilih untuk WARAS👀\n",
            "1592498442722766848 2022-11-15 12:43:10 +0000 <PusatKaosOrg> Busana bertema tragedi Kanjuruhan - ANTARA Jawa Timur  https://t.co/LSWGR6o5ls\n",
            "1592496935403130882 2022-11-15 12:37:11 +0000 <myusufkoto> @iIhamzada Puas tak puas kita lihat langkahnya. Semoga #tragediKanjuruhan bisa diusut dan jadi perbaikan dalam manajemen dan penyelenggaraan liga ke depan. Aamiin.\n",
            "1592493952342851585 2022-11-15 12:25:20 +0000 <AremaStats> Prestasi @PSSI era pak Iwan Bule:  Tragedi Kanjuruhan 135 korban meninggal, tragedi sepakbola nomor 2 paling mematikan di dunia.  #UsutTuntas #UsutTuntasTragediKanjuruhan\n",
            "1592493379967160321 2022-11-15 12:23:03 +0000 <VIVAbola> Sejuta Surat dari Aremania untuk Presiden Jokowi Menuntut Usut Tuntas Tragedi Kanjuruhan  https://t.co/g7cGb4lEN3\n",
            "1592493120520089602 2022-11-15 12:22:01 +0000 <takiyakiniku> @collegemenfess Bantu jawab klo dari segi bencana, tragedi Kanjuruhan bisa dianggap sbg bencana nder (sesuai dgn definisi bencana itu sendiri) dan termasuk ke bencana sosial. Nah klo dikaitkan ke krisis aku kurang paham sih, klo bencana sendiri bisa menyebabkan krisis, sepertinya bisa termasuk\n",
            "1592491579885125633 2022-11-15 12:15:54 +0000 <tugumalang_id> Keluarga 6 Korban Tragedi Kanjuruhan Sudah Melapor, Ada Kemungkinan Bertambah?  https://t.co/pWyY2W5K1Q\n",
            "1592491346090397696 2022-11-15 12:14:58 +0000 <BeritaSumbar_ID> AHY: Tragedi Kanjuruhan Insiden Yang Memilukan, Juga Memalukan    //oleh: Redaksi --- #BeritaSumbar   https://t.co/BXInAOFdq7\n",
            "1592489993473519616 2022-11-15 12:09:36 +0000 <kompascom> Kapolres Malang, AKBP Putu Kholis Aryana sudah menerima laporan dari keluarga korban tragedi Kanjuruhan. Selanjutnya, perkara laporan akan diproses  https://t.co/Yg43nIAZFV\n",
            "1592489354001539072 2022-11-15 12:07:03 +0000 <okezonenews> Usut Tragedi Kanjuruhan, Polda Jatim Mintai Keterangan 12 Dokter RS Wava Husada  #LengkapCepatBeritanya #BeritaTerkini  .  https://t.co/NVU7Fb6cUU\n",
            "1592489276012662785 2022-11-15 12:06:45 +0000 <aniblogsan6> @LuthAbid @GOAL_ID sebenarnya bapak ini aneh... sih kemarin sama pangeran waktu lagi bahas tragedi kanjuruhan di tv bapak ini termasuk setuju PSSI jadi tersangka dan pihak bertanggung jawab . walau gak ngotot tapi dia setuju kayaknya bapak ini udah kena stir setelah dari tv\n",
            "1592488474346946560 2022-11-15 12:03:33 +0000 <gwenkyute> Sosok @erickthohir digadang menjadi Ketum PSSI. Hal itu karena publik menilai ET mampu menjalankan peran tsb dgn sebelumnya ET berhasil menghapuskan sanksi yang akan diberikan FIFA kepada sepak bola Indonesia terkait tragedi Kanjuruhan bbrp waktu lalu.k    #BangkitBersamaET  https://t.co/JOwmGdPsQb\n",
            "1592488353467076610 2022-11-15 12:03:05 +0000 <bb_sports_id> Terpilih Sebagai Direktur Utama PT LIB, Ferry Paulus: Ini Jabatan Berat  https://t.co/nVwsQhi6qH baca juga berita dari media lainnya di Indonesia di  https://t.co/GkwQxScVr9   #ferrypaulus #lib #direkturutamaptlib #pssi #akhmadhadianlukita #tragedikanjuruhan\n",
            "1592487491294367744 2022-11-15 11:59:39 +0000 <Hiatus_Mantra> H+2 Tragedi Kanjuruhan, pas doa bersama di Stadion Gajayana, atas wafatnya dulur-dulurku kabeh.\n",
            "1592487449435181058 2022-11-15 11:59:29 +0000 <dym666s> #tragediKanjuruhan\n",
            "1592487300206067712 2022-11-15 11:58:54 +0000 <AmbarawaRini> Puan Maharani mendukung penuh upaya penegakan hukum atas tragedi kemanusiaan di Stadion Kanjuruhan, Malang, yang menewaskan 135 orang. Puan juga mendukung pembenahan tata kelola dunia sepak bola nasional.  https://t.co/uj4gpznV1u\n",
            "1592485895017738241 2022-11-15 11:53:18 +0000 <danishjnr> Tragedi Kanjuruhan pasti akan menjadi evalusi, lebih baik sekarang liga 1 digulirkan kembali #SepakbolaIndonesia  https://t.co/xY61GNbpVY\n",
            "1592485864265117699 2022-11-15 11:53:11 +0000 <cak_faris> Ada tulisan menarik dr Mbak Aulia, peneliti @pmbbrin, terkait dgn tragedi Kanjuruhan. Silahkan dibaca:  https://t.co/Q4TpLcjygq  Dear @PSSI, @pt_lib, @Indosiar, and @AremafcOfficial: \"commercialization of football establishes a pseudo-modern football with corrupt mismanagement.\"\n",
            "1592484457386110977 2022-11-15 11:47:36 +0000 <AremaFC> 33 pertanyaan dalam waktu 6 jam, dr. Harun diperiksa Polda Jatim terkait penanganan korban tragedi Kanjuruhan #UsutTuntasTragediKanjuruhan  #usuttuntas\n",
            "1592484441397813248 2022-11-15 11:47:32 +0000 <Elvina75368507> Sangat tidak adil banyak yang menyuruh pak uwan mundur dari jabatannya paska tragedi kanjuruhan, padahal kan semua terjadi juga bukan karenanya #SepakbolaIndonesia  https://t.co/O9v658kNdH\n",
            "1592483803464859649 2022-11-15 11:45:00 +0000 <celebdotid> Desainer Malang Usung Tragedi Kanjuruhan di Soerabaia Fashion Trend 2023, Berhasil Raih Juara #CelebritiesDotID #InfoCelebTerkini   https://t.co/3aFBc5HKFF\n",
            "1592483316728352768 2022-11-15 11:43:04 +0000 <Indostransfer> 🚨 BREAKING / OFFICIAL 🚨  Bpk. Ferry Paulus resmi diangkat sebagai Direktur Utama baru operator kompetisi Sepakbola Indonesia, PT. LIB.  FP mengisi jabatan Dirut PT. LIB yang kosong setelah Bpk. Ahmad Hadian Lukita ditetapkan sebagai salah satu tersangka Tragedi Kanjuruhan.  https://t.co/zr09wfdY9Q\n",
            "1592481379853697026 2022-11-15 11:35:22 +0000 <ivih_queen> Puan Maharani mendukung penuh upaya penegakan hukum atas tragedi kemanusiaan di Stadion Kanjuruhan, Malang, yang menewaskan 135 orang. Puan juga mendukung pembenahan tata kelola dunia sepak bola nasional.  https://t.co/HU0zUgn178\n",
            "1592481042845544448 2022-11-15 11:34:02 +0000 <ztstrw> Puan Maharani mendukung penuh upaya penegakan hukum atas tragedi kemanusiaan di Stadion Kanjuruhan, Malang, yang menewaskan 135 orang. Puan juga mendukung pembenahan tata kelola dunia sepak bola nasional.  https://t.co/gX6b6GvUw2\n",
            "1592480438349869056 2022-11-15 11:31:38 +0000 <PKSJaksel> Presiden PKS Tawarkan Beasiswa pada Korban Tragedi Kanjuruhan di Malang  https://t.co/eV3FvegQtK\n",
            "1592479000563449857 2022-11-15 11:25:55 +0000 <FarouqSh> PERKORO BOKEP SAT SET MASSZEEHHH, TRAGEDI KANJURUHAN APA KABAR?!\n",
            "1592478960646254597 2022-11-15 11:25:45 +0000 <idextratime> ✅ RESMI: PT LIB mengumumkan sejumlah pengurus baru setelah melakukan RUPS hari ini dan menunjuk Ferry Paulus menjadi Direktur Utama menggantikan Akhmad Hadiah Lukita (Tersangka Tragedi Kanjuruhan).  https://t.co/0kqPEVtVAf\n",
            "1592478520487600129 2022-11-15 11:24:00 +0000 <harinpras> Bab gembus ra dilaporke we tetep diselidiki. Apa kabar tragedi Kanjuruhan, ndan?\n",
            "1592478419656511488 2022-11-15 11:23:36 +0000 <Kuyangpargoyy> Puan Maharani mendukung penuh upaya penegakan hukum atas tragedi kemanusiaan di Stadion Kanjuruhan, Malang, yang menewaskan 135 orang. Puan juga mendukung pembenahan tata kelola dunia sepak bola nasional.  https://t.co/bozhxfVv0F\n",
            "1592476420210831363 2022-11-15 11:15:40 +0000 <humasrestaput> Identifikasi Korban Tragedi Kanjuruhan, Mabes Polri Turunkan Tim DVI ke Malang   https://t.co/eOsezgGqhh  https://t.co/IVYEVt2hcw\n",
            "1592476302531260416 2022-11-15 11:15:11 +0000 <humasrestaput> Kapolri : Usut Tuntas Tragedi Stadion Kanjuruhan   https://t.co/gOp6X8IiU2  https://t.co/hbMsmBQ8AY\n",
            "1592476176492425217 2022-11-15 11:14:41 +0000 <humasrestaput> Kapolri Jenguk Korban Luka Tragedi Stadion Kanjuruhan   https://t.co/TYJ0VfKioG  https://t.co/4oQrIrvKew\n",
            "1592475905615855617 2022-11-15 11:13:37 +0000 <humasrestaput> Polri Datangkan Langsung Kompolnas Usut Tuntas Tragedi Kanjuruhan   https://t.co/GY028U26x5  https://t.co/Ov3NuJQ696\n",
            "1592474107362570241 2022-11-15 11:06:28 +0000 <demokratbwi> DEMOKRAT SALURKAN BANTUAN KEPADA KELUARGA KORBAN TRAGEDI KANJURUHAN MALANG  https://t.co/QjlLglqNAd\n",
            "1592472505436209152 2022-11-15 11:00:06 +0000 <lk2fhui> [DIRUT IV: Lika-Liku Tragedi Kanjuruhan: Sebuah Perspektif Hukum]   Sepak bola, menjadi salah satu cabang olahraga yang digemari masyarakat dunia tidak terkecuali masyarakat indonesia.  https://t.co/QiIbsrNsqe\n",
            "1592468755606798336 2022-11-15 10:45:12 +0000 <jpnncom> #BeritaJatim  Nantikan Kelanjutan Liga 1, Arema FC Mulai Berlatih &amp; Pulih dari Tragedi Kanjuruhan @AremafcOfficial  #aremafc  #liga1  #komdispssi   https://t.co/xI4YShvB5I\n",
            "1592468211953725441 2022-11-15 10:43:03 +0000 <ex_AnakLolina> Mengenai Kanjuruhan, itu tragedi kemanusiaan, yg harus di salahkan adalah polisi yg tembakan gas air mata, bukan pucuk pimpinan PSSI yg harus di desak mundur.\n",
            "1592468134791118850 2022-11-15 10:42:44 +0000 <jawapos> Laporan Korban Tragedi Kanjuruhan Telah Diterima Polisi  https://t.co/OQtb8FrtAv\n",
            "1592463577360658433 2022-11-15 10:24:38 +0000 <tugumalang_id> Polres Malang Terima Laporan Keluarga 4 Korban Tragedi Kanjuruhan  https://t.co/E9liVDMOeL\n",
            "1592462770611818496 2022-11-15 10:21:25 +0000 <tribungugur> Ini namanya cacat logika. Semakin tahu kepentingan apa yang ada di belakang PSSI saat terbukti salah dan terlibat dalam Tragedi Kanjuruhan tapi malah banyak yang membela. #UsutTuntasTragediKanjuruhan\n",
            "1592462425319624707 2022-11-15 10:20:03 +0000 <jpnncom> Nantikan Kelanjutan Liga 1, Arema FC Mulai Berlatih &amp; Pulih dari Tragedi Kanjuruhan #aremafc  https://t.co/xI4YShME7I\n",
            "1592462231173795841 2022-11-15 10:19:17 +0000 <Zyanpatra> Nantikan Kelanjutan Liga 1, Arema FC Mulai Berlatih &amp; Pulih dari Tragedi Kanjuruhan  https://t.co/E9rGQST1uE\n",
            "1592460329438810112 2022-11-15 10:11:43 +0000 <Darma2711> AHY minta usut tuntas tragedi Kanjuruhan dan reformasi sepakbola Indonesia.  #AHYPemimpinPerubahan #DemokratProRakyat Jawa Timur Siap   https://t.co/4Fm0duBDsF\n",
            "1592460141643059200 2022-11-15 10:10:58 +0000 <Darma2711> AHY beri bantuan untuk korban tragedi Kanjuruhan.  #AHYPemimpinPerubahan #DemokratProRakyat Jawa Timur Siap  https://t.co/1ubEPyDxqc\n"
          ]
        }
      ],
      "source": [
        "# c = twint.Config()\n",
        "# c.Search = '#percumalaporpolisi'\n",
        "# c.Pandas = True\n",
        "# c.Limit = 60\n",
        "# c.Store_csv = True\n",
        "# c.Custom[\"tweet\"] = [\"tweet\"]\n",
        "# c.Output = \"dataset.csv\"\n",
        "# twint.run.Search(c)"
      ]
    },
    {
      "cell_type": "markdown",
      "source": [
        "## Penjelasan Pandas\n",
        "Pandas adalah sebuah library di Python yang berlisensi BSD dan open source yang menyediakan struktur data dan analisis data yang mudah digunakan. Pandas biasa digunakan untuk membuat tabel, mengubah dimensi data, mengecek data, dan lain sebagainya. Struktur data dasar pada Pandas dinamakan DataFrame, yang memudahkan kita untuk membaca sebuah file dengan banyak jenis format seperti file .txt, .csv, dan .tsv. Fitur ini akan menjadikannya table dan juga dapat mengolah suatu data dengan menggunakan operasi seperti join, distinct, group by, agregasi, dan teknik lainnya yang terdapat pada SQL"
      ],
      "metadata": {
        "id": "Tcto3DuKig4u"
      }
    },
    {
      "cell_type": "code",
      "execution_count": 11,
      "metadata": {
        "id": "LgNjkUMz7ekr"
      },
      "outputs": [],
      "source": [
        "import pandas as pd"
      ]
    },
    {
      "cell_type": "code",
      "execution_count": 16,
      "metadata": {
        "colab": {
          "base_uri": "https://localhost:8080/"
        },
        "id": "B7z4bz3eMMsW",
        "outputId": "3cc52876-58cc-488a-ef9d-bed2ed103e43"
      },
      "outputs": [
        {
          "output_type": "stream",
          "name": "stdout",
          "text": [
            "                                                 tweet\n",
            "0    @KakaKeyo @amayudiawan Gara2 diomongin najwa s...\n",
            "1    Rakyat lapor+kasih angpau, nggak di respon. Di...\n",
            "2    @fvczky @AREAJULID Dah gak kaget ya... Emang b...\n",
            "3    @lordyoda9090 @txtdrberseragam Kl soal pajak s...\n",
            "4    Anak Dis1ks4 Dan Dir4ntai, Baru Ditindak Setel...\n",
            "..                                                 ...\n",
            "199  Haduh....hastag #percumalaporpolisi viral lagi...\n",
            "200  Lagi, laporan terhadap kasus Perlindungan pada...\n",
            "201  hastag #percumalaporpolisi terkait dengan Perl...\n",
            "202               @txtdrberseragam #Percumalaporpolisi\n",
            "203  Viral lagi nih hastag #percumalaporpolisi. Gar...\n",
            "\n",
            "[204 rows x 1 columns]\n"
          ]
        }
      ],
      "source": [
        "import random\n",
        "read_file = pd.read_csv ('dataset.csv')\n",
        "# label = ['positif','netral','negatif']\n",
        "# data = []\n",
        "# for i in range(read_file.size):\n",
        "#   rand = random.randint(0,2)\n",
        "#   data.append(label[rand])\n",
        "# read_file.insert(1,\"label\",data, True)\n",
        "# pd.DataFrame(read_file).to_csv('dataset.csv')\n",
        "print(read_file)"
      ]
    },
    {
      "cell_type": "code",
      "execution_count": 19,
      "metadata": {
        "colab": {
          "base_uri": "https://localhost:8080/",
          "height": 424
        },
        "id": "RcEtyUSP7h_6",
        "outputId": "f436994f-6cd0-4f63-df89-54891884c18e"
      },
      "outputs": [
        {
          "output_type": "execute_result",
          "data": {
            "text/plain": [
              "                                                 tweet    label\n",
              "0    @KakaKeyo @amayudiawan Gara2 diomongin najwa s...   netral\n",
              "1    Rakyat lapor+kasih angpau, nggak di respon. Di...  positif\n",
              "2    @fvczky @AREAJULID Dah gak kaget ya... Emang b...   netral\n",
              "3    @lordyoda9090 @txtdrberseragam Kl soal pajak s...   netral\n",
              "4    Anak Dis1ks4 Dan Dir4ntai, Baru Ditindak Setel...   netral\n",
              "..                                                 ...      ...\n",
              "199  Haduh....hastag #percumalaporpolisi viral lagi...  positif\n",
              "200  Lagi, laporan terhadap kasus Perlindungan pada...  negatif\n",
              "201  hastag #percumalaporpolisi terkait dengan Perl...   netral\n",
              "202               @txtdrberseragam #Percumalaporpolisi  positif\n",
              "203  Viral lagi nih hastag #percumalaporpolisi. Gar...  negatif\n",
              "\n",
              "[204 rows x 2 columns]"
            ],
            "text/html": [
              "\n",
              "  <div id=\"df-ff0fccea-4175-437c-b715-2ac1fd5ebb72\">\n",
              "    <div class=\"colab-df-container\">\n",
              "      <div>\n",
              "<style scoped>\n",
              "    .dataframe tbody tr th:only-of-type {\n",
              "        vertical-align: middle;\n",
              "    }\n",
              "\n",
              "    .dataframe tbody tr th {\n",
              "        vertical-align: top;\n",
              "    }\n",
              "\n",
              "    .dataframe thead th {\n",
              "        text-align: right;\n",
              "    }\n",
              "</style>\n",
              "<table border=\"1\" class=\"dataframe\">\n",
              "  <thead>\n",
              "    <tr style=\"text-align: right;\">\n",
              "      <th></th>\n",
              "      <th>tweet</th>\n",
              "      <th>label</th>\n",
              "    </tr>\n",
              "  </thead>\n",
              "  <tbody>\n",
              "    <tr>\n",
              "      <th>0</th>\n",
              "      <td>@KakaKeyo @amayudiawan Gara2 diomongin najwa s...</td>\n",
              "      <td>netral</td>\n",
              "    </tr>\n",
              "    <tr>\n",
              "      <th>1</th>\n",
              "      <td>Rakyat lapor+kasih angpau, nggak di respon. Di...</td>\n",
              "      <td>positif</td>\n",
              "    </tr>\n",
              "    <tr>\n",
              "      <th>2</th>\n",
              "      <td>@fvczky @AREAJULID Dah gak kaget ya... Emang b...</td>\n",
              "      <td>netral</td>\n",
              "    </tr>\n",
              "    <tr>\n",
              "      <th>3</th>\n",
              "      <td>@lordyoda9090 @txtdrberseragam Kl soal pajak s...</td>\n",
              "      <td>netral</td>\n",
              "    </tr>\n",
              "    <tr>\n",
              "      <th>4</th>\n",
              "      <td>Anak Dis1ks4 Dan Dir4ntai, Baru Ditindak Setel...</td>\n",
              "      <td>netral</td>\n",
              "    </tr>\n",
              "    <tr>\n",
              "      <th>...</th>\n",
              "      <td>...</td>\n",
              "      <td>...</td>\n",
              "    </tr>\n",
              "    <tr>\n",
              "      <th>199</th>\n",
              "      <td>Haduh....hastag #percumalaporpolisi viral lagi...</td>\n",
              "      <td>positif</td>\n",
              "    </tr>\n",
              "    <tr>\n",
              "      <th>200</th>\n",
              "      <td>Lagi, laporan terhadap kasus Perlindungan pada...</td>\n",
              "      <td>negatif</td>\n",
              "    </tr>\n",
              "    <tr>\n",
              "      <th>201</th>\n",
              "      <td>hastag #percumalaporpolisi terkait dengan Perl...</td>\n",
              "      <td>netral</td>\n",
              "    </tr>\n",
              "    <tr>\n",
              "      <th>202</th>\n",
              "      <td>@txtdrberseragam #Percumalaporpolisi</td>\n",
              "      <td>positif</td>\n",
              "    </tr>\n",
              "    <tr>\n",
              "      <th>203</th>\n",
              "      <td>Viral lagi nih hastag #percumalaporpolisi. Gar...</td>\n",
              "      <td>negatif</td>\n",
              "    </tr>\n",
              "  </tbody>\n",
              "</table>\n",
              "<p>204 rows × 2 columns</p>\n",
              "</div>\n",
              "      <button class=\"colab-df-convert\" onclick=\"convertToInteractive('df-ff0fccea-4175-437c-b715-2ac1fd5ebb72')\"\n",
              "              title=\"Convert this dataframe to an interactive table.\"\n",
              "              style=\"display:none;\">\n",
              "        \n",
              "  <svg xmlns=\"http://www.w3.org/2000/svg\" height=\"24px\"viewBox=\"0 0 24 24\"\n",
              "       width=\"24px\">\n",
              "    <path d=\"M0 0h24v24H0V0z\" fill=\"none\"/>\n",
              "    <path d=\"M18.56 5.44l.94 2.06.94-2.06 2.06-.94-2.06-.94-.94-2.06-.94 2.06-2.06.94zm-11 1L8.5 8.5l.94-2.06 2.06-.94-2.06-.94L8.5 2.5l-.94 2.06-2.06.94zm10 10l.94 2.06.94-2.06 2.06-.94-2.06-.94-.94-2.06-.94 2.06-2.06.94z\"/><path d=\"M17.41 7.96l-1.37-1.37c-.4-.4-.92-.59-1.43-.59-.52 0-1.04.2-1.43.59L10.3 9.45l-7.72 7.72c-.78.78-.78 2.05 0 2.83L4 21.41c.39.39.9.59 1.41.59.51 0 1.02-.2 1.41-.59l7.78-7.78 2.81-2.81c.8-.78.8-2.07 0-2.86zM5.41 20L4 18.59l7.72-7.72 1.47 1.35L5.41 20z\"/>\n",
              "  </svg>\n",
              "      </button>\n",
              "      \n",
              "  <style>\n",
              "    .colab-df-container {\n",
              "      display:flex;\n",
              "      flex-wrap:wrap;\n",
              "      gap: 12px;\n",
              "    }\n",
              "\n",
              "    .colab-df-convert {\n",
              "      background-color: #E8F0FE;\n",
              "      border: none;\n",
              "      border-radius: 50%;\n",
              "      cursor: pointer;\n",
              "      display: none;\n",
              "      fill: #1967D2;\n",
              "      height: 32px;\n",
              "      padding: 0 0 0 0;\n",
              "      width: 32px;\n",
              "    }\n",
              "\n",
              "    .colab-df-convert:hover {\n",
              "      background-color: #E2EBFA;\n",
              "      box-shadow: 0px 1px 2px rgba(60, 64, 67, 0.3), 0px 1px 3px 1px rgba(60, 64, 67, 0.15);\n",
              "      fill: #174EA6;\n",
              "    }\n",
              "\n",
              "    [theme=dark] .colab-df-convert {\n",
              "      background-color: #3B4455;\n",
              "      fill: #D2E3FC;\n",
              "    }\n",
              "\n",
              "    [theme=dark] .colab-df-convert:hover {\n",
              "      background-color: #434B5C;\n",
              "      box-shadow: 0px 1px 3px 1px rgba(0, 0, 0, 0.15);\n",
              "      filter: drop-shadow(0px 1px 2px rgba(0, 0, 0, 0.3));\n",
              "      fill: #FFFFFF;\n",
              "    }\n",
              "  </style>\n",
              "\n",
              "      <script>\n",
              "        const buttonEl =\n",
              "          document.querySelector('#df-ff0fccea-4175-437c-b715-2ac1fd5ebb72 button.colab-df-convert');\n",
              "        buttonEl.style.display =\n",
              "          google.colab.kernel.accessAllowed ? 'block' : 'none';\n",
              "\n",
              "        async function convertToInteractive(key) {\n",
              "          const element = document.querySelector('#df-ff0fccea-4175-437c-b715-2ac1fd5ebb72');\n",
              "          const dataTable =\n",
              "            await google.colab.kernel.invokeFunction('convertToInteractive',\n",
              "                                                     [key], {});\n",
              "          if (!dataTable) return;\n",
              "\n",
              "          const docLinkHtml = 'Like what you see? Visit the ' +\n",
              "            '<a target=\"_blank\" href=https://colab.research.google.com/notebooks/data_table.ipynb>data table notebook</a>'\n",
              "            + ' to learn more about interactive tables.';\n",
              "          element.innerHTML = '';\n",
              "          dataTable['output_type'] = 'display_data';\n",
              "          await google.colab.output.renderOutput(dataTable, element);\n",
              "          const docLink = document.createElement('div');\n",
              "          docLink.innerHTML = docLinkHtml;\n",
              "          element.appendChild(docLink);\n",
              "        }\n",
              "      </script>\n",
              "    </div>\n",
              "  </div>\n",
              "  "
            ]
          },
          "metadata": {},
          "execution_count": 19
        }
      ],
      "source": [
        "data = pd.read_excel('dataset.xlsx')\n",
        "data"
      ]
    },
    {
      "cell_type": "markdown",
      "source": [
        "## Penjelasan NTLK dan Sastrawi\n",
        "- Naural Language Toolkit (NLTK) adalah sebuah platform yang digunakan untuk membangun program analisis teks. Platform ini awalnya dirilis oleh Steven Bird dan Edward Loper dalam kaitannya dengan mata kuliah komputasi linguistik di Universitas Pennsylvania pada tahun 2001. Ada sebuah buku pegangan untuk platform tersebut dengan judul Natural Language Processing dengan Python.\n",
        "\n",
        "- Python Sastrawi adalah pengembangan dari proyek PHP Sastrawi. Python Sastrawi merupakan library sederhana yang dapat mengubah kata berimbuhan bahasa Indonesia menjadi bentuk dasarnya."
      ],
      "metadata": {
        "id": "vA2Rl1HDjCvP"
      }
    },
    {
      "cell_type": "code",
      "execution_count": 35,
      "metadata": {
        "colab": {
          "base_uri": "https://localhost:8080/"
        },
        "id": "o1RCN75G7uuh",
        "outputId": "d50211c7-8c99-4dd1-db09-2ffea03176b9"
      },
      "outputs": [
        {
          "output_type": "stream",
          "name": "stdout",
          "text": [
            "Looking in indexes: https://pypi.org/simple, https://us-python.pkg.dev/colab-wheels/public/simple/\n",
            "Requirement already satisfied: nltk in /usr/local/lib/python3.7/dist-packages (3.7)\n",
            "Requirement already satisfied: click in /usr/local/lib/python3.7/dist-packages (from nltk) (7.1.2)\n",
            "Requirement already satisfied: joblib in /usr/local/lib/python3.7/dist-packages (from nltk) (1.2.0)\n",
            "Requirement already satisfied: tqdm in /usr/local/lib/python3.7/dist-packages (from nltk) (4.64.1)\n",
            "Requirement already satisfied: regex>=2021.8.3 in /usr/local/lib/python3.7/dist-packages (from nltk) (2022.6.2)\n",
            "Looking in indexes: https://pypi.org/simple, https://us-python.pkg.dev/colab-wheels/public/simple/\n",
            "Collecting Sastrawi\n",
            "  Downloading Sastrawi-1.0.1-py2.py3-none-any.whl (209 kB)\n",
            "\u001b[K     |████████████████████████████████| 209 kB 5.0 MB/s \n",
            "\u001b[?25hInstalling collected packages: Sastrawi\n",
            "Successfully installed Sastrawi-1.0.1\n"
          ]
        }
      ],
      "source": [
        "!pip install nltk\n",
        "!pip install Sastrawi"
      ]
    },
    {
      "cell_type": "markdown",
      "source": [
        "## Penjelasan RE\n",
        "Re atau Regular Expression module Python menyediakan seperangkat fungsi yang memungkinkan kita untuk mencari sebuah string untuk match (match)."
      ],
      "metadata": {
        "id": "CbHwGX8FjuPG"
      }
    },
    {
      "cell_type": "code",
      "execution_count": 36,
      "metadata": {
        "colab": {
          "base_uri": "https://localhost:8080/"
        },
        "id": "nw-x_DZk70gQ",
        "outputId": "e9c2d3ec-00e8-4f8e-e253-e185f4177d0d"
      },
      "outputs": [
        {
          "output_type": "stream",
          "name": "stderr",
          "text": [
            "[nltk_data] Downloading package punkt to /root/nltk_data...\n",
            "[nltk_data]   Unzipping tokenizers/punkt.zip.\n"
          ]
        }
      ],
      "source": [
        "import pandas as pd\n",
        "import re\n",
        "import numpy as np\n",
        "\n",
        "import nltk\n",
        "nltk.download('punkt')\n",
        "import string\n",
        "from Sastrawi.Stemmer.StemmerFactory import StemmerFactory"
      ]
    },
    {
      "cell_type": "markdown",
      "source": [
        "Proses stopword untuk menghilangkan kata-kata yang tidak perlu"
      ],
      "metadata": {
        "id": "JG1l8kqTkH2H"
      }
    },
    {
      "cell_type": "code",
      "execution_count": 37,
      "metadata": {
        "id": "_7eC7--o72mV"
      },
      "outputs": [],
      "source": [
        "def remove_stopwords(text):\n",
        "    with open('/content/drive/MyDrive/webmining/stopword.txt') as f:\n",
        "        stopwords = f.readlines()\n",
        "        stopwords = [x.strip() for x in stopwords]\n",
        "    \n",
        "    text = nltk.word_tokenize(text)\n",
        "    text = [word for word in text if word not in stopwords]\n",
        "                     \n",
        "    return text\n"
      ]
    },
    {
      "cell_type": "markdown",
      "source": [
        "Stemming untuk proses perubahan kata berimbuhan menjadi kata dasar"
      ],
      "metadata": {
        "id": "hQE4pgrqkNcK"
      }
    },
    {
      "cell_type": "code",
      "execution_count": 38,
      "metadata": {
        "id": "ZMLQTjv59Pbl"
      },
      "outputs": [],
      "source": [
        "def stemming(text):\n",
        "    factory = StemmerFactory()\n",
        "    stemmer = factory.create_stemmer()\n",
        "    \n",
        "    result = [stemmer.stem(word) for word in text]\n",
        "    \n",
        "    return result"
      ]
    },
    {
      "cell_type": "code",
      "execution_count": 39,
      "metadata": {
        "id": "5wOE5I1R9U7-"
      },
      "outputs": [],
      "source": [
        "def preprocessing(text):\n",
        "    #case folding\n",
        "    text = text.lower()\n",
        "\n",
        "    #remove non ASCII (emoticon, chinese word, .etc)\n",
        "    text = text.replace('\\\\t',\" \").replace('\\\\n',\" \").replace('\\\\u',\" \").replace('\\\\',\" \").replace('\\\\f',\" \").replace('\\\\r',\" \")\n",
        "\n",
        "    # remove non ASCII (emoticon, chinese word, .etc)\n",
        "    text = text.encode('ascii', 'replace').decode('ascii')\n",
        "\n",
        "    # remove mention, link, hashtag\n",
        "    text = ' '.join(re.sub(\"([@#][A-Za-z0-9]+)|(\\w+:\\/\\/\\S+)\",\" \", text).split())\n",
        "\n",
        "    #replace weird characters\n",
        "    text = text.replace('“', '\"')\n",
        "    text = text.replace('”', '\"')\n",
        "    text = text.replace('-', ' ')\n",
        "\n",
        "    #tokenization and remove stopwords\n",
        "    text = remove_stopwords(text)\n",
        "\n",
        "    #remove punctuation    \n",
        "    text = [''.join(c for c in s if c not in string.punctuation) for s in text]  \n",
        "\n",
        "    #stemming\n",
        "    text = stemming(text)\n",
        "\n",
        "    #remove empty string\n",
        "    text = list(filter(None, text))\n",
        "    return text"
      ]
    },
    {
      "cell_type": "code",
      "execution_count": 40,
      "metadata": {
        "id": "pQ1MM0Yn9d3p"
      },
      "outputs": [],
      "source": [
        "data['tweet'].apply(preprocessing).to_csv('preprocessing.csv')"
      ]
    },
    {
      "cell_type": "code",
      "execution_count": 41,
      "metadata": {
        "colab": {
          "base_uri": "https://localhost:8080/",
          "height": 424
        },
        "id": "3YEjCr0l6AiE",
        "outputId": "ea488ea2-3218-4a99-f6ea-2be3ff64dff6"
      },
      "outputs": [
        {
          "output_type": "execute_result",
          "data": {
            "text/plain": [
              "     Unnamed: 0                                              tweet\n",
              "0             0  ['gara2', 'diomongin', 'najwa', 'skrg', 'polis...\n",
              "1             1  ['rakyat', 'laporkasih', 'angpau', 'nggak', 'r...\n",
              "2             2    ['dah', 'gak', 'kaget', 'ya', 'emang', 'bener']\n",
              "3             3  ['kl', 'pajak', 'sm', 'polisi', 'beda', 'insta...\n",
              "4             4  ['anak', 'dis1ks4', 'dir4ntai', 'tindak', 'vir...\n",
              "..          ...                                                ...\n",
              "199         199  ['haduh', 'hastag', 'viral', 'lindung', 'anak'...\n",
              "200         200  ['lapor', 'lindung', 'anak', 'ga', 'gubris', '...\n",
              "201         201  ['hastag', 'kait', 'lindung', 'anak', 'nih', '...\n",
              "202         202                                                 []\n",
              "203         203  ['viral', 'nih', 'hastag', 'gara2nya', 'mbak2'...\n",
              "\n",
              "[204 rows x 2 columns]"
            ],
            "text/html": [
              "\n",
              "  <div id=\"df-7ce6e530-dea7-4083-ae13-b08801d20970\">\n",
              "    <div class=\"colab-df-container\">\n",
              "      <div>\n",
              "<style scoped>\n",
              "    .dataframe tbody tr th:only-of-type {\n",
              "        vertical-align: middle;\n",
              "    }\n",
              "\n",
              "    .dataframe tbody tr th {\n",
              "        vertical-align: top;\n",
              "    }\n",
              "\n",
              "    .dataframe thead th {\n",
              "        text-align: right;\n",
              "    }\n",
              "</style>\n",
              "<table border=\"1\" class=\"dataframe\">\n",
              "  <thead>\n",
              "    <tr style=\"text-align: right;\">\n",
              "      <th></th>\n",
              "      <th>Unnamed: 0</th>\n",
              "      <th>tweet</th>\n",
              "    </tr>\n",
              "  </thead>\n",
              "  <tbody>\n",
              "    <tr>\n",
              "      <th>0</th>\n",
              "      <td>0</td>\n",
              "      <td>['gara2', 'diomongin', 'najwa', 'skrg', 'polis...</td>\n",
              "    </tr>\n",
              "    <tr>\n",
              "      <th>1</th>\n",
              "      <td>1</td>\n",
              "      <td>['rakyat', 'laporkasih', 'angpau', 'nggak', 'r...</td>\n",
              "    </tr>\n",
              "    <tr>\n",
              "      <th>2</th>\n",
              "      <td>2</td>\n",
              "      <td>['dah', 'gak', 'kaget', 'ya', 'emang', 'bener']</td>\n",
              "    </tr>\n",
              "    <tr>\n",
              "      <th>3</th>\n",
              "      <td>3</td>\n",
              "      <td>['kl', 'pajak', 'sm', 'polisi', 'beda', 'insta...</td>\n",
              "    </tr>\n",
              "    <tr>\n",
              "      <th>4</th>\n",
              "      <td>4</td>\n",
              "      <td>['anak', 'dis1ks4', 'dir4ntai', 'tindak', 'vir...</td>\n",
              "    </tr>\n",
              "    <tr>\n",
              "      <th>...</th>\n",
              "      <td>...</td>\n",
              "      <td>...</td>\n",
              "    </tr>\n",
              "    <tr>\n",
              "      <th>199</th>\n",
              "      <td>199</td>\n",
              "      <td>['haduh', 'hastag', 'viral', 'lindung', 'anak'...</td>\n",
              "    </tr>\n",
              "    <tr>\n",
              "      <th>200</th>\n",
              "      <td>200</td>\n",
              "      <td>['lapor', 'lindung', 'anak', 'ga', 'gubris', '...</td>\n",
              "    </tr>\n",
              "    <tr>\n",
              "      <th>201</th>\n",
              "      <td>201</td>\n",
              "      <td>['hastag', 'kait', 'lindung', 'anak', 'nih', '...</td>\n",
              "    </tr>\n",
              "    <tr>\n",
              "      <th>202</th>\n",
              "      <td>202</td>\n",
              "      <td>[]</td>\n",
              "    </tr>\n",
              "    <tr>\n",
              "      <th>203</th>\n",
              "      <td>203</td>\n",
              "      <td>['viral', 'nih', 'hastag', 'gara2nya', 'mbak2'...</td>\n",
              "    </tr>\n",
              "  </tbody>\n",
              "</table>\n",
              "<p>204 rows × 2 columns</p>\n",
              "</div>\n",
              "      <button class=\"colab-df-convert\" onclick=\"convertToInteractive('df-7ce6e530-dea7-4083-ae13-b08801d20970')\"\n",
              "              title=\"Convert this dataframe to an interactive table.\"\n",
              "              style=\"display:none;\">\n",
              "        \n",
              "  <svg xmlns=\"http://www.w3.org/2000/svg\" height=\"24px\"viewBox=\"0 0 24 24\"\n",
              "       width=\"24px\">\n",
              "    <path d=\"M0 0h24v24H0V0z\" fill=\"none\"/>\n",
              "    <path d=\"M18.56 5.44l.94 2.06.94-2.06 2.06-.94-2.06-.94-.94-2.06-.94 2.06-2.06.94zm-11 1L8.5 8.5l.94-2.06 2.06-.94-2.06-.94L8.5 2.5l-.94 2.06-2.06.94zm10 10l.94 2.06.94-2.06 2.06-.94-2.06-.94-.94-2.06-.94 2.06-2.06.94z\"/><path d=\"M17.41 7.96l-1.37-1.37c-.4-.4-.92-.59-1.43-.59-.52 0-1.04.2-1.43.59L10.3 9.45l-7.72 7.72c-.78.78-.78 2.05 0 2.83L4 21.41c.39.39.9.59 1.41.59.51 0 1.02-.2 1.41-.59l7.78-7.78 2.81-2.81c.8-.78.8-2.07 0-2.86zM5.41 20L4 18.59l7.72-7.72 1.47 1.35L5.41 20z\"/>\n",
              "  </svg>\n",
              "      </button>\n",
              "      \n",
              "  <style>\n",
              "    .colab-df-container {\n",
              "      display:flex;\n",
              "      flex-wrap:wrap;\n",
              "      gap: 12px;\n",
              "    }\n",
              "\n",
              "    .colab-df-convert {\n",
              "      background-color: #E8F0FE;\n",
              "      border: none;\n",
              "      border-radius: 50%;\n",
              "      cursor: pointer;\n",
              "      display: none;\n",
              "      fill: #1967D2;\n",
              "      height: 32px;\n",
              "      padding: 0 0 0 0;\n",
              "      width: 32px;\n",
              "    }\n",
              "\n",
              "    .colab-df-convert:hover {\n",
              "      background-color: #E2EBFA;\n",
              "      box-shadow: 0px 1px 2px rgba(60, 64, 67, 0.3), 0px 1px 3px 1px rgba(60, 64, 67, 0.15);\n",
              "      fill: #174EA6;\n",
              "    }\n",
              "\n",
              "    [theme=dark] .colab-df-convert {\n",
              "      background-color: #3B4455;\n",
              "      fill: #D2E3FC;\n",
              "    }\n",
              "\n",
              "    [theme=dark] .colab-df-convert:hover {\n",
              "      background-color: #434B5C;\n",
              "      box-shadow: 0px 1px 3px 1px rgba(0, 0, 0, 0.15);\n",
              "      filter: drop-shadow(0px 1px 2px rgba(0, 0, 0, 0.3));\n",
              "      fill: #FFFFFF;\n",
              "    }\n",
              "  </style>\n",
              "\n",
              "      <script>\n",
              "        const buttonEl =\n",
              "          document.querySelector('#df-7ce6e530-dea7-4083-ae13-b08801d20970 button.colab-df-convert');\n",
              "        buttonEl.style.display =\n",
              "          google.colab.kernel.accessAllowed ? 'block' : 'none';\n",
              "\n",
              "        async function convertToInteractive(key) {\n",
              "          const element = document.querySelector('#df-7ce6e530-dea7-4083-ae13-b08801d20970');\n",
              "          const dataTable =\n",
              "            await google.colab.kernel.invokeFunction('convertToInteractive',\n",
              "                                                     [key], {});\n",
              "          if (!dataTable) return;\n",
              "\n",
              "          const docLinkHtml = 'Like what you see? Visit the ' +\n",
              "            '<a target=\"_blank\" href=https://colab.research.google.com/notebooks/data_table.ipynb>data table notebook</a>'\n",
              "            + ' to learn more about interactive tables.';\n",
              "          element.innerHTML = '';\n",
              "          dataTable['output_type'] = 'display_data';\n",
              "          await google.colab.output.renderOutput(dataTable, element);\n",
              "          const docLink = document.createElement('div');\n",
              "          docLink.innerHTML = docLinkHtml;\n",
              "          element.appendChild(docLink);\n",
              "        }\n",
              "      </script>\n",
              "    </div>\n",
              "  </div>\n",
              "  "
            ]
          },
          "metadata": {},
          "execution_count": 41
        }
      ],
      "source": [
        "pd.read_csv('preprocessing.csv')"
      ]
    },
    {
      "cell_type": "markdown",
      "source": [
        "Tokenizing adalah proses pemisahan teks menjadi potongan-potongan yang disebut sebagai token untuk kemudian di analisa. Kata, angka, simbol, tanda baca dan entitas penting lainnya dapat dianggap sebagai token."
      ],
      "metadata": {
        "id": "nZ8gRouHki6t"
      }
    },
    {
      "cell_type": "code",
      "execution_count": 42,
      "metadata": {
        "id": "BdAjEGCs9iM_",
        "outputId": "a19031b4-cf1f-43e7-81b3-f8d9f51e425a",
        "colab": {
          "base_uri": "https://localhost:8080/",
          "height": 424
        }
      },
      "outputs": [
        {
          "output_type": "execute_result",
          "data": {
            "text/plain": [
              "     Unnamed: 0                                              tweet\n",
              "0             0  ['gara2', 'diomongin', 'najwa', 'skrg', 'polis...\n",
              "1             1  ['rakyat', 'laporkasih', 'angpau', 'nggak', 'r...\n",
              "2             2    ['dah', 'gak', 'kaget', 'ya', 'emang', 'bener']\n",
              "3             3  ['kl', 'pajak', 'sm', 'polisi', 'beda', 'insta...\n",
              "4             4  ['anak', 'dis1ks4', 'dir4ntai', 'tindak', 'vir...\n",
              "..          ...                                                ...\n",
              "199         199  ['haduh', 'hastag', 'viral', 'lindung', 'anak'...\n",
              "200         200  ['lapor', 'lindung', 'anak', 'ga', 'gubris', '...\n",
              "201         201  ['hastag', 'kait', 'lindung', 'anak', 'nih', '...\n",
              "202         202                                                 []\n",
              "203         203  ['viral', 'nih', 'hastag', 'gara2nya', 'mbak2'...\n",
              "\n",
              "[204 rows x 2 columns]"
            ],
            "text/html": [
              "\n",
              "  <div id=\"df-1549e933-fab5-4b2c-b0a8-221fbcee2404\">\n",
              "    <div class=\"colab-df-container\">\n",
              "      <div>\n",
              "<style scoped>\n",
              "    .dataframe tbody tr th:only-of-type {\n",
              "        vertical-align: middle;\n",
              "    }\n",
              "\n",
              "    .dataframe tbody tr th {\n",
              "        vertical-align: top;\n",
              "    }\n",
              "\n",
              "    .dataframe thead th {\n",
              "        text-align: right;\n",
              "    }\n",
              "</style>\n",
              "<table border=\"1\" class=\"dataframe\">\n",
              "  <thead>\n",
              "    <tr style=\"text-align: right;\">\n",
              "      <th></th>\n",
              "      <th>Unnamed: 0</th>\n",
              "      <th>tweet</th>\n",
              "    </tr>\n",
              "  </thead>\n",
              "  <tbody>\n",
              "    <tr>\n",
              "      <th>0</th>\n",
              "      <td>0</td>\n",
              "      <td>['gara2', 'diomongin', 'najwa', 'skrg', 'polis...</td>\n",
              "    </tr>\n",
              "    <tr>\n",
              "      <th>1</th>\n",
              "      <td>1</td>\n",
              "      <td>['rakyat', 'laporkasih', 'angpau', 'nggak', 'r...</td>\n",
              "    </tr>\n",
              "    <tr>\n",
              "      <th>2</th>\n",
              "      <td>2</td>\n",
              "      <td>['dah', 'gak', 'kaget', 'ya', 'emang', 'bener']</td>\n",
              "    </tr>\n",
              "    <tr>\n",
              "      <th>3</th>\n",
              "      <td>3</td>\n",
              "      <td>['kl', 'pajak', 'sm', 'polisi', 'beda', 'insta...</td>\n",
              "    </tr>\n",
              "    <tr>\n",
              "      <th>4</th>\n",
              "      <td>4</td>\n",
              "      <td>['anak', 'dis1ks4', 'dir4ntai', 'tindak', 'vir...</td>\n",
              "    </tr>\n",
              "    <tr>\n",
              "      <th>...</th>\n",
              "      <td>...</td>\n",
              "      <td>...</td>\n",
              "    </tr>\n",
              "    <tr>\n",
              "      <th>199</th>\n",
              "      <td>199</td>\n",
              "      <td>['haduh', 'hastag', 'viral', 'lindung', 'anak'...</td>\n",
              "    </tr>\n",
              "    <tr>\n",
              "      <th>200</th>\n",
              "      <td>200</td>\n",
              "      <td>['lapor', 'lindung', 'anak', 'ga', 'gubris', '...</td>\n",
              "    </tr>\n",
              "    <tr>\n",
              "      <th>201</th>\n",
              "      <td>201</td>\n",
              "      <td>['hastag', 'kait', 'lindung', 'anak', 'nih', '...</td>\n",
              "    </tr>\n",
              "    <tr>\n",
              "      <th>202</th>\n",
              "      <td>202</td>\n",
              "      <td>[]</td>\n",
              "    </tr>\n",
              "    <tr>\n",
              "      <th>203</th>\n",
              "      <td>203</td>\n",
              "      <td>['viral', 'nih', 'hastag', 'gara2nya', 'mbak2'...</td>\n",
              "    </tr>\n",
              "  </tbody>\n",
              "</table>\n",
              "<p>204 rows × 2 columns</p>\n",
              "</div>\n",
              "      <button class=\"colab-df-convert\" onclick=\"convertToInteractive('df-1549e933-fab5-4b2c-b0a8-221fbcee2404')\"\n",
              "              title=\"Convert this dataframe to an interactive table.\"\n",
              "              style=\"display:none;\">\n",
              "        \n",
              "  <svg xmlns=\"http://www.w3.org/2000/svg\" height=\"24px\"viewBox=\"0 0 24 24\"\n",
              "       width=\"24px\">\n",
              "    <path d=\"M0 0h24v24H0V0z\" fill=\"none\"/>\n",
              "    <path d=\"M18.56 5.44l.94 2.06.94-2.06 2.06-.94-2.06-.94-.94-2.06-.94 2.06-2.06.94zm-11 1L8.5 8.5l.94-2.06 2.06-.94-2.06-.94L8.5 2.5l-.94 2.06-2.06.94zm10 10l.94 2.06.94-2.06 2.06-.94-2.06-.94-.94-2.06-.94 2.06-2.06.94z\"/><path d=\"M17.41 7.96l-1.37-1.37c-.4-.4-.92-.59-1.43-.59-.52 0-1.04.2-1.43.59L10.3 9.45l-7.72 7.72c-.78.78-.78 2.05 0 2.83L4 21.41c.39.39.9.59 1.41.59.51 0 1.02-.2 1.41-.59l7.78-7.78 2.81-2.81c.8-.78.8-2.07 0-2.86zM5.41 20L4 18.59l7.72-7.72 1.47 1.35L5.41 20z\"/>\n",
              "  </svg>\n",
              "      </button>\n",
              "      \n",
              "  <style>\n",
              "    .colab-df-container {\n",
              "      display:flex;\n",
              "      flex-wrap:wrap;\n",
              "      gap: 12px;\n",
              "    }\n",
              "\n",
              "    .colab-df-convert {\n",
              "      background-color: #E8F0FE;\n",
              "      border: none;\n",
              "      border-radius: 50%;\n",
              "      cursor: pointer;\n",
              "      display: none;\n",
              "      fill: #1967D2;\n",
              "      height: 32px;\n",
              "      padding: 0 0 0 0;\n",
              "      width: 32px;\n",
              "    }\n",
              "\n",
              "    .colab-df-convert:hover {\n",
              "      background-color: #E2EBFA;\n",
              "      box-shadow: 0px 1px 2px rgba(60, 64, 67, 0.3), 0px 1px 3px 1px rgba(60, 64, 67, 0.15);\n",
              "      fill: #174EA6;\n",
              "    }\n",
              "\n",
              "    [theme=dark] .colab-df-convert {\n",
              "      background-color: #3B4455;\n",
              "      fill: #D2E3FC;\n",
              "    }\n",
              "\n",
              "    [theme=dark] .colab-df-convert:hover {\n",
              "      background-color: #434B5C;\n",
              "      box-shadow: 0px 1px 3px 1px rgba(0, 0, 0, 0.15);\n",
              "      filter: drop-shadow(0px 1px 2px rgba(0, 0, 0, 0.3));\n",
              "      fill: #FFFFFF;\n",
              "    }\n",
              "  </style>\n",
              "\n",
              "      <script>\n",
              "        const buttonEl =\n",
              "          document.querySelector('#df-1549e933-fab5-4b2c-b0a8-221fbcee2404 button.colab-df-convert');\n",
              "        buttonEl.style.display =\n",
              "          google.colab.kernel.accessAllowed ? 'block' : 'none';\n",
              "\n",
              "        async function convertToInteractive(key) {\n",
              "          const element = document.querySelector('#df-1549e933-fab5-4b2c-b0a8-221fbcee2404');\n",
              "          const dataTable =\n",
              "            await google.colab.kernel.invokeFunction('convertToInteractive',\n",
              "                                                     [key], {});\n",
              "          if (!dataTable) return;\n",
              "\n",
              "          const docLinkHtml = 'Like what you see? Visit the ' +\n",
              "            '<a target=\"_blank\" href=https://colab.research.google.com/notebooks/data_table.ipynb>data table notebook</a>'\n",
              "            + ' to learn more about interactive tables.';\n",
              "          element.innerHTML = '';\n",
              "          dataTable['output_type'] = 'display_data';\n",
              "          await google.colab.output.renderOutput(dataTable, element);\n",
              "          const docLink = document.createElement('div');\n",
              "          docLink.innerHTML = docLinkHtml;\n",
              "          element.appendChild(docLink);\n",
              "        }\n",
              "      </script>\n",
              "    </div>\n",
              "  </div>\n",
              "  "
            ]
          },
          "metadata": {},
          "execution_count": 42
        }
      ],
      "source": [
        "from sklearn.feature_extraction.text import TfidfTransformer, TfidfVectorizer, CountVectorizer\n",
        "dataTextPre = pd.read_csv('/content/drive/MyDrive/webmining/TugasWebmining/twint/preprocessing.csv')\n",
        "vectorizer = CountVectorizer(min_df=1)\n",
        "bag = vectorizer.fit_transform(dataTextPre['tweet'])\n",
        "dataTextPre"
      ]
    },
    {
      "cell_type": "code",
      "execution_count": 43,
      "metadata": {
        "colab": {
          "base_uri": "https://localhost:8080/"
        },
        "id": "2PpUM-M_9oC3",
        "outputId": "659bfc5c-4c62-4986-ae53-7f34bd2d07aa"
      },
      "outputs": [
        {
          "output_type": "execute_result",
          "data": {
            "text/plain": [
              "(204, 269)"
            ]
          },
          "metadata": {},
          "execution_count": 43
        }
      ],
      "source": [
        "matrik_vsm=bag.toarray()\n",
        "matrik_vsm.shape"
      ]
    },
    {
      "cell_type": "code",
      "execution_count": 44,
      "metadata": {
        "colab": {
          "base_uri": "https://localhost:8080/"
        },
        "id": "Gmwgj68v9rV3",
        "outputId": "2158f9e8-1737-466d-a134-a00042dfabf0"
      },
      "outputs": [
        {
          "output_type": "execute_result",
          "data": {
            "text/plain": [
              "array([0, 0, 0, 0, 2, 0, 0, 0, 0, 0, 1, 0, 0, 0, 0, 0, 0, 0, 0, 0, 1, 0,\n",
              "       0, 0, 0, 0, 0, 0, 0, 1, 0, 0, 0, 0, 0, 0, 0, 0, 0, 0, 0, 0, 0, 1,\n",
              "       1, 1, 0, 0, 0, 0, 0, 0, 0, 0, 0, 0, 0, 0, 0, 0, 0, 1, 0, 0, 1, 0,\n",
              "       0, 0, 0, 0, 0, 0, 0, 0, 0, 0, 1, 0, 0, 0, 0, 0, 1, 0, 0, 0, 0, 0,\n",
              "       0, 0, 0, 0, 0, 0, 0, 0, 0, 0, 0, 0, 0, 1, 0, 0, 0, 0, 0, 0, 0, 0,\n",
              "       0, 0, 0, 0, 0, 0, 0, 0, 0, 0, 0, 0, 0, 1, 0, 0, 0, 0, 0, 0, 0, 0,\n",
              "       0, 0, 0, 0, 0, 1, 0, 0, 0, 0, 0, 0, 0, 0, 0, 1, 0, 0, 0, 0, 0, 0,\n",
              "       0, 0, 0, 0, 0, 0, 0, 0, 0, 0, 1, 0, 0, 0, 0, 0, 0, 0, 0, 0, 0, 0,\n",
              "       0, 0, 1, 0, 0, 0, 1, 0, 0, 2, 0, 0, 0, 1, 0, 0, 0, 0, 0, 1, 0, 0,\n",
              "       0, 0, 0, 0, 0, 0, 0, 0, 0, 0, 0, 0, 0, 0, 0, 0, 0, 0, 0, 0, 0, 1,\n",
              "       0, 0, 0, 1, 0, 0, 0, 0, 0, 0, 0, 0, 0, 0, 0, 0, 0, 0, 0, 0, 0, 0,\n",
              "       0, 0, 0, 0, 0, 0, 0, 0, 0, 0, 0, 0, 1, 0, 0, 0, 0, 0, 0, 0, 0, 0,\n",
              "       0, 0, 0, 0, 0])"
            ]
          },
          "metadata": {},
          "execution_count": 44
        }
      ],
      "source": [
        "matrik_vsm[0]"
      ]
    },
    {
      "cell_type": "code",
      "execution_count": 45,
      "metadata": {
        "id": "a8mq79Mb9tbE"
      },
      "outputs": [],
      "source": [
        "a=vectorizer.get_feature_names_out()"
      ]
    },
    {
      "cell_type": "code",
      "execution_count": 46,
      "metadata": {
        "colab": {
          "base_uri": "https://localhost:8080/",
          "height": 424
        },
        "id": "YR0T1Wlr9v-T",
        "outputId": "81d26eb6-9bf1-4847-f48a-488b225d7642"
      },
      "outputs": [
        {
          "output_type": "execute_result",
          "data": {
            "text/plain": [
              "    2ini abai adek ae aja ajab alamat alih allah aman  ... viralkan wa wajib  \\\n",
              "1      0    0    0  0   2    0      0    0     0    0  ...        0  0     0   \n",
              "2      0    0    0  0   0    0      0    0     0    0  ...        1  0     0   \n",
              "3      0    0    0  0   0    0      0    0     0    0  ...        0  0     0   \n",
              "4      0    0    0  0   1    0      0    0     0    0  ...        0  0     0   \n",
              "5      0    0    0  0   0    0      0    0     0    0  ...        0  0     0   \n",
              "..   ...  ...  ... ..  ..  ...    ...  ...   ...  ...  ...      ... ..   ...   \n",
              "200    0    1    0  0   0    0      0    0     0    0  ...        0  0     0   \n",
              "201    0    0    0  0   0    0      0    0     0    0  ...        0  0     0   \n",
              "202    0    0    0  0   0    0      0    0     0    0  ...        0  0     0   \n",
              "203    0    0    0  0   0    0      0    0     0    0  ...        0  0     0   \n",
              "204    0    0    0  0   0    0      0    0     0    0  ...        0  0     0   \n",
              "\n",
              "    wanita wkwkw wujud ya yg yuk yuuk  \n",
              "1        0     0     0  0  0   0    0  \n",
              "2        0     0     0  0  0   0    0  \n",
              "3        0     0     0  1  0   0    0  \n",
              "4        0     0     0  2  1   0    0  \n",
              "5        1     0     1  0  0   0    0  \n",
              "..     ...   ...   ... .. ..  ..  ...  \n",
              "200      0     0     0  1  1   0    0  \n",
              "201      0     0     0  1  1   0    0  \n",
              "202      0     0     0  1  0   0    0  \n",
              "203      0     0     0  0  0   0    0  \n",
              "204      0     0     0  1  2   0    0  \n",
              "\n",
              "[204 rows x 269 columns]"
            ],
            "text/html": [
              "\n",
              "  <div id=\"df-b26128b1-85c7-43ed-974a-a644230781ac\">\n",
              "    <div class=\"colab-df-container\">\n",
              "      <div>\n",
              "<style scoped>\n",
              "    .dataframe tbody tr th:only-of-type {\n",
              "        vertical-align: middle;\n",
              "    }\n",
              "\n",
              "    .dataframe tbody tr th {\n",
              "        vertical-align: top;\n",
              "    }\n",
              "\n",
              "    .dataframe thead tr th {\n",
              "        text-align: left;\n",
              "    }\n",
              "</style>\n",
              "<table border=\"1\" class=\"dataframe\">\n",
              "  <thead>\n",
              "    <tr>\n",
              "      <th></th>\n",
              "      <th>2ini</th>\n",
              "      <th>abai</th>\n",
              "      <th>adek</th>\n",
              "      <th>ae</th>\n",
              "      <th>aja</th>\n",
              "      <th>ajab</th>\n",
              "      <th>alamat</th>\n",
              "      <th>alih</th>\n",
              "      <th>allah</th>\n",
              "      <th>aman</th>\n",
              "      <th>...</th>\n",
              "      <th>viralkan</th>\n",
              "      <th>wa</th>\n",
              "      <th>wajib</th>\n",
              "      <th>wanita</th>\n",
              "      <th>wkwkw</th>\n",
              "      <th>wujud</th>\n",
              "      <th>ya</th>\n",
              "      <th>yg</th>\n",
              "      <th>yuk</th>\n",
              "      <th>yuuk</th>\n",
              "    </tr>\n",
              "  </thead>\n",
              "  <tbody>\n",
              "    <tr>\n",
              "      <th>1</th>\n",
              "      <td>0</td>\n",
              "      <td>0</td>\n",
              "      <td>0</td>\n",
              "      <td>0</td>\n",
              "      <td>2</td>\n",
              "      <td>0</td>\n",
              "      <td>0</td>\n",
              "      <td>0</td>\n",
              "      <td>0</td>\n",
              "      <td>0</td>\n",
              "      <td>...</td>\n",
              "      <td>0</td>\n",
              "      <td>0</td>\n",
              "      <td>0</td>\n",
              "      <td>0</td>\n",
              "      <td>0</td>\n",
              "      <td>0</td>\n",
              "      <td>0</td>\n",
              "      <td>0</td>\n",
              "      <td>0</td>\n",
              "      <td>0</td>\n",
              "    </tr>\n",
              "    <tr>\n",
              "      <th>2</th>\n",
              "      <td>0</td>\n",
              "      <td>0</td>\n",
              "      <td>0</td>\n",
              "      <td>0</td>\n",
              "      <td>0</td>\n",
              "      <td>0</td>\n",
              "      <td>0</td>\n",
              "      <td>0</td>\n",
              "      <td>0</td>\n",
              "      <td>0</td>\n",
              "      <td>...</td>\n",
              "      <td>1</td>\n",
              "      <td>0</td>\n",
              "      <td>0</td>\n",
              "      <td>0</td>\n",
              "      <td>0</td>\n",
              "      <td>0</td>\n",
              "      <td>0</td>\n",
              "      <td>0</td>\n",
              "      <td>0</td>\n",
              "      <td>0</td>\n",
              "    </tr>\n",
              "    <tr>\n",
              "      <th>3</th>\n",
              "      <td>0</td>\n",
              "      <td>0</td>\n",
              "      <td>0</td>\n",
              "      <td>0</td>\n",
              "      <td>0</td>\n",
              "      <td>0</td>\n",
              "      <td>0</td>\n",
              "      <td>0</td>\n",
              "      <td>0</td>\n",
              "      <td>0</td>\n",
              "      <td>...</td>\n",
              "      <td>0</td>\n",
              "      <td>0</td>\n",
              "      <td>0</td>\n",
              "      <td>0</td>\n",
              "      <td>0</td>\n",
              "      <td>0</td>\n",
              "      <td>1</td>\n",
              "      <td>0</td>\n",
              "      <td>0</td>\n",
              "      <td>0</td>\n",
              "    </tr>\n",
              "    <tr>\n",
              "      <th>4</th>\n",
              "      <td>0</td>\n",
              "      <td>0</td>\n",
              "      <td>0</td>\n",
              "      <td>0</td>\n",
              "      <td>1</td>\n",
              "      <td>0</td>\n",
              "      <td>0</td>\n",
              "      <td>0</td>\n",
              "      <td>0</td>\n",
              "      <td>0</td>\n",
              "      <td>...</td>\n",
              "      <td>0</td>\n",
              "      <td>0</td>\n",
              "      <td>0</td>\n",
              "      <td>0</td>\n",
              "      <td>0</td>\n",
              "      <td>0</td>\n",
              "      <td>2</td>\n",
              "      <td>1</td>\n",
              "      <td>0</td>\n",
              "      <td>0</td>\n",
              "    </tr>\n",
              "    <tr>\n",
              "      <th>5</th>\n",
              "      <td>0</td>\n",
              "      <td>0</td>\n",
              "      <td>0</td>\n",
              "      <td>0</td>\n",
              "      <td>0</td>\n",
              "      <td>0</td>\n",
              "      <td>0</td>\n",
              "      <td>0</td>\n",
              "      <td>0</td>\n",
              "      <td>0</td>\n",
              "      <td>...</td>\n",
              "      <td>0</td>\n",
              "      <td>0</td>\n",
              "      <td>0</td>\n",
              "      <td>1</td>\n",
              "      <td>0</td>\n",
              "      <td>1</td>\n",
              "      <td>0</td>\n",
              "      <td>0</td>\n",
              "      <td>0</td>\n",
              "      <td>0</td>\n",
              "    </tr>\n",
              "    <tr>\n",
              "      <th>...</th>\n",
              "      <td>...</td>\n",
              "      <td>...</td>\n",
              "      <td>...</td>\n",
              "      <td>...</td>\n",
              "      <td>...</td>\n",
              "      <td>...</td>\n",
              "      <td>...</td>\n",
              "      <td>...</td>\n",
              "      <td>...</td>\n",
              "      <td>...</td>\n",
              "      <td>...</td>\n",
              "      <td>...</td>\n",
              "      <td>...</td>\n",
              "      <td>...</td>\n",
              "      <td>...</td>\n",
              "      <td>...</td>\n",
              "      <td>...</td>\n",
              "      <td>...</td>\n",
              "      <td>...</td>\n",
              "      <td>...</td>\n",
              "      <td>...</td>\n",
              "    </tr>\n",
              "    <tr>\n",
              "      <th>200</th>\n",
              "      <td>0</td>\n",
              "      <td>1</td>\n",
              "      <td>0</td>\n",
              "      <td>0</td>\n",
              "      <td>0</td>\n",
              "      <td>0</td>\n",
              "      <td>0</td>\n",
              "      <td>0</td>\n",
              "      <td>0</td>\n",
              "      <td>0</td>\n",
              "      <td>...</td>\n",
              "      <td>0</td>\n",
              "      <td>0</td>\n",
              "      <td>0</td>\n",
              "      <td>0</td>\n",
              "      <td>0</td>\n",
              "      <td>0</td>\n",
              "      <td>1</td>\n",
              "      <td>1</td>\n",
              "      <td>0</td>\n",
              "      <td>0</td>\n",
              "    </tr>\n",
              "    <tr>\n",
              "      <th>201</th>\n",
              "      <td>0</td>\n",
              "      <td>0</td>\n",
              "      <td>0</td>\n",
              "      <td>0</td>\n",
              "      <td>0</td>\n",
              "      <td>0</td>\n",
              "      <td>0</td>\n",
              "      <td>0</td>\n",
              "      <td>0</td>\n",
              "      <td>0</td>\n",
              "      <td>...</td>\n",
              "      <td>0</td>\n",
              "      <td>0</td>\n",
              "      <td>0</td>\n",
              "      <td>0</td>\n",
              "      <td>0</td>\n",
              "      <td>0</td>\n",
              "      <td>1</td>\n",
              "      <td>1</td>\n",
              "      <td>0</td>\n",
              "      <td>0</td>\n",
              "    </tr>\n",
              "    <tr>\n",
              "      <th>202</th>\n",
              "      <td>0</td>\n",
              "      <td>0</td>\n",
              "      <td>0</td>\n",
              "      <td>0</td>\n",
              "      <td>0</td>\n",
              "      <td>0</td>\n",
              "      <td>0</td>\n",
              "      <td>0</td>\n",
              "      <td>0</td>\n",
              "      <td>0</td>\n",
              "      <td>...</td>\n",
              "      <td>0</td>\n",
              "      <td>0</td>\n",
              "      <td>0</td>\n",
              "      <td>0</td>\n",
              "      <td>0</td>\n",
              "      <td>0</td>\n",
              "      <td>1</td>\n",
              "      <td>0</td>\n",
              "      <td>0</td>\n",
              "      <td>0</td>\n",
              "    </tr>\n",
              "    <tr>\n",
              "      <th>203</th>\n",
              "      <td>0</td>\n",
              "      <td>0</td>\n",
              "      <td>0</td>\n",
              "      <td>0</td>\n",
              "      <td>0</td>\n",
              "      <td>0</td>\n",
              "      <td>0</td>\n",
              "      <td>0</td>\n",
              "      <td>0</td>\n",
              "      <td>0</td>\n",
              "      <td>...</td>\n",
              "      <td>0</td>\n",
              "      <td>0</td>\n",
              "      <td>0</td>\n",
              "      <td>0</td>\n",
              "      <td>0</td>\n",
              "      <td>0</td>\n",
              "      <td>0</td>\n",
              "      <td>0</td>\n",
              "      <td>0</td>\n",
              "      <td>0</td>\n",
              "    </tr>\n",
              "    <tr>\n",
              "      <th>204</th>\n",
              "      <td>0</td>\n",
              "      <td>0</td>\n",
              "      <td>0</td>\n",
              "      <td>0</td>\n",
              "      <td>0</td>\n",
              "      <td>0</td>\n",
              "      <td>0</td>\n",
              "      <td>0</td>\n",
              "      <td>0</td>\n",
              "      <td>0</td>\n",
              "      <td>...</td>\n",
              "      <td>0</td>\n",
              "      <td>0</td>\n",
              "      <td>0</td>\n",
              "      <td>0</td>\n",
              "      <td>0</td>\n",
              "      <td>0</td>\n",
              "      <td>1</td>\n",
              "      <td>2</td>\n",
              "      <td>0</td>\n",
              "      <td>0</td>\n",
              "    </tr>\n",
              "  </tbody>\n",
              "</table>\n",
              "<p>204 rows × 269 columns</p>\n",
              "</div>\n",
              "      <button class=\"colab-df-convert\" onclick=\"convertToInteractive('df-b26128b1-85c7-43ed-974a-a644230781ac')\"\n",
              "              title=\"Convert this dataframe to an interactive table.\"\n",
              "              style=\"display:none;\">\n",
              "        \n",
              "  <svg xmlns=\"http://www.w3.org/2000/svg\" height=\"24px\"viewBox=\"0 0 24 24\"\n",
              "       width=\"24px\">\n",
              "    <path d=\"M0 0h24v24H0V0z\" fill=\"none\"/>\n",
              "    <path d=\"M18.56 5.44l.94 2.06.94-2.06 2.06-.94-2.06-.94-.94-2.06-.94 2.06-2.06.94zm-11 1L8.5 8.5l.94-2.06 2.06-.94-2.06-.94L8.5 2.5l-.94 2.06-2.06.94zm10 10l.94 2.06.94-2.06 2.06-.94-2.06-.94-.94-2.06-.94 2.06-2.06.94z\"/><path d=\"M17.41 7.96l-1.37-1.37c-.4-.4-.92-.59-1.43-.59-.52 0-1.04.2-1.43.59L10.3 9.45l-7.72 7.72c-.78.78-.78 2.05 0 2.83L4 21.41c.39.39.9.59 1.41.59.51 0 1.02-.2 1.41-.59l7.78-7.78 2.81-2.81c.8-.78.8-2.07 0-2.86zM5.41 20L4 18.59l7.72-7.72 1.47 1.35L5.41 20z\"/>\n",
              "  </svg>\n",
              "      </button>\n",
              "      \n",
              "  <style>\n",
              "    .colab-df-container {\n",
              "      display:flex;\n",
              "      flex-wrap:wrap;\n",
              "      gap: 12px;\n",
              "    }\n",
              "\n",
              "    .colab-df-convert {\n",
              "      background-color: #E8F0FE;\n",
              "      border: none;\n",
              "      border-radius: 50%;\n",
              "      cursor: pointer;\n",
              "      display: none;\n",
              "      fill: #1967D2;\n",
              "      height: 32px;\n",
              "      padding: 0 0 0 0;\n",
              "      width: 32px;\n",
              "    }\n",
              "\n",
              "    .colab-df-convert:hover {\n",
              "      background-color: #E2EBFA;\n",
              "      box-shadow: 0px 1px 2px rgba(60, 64, 67, 0.3), 0px 1px 3px 1px rgba(60, 64, 67, 0.15);\n",
              "      fill: #174EA6;\n",
              "    }\n",
              "\n",
              "    [theme=dark] .colab-df-convert {\n",
              "      background-color: #3B4455;\n",
              "      fill: #D2E3FC;\n",
              "    }\n",
              "\n",
              "    [theme=dark] .colab-df-convert:hover {\n",
              "      background-color: #434B5C;\n",
              "      box-shadow: 0px 1px 3px 1px rgba(0, 0, 0, 0.15);\n",
              "      filter: drop-shadow(0px 1px 2px rgba(0, 0, 0, 0.3));\n",
              "      fill: #FFFFFF;\n",
              "    }\n",
              "  </style>\n",
              "\n",
              "      <script>\n",
              "        const buttonEl =\n",
              "          document.querySelector('#df-b26128b1-85c7-43ed-974a-a644230781ac button.colab-df-convert');\n",
              "        buttonEl.style.display =\n",
              "          google.colab.kernel.accessAllowed ? 'block' : 'none';\n",
              "\n",
              "        async function convertToInteractive(key) {\n",
              "          const element = document.querySelector('#df-b26128b1-85c7-43ed-974a-a644230781ac');\n",
              "          const dataTable =\n",
              "            await google.colab.kernel.invokeFunction('convertToInteractive',\n",
              "                                                     [key], {});\n",
              "          if (!dataTable) return;\n",
              "\n",
              "          const docLinkHtml = 'Like what you see? Visit the ' +\n",
              "            '<a target=\"_blank\" href=https://colab.research.google.com/notebooks/data_table.ipynb>data table notebook</a>'\n",
              "            + ' to learn more about interactive tables.';\n",
              "          element.innerHTML = '';\n",
              "          dataTable['output_type'] = 'display_data';\n",
              "          await google.colab.output.renderOutput(dataTable, element);\n",
              "          const docLink = document.createElement('div');\n",
              "          docLink.innerHTML = docLinkHtml;\n",
              "          element.appendChild(docLink);\n",
              "        }\n",
              "      </script>\n",
              "    </div>\n",
              "  </div>\n",
              "  "
            ]
          },
          "metadata": {},
          "execution_count": 46
        }
      ],
      "source": [
        "dataTF =pd.DataFrame(data=matrik_vsm,index=list(range(1, len(matrik_vsm[:,1])+1, )),columns=[a])\n",
        "dataTF"
      ]
    },
    {
      "cell_type": "code",
      "execution_count": 47,
      "metadata": {
        "colab": {
          "base_uri": "https://localhost:8080/",
          "height": 488
        },
        "id": "afeQgros9zX4",
        "outputId": "74e99024-ede8-45db-b3c7-ade2791f77bb"
      },
      "outputs": [
        {
          "output_type": "execute_result",
          "data": {
            "text/plain": [
              "     (index,)  (2ini,)  (abai,)  (adek,)  (ae,)  (aja,)  (ajab,)  (alamat,)  \\\n",
              "0           1        0        0        0      0       2        0          0   \n",
              "1           2        0        0        0      0       0        0          0   \n",
              "2           3        0        0        0      0       0        0          0   \n",
              "3           4        0        0        0      0       1        0          0   \n",
              "4           5        0        0        0      0       0        0          0   \n",
              "..        ...      ...      ...      ...    ...     ...      ...        ...   \n",
              "199       200        0        1        0      0       0        0          0   \n",
              "200       201        0        0        0      0       0        0          0   \n",
              "201       202        0        0        0      0       0        0          0   \n",
              "202       203        0        0        0      0       0        0          0   \n",
              "203       204        0        0        0      0       0        0          0   \n",
              "\n",
              "     (alih,)  (allah,)  ...  (wa,)  (wajib,)  (wanita,)  (wkwkw,)  (wujud,)  \\\n",
              "0          0         0  ...      0         0          0         0         0   \n",
              "1          0         0  ...      0         0          0         0         0   \n",
              "2          0         0  ...      0         0          0         0         0   \n",
              "3          0         0  ...      0         0          0         0         0   \n",
              "4          0         0  ...      0         0          1         0         1   \n",
              "..       ...       ...  ...    ...       ...        ...       ...       ...   \n",
              "199        0         0  ...      0         0          0         0         0   \n",
              "200        0         0  ...      0         0          0         0         0   \n",
              "201        0         0  ...      0         0          0         0         0   \n",
              "202        0         0  ...      0         0          0         0         0   \n",
              "203        0         0  ...      0         0          0         0         0   \n",
              "\n",
              "     (ya,)  (yg,)  (yuk,)  (yuuk,)    label  \n",
              "0        0      0       0        0   netral  \n",
              "1        0      0       0        0  positif  \n",
              "2        1      0       0        0   netral  \n",
              "3        2      1       0        0   netral  \n",
              "4        0      0       0        0   netral  \n",
              "..     ...    ...     ...      ...      ...  \n",
              "199      1      1       0        0  positif  \n",
              "200      1      1       0        0  negatif  \n",
              "201      1      0       0        0   netral  \n",
              "202      0      0       0        0  positif  \n",
              "203      1      2       0        0  negatif  \n",
              "\n",
              "[204 rows x 271 columns]"
            ],
            "text/html": [
              "\n",
              "  <div id=\"df-036e394d-7814-4576-89fc-c4b887386346\">\n",
              "    <div class=\"colab-df-container\">\n",
              "      <div>\n",
              "<style scoped>\n",
              "    .dataframe tbody tr th:only-of-type {\n",
              "        vertical-align: middle;\n",
              "    }\n",
              "\n",
              "    .dataframe tbody tr th {\n",
              "        vertical-align: top;\n",
              "    }\n",
              "\n",
              "    .dataframe thead th {\n",
              "        text-align: right;\n",
              "    }\n",
              "</style>\n",
              "<table border=\"1\" class=\"dataframe\">\n",
              "  <thead>\n",
              "    <tr style=\"text-align: right;\">\n",
              "      <th></th>\n",
              "      <th>(index,)</th>\n",
              "      <th>(2ini,)</th>\n",
              "      <th>(abai,)</th>\n",
              "      <th>(adek,)</th>\n",
              "      <th>(ae,)</th>\n",
              "      <th>(aja,)</th>\n",
              "      <th>(ajab,)</th>\n",
              "      <th>(alamat,)</th>\n",
              "      <th>(alih,)</th>\n",
              "      <th>(allah,)</th>\n",
              "      <th>...</th>\n",
              "      <th>(wa,)</th>\n",
              "      <th>(wajib,)</th>\n",
              "      <th>(wanita,)</th>\n",
              "      <th>(wkwkw,)</th>\n",
              "      <th>(wujud,)</th>\n",
              "      <th>(ya,)</th>\n",
              "      <th>(yg,)</th>\n",
              "      <th>(yuk,)</th>\n",
              "      <th>(yuuk,)</th>\n",
              "      <th>label</th>\n",
              "    </tr>\n",
              "  </thead>\n",
              "  <tbody>\n",
              "    <tr>\n",
              "      <th>0</th>\n",
              "      <td>1</td>\n",
              "      <td>0</td>\n",
              "      <td>0</td>\n",
              "      <td>0</td>\n",
              "      <td>0</td>\n",
              "      <td>2</td>\n",
              "      <td>0</td>\n",
              "      <td>0</td>\n",
              "      <td>0</td>\n",
              "      <td>0</td>\n",
              "      <td>...</td>\n",
              "      <td>0</td>\n",
              "      <td>0</td>\n",
              "      <td>0</td>\n",
              "      <td>0</td>\n",
              "      <td>0</td>\n",
              "      <td>0</td>\n",
              "      <td>0</td>\n",
              "      <td>0</td>\n",
              "      <td>0</td>\n",
              "      <td>netral</td>\n",
              "    </tr>\n",
              "    <tr>\n",
              "      <th>1</th>\n",
              "      <td>2</td>\n",
              "      <td>0</td>\n",
              "      <td>0</td>\n",
              "      <td>0</td>\n",
              "      <td>0</td>\n",
              "      <td>0</td>\n",
              "      <td>0</td>\n",
              "      <td>0</td>\n",
              "      <td>0</td>\n",
              "      <td>0</td>\n",
              "      <td>...</td>\n",
              "      <td>0</td>\n",
              "      <td>0</td>\n",
              "      <td>0</td>\n",
              "      <td>0</td>\n",
              "      <td>0</td>\n",
              "      <td>0</td>\n",
              "      <td>0</td>\n",
              "      <td>0</td>\n",
              "      <td>0</td>\n",
              "      <td>positif</td>\n",
              "    </tr>\n",
              "    <tr>\n",
              "      <th>2</th>\n",
              "      <td>3</td>\n",
              "      <td>0</td>\n",
              "      <td>0</td>\n",
              "      <td>0</td>\n",
              "      <td>0</td>\n",
              "      <td>0</td>\n",
              "      <td>0</td>\n",
              "      <td>0</td>\n",
              "      <td>0</td>\n",
              "      <td>0</td>\n",
              "      <td>...</td>\n",
              "      <td>0</td>\n",
              "      <td>0</td>\n",
              "      <td>0</td>\n",
              "      <td>0</td>\n",
              "      <td>0</td>\n",
              "      <td>1</td>\n",
              "      <td>0</td>\n",
              "      <td>0</td>\n",
              "      <td>0</td>\n",
              "      <td>netral</td>\n",
              "    </tr>\n",
              "    <tr>\n",
              "      <th>3</th>\n",
              "      <td>4</td>\n",
              "      <td>0</td>\n",
              "      <td>0</td>\n",
              "      <td>0</td>\n",
              "      <td>0</td>\n",
              "      <td>1</td>\n",
              "      <td>0</td>\n",
              "      <td>0</td>\n",
              "      <td>0</td>\n",
              "      <td>0</td>\n",
              "      <td>...</td>\n",
              "      <td>0</td>\n",
              "      <td>0</td>\n",
              "      <td>0</td>\n",
              "      <td>0</td>\n",
              "      <td>0</td>\n",
              "      <td>2</td>\n",
              "      <td>1</td>\n",
              "      <td>0</td>\n",
              "      <td>0</td>\n",
              "      <td>netral</td>\n",
              "    </tr>\n",
              "    <tr>\n",
              "      <th>4</th>\n",
              "      <td>5</td>\n",
              "      <td>0</td>\n",
              "      <td>0</td>\n",
              "      <td>0</td>\n",
              "      <td>0</td>\n",
              "      <td>0</td>\n",
              "      <td>0</td>\n",
              "      <td>0</td>\n",
              "      <td>0</td>\n",
              "      <td>0</td>\n",
              "      <td>...</td>\n",
              "      <td>0</td>\n",
              "      <td>0</td>\n",
              "      <td>1</td>\n",
              "      <td>0</td>\n",
              "      <td>1</td>\n",
              "      <td>0</td>\n",
              "      <td>0</td>\n",
              "      <td>0</td>\n",
              "      <td>0</td>\n",
              "      <td>netral</td>\n",
              "    </tr>\n",
              "    <tr>\n",
              "      <th>...</th>\n",
              "      <td>...</td>\n",
              "      <td>...</td>\n",
              "      <td>...</td>\n",
              "      <td>...</td>\n",
              "      <td>...</td>\n",
              "      <td>...</td>\n",
              "      <td>...</td>\n",
              "      <td>...</td>\n",
              "      <td>...</td>\n",
              "      <td>...</td>\n",
              "      <td>...</td>\n",
              "      <td>...</td>\n",
              "      <td>...</td>\n",
              "      <td>...</td>\n",
              "      <td>...</td>\n",
              "      <td>...</td>\n",
              "      <td>...</td>\n",
              "      <td>...</td>\n",
              "      <td>...</td>\n",
              "      <td>...</td>\n",
              "      <td>...</td>\n",
              "    </tr>\n",
              "    <tr>\n",
              "      <th>199</th>\n",
              "      <td>200</td>\n",
              "      <td>0</td>\n",
              "      <td>1</td>\n",
              "      <td>0</td>\n",
              "      <td>0</td>\n",
              "      <td>0</td>\n",
              "      <td>0</td>\n",
              "      <td>0</td>\n",
              "      <td>0</td>\n",
              "      <td>0</td>\n",
              "      <td>...</td>\n",
              "      <td>0</td>\n",
              "      <td>0</td>\n",
              "      <td>0</td>\n",
              "      <td>0</td>\n",
              "      <td>0</td>\n",
              "      <td>1</td>\n",
              "      <td>1</td>\n",
              "      <td>0</td>\n",
              "      <td>0</td>\n",
              "      <td>positif</td>\n",
              "    </tr>\n",
              "    <tr>\n",
              "      <th>200</th>\n",
              "      <td>201</td>\n",
              "      <td>0</td>\n",
              "      <td>0</td>\n",
              "      <td>0</td>\n",
              "      <td>0</td>\n",
              "      <td>0</td>\n",
              "      <td>0</td>\n",
              "      <td>0</td>\n",
              "      <td>0</td>\n",
              "      <td>0</td>\n",
              "      <td>...</td>\n",
              "      <td>0</td>\n",
              "      <td>0</td>\n",
              "      <td>0</td>\n",
              "      <td>0</td>\n",
              "      <td>0</td>\n",
              "      <td>1</td>\n",
              "      <td>1</td>\n",
              "      <td>0</td>\n",
              "      <td>0</td>\n",
              "      <td>negatif</td>\n",
              "    </tr>\n",
              "    <tr>\n",
              "      <th>201</th>\n",
              "      <td>202</td>\n",
              "      <td>0</td>\n",
              "      <td>0</td>\n",
              "      <td>0</td>\n",
              "      <td>0</td>\n",
              "      <td>0</td>\n",
              "      <td>0</td>\n",
              "      <td>0</td>\n",
              "      <td>0</td>\n",
              "      <td>0</td>\n",
              "      <td>...</td>\n",
              "      <td>0</td>\n",
              "      <td>0</td>\n",
              "      <td>0</td>\n",
              "      <td>0</td>\n",
              "      <td>0</td>\n",
              "      <td>1</td>\n",
              "      <td>0</td>\n",
              "      <td>0</td>\n",
              "      <td>0</td>\n",
              "      <td>netral</td>\n",
              "    </tr>\n",
              "    <tr>\n",
              "      <th>202</th>\n",
              "      <td>203</td>\n",
              "      <td>0</td>\n",
              "      <td>0</td>\n",
              "      <td>0</td>\n",
              "      <td>0</td>\n",
              "      <td>0</td>\n",
              "      <td>0</td>\n",
              "      <td>0</td>\n",
              "      <td>0</td>\n",
              "      <td>0</td>\n",
              "      <td>...</td>\n",
              "      <td>0</td>\n",
              "      <td>0</td>\n",
              "      <td>0</td>\n",
              "      <td>0</td>\n",
              "      <td>0</td>\n",
              "      <td>0</td>\n",
              "      <td>0</td>\n",
              "      <td>0</td>\n",
              "      <td>0</td>\n",
              "      <td>positif</td>\n",
              "    </tr>\n",
              "    <tr>\n",
              "      <th>203</th>\n",
              "      <td>204</td>\n",
              "      <td>0</td>\n",
              "      <td>0</td>\n",
              "      <td>0</td>\n",
              "      <td>0</td>\n",
              "      <td>0</td>\n",
              "      <td>0</td>\n",
              "      <td>0</td>\n",
              "      <td>0</td>\n",
              "      <td>0</td>\n",
              "      <td>...</td>\n",
              "      <td>0</td>\n",
              "      <td>0</td>\n",
              "      <td>0</td>\n",
              "      <td>0</td>\n",
              "      <td>0</td>\n",
              "      <td>1</td>\n",
              "      <td>2</td>\n",
              "      <td>0</td>\n",
              "      <td>0</td>\n",
              "      <td>negatif</td>\n",
              "    </tr>\n",
              "  </tbody>\n",
              "</table>\n",
              "<p>204 rows × 271 columns</p>\n",
              "</div>\n",
              "      <button class=\"colab-df-convert\" onclick=\"convertToInteractive('df-036e394d-7814-4576-89fc-c4b887386346')\"\n",
              "              title=\"Convert this dataframe to an interactive table.\"\n",
              "              style=\"display:none;\">\n",
              "        \n",
              "  <svg xmlns=\"http://www.w3.org/2000/svg\" height=\"24px\"viewBox=\"0 0 24 24\"\n",
              "       width=\"24px\">\n",
              "    <path d=\"M0 0h24v24H0V0z\" fill=\"none\"/>\n",
              "    <path d=\"M18.56 5.44l.94 2.06.94-2.06 2.06-.94-2.06-.94-.94-2.06-.94 2.06-2.06.94zm-11 1L8.5 8.5l.94-2.06 2.06-.94-2.06-.94L8.5 2.5l-.94 2.06-2.06.94zm10 10l.94 2.06.94-2.06 2.06-.94-2.06-.94-.94-2.06-.94 2.06-2.06.94z\"/><path d=\"M17.41 7.96l-1.37-1.37c-.4-.4-.92-.59-1.43-.59-.52 0-1.04.2-1.43.59L10.3 9.45l-7.72 7.72c-.78.78-.78 2.05 0 2.83L4 21.41c.39.39.9.59 1.41.59.51 0 1.02-.2 1.41-.59l7.78-7.78 2.81-2.81c.8-.78.8-2.07 0-2.86zM5.41 20L4 18.59l7.72-7.72 1.47 1.35L5.41 20z\"/>\n",
              "  </svg>\n",
              "      </button>\n",
              "      \n",
              "  <style>\n",
              "    .colab-df-container {\n",
              "      display:flex;\n",
              "      flex-wrap:wrap;\n",
              "      gap: 12px;\n",
              "    }\n",
              "\n",
              "    .colab-df-convert {\n",
              "      background-color: #E8F0FE;\n",
              "      border: none;\n",
              "      border-radius: 50%;\n",
              "      cursor: pointer;\n",
              "      display: none;\n",
              "      fill: #1967D2;\n",
              "      height: 32px;\n",
              "      padding: 0 0 0 0;\n",
              "      width: 32px;\n",
              "    }\n",
              "\n",
              "    .colab-df-convert:hover {\n",
              "      background-color: #E2EBFA;\n",
              "      box-shadow: 0px 1px 2px rgba(60, 64, 67, 0.3), 0px 1px 3px 1px rgba(60, 64, 67, 0.15);\n",
              "      fill: #174EA6;\n",
              "    }\n",
              "\n",
              "    [theme=dark] .colab-df-convert {\n",
              "      background-color: #3B4455;\n",
              "      fill: #D2E3FC;\n",
              "    }\n",
              "\n",
              "    [theme=dark] .colab-df-convert:hover {\n",
              "      background-color: #434B5C;\n",
              "      box-shadow: 0px 1px 3px 1px rgba(0, 0, 0, 0.15);\n",
              "      filter: drop-shadow(0px 1px 2px rgba(0, 0, 0, 0.3));\n",
              "      fill: #FFFFFF;\n",
              "    }\n",
              "  </style>\n",
              "\n",
              "      <script>\n",
              "        const buttonEl =\n",
              "          document.querySelector('#df-036e394d-7814-4576-89fc-c4b887386346 button.colab-df-convert');\n",
              "        buttonEl.style.display =\n",
              "          google.colab.kernel.accessAllowed ? 'block' : 'none';\n",
              "\n",
              "        async function convertToInteractive(key) {\n",
              "          const element = document.querySelector('#df-036e394d-7814-4576-89fc-c4b887386346');\n",
              "          const dataTable =\n",
              "            await google.colab.kernel.invokeFunction('convertToInteractive',\n",
              "                                                     [key], {});\n",
              "          if (!dataTable) return;\n",
              "\n",
              "          const docLinkHtml = 'Like what you see? Visit the ' +\n",
              "            '<a target=\"_blank\" href=https://colab.research.google.com/notebooks/data_table.ipynb>data table notebook</a>'\n",
              "            + ' to learn more about interactive tables.';\n",
              "          element.innerHTML = '';\n",
              "          dataTable['output_type'] = 'display_data';\n",
              "          await google.colab.output.renderOutput(dataTable, element);\n",
              "          const docLink = document.createElement('div');\n",
              "          docLink.innerHTML = docLinkHtml;\n",
              "          element.appendChild(docLink);\n",
              "        }\n",
              "      </script>\n",
              "    </div>\n",
              "  </div>\n",
              "  "
            ]
          },
          "metadata": {},
          "execution_count": 47
        }
      ],
      "source": [
        "label = pd.read_excel('/content/drive/MyDrive/webmining/TugasWebmining/twint/dataset.xlsx')\n",
        "dj = pd.concat([dataTF.reset_index(), label[\"label\"]], axis=1)\n",
        "dj"
      ]
    },
    {
      "cell_type": "code",
      "execution_count": 48,
      "metadata": {
        "colab": {
          "base_uri": "https://localhost:8080/"
        },
        "id": "9s7rvBcg90LU",
        "outputId": "7d02f67c-c640-4497-acbb-674df6ac61f6"
      },
      "outputs": [
        {
          "output_type": "execute_result",
          "data": {
            "text/plain": [
              "array(['netral', 'positif', 'negatif'], dtype=object)"
            ]
          },
          "metadata": {},
          "execution_count": 48
        }
      ],
      "source": [
        "dj['label'].unique()"
      ]
    },
    {
      "cell_type": "markdown",
      "source": [
        "## Penjelasan Scikit Learn\n",
        "Scikit Learn atau sklearn merupakan sebuah module dari bahasa pemrograman Python yang dibangun berdasarkan NumPy,SciPy,dan Matplotlib. Fungsi dari module ini adalah untuk membantu melakukan processing data atau pun melakukan training data untuk kebutuhan machine learning atau data science."
      ],
      "metadata": {
        "id": "jmhGTJ55lmt0"
      }
    },
    {
      "cell_type": "code",
      "execution_count": 49,
      "metadata": {
        "colab": {
          "base_uri": "https://localhost:8080/"
        },
        "id": "RVClRpCU95zR",
        "outputId": "c1adf5a5-3f87-4cfd-8131-4bd6bb33f2d6"
      },
      "outputs": [
        {
          "output_type": "stream",
          "name": "stdout",
          "text": [
            "Looking in indexes: https://pypi.org/simple, https://us-python.pkg.dev/colab-wheels/public/simple/\n",
            "Requirement already satisfied: scikit-learn in /usr/local/lib/python3.7/dist-packages (1.0.2)\n",
            "Requirement already satisfied: numpy>=1.14.6 in /usr/local/lib/python3.7/dist-packages (from scikit-learn) (1.21.6)\n",
            "Requirement already satisfied: scipy>=1.1.0 in /usr/local/lib/python3.7/dist-packages (from scikit-learn) (1.7.3)\n",
            "Requirement already satisfied: threadpoolctl>=2.0.0 in /usr/local/lib/python3.7/dist-packages (from scikit-learn) (3.1.0)\n",
            "Requirement already satisfied: joblib>=0.11 in /usr/local/lib/python3.7/dist-packages (from scikit-learn) (1.2.0)\n"
          ]
        }
      ],
      "source": [
        "!pip install -U scikit-learn"
      ]
    },
    {
      "cell_type": "markdown",
      "source": [
        "## Penjelasan Information Gain\n",
        "Information Gain merupakan teknik seleksi fitur yang memakai metode scoring untuk nominal\n",
        "ataupun pembobotan atribut kontinue yang didiskretkan menggunakan maksimal entropy. Suatu entropy\n",
        "digunakan untuk mendefinisikan nilai Information Gain. Entropy menggambarkan banyaknya informasi\n",
        "yang dibutuhkan untuk mengkodekan suatu kelas. Information Gain (IG) dari suatu term diukur\n",
        "dengan menghitung jumlah bit informasi yang diambil dari prediksi kategori dengan ada atau tidaknya\n",
        "term dalam suatu dokumen.\n",
        "\n",
        "\n",
        "$$\n",
        "Entropy \\ (S) \\equiv \\sum ^{c}_{i}P_{i}\\log _{2}p_{i}\n",
        "$$\n",
        "\n",
        "c : jumlah nilai yang ada pada atribut target (jumlah kelas klasifikasi).\n",
        "\n",
        "Pi : porsi sampel untuk kelas i.\n",
        "\n",
        "\n",
        "$$\n",
        "Gain \\ (S,A) \\equiv Entropy(S) - \\sum _{\\nu \\varepsilon \\ values } \\dfrac{\\left| S_{i}\\right| }{\\left| S\\right|} Entropy(S_{v})\n",
        "$$\n",
        "\n",
        "A : atribut\n",
        "\n",
        "V : menyatakan suatu nilai yang mungkin untuk atribut A\n",
        "\n",
        "Values (A) : himpunan nilai-nilai yang mungkin untuk atribut A\n",
        "\n",
        "|Sv| : jumlah Sampel untuk nilai v\n",
        "\n",
        "|S| : jumlah seluruh sample data Entropy \n",
        "\n",
        "(Sv) : entropy untuk sampel sampel yang memiliki nilai v\n"
      ],
      "metadata": {
        "id": "ZrmwULuami9U"
      }
    },
    {
      "cell_type": "code",
      "execution_count": 50,
      "metadata": {
        "id": "A-ZcRqdq98w0"
      },
      "outputs": [],
      "source": [
        "from sklearn.model_selection import train_test_split\n",
        "X_train,X_test,y_train,y_test=train_test_split(dj.drop(labels=['label'], axis=1),\n",
        "    dj['label'],\n",
        "    test_size=0.3,\n",
        "    random_state=0)"
      ]
    },
    {
      "cell_type": "code",
      "execution_count": 51,
      "metadata": {
        "colab": {
          "base_uri": "https://localhost:8080/"
        },
        "id": "xClTLUARe0aM",
        "outputId": "84a98280-30cf-4783-b234-7ce495e70b25"
      },
      "outputs": [
        {
          "output_type": "execute_result",
          "data": {
            "text/plain": [
              "122    negatif\n",
              "83     negatif\n",
              "19     negatif\n",
              "154    positif\n",
              "107    negatif\n",
              "        ...   \n",
              "67      netral\n",
              "192    negatif\n",
              "117     netral\n",
              "47      netral\n",
              "172    negatif\n",
              "Name: label, Length: 142, dtype: object"
            ]
          },
          "metadata": {},
          "execution_count": 51
        }
      ],
      "source": [
        "y_train"
      ]
    },
    {
      "cell_type": "code",
      "execution_count": 52,
      "metadata": {
        "colab": {
          "base_uri": "https://localhost:8080/",
          "height": 488
        },
        "id": "CwhSQHYW-BLA",
        "outputId": "f440b8b2-43dd-4a79-d60b-14fbe3f238ea"
      },
      "outputs": [
        {
          "output_type": "execute_result",
          "data": {
            "text/plain": [
              "     (index,)  (2ini,)  (abai,)  (adek,)  (ae,)  (aja,)  (ajab,)  (alamat,)  \\\n",
              "122       123        0        0        0      0       0        0          0   \n",
              "83         84        0        0        0      0       0        0          0   \n",
              "19         20        0        0        0      0       0        0          1   \n",
              "154       155        0        0        0      0       0        0          0   \n",
              "107       108        0        0        0      0       0        0          0   \n",
              "..        ...      ...      ...      ...    ...     ...      ...        ...   \n",
              "67         68        0        0        0      0       1        0          0   \n",
              "192       193        0        0        0      0       0        0          0   \n",
              "117       118        0        0        0      0       0        0          0   \n",
              "47         48        0        0        0      0       0        0          0   \n",
              "172       173        0        0        0      0       0        0          0   \n",
              "\n",
              "     (alih,)  (allah,)  ...  (viralkan,)  (wa,)  (wajib,)  (wanita,)  \\\n",
              "122        0         0  ...            0      0         0          1   \n",
              "83         0         0  ...            0      0         0          0   \n",
              "19         0         0  ...            0      0         0          0   \n",
              "154        0         0  ...            0      0         0          0   \n",
              "107        0         0  ...            0      0         0          0   \n",
              "..       ...       ...  ...          ...    ...       ...        ...   \n",
              "67         0         0  ...            0      0         0          0   \n",
              "192        0         0  ...            0      0         0          0   \n",
              "117        0         0  ...            0      0         0          1   \n",
              "47         0         0  ...            0      0         0          0   \n",
              "172        0         0  ...            0      0         0          1   \n",
              "\n",
              "     (wkwkw,)  (wujud,)  (ya,)  (yg,)  (yuk,)  (yuuk,)  \n",
              "122         0         0      0      1       0        0  \n",
              "83          0         0      0      0       0        0  \n",
              "19          0         0      0      0       0        0  \n",
              "154         0         0      0      0       0        0  \n",
              "107         0         0      0      0       0        0  \n",
              "..        ...       ...    ...    ...     ...      ...  \n",
              "67          0         0      0      1       0        0  \n",
              "192         0         0      1      0       1        0  \n",
              "117         0         1      0      0       0        0  \n",
              "47          0         0      0      0       0        0  \n",
              "172         0         1      0      1       0        0  \n",
              "\n",
              "[142 rows x 270 columns]"
            ],
            "text/html": [
              "\n",
              "  <div id=\"df-953bfe3f-d3a4-4e20-9e48-344636a2742b\">\n",
              "    <div class=\"colab-df-container\">\n",
              "      <div>\n",
              "<style scoped>\n",
              "    .dataframe tbody tr th:only-of-type {\n",
              "        vertical-align: middle;\n",
              "    }\n",
              "\n",
              "    .dataframe tbody tr th {\n",
              "        vertical-align: top;\n",
              "    }\n",
              "\n",
              "    .dataframe thead th {\n",
              "        text-align: right;\n",
              "    }\n",
              "</style>\n",
              "<table border=\"1\" class=\"dataframe\">\n",
              "  <thead>\n",
              "    <tr style=\"text-align: right;\">\n",
              "      <th></th>\n",
              "      <th>(index,)</th>\n",
              "      <th>(2ini,)</th>\n",
              "      <th>(abai,)</th>\n",
              "      <th>(adek,)</th>\n",
              "      <th>(ae,)</th>\n",
              "      <th>(aja,)</th>\n",
              "      <th>(ajab,)</th>\n",
              "      <th>(alamat,)</th>\n",
              "      <th>(alih,)</th>\n",
              "      <th>(allah,)</th>\n",
              "      <th>...</th>\n",
              "      <th>(viralkan,)</th>\n",
              "      <th>(wa,)</th>\n",
              "      <th>(wajib,)</th>\n",
              "      <th>(wanita,)</th>\n",
              "      <th>(wkwkw,)</th>\n",
              "      <th>(wujud,)</th>\n",
              "      <th>(ya,)</th>\n",
              "      <th>(yg,)</th>\n",
              "      <th>(yuk,)</th>\n",
              "      <th>(yuuk,)</th>\n",
              "    </tr>\n",
              "  </thead>\n",
              "  <tbody>\n",
              "    <tr>\n",
              "      <th>122</th>\n",
              "      <td>123</td>\n",
              "      <td>0</td>\n",
              "      <td>0</td>\n",
              "      <td>0</td>\n",
              "      <td>0</td>\n",
              "      <td>0</td>\n",
              "      <td>0</td>\n",
              "      <td>0</td>\n",
              "      <td>0</td>\n",
              "      <td>0</td>\n",
              "      <td>...</td>\n",
              "      <td>0</td>\n",
              "      <td>0</td>\n",
              "      <td>0</td>\n",
              "      <td>1</td>\n",
              "      <td>0</td>\n",
              "      <td>0</td>\n",
              "      <td>0</td>\n",
              "      <td>1</td>\n",
              "      <td>0</td>\n",
              "      <td>0</td>\n",
              "    </tr>\n",
              "    <tr>\n",
              "      <th>83</th>\n",
              "      <td>84</td>\n",
              "      <td>0</td>\n",
              "      <td>0</td>\n",
              "      <td>0</td>\n",
              "      <td>0</td>\n",
              "      <td>0</td>\n",
              "      <td>0</td>\n",
              "      <td>0</td>\n",
              "      <td>0</td>\n",
              "      <td>0</td>\n",
              "      <td>...</td>\n",
              "      <td>0</td>\n",
              "      <td>0</td>\n",
              "      <td>0</td>\n",
              "      <td>0</td>\n",
              "      <td>0</td>\n",
              "      <td>0</td>\n",
              "      <td>0</td>\n",
              "      <td>0</td>\n",
              "      <td>0</td>\n",
              "      <td>0</td>\n",
              "    </tr>\n",
              "    <tr>\n",
              "      <th>19</th>\n",
              "      <td>20</td>\n",
              "      <td>0</td>\n",
              "      <td>0</td>\n",
              "      <td>0</td>\n",
              "      <td>0</td>\n",
              "      <td>0</td>\n",
              "      <td>0</td>\n",
              "      <td>1</td>\n",
              "      <td>0</td>\n",
              "      <td>0</td>\n",
              "      <td>...</td>\n",
              "      <td>0</td>\n",
              "      <td>0</td>\n",
              "      <td>0</td>\n",
              "      <td>0</td>\n",
              "      <td>0</td>\n",
              "      <td>0</td>\n",
              "      <td>0</td>\n",
              "      <td>0</td>\n",
              "      <td>0</td>\n",
              "      <td>0</td>\n",
              "    </tr>\n",
              "    <tr>\n",
              "      <th>154</th>\n",
              "      <td>155</td>\n",
              "      <td>0</td>\n",
              "      <td>0</td>\n",
              "      <td>0</td>\n",
              "      <td>0</td>\n",
              "      <td>0</td>\n",
              "      <td>0</td>\n",
              "      <td>0</td>\n",
              "      <td>0</td>\n",
              "      <td>0</td>\n",
              "      <td>...</td>\n",
              "      <td>0</td>\n",
              "      <td>0</td>\n",
              "      <td>0</td>\n",
              "      <td>0</td>\n",
              "      <td>0</td>\n",
              "      <td>0</td>\n",
              "      <td>0</td>\n",
              "      <td>0</td>\n",
              "      <td>0</td>\n",
              "      <td>0</td>\n",
              "    </tr>\n",
              "    <tr>\n",
              "      <th>107</th>\n",
              "      <td>108</td>\n",
              "      <td>0</td>\n",
              "      <td>0</td>\n",
              "      <td>0</td>\n",
              "      <td>0</td>\n",
              "      <td>0</td>\n",
              "      <td>0</td>\n",
              "      <td>0</td>\n",
              "      <td>0</td>\n",
              "      <td>0</td>\n",
              "      <td>...</td>\n",
              "      <td>0</td>\n",
              "      <td>0</td>\n",
              "      <td>0</td>\n",
              "      <td>0</td>\n",
              "      <td>0</td>\n",
              "      <td>0</td>\n",
              "      <td>0</td>\n",
              "      <td>0</td>\n",
              "      <td>0</td>\n",
              "      <td>0</td>\n",
              "    </tr>\n",
              "    <tr>\n",
              "      <th>...</th>\n",
              "      <td>...</td>\n",
              "      <td>...</td>\n",
              "      <td>...</td>\n",
              "      <td>...</td>\n",
              "      <td>...</td>\n",
              "      <td>...</td>\n",
              "      <td>...</td>\n",
              "      <td>...</td>\n",
              "      <td>...</td>\n",
              "      <td>...</td>\n",
              "      <td>...</td>\n",
              "      <td>...</td>\n",
              "      <td>...</td>\n",
              "      <td>...</td>\n",
              "      <td>...</td>\n",
              "      <td>...</td>\n",
              "      <td>...</td>\n",
              "      <td>...</td>\n",
              "      <td>...</td>\n",
              "      <td>...</td>\n",
              "      <td>...</td>\n",
              "    </tr>\n",
              "    <tr>\n",
              "      <th>67</th>\n",
              "      <td>68</td>\n",
              "      <td>0</td>\n",
              "      <td>0</td>\n",
              "      <td>0</td>\n",
              "      <td>0</td>\n",
              "      <td>1</td>\n",
              "      <td>0</td>\n",
              "      <td>0</td>\n",
              "      <td>0</td>\n",
              "      <td>0</td>\n",
              "      <td>...</td>\n",
              "      <td>0</td>\n",
              "      <td>0</td>\n",
              "      <td>0</td>\n",
              "      <td>0</td>\n",
              "      <td>0</td>\n",
              "      <td>0</td>\n",
              "      <td>0</td>\n",
              "      <td>1</td>\n",
              "      <td>0</td>\n",
              "      <td>0</td>\n",
              "    </tr>\n",
              "    <tr>\n",
              "      <th>192</th>\n",
              "      <td>193</td>\n",
              "      <td>0</td>\n",
              "      <td>0</td>\n",
              "      <td>0</td>\n",
              "      <td>0</td>\n",
              "      <td>0</td>\n",
              "      <td>0</td>\n",
              "      <td>0</td>\n",
              "      <td>0</td>\n",
              "      <td>0</td>\n",
              "      <td>...</td>\n",
              "      <td>0</td>\n",
              "      <td>0</td>\n",
              "      <td>0</td>\n",
              "      <td>0</td>\n",
              "      <td>0</td>\n",
              "      <td>0</td>\n",
              "      <td>1</td>\n",
              "      <td>0</td>\n",
              "      <td>1</td>\n",
              "      <td>0</td>\n",
              "    </tr>\n",
              "    <tr>\n",
              "      <th>117</th>\n",
              "      <td>118</td>\n",
              "      <td>0</td>\n",
              "      <td>0</td>\n",
              "      <td>0</td>\n",
              "      <td>0</td>\n",
              "      <td>0</td>\n",
              "      <td>0</td>\n",
              "      <td>0</td>\n",
              "      <td>0</td>\n",
              "      <td>0</td>\n",
              "      <td>...</td>\n",
              "      <td>0</td>\n",
              "      <td>0</td>\n",
              "      <td>0</td>\n",
              "      <td>1</td>\n",
              "      <td>0</td>\n",
              "      <td>1</td>\n",
              "      <td>0</td>\n",
              "      <td>0</td>\n",
              "      <td>0</td>\n",
              "      <td>0</td>\n",
              "    </tr>\n",
              "    <tr>\n",
              "      <th>47</th>\n",
              "      <td>48</td>\n",
              "      <td>0</td>\n",
              "      <td>0</td>\n",
              "      <td>0</td>\n",
              "      <td>0</td>\n",
              "      <td>0</td>\n",
              "      <td>0</td>\n",
              "      <td>0</td>\n",
              "      <td>0</td>\n",
              "      <td>0</td>\n",
              "      <td>...</td>\n",
              "      <td>0</td>\n",
              "      <td>0</td>\n",
              "      <td>0</td>\n",
              "      <td>0</td>\n",
              "      <td>0</td>\n",
              "      <td>0</td>\n",
              "      <td>0</td>\n",
              "      <td>0</td>\n",
              "      <td>0</td>\n",
              "      <td>0</td>\n",
              "    </tr>\n",
              "    <tr>\n",
              "      <th>172</th>\n",
              "      <td>173</td>\n",
              "      <td>0</td>\n",
              "      <td>0</td>\n",
              "      <td>0</td>\n",
              "      <td>0</td>\n",
              "      <td>0</td>\n",
              "      <td>0</td>\n",
              "      <td>0</td>\n",
              "      <td>0</td>\n",
              "      <td>0</td>\n",
              "      <td>...</td>\n",
              "      <td>0</td>\n",
              "      <td>0</td>\n",
              "      <td>0</td>\n",
              "      <td>1</td>\n",
              "      <td>0</td>\n",
              "      <td>1</td>\n",
              "      <td>0</td>\n",
              "      <td>1</td>\n",
              "      <td>0</td>\n",
              "      <td>0</td>\n",
              "    </tr>\n",
              "  </tbody>\n",
              "</table>\n",
              "<p>142 rows × 270 columns</p>\n",
              "</div>\n",
              "      <button class=\"colab-df-convert\" onclick=\"convertToInteractive('df-953bfe3f-d3a4-4e20-9e48-344636a2742b')\"\n",
              "              title=\"Convert this dataframe to an interactive table.\"\n",
              "              style=\"display:none;\">\n",
              "        \n",
              "  <svg xmlns=\"http://www.w3.org/2000/svg\" height=\"24px\"viewBox=\"0 0 24 24\"\n",
              "       width=\"24px\">\n",
              "    <path d=\"M0 0h24v24H0V0z\" fill=\"none\"/>\n",
              "    <path d=\"M18.56 5.44l.94 2.06.94-2.06 2.06-.94-2.06-.94-.94-2.06-.94 2.06-2.06.94zm-11 1L8.5 8.5l.94-2.06 2.06-.94-2.06-.94L8.5 2.5l-.94 2.06-2.06.94zm10 10l.94 2.06.94-2.06 2.06-.94-2.06-.94-.94-2.06-.94 2.06-2.06.94z\"/><path d=\"M17.41 7.96l-1.37-1.37c-.4-.4-.92-.59-1.43-.59-.52 0-1.04.2-1.43.59L10.3 9.45l-7.72 7.72c-.78.78-.78 2.05 0 2.83L4 21.41c.39.39.9.59 1.41.59.51 0 1.02-.2 1.41-.59l7.78-7.78 2.81-2.81c.8-.78.8-2.07 0-2.86zM5.41 20L4 18.59l7.72-7.72 1.47 1.35L5.41 20z\"/>\n",
              "  </svg>\n",
              "      </button>\n",
              "      \n",
              "  <style>\n",
              "    .colab-df-container {\n",
              "      display:flex;\n",
              "      flex-wrap:wrap;\n",
              "      gap: 12px;\n",
              "    }\n",
              "\n",
              "    .colab-df-convert {\n",
              "      background-color: #E8F0FE;\n",
              "      border: none;\n",
              "      border-radius: 50%;\n",
              "      cursor: pointer;\n",
              "      display: none;\n",
              "      fill: #1967D2;\n",
              "      height: 32px;\n",
              "      padding: 0 0 0 0;\n",
              "      width: 32px;\n",
              "    }\n",
              "\n",
              "    .colab-df-convert:hover {\n",
              "      background-color: #E2EBFA;\n",
              "      box-shadow: 0px 1px 2px rgba(60, 64, 67, 0.3), 0px 1px 3px 1px rgba(60, 64, 67, 0.15);\n",
              "      fill: #174EA6;\n",
              "    }\n",
              "\n",
              "    [theme=dark] .colab-df-convert {\n",
              "      background-color: #3B4455;\n",
              "      fill: #D2E3FC;\n",
              "    }\n",
              "\n",
              "    [theme=dark] .colab-df-convert:hover {\n",
              "      background-color: #434B5C;\n",
              "      box-shadow: 0px 1px 3px 1px rgba(0, 0, 0, 0.15);\n",
              "      filter: drop-shadow(0px 1px 2px rgba(0, 0, 0, 0.3));\n",
              "      fill: #FFFFFF;\n",
              "    }\n",
              "  </style>\n",
              "\n",
              "      <script>\n",
              "        const buttonEl =\n",
              "          document.querySelector('#df-953bfe3f-d3a4-4e20-9e48-344636a2742b button.colab-df-convert');\n",
              "        buttonEl.style.display =\n",
              "          google.colab.kernel.accessAllowed ? 'block' : 'none';\n",
              "\n",
              "        async function convertToInteractive(key) {\n",
              "          const element = document.querySelector('#df-953bfe3f-d3a4-4e20-9e48-344636a2742b');\n",
              "          const dataTable =\n",
              "            await google.colab.kernel.invokeFunction('convertToInteractive',\n",
              "                                                     [key], {});\n",
              "          if (!dataTable) return;\n",
              "\n",
              "          const docLinkHtml = 'Like what you see? Visit the ' +\n",
              "            '<a target=\"_blank\" href=https://colab.research.google.com/notebooks/data_table.ipynb>data table notebook</a>'\n",
              "            + ' to learn more about interactive tables.';\n",
              "          element.innerHTML = '';\n",
              "          dataTable['output_type'] = 'display_data';\n",
              "          await google.colab.output.renderOutput(dataTable, element);\n",
              "          const docLink = document.createElement('div');\n",
              "          docLink.innerHTML = docLinkHtml;\n",
              "          element.appendChild(docLink);\n",
              "        }\n",
              "      </script>\n",
              "    </div>\n",
              "  </div>\n",
              "  "
            ]
          },
          "metadata": {},
          "execution_count": 52
        }
      ],
      "source": [
        "X_train"
      ]
    },
    {
      "cell_type": "markdown",
      "source": [
        "Penjelasan mutual_info_classif mengukur ketergantungan antara variabel. Itu sama dengan nol jika dan hanya jika dua variabel acak independen, dan nilai yang lebih tinggi berarti ketergantungan yang lebih tinggi."
      ],
      "metadata": {
        "id": "XizJfe1fmzgf"
      }
    },
    {
      "cell_type": "code",
      "execution_count": 53,
      "metadata": {
        "colab": {
          "base_uri": "https://localhost:8080/"
        },
        "id": "6nvVYjeG-C8b",
        "outputId": "33044469-8543-4476-eae3-ebb0681b4f1c"
      },
      "outputs": [
        {
          "output_type": "execute_result",
          "data": {
            "text/plain": [
              "array([0.        , 0.        , 0.        , 0.        , 0.        ,\n",
              "       0.04331382, 0.        , 0.02615316, 0.00259214, 0.11167843,\n",
              "       0.        , 0.        , 0.00976715, 0.0727036 , 0.04673965,\n",
              "       0.        , 0.06439993, 0.        , 0.03197403, 0.        ,\n",
              "       0.01892939, 0.0477221 , 0.00517101, 0.        , 0.0175764 ,\n",
              "       0.        , 0.        , 0.0247725 , 0.        , 0.        ,\n",
              "       0.        , 0.02388072, 0.        , 0.01718002, 0.        ,\n",
              "       0.        , 0.        , 0.        , 0.        , 0.        ,\n",
              "       0.        , 0.00073242, 0.04405038, 0.01605699, 0.02572573,\n",
              "       0.        , 0.        , 0.        , 0.03108993, 0.        ,\n",
              "       0.        , 0.09355755, 0.        , 0.05362078, 0.01376536,\n",
              "       0.        , 0.01186697, 0.        , 0.03172374, 0.        ,\n",
              "       0.0557091 , 0.        , 0.04753579, 0.        , 0.031583  ,\n",
              "       0.08901408, 0.        , 0.01897239, 0.00799604, 0.        ,\n",
              "       0.        , 0.        , 0.04217372, 0.02038872, 0.        ,\n",
              "       0.03798976, 0.        , 0.        , 0.07030205, 0.00749357,\n",
              "       0.        , 0.01084136, 0.04425424, 0.        , 0.00056642,\n",
              "       0.        , 0.02705925, 0.05501112, 0.        , 0.07926217,\n",
              "       0.        , 0.04643966, 0.        , 0.        , 0.03778338,\n",
              "       0.02914672, 0.        , 0.        , 0.01601171, 0.04465918,\n",
              "       0.        , 0.04705676, 0.0013121 , 0.        , 0.02017938,\n",
              "       0.        , 0.        , 0.02885473, 0.00234394, 0.        ,\n",
              "       0.15906645, 0.05516614, 0.        , 0.01383413, 0.        ,\n",
              "       0.        , 0.06632046, 0.03087325, 0.07917729, 0.00853218,\n",
              "       0.04982489, 0.00606598, 0.        , 0.        , 0.        ,\n",
              "       0.00876707, 0.        , 0.        , 0.00086235, 0.04831895,\n",
              "       0.        , 0.04099116, 0.04066832, 0.02080297, 0.02785565,\n",
              "       0.        , 0.        , 0.        , 0.02387578, 0.        ,\n",
              "       0.        , 0.03775671, 0.        , 0.        , 0.03356326,\n",
              "       0.        , 0.        , 0.00862237, 0.05085911, 0.        ,\n",
              "       0.09984865, 0.        , 0.        , 0.        , 0.        ,\n",
              "       0.        , 0.        , 0.        , 0.08205388, 0.        ,\n",
              "       0.        , 0.0301808 , 0.03695772, 0.0494772 , 0.        ,\n",
              "       0.        , 0.04244315, 0.        , 0.05708705, 0.0078061 ,\n",
              "       0.01906303, 0.        , 0.        , 0.03956044, 0.08590063,\n",
              "       0.        , 0.00608372, 0.02004458, 0.        , 0.02448972,\n",
              "       0.        , 0.05046627, 0.01852261, 0.        , 0.        ,\n",
              "       0.03098092, 0.        , 0.01962783, 0.        , 0.03792588,\n",
              "       0.00215939, 0.00655961, 0.00805517, 0.00531388, 0.        ,\n",
              "       0.        , 0.        , 0.        , 0.08336631, 0.        ,\n",
              "       0.14119653, 0.        , 0.        , 0.        , 0.00064413,\n",
              "       0.        , 0.03688757, 0.        , 0.        , 0.        ,\n",
              "       0.05819416, 0.08807304, 0.04374584, 0.        , 0.00380939,\n",
              "       0.09353531, 0.00870213, 0.        , 0.        , 0.01291185,\n",
              "       0.00122103, 0.        , 0.        , 0.        , 0.        ,\n",
              "       0.        , 0.06397395, 0.        , 0.        , 0.0867033 ,\n",
              "       0.00699648, 0.        , 0.        , 0.06412206, 0.        ,\n",
              "       0.00764919, 0.        , 0.02827378, 0.        , 0.0242965 ,\n",
              "       0.06415723, 0.02143516, 0.        , 0.06283243, 0.        ,\n",
              "       0.01289924, 0.        , 0.04707934, 0.00603155, 0.        ,\n",
              "       0.        , 0.        , 0.        , 0.        , 0.        ,\n",
              "       0.        , 0.02218819, 0.        , 0.02001184, 0.        ,\n",
              "       0.07105134, 0.12282742, 0.        , 0.        , 0.08452545,\n",
              "       0.06614431, 0.03343504, 0.07623216, 0.        , 0.        ])"
            ]
          },
          "metadata": {},
          "execution_count": 53
        }
      ],
      "source": [
        "from sklearn.feature_selection import mutual_info_classif\n",
        "mutual_info = mutual_info_classif(X_train, y_train)\n",
        "mutual_info"
      ]
    },
    {
      "cell_type": "code",
      "execution_count": 54,
      "metadata": {
        "colab": {
          "base_uri": "https://localhost:8080/"
        },
        "id": "R8nib4yy-FcO",
        "outputId": "8788409c-6f72-4273-d908-670844d5d325"
      },
      "outputs": [
        {
          "output_type": "execute_result",
          "data": {
            "text/plain": [
              "(kaki,)      0.159066\n",
              "(respon,)    0.141197\n",
              "(wa,)        0.122827\n",
              "(allah,)     0.111678\n",
              "(mbak,)      0.099849\n",
              "               ...   \n",
              "(krn,)       0.000000\n",
              "(kuasa,)     0.000000\n",
              "(lapor,)     0.000000\n",
              "(2ini,)      0.000000\n",
              "(yuuk,)      0.000000\n",
              "Length: 270, dtype: float64"
            ]
          },
          "metadata": {},
          "execution_count": 54
        }
      ],
      "source": [
        "mutual_info = pd.Series(mutual_info)\n",
        "mutual_info.index = X_train.columns\n",
        "mutual_info.sort_values(ascending=False)"
      ]
    },
    {
      "cell_type": "code",
      "execution_count": 55,
      "metadata": {
        "colab": {
          "base_uri": "https://localhost:8080/",
          "height": 521
        },
        "id": "sUQpJDd2-H4A",
        "outputId": "12009113-0165-47e2-90c4-df8cfd73f48f"
      },
      "outputs": [
        {
          "output_type": "execute_result",
          "data": {
            "text/plain": [
              "<matplotlib.axes._subplots.AxesSubplot at 0x7f71a9c53f10>"
            ]
          },
          "metadata": {},
          "execution_count": 55
        },
        {
          "output_type": "display_data",
          "data": {
            "text/plain": [
              "<Figure size 3600x1440 with 1 Axes>"
            ],
            "image/png": "[encoded data removed]"
          },
          "metadata": {
            "needs_background": "light"
          }
        }
      ],
      "source": [
        "mutual_info.sort_values(ascending=False).plot.bar(figsize=(50, 20))\n"
      ]
    },
    {
      "cell_type": "markdown",
      "source": [
        "Import SelectKbest untuk memilih fitur tertinggi"
      ],
      "metadata": {
        "id": "_iwBQ6_7nILt"
      }
    },
    {
      "cell_type": "code",
      "execution_count": 56,
      "metadata": {
        "colab": {
          "base_uri": "https://localhost:8080/"
        },
        "id": "4nSs_NlR-JjT",
        "outputId": "5dff1b22-27c3-45ef-b082-3ff89b94cb47"
      },
      "outputs": [
        {
          "output_type": "stream",
          "name": "stderr",
          "text": [
            "/usr/local/lib/python3.7/dist-packages/sklearn/utils/validation.py:1692: FutureWarning: Feature names only support names that are all strings. Got feature names with dtypes: ['tuple']. An error will be raised in 1.2.\n",
            "  FutureWarning,\n"
          ]
        },
        {
          "output_type": "execute_result",
          "data": {
            "text/plain": [
              "Index([           ('abai',),             ('aja',),            ('ajab',),\n",
              "                 ('allah',),            ('aman',),             ('amp',),\n",
              "                   ('asa',),             ('asu',),            ('bain',),\n",
              "                 ('baru2',),            ('beda',),            ('beli',),\n",
              "                 ('bener',),     ('candrawathi',),             ('dah',),\n",
              "               ('dblngin',),            ('dehh',),       ('diomongin',),\n",
              "               ('dis1ks4',),       ('ditangkep',), ('ditindaklanjuti',),\n",
              "                  ('dmna',),            ('duit',),             ('emg',),\n",
              "                  ('fess',),              ('gk',),             ('gua',),\n",
              "                  ('guys',),           ('haduh',),             ('hak',),\n",
              "                 ('halah',),          ('hestek',),            ('hkum',),\n",
              "                 ('hujat',),              ('id',),          ('ilaihi',),\n",
              "              ('instansi',),              ('it',),         ('jakarta',),\n",
              "                 ('jaman',),           ('jawab',),           ('jerat',),\n",
              "                 ('kabar',),            ('kaki',),         ('kandung',),\n",
              "           ('kapitalisme',),           ('kasus',),           ('keras',),\n",
              "              ('ketawain',),             ('krn',),           ('kuasa',),\n",
              "            ('laporkasih',),         ('lembaga',),             ('lho',),\n",
              "               ('lindung',),          ('linier',),            ('lupa',),\n",
              "                 ('makan',),      ('masyarakat',),            ('mbak',),\n",
              "                ('medsos',),       ('millenial',),       ('mngunggah',),\n",
              "                 ('najwa',),         ('nantang',),          ('narasi',),\n",
              "              ('ngerokok',),            ('niat',),         ('pantang',),\n",
              "                  ('pdhl',),         ('percaya',),            ('rabb',),\n",
              "                ('rantai',),          ('respon',),           ('sambo',),\n",
              "                 ('sebar',),        ('sembunyi',),           ('serta',),\n",
              "                 ('siap2',),           ('sibuk',),           ('sigit',),\n",
              "                ('sistem',),            ('skrg',),              ('so',),\n",
              "                ('tabrak',),           ('tagar',),            ('tahu',),\n",
              "                   ('tau',),           ('telat',),        ('tetangga',),\n",
              "                   ('thd',),          ('tindak',),           ('tmpul',),\n",
              "                    ('tp',),             ('tua',),            ('uang',),\n",
              "                 ('ummat',),              ('wa',),           ('wujud',),\n",
              "                  ('yuuk',)],\n",
              "      dtype='object')"
            ]
          },
          "metadata": {},
          "execution_count": 56
        }
      ],
      "source": [
        "from sklearn.feature_selection import SelectKBest\n",
        "sel_five_cols = SelectKBest(mutual_info_classif, k=100)\n",
        "sel_five_cols.fit(X_train, y_train)\n",
        "X_train.columns[sel_five_cols.get_support()]"
      ]
    },
    {
      "cell_type": "code",
      "source": [
        "X_train=X_train.values\n",
        "y_train=y_train.values\n",
        "X_test=X_test.values\n",
        "y_test=y_test.values"
      ],
      "metadata": {
        "id": "hp_M-s4ynUbz"
      },
      "execution_count": 57,
      "outputs": []
    },
    {
      "cell_type": "markdown",
      "source": [
        "## Penjelasan Naive Bayes\n",
        "Naive Bayes adalah algoritma machine learning yang digunakan untuk keperluan klasifikasi atau pengelompokan suatu data. Algoritma ini didasarkan pada teorema probabilitas yang dikenalkan oleh ilmuwan Inggris Thomas Bayes. Naive Bayes berfungsi memprediksi probabilitas di masa depan berdasarkan pengalaman sebelumnya, sehingga dapat digunakan untuk pengambilan keputusan."
      ],
      "metadata": {
        "id": "nY832YyZpogr"
      }
    },
    {
      "cell_type": "code",
      "source": [
        "from sklearn.naive_bayes import GaussianNB\n",
        "gauss = GaussianNB()\n",
        "gauss.fit(X_train, y_train)"
      ],
      "metadata": {
        "id": "MAcja8ylps9_",
        "outputId": "337c1332-62ae-4e17-cf02-76325d1a49f5",
        "colab": {
          "base_uri": "https://localhost:8080/"
        }
      },
      "execution_count": 58,
      "outputs": [
        {
          "output_type": "execute_result",
          "data": {
            "text/plain": [
              "GaussianNB()"
            ]
          },
          "metadata": {},
          "execution_count": 58
        }
      ]
    },
    {
      "cell_type": "code",
      "source": [
        "from sklearn.metrics import make_scorer, accuracy_score,precision_score\n",
        "testing = gauss.predict(X_test) \n",
        "accuracy_gauss=round(accuracy_score(y_test,testing)* 100, 2)\n",
        "accuracy_gauss"
      ],
      "metadata": {
        "id": "FjNarCfWp0_j",
        "outputId": "23178d2e-2f7b-4416-9b38-f50d4358d209",
        "colab": {
          "base_uri": "https://localhost:8080/"
        }
      },
      "execution_count": 60,
      "outputs": [
        {
          "output_type": "execute_result",
          "data": {
            "text/plain": [
              "27.42"
            ]
          },
          "metadata": {},
          "execution_count": 60
        }
      ]
    },
    {
      "cell_type": "markdown",
      "source": [
        "##Penjelasan Matplotlib\n",
        "Matplotlib adalah library Python yang fokus pada visualisasi data seperti membuat plot grafik. Matplotlib pertama kali diciptakan oleh John D. Hunter dan sekarang telah dikelola oleh tim developer yang besar. Awalnya matplotlib dirancang untuk menghasilkan plot grafik yang sesuai pada publikasi jurnal atau artikel ilmiah. Matplotlib dapat digunakan dalam skrip Python, Python dan IPython shell, server aplikasi web, dan beberapa toolkit graphical user interface (GUI) lainnya."
      ],
      "metadata": {
        "id": "D4PqgqXVqSmB"
      }
    },
    {
      "cell_type": "code",
      "source": [
        "import matplotlib.pyplot as plt\n",
        "from sklearn import metrics"
      ],
      "metadata": {
        "id": "uVwXEBZkqWi7"
      },
      "execution_count": 62,
      "outputs": []
    },
    {
      "cell_type": "markdown",
      "source": [
        "##Penjelasan Confusion Matrix\n",
        "Confusion matrix juga sering disebut error matrix. Pada dasarnya confusion matrix memberikan informasi perbandingan hasil klasifikasi yang dilakukan oleh sistem (model) dengan hasil klasifikasi sebenarnya. Confusion matrix berbentuk tabel matriks yang menggambarkan kinerja model klasifikasi pada serangkaian data uji yang nilai sebenarnya diketahui.\n",
        "\n",
        "membuat Confusion Matrix dengan column vertical (negatif,netral dan positif) dan column horizontal (negatif,netral dan positif)"
      ],
      "metadata": {
        "id": "5LG4OYxqqcrG"
      }
    },
    {
      "cell_type": "code",
      "source": [
        "conf_matrix =metrics.confusion_matrix(y_true=y_test, y_pred=testing)\n",
        "cm_display = metrics.ConfusionMatrixDisplay(confusion_matrix = conf_matrix, display_labels = ['negatif', 'netral','positif'])\n",
        "cm_display.plot()\n",
        "plt.show()"
      ],
      "metadata": {
        "id": "0Hc_9My1qj2X",
        "outputId": "7a3955e5-bda4-4657-bec1-e2367599738d",
        "colab": {
          "base_uri": "https://localhost:8080/",
          "height": 279
        }
      },
      "execution_count": 63,
      "outputs": [
        {
          "output_type": "display_data",
          "data": {
            "text/plain": [
              "<Figure size 432x288 with 2 Axes>"
            ],
            "image/png": "[encoded data removed]"
          },
          "metadata": {
            "needs_background": "light"
          }
        }
      ]
    },
    {
      "cell_type": "markdown",
      "source": [
        "##Penjelasan K-Means\n",
        "K-Means Clustering merupakan algoritma yang efektif untuk menentukan cluster dalam sekumpulan data, di mana pada algortima tersebut dilakukan analisis kelompok yang mengacu pada pemartisian N objek ke dalam K kelompok (Cluster) berdasarkan nilai rata-rata (means) terdekat. Adapun persamaan yang sering digunakan dalam pemecahan masalah dalam menentukan jarak terdekat adalah persamaan Euclidean berikut :\n",
        "\n",
        "$$\n",
        "d(p,q) = \\sqrt{(p_{1}-q_{1})^2+(p_{2}-q_{2})^2+(p_{3}-q_{3})^2}\n",
        "$$\n",
        "\n",
        "\n",
        "d = jarak obyek\n",
        "\n",
        "p = data \n",
        "\n",
        "q = centroid\n",
        "\n",
        "TruncatedSVD adalah Teknik pengurangan dimensi menggunakan SVD terpotong"
      ],
      "metadata": {
        "id": "Sv7Bl5RwqxKM"
      }
    },
    {
      "cell_type": "markdown",
      "metadata": {
        "id": "H-4dPvbM8T9S"
      },
      "source": [
        "Prediksi Dengan Clustering"
      ]
    },
    {
      "cell_type": "code",
      "source": [
        "from sklearn.cluster import KMeans\n",
        "from sklearn.decomposition import TruncatedSVD"
      ],
      "metadata": {
        "id": "eT3sN4G7rLtJ"
      },
      "execution_count": 64,
      "outputs": []
    },
    {
      "cell_type": "code",
      "source": [
        "# Latih Kmeans dengan n cluster terbaik\n",
        "modelKm = KMeans(n_clusters=3, random_state=12)\n",
        "modelKm.fit(dataTF.values)\n",
        "prediksi = modelKm.predict(dataTF.values)\n",
        "\n",
        "# Pengurangan dimensi digunakan untuk memplot dalam representasi 2d\n",
        "pc=TruncatedSVD(n_components=2)\n",
        "X_new=pc.fit_transform(dataTF.values)\n",
        "centroids=pc.transform(modelKm.cluster_centers_)\n",
        "print(centroids)\n",
        "plt.scatter(X_new[:,0],X_new[:,1],c=prediksi, cmap='viridis')\n",
        "plt.scatter(centroids[:,0] , centroids[:,1] , s = 50, color = 'red')"
      ],
      "metadata": {
        "id": "YhPKW5lXrMgh",
        "outputId": "a6dc70ce-f1b0-4059-e839-6b34390b34d9",
        "colab": {
          "base_uri": "https://localhost:8080/",
          "height": 334
        }
      },
      "execution_count": 65,
      "outputs": [
        {
          "output_type": "stream",
          "name": "stdout",
          "text": [
            "[[ 0.08570072  0.19259235]\n",
            " [ 3.8673903  -0.95804248]\n",
            " [ 2.85946348  1.88308809]]\n"
          ]
        },
        {
          "output_type": "execute_result",
          "data": {
            "text/plain": [
              "<matplotlib.collections.PathCollection at 0x7f71a4232890>"
            ]
          },
          "metadata": {},
          "execution_count": 65
        },
        {
          "output_type": "display_data",
          "data": {
            "text/plain": [
              "<Figure size 432x288 with 1 Axes>"
            ],
            "image/png": "[encoded data removed]"
          },
          "metadata": {
            "needs_background": "light"
          }
        }
      ]
    },
    {
      "cell_type": "markdown",
      "source": [
        "#Perangkingan Kalimat Berita Dengan PageRank\n",
        "##Penjelasan Scrapy\n",
        "Scrapy adalah web crawling dan web scraping framework tingkat tinggi yang cepat, digunakan untuk merayapi situs web dan mengekstrak data terstruktur dari halaman mereka. Ini dapat digunakan untuk berbagai tujuan, mulai dari penambangan data hingga pemantauan dan pengujian otomatis."
      ],
      "metadata": {
        "id": "_s5WWvjkrkln"
      }
    },
    {
      "cell_type": "code",
      "source": [
        "!pip install scrapy\n",
        "!pip install crochet"
      ],
      "metadata": {
        "id": "EM8T2N1_ro00",
        "outputId": "f6864a87-876c-4112-f789-87673cc2091f",
        "colab": {
          "base_uri": "https://localhost:8080/"
        }
      },
      "execution_count": 66,
      "outputs": [
        {
          "output_type": "stream",
          "name": "stdout",
          "text": [
            "Looking in indexes: https://pypi.org/simple, https://us-python.pkg.dev/colab-wheels/public/simple/\n",
            "Collecting scrapy\n",
            "  Downloading Scrapy-2.7.1-py2.py3-none-any.whl (271 kB)\n",
            "\u001b[K     |████████████████████████████████| 271 kB 5.1 MB/s \n",
            "\u001b[?25hRequirement already satisfied: setuptools in /usr/local/lib/python3.7/dist-packages (from scrapy) (57.4.0)\n",
            "Collecting Twisted>=18.9.0\n",
            "  Downloading Twisted-22.10.0-py3-none-any.whl (3.1 MB)\n",
            "\u001b[K     |████████████████████████████████| 3.1 MB 33.5 MB/s \n",
            "\u001b[?25hCollecting queuelib>=1.4.2\n",
            "  Downloading queuelib-1.6.2-py2.py3-none-any.whl (13 kB)\n",
            "Collecting PyDispatcher>=2.0.5\n",
            "  Downloading PyDispatcher-2.0.6.tar.gz (38 kB)\n",
            "Collecting w3lib>=1.17.0\n",
            "  Downloading w3lib-2.0.1-py3-none-any.whl (20 kB)\n",
            "Collecting itemloaders>=1.0.1\n",
            "  Downloading itemloaders-1.0.6-py3-none-any.whl (11 kB)\n",
            "Collecting pyOpenSSL>=21.0.0\n",
            "  Downloading pyOpenSSL-22.1.0-py3-none-any.whl (57 kB)\n",
            "\u001b[K     |████████████████████████████████| 57 kB 3.2 MB/s \n",
            "\u001b[?25hCollecting protego>=0.1.15\n",
            "  Downloading Protego-0.2.1-py2.py3-none-any.whl (8.2 kB)\n",
            "Collecting tldextract\n",
            "  Downloading tldextract-3.4.0-py3-none-any.whl (93 kB)\n",
            "\u001b[K     |████████████████████████████████| 93 kB 1.9 MB/s \n",
            "\u001b[?25hCollecting cryptography>=3.3\n",
            "  Downloading cryptography-38.0.3-cp36-abi3-manylinux_2_24_x86_64.whl (4.1 MB)\n",
            "\u001b[K     |████████████████████████████████| 4.1 MB 24.8 MB/s \n",
            "\u001b[?25hCollecting zope.interface>=5.1.0\n",
            "  Downloading zope.interface-5.5.1-cp37-cp37m-manylinux_2_5_x86_64.manylinux1_x86_64.manylinux_2_12_x86_64.manylinux2010_x86_64.whl (254 kB)\n",
            "\u001b[K     |████████████████████████████████| 254 kB 42.0 MB/s \n",
            "\u001b[?25hCollecting itemadapter>=0.1.0\n",
            "  Downloading itemadapter-0.7.0-py3-none-any.whl (10 kB)\n",
            "Collecting service-identity>=18.1.0\n",
            "  Downloading service_identity-21.1.0-py2.py3-none-any.whl (12 kB)\n",
            "Requirement already satisfied: packaging in /usr/local/lib/python3.7/dist-packages (from scrapy) (21.3)\n",
            "Requirement already satisfied: lxml>=4.3.0 in /usr/local/lib/python3.7/dist-packages (from scrapy) (4.9.1)\n",
            "Collecting cssselect>=0.9.1\n",
            "  Downloading cssselect-1.2.0-py2.py3-none-any.whl (18 kB)\n",
            "Collecting parsel>=1.5.0\n",
            "  Downloading parsel-1.7.0-py2.py3-none-any.whl (14 kB)\n",
            "Requirement already satisfied: cffi>=1.12 in /usr/local/lib/python3.7/dist-packages (from cryptography>=3.3->scrapy) (1.15.1)\n",
            "Requirement already satisfied: pycparser in /usr/local/lib/python3.7/dist-packages (from cffi>=1.12->cryptography>=3.3->scrapy) (2.21)\n",
            "Collecting jmespath>=0.9.5\n",
            "  Downloading jmespath-1.0.1-py3-none-any.whl (20 kB)\n",
            "Requirement already satisfied: six in /usr/local/lib/python3.7/dist-packages (from protego>=0.1.15->scrapy) (1.15.0)\n",
            "Requirement already satisfied: attrs>=19.1.0 in /usr/local/lib/python3.7/dist-packages (from service-identity>=18.1.0->scrapy) (22.1.0)\n",
            "Requirement already satisfied: pyasn1-modules in /usr/local/lib/python3.7/dist-packages (from service-identity>=18.1.0->scrapy) (0.2.8)\n",
            "Requirement already satisfied: pyasn1 in /usr/local/lib/python3.7/dist-packages (from service-identity>=18.1.0->scrapy) (0.4.8)\n",
            "Collecting hyperlink>=17.1.1\n",
            "  Downloading hyperlink-21.0.0-py2.py3-none-any.whl (74 kB)\n",
            "\u001b[K     |████████████████████████████████| 74 kB 2.8 MB/s \n",
            "\u001b[?25hCollecting Automat>=0.8.0\n",
            "  Downloading Automat-22.10.0-py2.py3-none-any.whl (26 kB)\n",
            "Requirement already satisfied: typing-extensions>=3.6.5 in /usr/local/lib/python3.7/dist-packages (from Twisted>=18.9.0->scrapy) (4.1.1)\n",
            "Collecting incremental>=21.3.0\n",
            "  Downloading incremental-22.10.0-py2.py3-none-any.whl (16 kB)\n",
            "Collecting constantly>=15.1\n",
            "  Downloading constantly-15.1.0-py2.py3-none-any.whl (7.9 kB)\n",
            "Requirement already satisfied: idna>=2.5 in /usr/local/lib/python3.7/dist-packages (from hyperlink>=17.1.1->Twisted>=18.9.0->scrapy) (2.10)\n",
            "Requirement already satisfied: pyparsing!=3.0.5,>=2.0.2 in /usr/local/lib/python3.7/dist-packages (from packaging->scrapy) (3.0.9)\n",
            "Collecting requests-file>=1.4\n",
            "  Downloading requests_file-1.5.1-py2.py3-none-any.whl (3.7 kB)\n",
            "Requirement already satisfied: requests>=2.1.0 in /usr/local/lib/python3.7/dist-packages (from tldextract->scrapy) (2.28.1)\n",
            "Requirement already satisfied: filelock>=3.0.8 in /usr/local/lib/python3.7/dist-packages (from tldextract->scrapy) (3.8.0)\n",
            "Requirement already satisfied: charset-normalizer<3,>=2 in /usr/local/lib/python3.7/dist-packages (from requests>=2.1.0->tldextract->scrapy) (2.1.1)\n",
            "Requirement already satisfied: urllib3<1.27,>=1.21.1 in /usr/local/lib/python3.7/dist-packages (from requests>=2.1.0->tldextract->scrapy) (1.26.12)\n",
            "Requirement already satisfied: certifi>=2017.4.17 in /usr/local/lib/python3.7/dist-packages (from requests>=2.1.0->tldextract->scrapy) (2022.9.24)\n",
            "Building wheels for collected packages: PyDispatcher\n",
            "  Building wheel for PyDispatcher (setup.py) ... \u001b[?25l\u001b[?25hdone\n",
            "  Created wheel for PyDispatcher: filename=PyDispatcher-2.0.6-py3-none-any.whl size=11959 sha256=355bd25f3595da4d64783d0b20f4b2da82ad5c6be016c36ee8723aa0cbf3a259\n",
            "  Stored in directory: /root/.cache/pip/wheels/c9/d6/6a/de198d890277cde60ca3dbebe7ae592d3b381c7d9bb2455f4d\n",
            "Successfully built PyDispatcher\n",
            "Installing collected packages: w3lib, cssselect, zope.interface, requests-file, parsel, jmespath, itemadapter, incremental, hyperlink, cryptography, constantly, Automat, Twisted, tldextract, service-identity, queuelib, pyOpenSSL, PyDispatcher, protego, itemloaders, scrapy\n",
            "Successfully installed Automat-22.10.0 PyDispatcher-2.0.6 Twisted-22.10.0 constantly-15.1.0 cryptography-38.0.3 cssselect-1.2.0 hyperlink-21.0.0 incremental-22.10.0 itemadapter-0.7.0 itemloaders-1.0.6 jmespath-1.0.1 parsel-1.7.0 protego-0.2.1 pyOpenSSL-22.1.0 queuelib-1.6.2 requests-file-1.5.1 scrapy-2.7.1 service-identity-21.1.0 tldextract-3.4.0 w3lib-2.0.1 zope.interface-5.5.1\n",
            "Looking in indexes: https://pypi.org/simple, https://us-python.pkg.dev/colab-wheels/public/simple/\n",
            "Collecting crochet\n",
            "  Downloading crochet-2.0.0-py3-none-any.whl (31 kB)\n",
            "Requirement already satisfied: wrapt in /usr/local/lib/python3.7/dist-packages (from crochet) (1.14.1)\n",
            "Requirement already satisfied: Twisted>=16.0 in /usr/local/lib/python3.7/dist-packages (from crochet) (22.10.0)\n",
            "Requirement already satisfied: incremental>=21.3.0 in /usr/local/lib/python3.7/dist-packages (from Twisted>=16.0->crochet) (22.10.0)\n",
            "Requirement already satisfied: hyperlink>=17.1.1 in /usr/local/lib/python3.7/dist-packages (from Twisted>=16.0->crochet) (21.0.0)\n",
            "Requirement already satisfied: constantly>=15.1 in /usr/local/lib/python3.7/dist-packages (from Twisted>=16.0->crochet) (15.1.0)\n",
            "Requirement already satisfied: Automat>=0.8.0 in /usr/local/lib/python3.7/dist-packages (from Twisted>=16.0->crochet) (22.10.0)\n",
            "Requirement already satisfied: attrs>=19.2.0 in /usr/local/lib/python3.7/dist-packages (from Twisted>=16.0->crochet) (22.1.0)\n",
            "Requirement already satisfied: zope.interface>=4.4.2 in /usr/local/lib/python3.7/dist-packages (from Twisted>=16.0->crochet) (5.5.1)\n",
            "Requirement already satisfied: typing-extensions>=3.6.5 in /usr/local/lib/python3.7/dist-packages (from Twisted>=16.0->crochet) (4.1.1)\n",
            "Requirement already satisfied: six in /usr/local/lib/python3.7/dist-packages (from Automat>=0.8.0->Twisted>=16.0->crochet) (1.15.0)\n",
            "Requirement already satisfied: idna>=2.5 in /usr/local/lib/python3.7/dist-packages (from hyperlink>=17.1.1->Twisted>=16.0->crochet) (2.10)\n",
            "Requirement already satisfied: setuptools in /usr/local/lib/python3.7/dist-packages (from zope.interface>=4.4.2->Twisted>=16.0->crochet) (57.4.0)\n",
            "Installing collected packages: crochet\n",
            "Successfully installed crochet-2.0.0\n"
          ]
        }
      ]
    },
    {
      "cell_type": "code",
      "source": [
        "import scrapy"
      ],
      "metadata": {
        "id": "sx3rVj0ErrZc"
      },
      "execution_count": 67,
      "outputs": []
    },
    {
      "cell_type": "code",
      "source": [
        "import scrapy\n",
        "from scrapy.crawler import CrawlerRunner\n",
        "import re\n",
        "from crochet import setup, wait_for\n",
        "setup()\n",
        "\n",
        "class QuotesToCsv(scrapy.Spider):\n",
        "    name = \"TugasPPW\"\n",
        "    start_urls = [\n",
        "        'https://nasional.tempo.co/read/1656990/jokowi-dan-pemimpin-g20-gelar-pertemuan-tertutup',\n",
        "    ]\n",
        "    custom_settings = {\n",
        "        'ITEM_PIPELINES': {\n",
        "            '__main__.ExtractFirstLine': 1\n",
        "        },\n",
        "        'FEEDS': {\n",
        "            'news.csv': {\n",
        "                'format': 'csv',\n",
        "                'overwrite': True\n",
        "            }\n",
        "        }\n",
        "    }\n",
        "\n",
        "    def parse(self, response):\n",
        "        \"\"\"parse data from urls\"\"\"\n",
        "        for quote in response.css('#isi > p'):\n",
        "            yield {'news': quote.extract()}\n",
        "\n",
        "\n",
        "class ExtractFirstLine(object):\n",
        "    def process_item(self, item, spider):\n",
        "        \"\"\"text processing\"\"\"\n",
        "        lines = dict(item)[\"news\"].splitlines()\n",
        "        first_line = self.__remove_html_tags__(lines[0])\n",
        "\n",
        "        return {'news': first_line}\n",
        "\n",
        "    def __remove_html_tags__(self, text):\n",
        "        \"\"\"remove html tags from string\"\"\"\n",
        "        html_tags = re.compile('<.*?>')\n",
        "        return re.sub(html_tags, '', text)\n",
        "\n",
        "@wait_for(10)\n",
        "def run_spider():\n",
        "    crawler = CrawlerRunner()\n",
        "    d = crawler.crawl(QuotesToCsv)\n",
        "    return d"
      ],
      "metadata": {
        "id": "PX8tqXmjr0np"
      },
      "execution_count": 71,
      "outputs": []
    },
    {
      "cell_type": "code",
      "source": [
        "# run_spider()"
      ],
      "metadata": {
        "id": "DmobG0Y1r0bq"
      },
      "execution_count": 70,
      "outputs": []
    },
    {
      "cell_type": "code",
      "source": [
        "dataNews = pd.read_csv('news.csv')\n",
        "dataNews"
      ],
      "metadata": {
        "id": "7DDW7PQ7shJ8",
        "outputId": "39dfd160-0423-4cda-f399-056cb0e99e46",
        "colab": {
          "base_uri": "https://localhost:8080/",
          "height": 394
        }
      },
      "execution_count": 72,
      "outputs": [
        {
          "output_type": "execute_result",
          "data": {
            "text/plain": [
              "                                                 news\n",
              "0   TEMPO.CO, Bali - Presiden Joko Widodo atau Jok...\n",
              "1   \"Kami akan mulai dengan diskusi tertutup, oleh...\n",
              "2   Berbagai isu disinggung Jokowi dalam pembukaan...\n",
              "3   Kedua soal perang. Jokowi meminta negara yang ...\n",
              "4   Jokowi menyerukan agar dunia tidak seharusnya ...\n",
              "5   Ketiga soal pelaksaan KTT G20. Ujung dari pert...\n",
              "6   \"Buat saya, G20 harus berhasil dan tidak boleh...\n",
              "7   Indonesia, kata Jokowi, berharap G20 dapat ter...\n",
              "8   Lalu, membantu ruang fiskal negara berpendapat...\n",
              "9   \"Kita tidak hanya bicara, tapi melakukan langk...\n",
              "10  Baca: Jokowi Buka KTT G20: Kita Tak Boleh Jatu..."
            ],
            "text/html": [
              "\n",
              "  <div id=\"df-a18d66b1-db37-4de8-ac4e-2c0d7111c514\">\n",
              "    <div class=\"colab-df-container\">\n",
              "      <div>\n",
              "<style scoped>\n",
              "    .dataframe tbody tr th:only-of-type {\n",
              "        vertical-align: middle;\n",
              "    }\n",
              "\n",
              "    .dataframe tbody tr th {\n",
              "        vertical-align: top;\n",
              "    }\n",
              "\n",
              "    .dataframe thead th {\n",
              "        text-align: right;\n",
              "    }\n",
              "</style>\n",
              "<table border=\"1\" class=\"dataframe\">\n",
              "  <thead>\n",
              "    <tr style=\"text-align: right;\">\n",
              "      <th></th>\n",
              "      <th>news</th>\n",
              "    </tr>\n",
              "  </thead>\n",
              "  <tbody>\n",
              "    <tr>\n",
              "      <th>0</th>\n",
              "      <td>TEMPO.CO, Bali - Presiden Joko Widodo atau Jok...</td>\n",
              "    </tr>\n",
              "    <tr>\n",
              "      <th>1</th>\n",
              "      <td>\"Kami akan mulai dengan diskusi tertutup, oleh...</td>\n",
              "    </tr>\n",
              "    <tr>\n",
              "      <th>2</th>\n",
              "      <td>Berbagai isu disinggung Jokowi dalam pembukaan...</td>\n",
              "    </tr>\n",
              "    <tr>\n",
              "      <th>3</th>\n",
              "      <td>Kedua soal perang. Jokowi meminta negara yang ...</td>\n",
              "    </tr>\n",
              "    <tr>\n",
              "      <th>4</th>\n",
              "      <td>Jokowi menyerukan agar dunia tidak seharusnya ...</td>\n",
              "    </tr>\n",
              "    <tr>\n",
              "      <th>5</th>\n",
              "      <td>Ketiga soal pelaksaan KTT G20. Ujung dari pert...</td>\n",
              "    </tr>\n",
              "    <tr>\n",
              "      <th>6</th>\n",
              "      <td>\"Buat saya, G20 harus berhasil dan tidak boleh...</td>\n",
              "    </tr>\n",
              "    <tr>\n",
              "      <th>7</th>\n",
              "      <td>Indonesia, kata Jokowi, berharap G20 dapat ter...</td>\n",
              "    </tr>\n",
              "    <tr>\n",
              "      <th>8</th>\n",
              "      <td>Lalu, membantu ruang fiskal negara berpendapat...</td>\n",
              "    </tr>\n",
              "    <tr>\n",
              "      <th>9</th>\n",
              "      <td>\"Kita tidak hanya bicara, tapi melakukan langk...</td>\n",
              "    </tr>\n",
              "    <tr>\n",
              "      <th>10</th>\n",
              "      <td>Baca: Jokowi Buka KTT G20: Kita Tak Boleh Jatu...</td>\n",
              "    </tr>\n",
              "  </tbody>\n",
              "</table>\n",
              "</div>\n",
              "      <button class=\"colab-df-convert\" onclick=\"convertToInteractive('df-a18d66b1-db37-4de8-ac4e-2c0d7111c514')\"\n",
              "              title=\"Convert this dataframe to an interactive table.\"\n",
              "              style=\"display:none;\">\n",
              "        \n",
              "  <svg xmlns=\"http://www.w3.org/2000/svg\" height=\"24px\"viewBox=\"0 0 24 24\"\n",
              "       width=\"24px\">\n",
              "    <path d=\"M0 0h24v24H0V0z\" fill=\"none\"/>\n",
              "    <path d=\"M18.56 5.44l.94 2.06.94-2.06 2.06-.94-2.06-.94-.94-2.06-.94 2.06-2.06.94zm-11 1L8.5 8.5l.94-2.06 2.06-.94-2.06-.94L8.5 2.5l-.94 2.06-2.06.94zm10 10l.94 2.06.94-2.06 2.06-.94-2.06-.94-.94-2.06-.94 2.06-2.06.94z\"/><path d=\"M17.41 7.96l-1.37-1.37c-.4-.4-.92-.59-1.43-.59-.52 0-1.04.2-1.43.59L10.3 9.45l-7.72 7.72c-.78.78-.78 2.05 0 2.83L4 21.41c.39.39.9.59 1.41.59.51 0 1.02-.2 1.41-.59l7.78-7.78 2.81-2.81c.8-.78.8-2.07 0-2.86zM5.41 20L4 18.59l7.72-7.72 1.47 1.35L5.41 20z\"/>\n",
              "  </svg>\n",
              "      </button>\n",
              "      \n",
              "  <style>\n",
              "    .colab-df-container {\n",
              "      display:flex;\n",
              "      flex-wrap:wrap;\n",
              "      gap: 12px;\n",
              "    }\n",
              "\n",
              "    .colab-df-convert {\n",
              "      background-color: #E8F0FE;\n",
              "      border: none;\n",
              "      border-radius: 50%;\n",
              "      cursor: pointer;\n",
              "      display: none;\n",
              "      fill: #1967D2;\n",
              "      height: 32px;\n",
              "      padding: 0 0 0 0;\n",
              "      width: 32px;\n",
              "    }\n",
              "\n",
              "    .colab-df-convert:hover {\n",
              "      background-color: #E2EBFA;\n",
              "      box-shadow: 0px 1px 2px rgba(60, 64, 67, 0.3), 0px 1px 3px 1px rgba(60, 64, 67, 0.15);\n",
              "      fill: #174EA6;\n",
              "    }\n",
              "\n",
              "    [theme=dark] .colab-df-convert {\n",
              "      background-color: #3B4455;\n",
              "      fill: #D2E3FC;\n",
              "    }\n",
              "\n",
              "    [theme=dark] .colab-df-convert:hover {\n",
              "      background-color: #434B5C;\n",
              "      box-shadow: 0px 1px 3px 1px rgba(0, 0, 0, 0.15);\n",
              "      filter: drop-shadow(0px 1px 2px rgba(0, 0, 0, 0.3));\n",
              "      fill: #FFFFFF;\n",
              "    }\n",
              "  </style>\n",
              "\n",
              "      <script>\n",
              "        const buttonEl =\n",
              "          document.querySelector('#df-a18d66b1-db37-4de8-ac4e-2c0d7111c514 button.colab-df-convert');\n",
              "        buttonEl.style.display =\n",
              "          google.colab.kernel.accessAllowed ? 'block' : 'none';\n",
              "\n",
              "        async function convertToInteractive(key) {\n",
              "          const element = document.querySelector('#df-a18d66b1-db37-4de8-ac4e-2c0d7111c514');\n",
              "          const dataTable =\n",
              "            await google.colab.kernel.invokeFunction('convertToInteractive',\n",
              "                                                     [key], {});\n",
              "          if (!dataTable) return;\n",
              "\n",
              "          const docLinkHtml = 'Like what you see? Visit the ' +\n",
              "            '<a target=\"_blank\" href=https://colab.research.google.com/notebooks/data_table.ipynb>data table notebook</a>'\n",
              "            + ' to learn more about interactive tables.';\n",
              "          element.innerHTML = '';\n",
              "          dataTable['output_type'] = 'display_data';\n",
              "          await google.colab.output.renderOutput(dataTable, element);\n",
              "          const docLink = document.createElement('div');\n",
              "          docLink.innerHTML = docLinkHtml;\n",
              "          element.appendChild(docLink);\n",
              "        }\n",
              "      </script>\n",
              "    </div>\n",
              "  </div>\n",
              "  "
            ]
          },
          "metadata": {},
          "execution_count": 72
        }
      ]
    },
    {
      "cell_type": "markdown",
      "source": [
        "PyPDF2 adalah pustaka PDF python murni gratis dan open-source yang mampu memisahkan, menggabungkan , memotong, dan mengubah halaman file PDF.\n",
        "\n",
        "Install PyPDF2"
      ],
      "metadata": {
        "id": "QlG94TQzs1Wq"
      }
    },
    {
      "cell_type": "code",
      "source": [
        "!pip install PyPDF2"
      ],
      "metadata": {
        "id": "FbtRmVczsuzn",
        "outputId": "dfeb11d8-d1ef-4198-aeb4-ade5ebc3cd2a",
        "colab": {
          "base_uri": "https://localhost:8080/"
        }
      },
      "execution_count": 93,
      "outputs": [
        {
          "output_type": "stream",
          "name": "stdout",
          "text": [
            "Looking in indexes: https://pypi.org/simple, https://us-python.pkg.dev/colab-wheels/public/simple/\n",
            "Requirement already satisfied: PyPDF2 in /usr/local/lib/python3.7/dist-packages (2.11.1)\n",
            "Requirement already satisfied: typing-extensions>=3.10.0.0 in /usr/local/lib/python3.7/dist-packages (from PyPDF2) (4.1.1)\n"
          ]
        }
      ]
    },
    {
      "cell_type": "code",
      "source": [
        "import PyPDF2"
      ],
      "metadata": {
        "id": "MUrMwT5wuqoi"
      },
      "execution_count": 94,
      "outputs": []
    },
    {
      "cell_type": "code",
      "source": [
        "pdfReader = PyPDF2.PdfFileReader('news.pdf')\n",
        "pageObj = pdfReader.getPage(0)\n",
        "document = pageObj.extractText()\n",
        "document"
      ],
      "metadata": {
        "id": "u8YOxFU0tA1D",
        "outputId": "f0f28ee2-19fc-4b65-e37a-794f51acc884",
        "colab": {
          "base_uri": "https://localhost:8080/",
          "height": 122
        }
      },
      "execution_count": 95,
      "outputs": [
        {
          "output_type": "execute_result",
          "data": {
            "text/plain": [
              "'newsTEMPO.COKami akan mulai dengan diskusi tertutupBerbagai isu disinggung Jokowi dalam pembukaan ini. Pertama soal masalah\\npupuk. Jika kita tidak segera mengambil langkah agar ketersediaan pupuk\\nmencukupi dengan harga terjangkauKedua soal perang. Jokowi meminta negara yang hadir untuk segera menghentikan\\nperang. Kepala negara meminta pemimpin dunia untuk menghormati hukum\\ninternasional dan Piagam PBB secara konsisten.Jokowi menyerukan agar dunia tidak seharusnya dibagi menjadi beberapa bagian.\\nKita tidak boleh membiarkan dunia jatuh ke dalam perang Â\\xa0lagiKetiga soal pelaksaan KTT G20. Ujung dari pertemuan ini adalahBuat sayaIndonesiaLaluKita tidak hanya bicaraBaca: Jokowi Buka KTT G20: Kita Tak Boleh Jatuh ke Perang Dingin Lagi'"
            ],
            "application/vnd.google.colaboratory.intrinsic+json": {
              "type": "string"
            }
          },
          "metadata": {},
          "execution_count": 95
        }
      ]
    },
    {
      "cell_type": "markdown",
      "source": [
        "PunktSentenceTokenizer adalah Sebuah tokenizer kalimat yang menggunakan algoritma tanpa pengawasan untuk membangun model untuk kata-kata singkatan, kolokasi, dan kata-kata yang memulai kalimat dan kemudian menggunakan model itu untuk menemukan batas kalimat."
      ],
      "metadata": {
        "id": "QMXvhbd0s1Tz"
      }
    },
    {
      "cell_type": "code",
      "source": [
        "from nltk.tokenize.punkt import PunktSentenceTokenizer\n",
        "def tokenize(document):\n",
        "    # Kita memecahnya menggunakan  PunktSentenceTokenizer\n",
        "    doc_tokenizer = PunktSentenceTokenizer()\n",
        "    # sentences_list adalah daftar masing masing kalimat dari dokumen yang ada.\n",
        "    sentences_list = doc_tokenizer.tokenize(document)\n",
        "    return sentences_list\n",
        "sentences_list = tokenize(document)\n",
        "sentences_list"
      ],
      "metadata": {
        "id": "xPQh2RdTxHql",
        "outputId": "9fb86552-6e1d-4458-fb79-84e5bde2eb3b",
        "colab": {
          "base_uri": "https://localhost:8080/"
        }
      },
      "execution_count": 96,
      "outputs": [
        {
          "output_type": "execute_result",
          "data": {
            "text/plain": [
              "['newsTEMPO.COKami akan mulai dengan diskusi tertutupBerbagai isu disinggung Jokowi dalam pembukaan ini.',\n",
              " 'Pertama soal masalah\\npupuk.',\n",
              " 'Jika kita tidak segera mengambil langkah agar ketersediaan pupuk\\nmencukupi dengan harga terjangkauKedua soal perang.',\n",
              " 'Jokowi meminta negara yang hadir untuk segera menghentikan\\nperang.',\n",
              " 'Kepala negara meminta pemimpin dunia untuk menghormati hukum\\ninternasional dan Piagam PBB secara konsisten.Jokowi menyerukan agar dunia tidak seharusnya dibagi menjadi beberapa bagian.',\n",
              " 'Kita tidak boleh membiarkan dunia jatuh ke dalam perang Â\\xa0lagiKetiga soal pelaksaan KTT G20.',\n",
              " 'Ujung dari pertemuan ini adalahBuat sayaIndonesiaLaluKita tidak hanya bicaraBaca: Jokowi Buka KTT G20: Kita Tak Boleh Jatuh ke Perang Dingin Lagi']"
            ]
          },
          "metadata": {},
          "execution_count": 96
        }
      ]
    },
    {
      "cell_type": "code",
      "source": [
        "kal=1\n",
        "for i in sentences_list:\n",
        "    print('\\nKalimat {}'.format(kal))\n",
        "    kal+=1\n",
        "    print(i)"
      ],
      "metadata": {
        "id": "JFPEEmXRxWXE",
        "outputId": "339b8ff7-a4db-4eef-b2e4-016838d79d9b",
        "colab": {
          "base_uri": "https://localhost:8080/"
        }
      },
      "execution_count": 97,
      "outputs": [
        {
          "output_type": "stream",
          "name": "stdout",
          "text": [
            "\n",
            "Kalimat 1\n",
            "newsTEMPO.COKami akan mulai dengan diskusi tertutupBerbagai isu disinggung Jokowi dalam pembukaan ini.\n",
            "\n",
            "Kalimat 2\n",
            "Pertama soal masalah\n",
            "pupuk.\n",
            "\n",
            "Kalimat 3\n",
            "Jika kita tidak segera mengambil langkah agar ketersediaan pupuk\n",
            "mencukupi dengan harga terjangkauKedua soal perang.\n",
            "\n",
            "Kalimat 4\n",
            "Jokowi meminta negara yang hadir untuk segera menghentikan\n",
            "perang.\n",
            "\n",
            "Kalimat 5\n",
            "Kepala negara meminta pemimpin dunia untuk menghormati hukum\n",
            "internasional dan Piagam PBB secara konsisten.Jokowi menyerukan agar dunia tidak seharusnya dibagi menjadi beberapa bagian.\n",
            "\n",
            "Kalimat 6\n",
            "Kita tidak boleh membiarkan dunia jatuh ke dalam perang Â lagiKetiga soal pelaksaan KTT G20.\n",
            "\n",
            "Kalimat 7\n",
            "Ujung dari pertemuan ini adalahBuat sayaIndonesiaLaluKita tidak hanya bicaraBaca: Jokowi Buka KTT G20: Kita Tak Boleh Jatuh ke Perang Dingin Lagi\n"
          ]
        }
      ]
    },
    {
      "cell_type": "markdown",
      "source": [
        "Tokenizing adalah proses pemisahan teks menjadi potongan-potongan yang disebut sebagai token untuk kemudian di analisa. Kata, angka, simbol, tanda baca dan entitas penting lainnya dapat dianggap sebagai token."
      ],
      "metadata": {
        "id": "uthw9SpOxb5h"
      }
    },
    {
      "cell_type": "code",
      "source": [
        "from sklearn.feature_extraction.text import TfidfTransformer, CountVectorizer\n",
        "vectorizer = CountVectorizer()\n",
        "cv_matrix=vectorizer.fit_transform(sentences_list)\n",
        "print (\"Banyaknya kosa kata = \", len((vectorizer.get_feature_names_out())))"
      ],
      "metadata": {
        "id": "n-qLixwZxPP3",
        "outputId": "40102db3-85cd-42bd-ceb1-5bc02a1d2bcd",
        "colab": {
          "base_uri": "https://localhost:8080/"
        }
      },
      "execution_count": 99,
      "outputs": [
        {
          "output_type": "stream",
          "name": "stdout",
          "text": [
            "Banyaknya kosa kata =  71\n"
          ]
        }
      ]
    },
    {
      "cell_type": "code",
      "source": [
        "print (\"Banyaknya kalimat = \", (len(sentences_list)))"
      ],
      "metadata": {
        "id": "XUry2O_3xmk2",
        "outputId": "b5979e1e-1289-46c2-ca02-81730a8397b8",
        "colab": {
          "base_uri": "https://localhost:8080/"
        }
      },
      "execution_count": 100,
      "outputs": [
        {
          "output_type": "stream",
          "name": "stdout",
          "text": [
            "Banyaknya kalimat =  7\n"
          ]
        }
      ]
    },
    {
      "cell_type": "code",
      "source": [
        "print (\"kosa kata = \", (vectorizer.get_feature_names_out()))"
      ],
      "metadata": {
        "id": "WcAO2KfoxpII",
        "outputId": "b9f8c075-7d3f-47e7-8f27-7df7312945a2",
        "colab": {
          "base_uri": "https://localhost:8080/"
        }
      },
      "execution_count": 101,
      "outputs": [
        {
          "output_type": "stream",
          "name": "stdout",
          "text": [
            "kosa kata =  ['adalahbuat' 'agar' 'akan' 'bagian' 'beberapa' 'bicarabaca' 'boleh'\n",
            " 'buka' 'cokami' 'dalam' 'dan' 'dari' 'dengan' 'dibagi' 'dingin'\n",
            " 'disinggung' 'diskusi' 'dunia' 'g20' 'hadir' 'hanya' 'harga' 'hukum'\n",
            " 'ini' 'internasional' 'isu' 'jatuh' 'jika' 'jokowi' 'ke' 'kepala'\n",
            " 'ketersediaan' 'kita' 'konsisten' 'ktt' 'lagi' 'lagiketiga' 'langkah'\n",
            " 'masalah' 'membiarkan' 'meminta' 'mencukupi' 'mengambil' 'menghentikan'\n",
            " 'menghormati' 'menjadi' 'menyerukan' 'mulai' 'negara' 'newstempo' 'pbb'\n",
            " 'pelaksaan' 'pembukaan' 'pemimpin' 'perang' 'pertama' 'pertemuan'\n",
            " 'piagam' 'pupuk' 'sayaindonesialalukita' 'secara' 'segera' 'seharusnya'\n",
            " 'soal' 'tak' 'terjangkaukedua' 'tertutupberbagai' 'tidak' 'ujung' 'untuk'\n",
            " 'yang']\n"
          ]
        }
      ]
    },
    {
      "cell_type": "code",
      "source": [
        "# mengubah kumpulan dokumen mentah menjadi matriks fitur TF-IDF\n",
        "normal_matrix = TfidfTransformer().fit_transform(cv_matrix)\n",
        "print(normal_matrix.toarray())"
      ],
      "metadata": {
        "id": "-_D0gkgExvbm",
        "outputId": "67405b99-0bb8-4830-a2cd-c09a81e04bc8",
        "colab": {
          "base_uri": "https://localhost:8080/"
        }
      },
      "execution_count": 102,
      "outputs": [
        {
          "output_type": "stream",
          "name": "stdout",
          "text": [
            "[[0.         0.         0.29557085 0.         0.         0.\n",
            "  0.         0.         0.29557085 0.24534919 0.         0.\n",
            "  0.24534919 0.         0.         0.29557085 0.29557085 0.\n",
            "  0.         0.         0.         0.         0.         0.24534919\n",
            "  0.         0.29557085 0.         0.         0.18207738 0.\n",
            "  0.         0.         0.         0.         0.         0.\n",
            "  0.         0.         0.         0.         0.         0.\n",
            "  0.         0.         0.         0.         0.         0.29557085\n",
            "  0.         0.29557085 0.         0.         0.29557085 0.\n",
            "  0.         0.         0.         0.         0.         0.\n",
            "  0.         0.         0.         0.         0.         0.\n",
            "  0.29557085 0.         0.         0.         0.        ]\n",
            " [0.         0.         0.         0.         0.         0.\n",
            "  0.         0.         0.         0.         0.         0.\n",
            "  0.         0.         0.         0.         0.         0.\n",
            "  0.         0.         0.         0.         0.         0.\n",
            "  0.         0.         0.         0.         0.         0.\n",
            "  0.         0.         0.         0.         0.         0.\n",
            "  0.         0.         0.55967542 0.         0.         0.\n",
            "  0.         0.         0.         0.         0.         0.\n",
            "  0.         0.         0.         0.         0.         0.\n",
            "  0.         0.55967542 0.         0.         0.46457866 0.\n",
            "  0.         0.         0.         0.39710644 0.         0.\n",
            "  0.         0.         0.         0.         0.        ]\n",
            " [0.         0.24454522 0.         0.         0.         0.\n",
            "  0.         0.         0.         0.         0.         0.\n",
            "  0.24454522 0.         0.         0.         0.         0.\n",
            "  0.         0.         0.         0.29460231 0.         0.\n",
            "  0.         0.         0.         0.29460231 0.         0.\n",
            "  0.         0.29460231 0.20902915 0.         0.         0.\n",
            "  0.         0.29460231 0.         0.         0.         0.29460231\n",
            "  0.29460231 0.         0.         0.         0.         0.\n",
            "  0.         0.         0.         0.         0.         0.\n",
            "  0.18148074 0.         0.         0.         0.24454522 0.\n",
            "  0.         0.24454522 0.         0.20902915 0.         0.29460231\n",
            "  0.         0.18148074 0.         0.         0.        ]\n",
            " [0.         0.         0.         0.         0.         0.\n",
            "  0.         0.         0.         0.         0.         0.\n",
            "  0.         0.         0.         0.         0.         0.\n",
            "  0.         0.39177657 0.         0.         0.         0.\n",
            "  0.         0.         0.         0.         0.24134197 0.\n",
            "  0.         0.         0.         0.         0.         0.\n",
            "  0.         0.         0.         0.         0.32520819 0.\n",
            "  0.         0.39177657 0.         0.         0.         0.\n",
            "  0.32520819 0.         0.         0.         0.         0.\n",
            "  0.24134197 0.         0.         0.         0.         0.\n",
            "  0.         0.32520819 0.         0.         0.         0.\n",
            "  0.         0.         0.         0.32520819 0.39177657]\n",
            " [0.         0.17589368 0.         0.21189817 0.21189817 0.\n",
            "  0.         0.         0.         0.         0.21189817 0.\n",
            "  0.         0.21189817 0.         0.         0.         0.35178736\n",
            "  0.         0.         0.         0.         0.21189817 0.\n",
            "  0.21189817 0.         0.         0.         0.13053339 0.\n",
            "  0.21189817 0.         0.         0.21189817 0.         0.\n",
            "  0.         0.         0.         0.         0.17589368 0.\n",
            "  0.         0.         0.21189817 0.21189817 0.21189817 0.\n",
            "  0.17589368 0.         0.21189817 0.         0.         0.21189817\n",
            "  0.         0.         0.         0.21189817 0.         0.\n",
            "  0.21189817 0.         0.21189817 0.         0.         0.\n",
            "  0.         0.13053339 0.         0.17589368 0.        ]\n",
            " [0.         0.         0.         0.         0.         0.\n",
            "  0.26806097 0.         0.         0.26806097 0.         0.\n",
            "  0.         0.         0.         0.         0.         0.26806097\n",
            "  0.26806097 0.         0.         0.         0.         0.\n",
            "  0.         0.         0.26806097 0.         0.         0.26806097\n",
            "  0.         0.         0.22912963 0.         0.26806097 0.\n",
            "  0.32293161 0.         0.         0.32293161 0.         0.\n",
            "  0.         0.         0.         0.         0.         0.\n",
            "  0.         0.         0.         0.32293161 0.         0.\n",
            "  0.19893214 0.         0.         0.         0.         0.\n",
            "  0.         0.         0.         0.22912963 0.         0.\n",
            "  0.         0.19893214 0.         0.         0.        ]\n",
            " [0.24414854 0.         0.         0.         0.         0.24414854\n",
            "  0.20266426 0.24414854 0.         0.         0.         0.24414854\n",
            "  0.         0.         0.24414854 0.         0.         0.\n",
            "  0.20266426 0.         0.24414854 0.         0.         0.20266426\n",
            "  0.         0.         0.20266426 0.         0.15040024 0.20266426\n",
            "  0.         0.         0.17323069 0.         0.20266426 0.24414854\n",
            "  0.         0.         0.         0.         0.         0.\n",
            "  0.         0.         0.         0.         0.         0.\n",
            "  0.         0.         0.         0.         0.         0.\n",
            "  0.15040024 0.         0.24414854 0.         0.         0.24414854\n",
            "  0.         0.         0.         0.         0.24414854 0.\n",
            "  0.         0.15040024 0.24414854 0.         0.        ]]\n"
          ]
        }
      ]
    },
    {
      "cell_type": "code",
      "source": [
        "normal_matrix.shape"
      ],
      "metadata": {
        "id": "dDTcM3C_x3q4",
        "outputId": "5b4a7ab2-0f05-455f-de19-f7ab77dd1399",
        "colab": {
          "base_uri": "https://localhost:8080/"
        }
      },
      "execution_count": 103,
      "outputs": [
        {
          "output_type": "execute_result",
          "data": {
            "text/plain": [
              "(7, 71)"
            ]
          },
          "metadata": {},
          "execution_count": 103
        }
      ]
    },
    {
      "cell_type": "markdown",
      "source": [
        "NetworkX adalah paket Python untuk pembuatan, manipulasi, dan studi tentang struktur, dinamika, dan fungsi jaringan yang kompleks. Ini menyediakan:"
      ],
      "metadata": {
        "id": "Kl7KYVcWxeTK"
      }
    },
    {
      "cell_type": "code",
      "source": [
        "import networkx as nx"
      ],
      "metadata": {
        "id": "yphfIO2NyAfO"
      },
      "execution_count": 104,
      "outputs": []
    },
    {
      "cell_type": "markdown",
      "source": [
        "Graph adalah kumpulan dati titik (node) dan garis dimana pasangan – pasangan titik (node) tersebut dihubungkan oleh segmen garis. Node ini biasa disebut simpul (vertex) dan segmen garis disebut ruas (edge)"
      ],
      "metadata": {
        "id": "hBLEd8YUyA6J"
      }
    },
    {
      "cell_type": "code",
      "source": [
        "res_graph = normal_matrix * normal_matrix.T\n",
        "print(res_graph)"
      ],
      "metadata": {
        "id": "6X7465hUyCxv",
        "outputId": "79197f8c-87f2-4c60-f05c-e636eee9702c",
        "colab": {
          "base_uri": "https://localhost:8080/"
        }
      },
      "execution_count": 105,
      "outputs": [
        {
          "output_type": "stream",
          "name": "stdout",
          "text": [
            "  (0, 5)\t0.06576854093191549\n",
            "  (0, 2)\t0.05999897145571936\n",
            "  (0, 6)\t0.07710799313518737\n",
            "  (0, 4)\t0.023767176912459116\n",
            "  (0, 3)\t0.04394291275200882\n",
            "  (0, 0)\t1.0\n",
            "  (1, 5)\t0.09098885035100515\n",
            "  (1, 2)\t0.1966173103863738\n",
            "  (1, 1)\t1.0\n",
            "  (2, 0)\t0.05999897145571936\n",
            "  (2, 3)\t0.12332702802936804\n",
            "  (2, 1)\t0.1966173103863738\n",
            "  (2, 6)\t0.09079975708839064\n",
            "  (2, 5)\t0.1679942436895711\n",
            "  (2, 4)\t0.0667032545112249\n",
            "  (2, 2)\t0.9999999999999998\n",
            "  (3, 0)\t0.04394291275200882\n",
            "  (3, 6)\t0.07259577923069657\n",
            "  (3, 5)\t0.04801067269374635\n",
            "  (3, 2)\t0.12332702802936804\n",
            "  (3, 4)\t0.20310938384736252\n",
            "  (3, 3)\t1.0\n",
            "  (4, 0)\t0.023767176912459116\n",
            "  (4, 6)\t0.039264505241403576\n",
            "  (4, 5)\t0.12026774569083745\n",
            "  (4, 2)\t0.0667032545112249\n",
            "  (4, 4)\t0.9999999999999998\n",
            "  (4, 3)\t0.20310938384736252\n",
            "  (5, 0)\t0.06576854093191549\n",
            "  (5, 3)\t0.04801067269374635\n",
            "  (5, 1)\t0.09098885035100515\n",
            "  (5, 6)\t0.3711630495622749\n",
            "  (5, 5)\t0.9999999999999998\n",
            "  (5, 4)\t0.12026774569083745\n",
            "  (5, 2)\t0.1679942436895711\n",
            "  (6, 0)\t0.07710799313518737\n",
            "  (6, 3)\t0.07259577923069657\n",
            "  (6, 5)\t0.3711630495622749\n",
            "  (6, 4)\t0.039264505241403576\n",
            "  (6, 2)\t0.09079975708839064\n",
            "  (6, 6)\t0.9999999999999996\n"
          ]
        }
      ]
    },
    {
      "cell_type": "code",
      "source": [
        "nx_graph = nx.from_scipy_sparse_matrix(res_graph)\n",
        "nx.draw_circular(nx_graph)"
      ],
      "metadata": {
        "id": "KarXnjhqyEbc",
        "outputId": "4eb89aa3-04b3-4e21-c72f-942474d9ffbe",
        "colab": {
          "base_uri": "https://localhost:8080/",
          "height": 319
        }
      },
      "execution_count": 106,
      "outputs": [
        {
          "output_type": "display_data",
          "data": {
            "text/plain": [
              "<Figure size 432x288 with 1 Axes>"
            ],
            "image/png": "[encoded data removed]"
          },
          "metadata": {}
        }
      ]
    },
    {
      "cell_type": "code",
      "source": [
        "print('Banyaknya sisi {}'.format(nx_graph.number_of_edges()))"
      ],
      "metadata": {
        "id": "WkEEyQ_lyTn1",
        "outputId": "6aa9f041-4d82-4a01-f0d1-b0717011a7bc",
        "colab": {
          "base_uri": "https://localhost:8080/"
        }
      },
      "execution_count": 107,
      "outputs": [
        {
          "output_type": "stream",
          "name": "stdout",
          "text": [
            "Banyaknya sisi 24\n"
          ]
        }
      ]
    },
    {
      "cell_type": "markdown",
      "source": [
        "Menkalikan data dengan data Transpose"
      ],
      "metadata": {
        "id": "i4sSFPVQyXiJ"
      }
    },
    {
      "cell_type": "code",
      "source": [
        "res_graph = normal_matrix * normal_matrix.T"
      ],
      "metadata": {
        "id": "6YTZgEAQyYZT"
      },
      "execution_count": 108,
      "outputs": []
    },
    {
      "cell_type": "markdown",
      "source": [
        "PageRank menghitung peringkat node dalam grafik G berdasarkan struktur tautan masuk. Awalnya dirancang sebagai algoritma untuk menentukan peringkat halaman web."
      ],
      "metadata": {
        "id": "I5x5cdMXyZ7k"
      }
    },
    {
      "cell_type": "code",
      "source": [
        "ranks=nx.pagerank(nx_graph,)"
      ],
      "metadata": {
        "id": "iWa6uhk6yc2w"
      },
      "execution_count": 109,
      "outputs": []
    },
    {
      "cell_type": "code",
      "source": [
        "arrRank=[]\n",
        "for i in ranks:\n",
        "    arrRank.append(ranks[i])\n",
        "dfRanks = pd.DataFrame(arrRank,columns=['PageRank'])\n",
        "dfSentence = pd.DataFrame(sentences_list,columns=['News'])\n",
        "dfJoin = pd.concat([dfSentence,dfRanks], axis=1)\n",
        "dfJoin"
      ],
      "metadata": {
        "id": "orWMaFdRyjbT",
        "outputId": "7511ca91-6ad6-4ad3-cf92-7964ac5b5b50",
        "colab": {
          "base_uri": "https://localhost:8080/",
          "height": 269
        }
      },
      "execution_count": 112,
      "outputs": [
        {
          "output_type": "execute_result",
          "data": {
            "text/plain": [
              "                                                News  PageRank\n",
              "0  newsTEMPO.COKami akan mulai dengan diskusi ter...  0.127739\n",
              "1                       Pertama soal masalah\\npupuk.  0.127876\n",
              "2  Jika kita tidak segera mengambil langkah agar ...  0.155191\n",
              "3  Jokowi meminta negara yang hadir untuk segera ...  0.139842\n",
              "4  Kepala negara meminta pemimpin dunia untuk men...  0.136901\n",
              "5  Kita tidak boleh membiarkan dunia jatuh ke dal...  0.164447\n",
              "6  Ujung dari pertemuan ini adalahBuat sayaIndone...  0.148004"
            ],
            "text/html": [
              "\n",
              "  <div id=\"df-dfe3f5d3-3315-498c-bda2-19a0d19f1d04\">\n",
              "    <div class=\"colab-df-container\">\n",
              "      <div>\n",
              "<style scoped>\n",
              "    .dataframe tbody tr th:only-of-type {\n",
              "        vertical-align: middle;\n",
              "    }\n",
              "\n",
              "    .dataframe tbody tr th {\n",
              "        vertical-align: top;\n",
              "    }\n",
              "\n",
              "    .dataframe thead th {\n",
              "        text-align: right;\n",
              "    }\n",
              "</style>\n",
              "<table border=\"1\" class=\"dataframe\">\n",
              "  <thead>\n",
              "    <tr style=\"text-align: right;\">\n",
              "      <th></th>\n",
              "      <th>News</th>\n",
              "      <th>PageRank</th>\n",
              "    </tr>\n",
              "  </thead>\n",
              "  <tbody>\n",
              "    <tr>\n",
              "      <th>0</th>\n",
              "      <td>newsTEMPO.COKami akan mulai dengan diskusi ter...</td>\n",
              "      <td>0.127739</td>\n",
              "    </tr>\n",
              "    <tr>\n",
              "      <th>1</th>\n",
              "      <td>Pertama soal masalah\\npupuk.</td>\n",
              "      <td>0.127876</td>\n",
              "    </tr>\n",
              "    <tr>\n",
              "      <th>2</th>\n",
              "      <td>Jika kita tidak segera mengambil langkah agar ...</td>\n",
              "      <td>0.155191</td>\n",
              "    </tr>\n",
              "    <tr>\n",
              "      <th>3</th>\n",
              "      <td>Jokowi meminta negara yang hadir untuk segera ...</td>\n",
              "      <td>0.139842</td>\n",
              "    </tr>\n",
              "    <tr>\n",
              "      <th>4</th>\n",
              "      <td>Kepala negara meminta pemimpin dunia untuk men...</td>\n",
              "      <td>0.136901</td>\n",
              "    </tr>\n",
              "    <tr>\n",
              "      <th>5</th>\n",
              "      <td>Kita tidak boleh membiarkan dunia jatuh ke dal...</td>\n",
              "      <td>0.164447</td>\n",
              "    </tr>\n",
              "    <tr>\n",
              "      <th>6</th>\n",
              "      <td>Ujung dari pertemuan ini adalahBuat sayaIndone...</td>\n",
              "      <td>0.148004</td>\n",
              "    </tr>\n",
              "  </tbody>\n",
              "</table>\n",
              "</div>\n",
              "      <button class=\"colab-df-convert\" onclick=\"convertToInteractive('df-dfe3f5d3-3315-498c-bda2-19a0d19f1d04')\"\n",
              "              title=\"Convert this dataframe to an interactive table.\"\n",
              "              style=\"display:none;\">\n",
              "        \n",
              "  <svg xmlns=\"http://www.w3.org/2000/svg\" height=\"24px\"viewBox=\"0 0 24 24\"\n",
              "       width=\"24px\">\n",
              "    <path d=\"M0 0h24v24H0V0z\" fill=\"none\"/>\n",
              "    <path d=\"M18.56 5.44l.94 2.06.94-2.06 2.06-.94-2.06-.94-.94-2.06-.94 2.06-2.06.94zm-11 1L8.5 8.5l.94-2.06 2.06-.94-2.06-.94L8.5 2.5l-.94 2.06-2.06.94zm10 10l.94 2.06.94-2.06 2.06-.94-2.06-.94-.94-2.06-.94 2.06-2.06.94z\"/><path d=\"M17.41 7.96l-1.37-1.37c-.4-.4-.92-.59-1.43-.59-.52 0-1.04.2-1.43.59L10.3 9.45l-7.72 7.72c-.78.78-.78 2.05 0 2.83L4 21.41c.39.39.9.59 1.41.59.51 0 1.02-.2 1.41-.59l7.78-7.78 2.81-2.81c.8-.78.8-2.07 0-2.86zM5.41 20L4 18.59l7.72-7.72 1.47 1.35L5.41 20z\"/>\n",
              "  </svg>\n",
              "      </button>\n",
              "      \n",
              "  <style>\n",
              "    .colab-df-container {\n",
              "      display:flex;\n",
              "      flex-wrap:wrap;\n",
              "      gap: 12px;\n",
              "    }\n",
              "\n",
              "    .colab-df-convert {\n",
              "      background-color: #E8F0FE;\n",
              "      border: none;\n",
              "      border-radius: 50%;\n",
              "      cursor: pointer;\n",
              "      display: none;\n",
              "      fill: #1967D2;\n",
              "      height: 32px;\n",
              "      padding: 0 0 0 0;\n",
              "      width: 32px;\n",
              "    }\n",
              "\n",
              "    .colab-df-convert:hover {\n",
              "      background-color: #E2EBFA;\n",
              "      box-shadow: 0px 1px 2px rgba(60, 64, 67, 0.3), 0px 1px 3px 1px rgba(60, 64, 67, 0.15);\n",
              "      fill: #174EA6;\n",
              "    }\n",
              "\n",
              "    [theme=dark] .colab-df-convert {\n",
              "      background-color: #3B4455;\n",
              "      fill: #D2E3FC;\n",
              "    }\n",
              "\n",
              "    [theme=dark] .colab-df-convert:hover {\n",
              "      background-color: #434B5C;\n",
              "      box-shadow: 0px 1px 3px 1px rgba(0, 0, 0, 0.15);\n",
              "      filter: drop-shadow(0px 1px 2px rgba(0, 0, 0, 0.3));\n",
              "      fill: #FFFFFF;\n",
              "    }\n",
              "  </style>\n",
              "\n",
              "      <script>\n",
              "        const buttonEl =\n",
              "          document.querySelector('#df-dfe3f5d3-3315-498c-bda2-19a0d19f1d04 button.colab-df-convert');\n",
              "        buttonEl.style.display =\n",
              "          google.colab.kernel.accessAllowed ? 'block' : 'none';\n",
              "\n",
              "        async function convertToInteractive(key) {\n",
              "          const element = document.querySelector('#df-dfe3f5d3-3315-498c-bda2-19a0d19f1d04');\n",
              "          const dataTable =\n",
              "            await google.colab.kernel.invokeFunction('convertToInteractive',\n",
              "                                                     [key], {});\n",
              "          if (!dataTable) return;\n",
              "\n",
              "          const docLinkHtml = 'Like what you see? Visit the ' +\n",
              "            '<a target=\"_blank\" href=https://colab.research.google.com/notebooks/data_table.ipynb>data table notebook</a>'\n",
              "            + ' to learn more about interactive tables.';\n",
              "          element.innerHTML = '';\n",
              "          dataTable['output_type'] = 'display_data';\n",
              "          await google.colab.output.renderOutput(dataTable, element);\n",
              "          const docLink = document.createElement('div');\n",
              "          docLink.innerHTML = docLinkHtml;\n",
              "          element.appendChild(docLink);\n",
              "        }\n",
              "      </script>\n",
              "    </div>\n",
              "  </div>\n",
              "  "
            ]
          },
          "metadata": {},
          "execution_count": 112
        }
      ]
    },
    {
      "cell_type": "code",
      "source": [
        "sortSentence=dfJoin.sort_values(by=['PageRank'],ascending=False)\n",
        "sortSentence"
      ],
      "metadata": {
        "id": "Ck_Sam5hysWx",
        "outputId": "fd5a8531-b40d-4644-a20a-0a6532076fd3",
        "colab": {
          "base_uri": "https://localhost:8080/",
          "height": 269
        }
      },
      "execution_count": 113,
      "outputs": [
        {
          "output_type": "execute_result",
          "data": {
            "text/plain": [
              "                                                News  PageRank\n",
              "5  Kita tidak boleh membiarkan dunia jatuh ke dal...  0.164447\n",
              "2  Jika kita tidak segera mengambil langkah agar ...  0.155191\n",
              "6  Ujung dari pertemuan ini adalahBuat sayaIndone...  0.148004\n",
              "3  Jokowi meminta negara yang hadir untuk segera ...  0.139842\n",
              "4  Kepala negara meminta pemimpin dunia untuk men...  0.136901\n",
              "1                       Pertama soal masalah\\npupuk.  0.127876\n",
              "0  newsTEMPO.COKami akan mulai dengan diskusi ter...  0.127739"
            ],
            "text/html": [
              "\n",
              "  <div id=\"df-c2cee7a1-7d3e-4f10-87d6-24951a219291\">\n",
              "    <div class=\"colab-df-container\">\n",
              "      <div>\n",
              "<style scoped>\n",
              "    .dataframe tbody tr th:only-of-type {\n",
              "        vertical-align: middle;\n",
              "    }\n",
              "\n",
              "    .dataframe tbody tr th {\n",
              "        vertical-align: top;\n",
              "    }\n",
              "\n",
              "    .dataframe thead th {\n",
              "        text-align: right;\n",
              "    }\n",
              "</style>\n",
              "<table border=\"1\" class=\"dataframe\">\n",
              "  <thead>\n",
              "    <tr style=\"text-align: right;\">\n",
              "      <th></th>\n",
              "      <th>News</th>\n",
              "      <th>PageRank</th>\n",
              "    </tr>\n",
              "  </thead>\n",
              "  <tbody>\n",
              "    <tr>\n",
              "      <th>5</th>\n",
              "      <td>Kita tidak boleh membiarkan dunia jatuh ke dal...</td>\n",
              "      <td>0.164447</td>\n",
              "    </tr>\n",
              "    <tr>\n",
              "      <th>2</th>\n",
              "      <td>Jika kita tidak segera mengambil langkah agar ...</td>\n",
              "      <td>0.155191</td>\n",
              "    </tr>\n",
              "    <tr>\n",
              "      <th>6</th>\n",
              "      <td>Ujung dari pertemuan ini adalahBuat sayaIndone...</td>\n",
              "      <td>0.148004</td>\n",
              "    </tr>\n",
              "    <tr>\n",
              "      <th>3</th>\n",
              "      <td>Jokowi meminta negara yang hadir untuk segera ...</td>\n",
              "      <td>0.139842</td>\n",
              "    </tr>\n",
              "    <tr>\n",
              "      <th>4</th>\n",
              "      <td>Kepala negara meminta pemimpin dunia untuk men...</td>\n",
              "      <td>0.136901</td>\n",
              "    </tr>\n",
              "    <tr>\n",
              "      <th>1</th>\n",
              "      <td>Pertama soal masalah\\npupuk.</td>\n",
              "      <td>0.127876</td>\n",
              "    </tr>\n",
              "    <tr>\n",
              "      <th>0</th>\n",
              "      <td>newsTEMPO.COKami akan mulai dengan diskusi ter...</td>\n",
              "      <td>0.127739</td>\n",
              "    </tr>\n",
              "  </tbody>\n",
              "</table>\n",
              "</div>\n",
              "      <button class=\"colab-df-convert\" onclick=\"convertToInteractive('df-c2cee7a1-7d3e-4f10-87d6-24951a219291')\"\n",
              "              title=\"Convert this dataframe to an interactive table.\"\n",
              "              style=\"display:none;\">\n",
              "        \n",
              "  <svg xmlns=\"http://www.w3.org/2000/svg\" height=\"24px\"viewBox=\"0 0 24 24\"\n",
              "       width=\"24px\">\n",
              "    <path d=\"M0 0h24v24H0V0z\" fill=\"none\"/>\n",
              "    <path d=\"M18.56 5.44l.94 2.06.94-2.06 2.06-.94-2.06-.94-.94-2.06-.94 2.06-2.06.94zm-11 1L8.5 8.5l.94-2.06 2.06-.94-2.06-.94L8.5 2.5l-.94 2.06-2.06.94zm10 10l.94 2.06.94-2.06 2.06-.94-2.06-.94-.94-2.06-.94 2.06-2.06.94z\"/><path d=\"M17.41 7.96l-1.37-1.37c-.4-.4-.92-.59-1.43-.59-.52 0-1.04.2-1.43.59L10.3 9.45l-7.72 7.72c-.78.78-.78 2.05 0 2.83L4 21.41c.39.39.9.59 1.41.59.51 0 1.02-.2 1.41-.59l7.78-7.78 2.81-2.81c.8-.78.8-2.07 0-2.86zM5.41 20L4 18.59l7.72-7.72 1.47 1.35L5.41 20z\"/>\n",
              "  </svg>\n",
              "      </button>\n",
              "      \n",
              "  <style>\n",
              "    .colab-df-container {\n",
              "      display:flex;\n",
              "      flex-wrap:wrap;\n",
              "      gap: 12px;\n",
              "    }\n",
              "\n",
              "    .colab-df-convert {\n",
              "      background-color: #E8F0FE;\n",
              "      border: none;\n",
              "      border-radius: 50%;\n",
              "      cursor: pointer;\n",
              "      display: none;\n",
              "      fill: #1967D2;\n",
              "      height: 32px;\n",
              "      padding: 0 0 0 0;\n",
              "      width: 32px;\n",
              "    }\n",
              "\n",
              "    .colab-df-convert:hover {\n",
              "      background-color: #E2EBFA;\n",
              "      box-shadow: 0px 1px 2px rgba(60, 64, 67, 0.3), 0px 1px 3px 1px rgba(60, 64, 67, 0.15);\n",
              "      fill: #174EA6;\n",
              "    }\n",
              "\n",
              "    [theme=dark] .colab-df-convert {\n",
              "      background-color: #3B4455;\n",
              "      fill: #D2E3FC;\n",
              "    }\n",
              "\n",
              "    [theme=dark] .colab-df-convert:hover {\n",
              "      background-color: #434B5C;\n",
              "      box-shadow: 0px 1px 3px 1px rgba(0, 0, 0, 0.15);\n",
              "      filter: drop-shadow(0px 1px 2px rgba(0, 0, 0, 0.3));\n",
              "      fill: #FFFFFF;\n",
              "    }\n",
              "  </style>\n",
              "\n",
              "      <script>\n",
              "        const buttonEl =\n",
              "          document.querySelector('#df-c2cee7a1-7d3e-4f10-87d6-24951a219291 button.colab-df-convert');\n",
              "        buttonEl.style.display =\n",
              "          google.colab.kernel.accessAllowed ? 'block' : 'none';\n",
              "\n",
              "        async function convertToInteractive(key) {\n",
              "          const element = document.querySelector('#df-c2cee7a1-7d3e-4f10-87d6-24951a219291');\n",
              "          const dataTable =\n",
              "            await google.colab.kernel.invokeFunction('convertToInteractive',\n",
              "                                                     [key], {});\n",
              "          if (!dataTable) return;\n",
              "\n",
              "          const docLinkHtml = 'Like what you see? Visit the ' +\n",
              "            '<a target=\"_blank\" href=https://colab.research.google.com/notebooks/data_table.ipynb>data table notebook</a>'\n",
              "            + ' to learn more about interactive tables.';\n",
              "          element.innerHTML = '';\n",
              "          dataTable['output_type'] = 'display_data';\n",
              "          await google.colab.output.renderOutput(dataTable, element);\n",
              "          const docLink = document.createElement('div');\n",
              "          docLink.innerHTML = docLinkHtml;\n",
              "          element.appendChild(docLink);\n",
              "        }\n",
              "      </script>\n",
              "    </div>\n",
              "  </div>\n",
              "  "
            ]
          },
          "metadata": {},
          "execution_count": 113
        }
      ]
    },
    {
      "cell_type": "code",
      "source": [
        "sortSentence.head(4)"
      ],
      "metadata": {
        "id": "3dAn-0gtyw5j",
        "outputId": "5aa93033-14df-48fe-9d09-510afc392ee8",
        "colab": {
          "base_uri": "https://localhost:8080/",
          "height": 175
        }
      },
      "execution_count": 115,
      "outputs": [
        {
          "output_type": "execute_result",
          "data": {
            "text/plain": [
              "                                                News  PageRank\n",
              "5  Kita tidak boleh membiarkan dunia jatuh ke dal...  0.164447\n",
              "2  Jika kita tidak segera mengambil langkah agar ...  0.155191\n",
              "6  Ujung dari pertemuan ini adalahBuat sayaIndone...  0.148004\n",
              "3  Jokowi meminta negara yang hadir untuk segera ...  0.139842"
            ],
            "text/html": [
              "\n",
              "  <div id=\"df-07b9987e-3e31-4f47-934b-25724e5a65b7\">\n",
              "    <div class=\"colab-df-container\">\n",
              "      <div>\n",
              "<style scoped>\n",
              "    .dataframe tbody tr th:only-of-type {\n",
              "        vertical-align: middle;\n",
              "    }\n",
              "\n",
              "    .dataframe tbody tr th {\n",
              "        vertical-align: top;\n",
              "    }\n",
              "\n",
              "    .dataframe thead th {\n",
              "        text-align: right;\n",
              "    }\n",
              "</style>\n",
              "<table border=\"1\" class=\"dataframe\">\n",
              "  <thead>\n",
              "    <tr style=\"text-align: right;\">\n",
              "      <th></th>\n",
              "      <th>News</th>\n",
              "      <th>PageRank</th>\n",
              "    </tr>\n",
              "  </thead>\n",
              "  <tbody>\n",
              "    <tr>\n",
              "      <th>5</th>\n",
              "      <td>Kita tidak boleh membiarkan dunia jatuh ke dal...</td>\n",
              "      <td>0.164447</td>\n",
              "    </tr>\n",
              "    <tr>\n",
              "      <th>2</th>\n",
              "      <td>Jika kita tidak segera mengambil langkah agar ...</td>\n",
              "      <td>0.155191</td>\n",
              "    </tr>\n",
              "    <tr>\n",
              "      <th>6</th>\n",
              "      <td>Ujung dari pertemuan ini adalahBuat sayaIndone...</td>\n",
              "      <td>0.148004</td>\n",
              "    </tr>\n",
              "    <tr>\n",
              "      <th>3</th>\n",
              "      <td>Jokowi meminta negara yang hadir untuk segera ...</td>\n",
              "      <td>0.139842</td>\n",
              "    </tr>\n",
              "  </tbody>\n",
              "</table>\n",
              "</div>\n",
              "      <button class=\"colab-df-convert\" onclick=\"convertToInteractive('df-07b9987e-3e31-4f47-934b-25724e5a65b7')\"\n",
              "              title=\"Convert this dataframe to an interactive table.\"\n",
              "              style=\"display:none;\">\n",
              "        \n",
              "  <svg xmlns=\"http://www.w3.org/2000/svg\" height=\"24px\"viewBox=\"0 0 24 24\"\n",
              "       width=\"24px\">\n",
              "    <path d=\"M0 0h24v24H0V0z\" fill=\"none\"/>\n",
              "    <path d=\"M18.56 5.44l.94 2.06.94-2.06 2.06-.94-2.06-.94-.94-2.06-.94 2.06-2.06.94zm-11 1L8.5 8.5l.94-2.06 2.06-.94-2.06-.94L8.5 2.5l-.94 2.06-2.06.94zm10 10l.94 2.06.94-2.06 2.06-.94-2.06-.94-.94-2.06-.94 2.06-2.06.94z\"/><path d=\"M17.41 7.96l-1.37-1.37c-.4-.4-.92-.59-1.43-.59-.52 0-1.04.2-1.43.59L10.3 9.45l-7.72 7.72c-.78.78-.78 2.05 0 2.83L4 21.41c.39.39.9.59 1.41.59.51 0 1.02-.2 1.41-.59l7.78-7.78 2.81-2.81c.8-.78.8-2.07 0-2.86zM5.41 20L4 18.59l7.72-7.72 1.47 1.35L5.41 20z\"/>\n",
              "  </svg>\n",
              "      </button>\n",
              "      \n",
              "  <style>\n",
              "    .colab-df-container {\n",
              "      display:flex;\n",
              "      flex-wrap:wrap;\n",
              "      gap: 12px;\n",
              "    }\n",
              "\n",
              "    .colab-df-convert {\n",
              "      background-color: #E8F0FE;\n",
              "      border: none;\n",
              "      border-radius: 50%;\n",
              "      cursor: pointer;\n",
              "      display: none;\n",
              "      fill: #1967D2;\n",
              "      height: 32px;\n",
              "      padding: 0 0 0 0;\n",
              "      width: 32px;\n",
              "    }\n",
              "\n",
              "    .colab-df-convert:hover {\n",
              "      background-color: #E2EBFA;\n",
              "      box-shadow: 0px 1px 2px rgba(60, 64, 67, 0.3), 0px 1px 3px 1px rgba(60, 64, 67, 0.15);\n",
              "      fill: #174EA6;\n",
              "    }\n",
              "\n",
              "    [theme=dark] .colab-df-convert {\n",
              "      background-color: #3B4455;\n",
              "      fill: #D2E3FC;\n",
              "    }\n",
              "\n",
              "    [theme=dark] .colab-df-convert:hover {\n",
              "      background-color: #434B5C;\n",
              "      box-shadow: 0px 1px 3px 1px rgba(0, 0, 0, 0.15);\n",
              "      filter: drop-shadow(0px 1px 2px rgba(0, 0, 0, 0.3));\n",
              "      fill: #FFFFFF;\n",
              "    }\n",
              "  </style>\n",
              "\n",
              "      <script>\n",
              "        const buttonEl =\n",
              "          document.querySelector('#df-07b9987e-3e31-4f47-934b-25724e5a65b7 button.colab-df-convert');\n",
              "        buttonEl.style.display =\n",
              "          google.colab.kernel.accessAllowed ? 'block' : 'none';\n",
              "\n",
              "        async function convertToInteractive(key) {\n",
              "          const element = document.querySelector('#df-07b9987e-3e31-4f47-934b-25724e5a65b7');\n",
              "          const dataTable =\n",
              "            await google.colab.kernel.invokeFunction('convertToInteractive',\n",
              "                                                     [key], {});\n",
              "          if (!dataTable) return;\n",
              "\n",
              "          const docLinkHtml = 'Like what you see? Visit the ' +\n",
              "            '<a target=\"_blank\" href=https://colab.research.google.com/notebooks/data_table.ipynb>data table notebook</a>'\n",
              "            + ' to learn more about interactive tables.';\n",
              "          element.innerHTML = '';\n",
              "          dataTable['output_type'] = 'display_data';\n",
              "          await google.colab.output.renderOutput(dataTable, element);\n",
              "          const docLink = document.createElement('div');\n",
              "          docLink.innerHTML = docLinkHtml;\n",
              "          element.appendChild(docLink);\n",
              "        }\n",
              "      </script>\n",
              "    </div>\n",
              "  </div>\n",
              "  "
            ]
          },
          "metadata": {},
          "execution_count": 115
        }
      ]
    },
    {
      "cell_type": "markdown",
      "source": [
        "##Latent Semantic Indexing(LSI) Topik Berita\n"
      ],
      "metadata": {
        "id": "Sy34kx5CzPSL"
      }
    },
    {
      "cell_type": "code",
      "source": [
        "!pip install PySastrawi\n",
        "!pip install nltk\n",
        "!pip install Sastrawi"
      ],
      "metadata": {
        "id": "nEsSRP4XzYuM",
        "outputId": "f2f99031-46f0-4eab-9edc-063adf74f2c2",
        "colab": {
          "base_uri": "https://localhost:8080/"
        }
      },
      "execution_count": 118,
      "outputs": [
        {
          "output_type": "stream",
          "name": "stdout",
          "text": [
            "Looking in indexes: https://pypi.org/simple, https://us-python.pkg.dev/colab-wheels/public/simple/\n",
            "Requirement already satisfied: PySastrawi in /usr/local/lib/python3.7/dist-packages (1.2.0)\n",
            "Looking in indexes: https://pypi.org/simple, https://us-python.pkg.dev/colab-wheels/public/simple/\n",
            "Requirement already satisfied: nltk in /usr/local/lib/python3.7/dist-packages (3.7)\n",
            "Requirement already satisfied: tqdm in /usr/local/lib/python3.7/dist-packages (from nltk) (4.64.1)\n",
            "Requirement already satisfied: joblib in /usr/local/lib/python3.7/dist-packages (from nltk) (1.2.0)\n",
            "Requirement already satisfied: click in /usr/local/lib/python3.7/dist-packages (from nltk) (7.1.2)\n",
            "Requirement already satisfied: regex>=2021.8.3 in /usr/local/lib/python3.7/dist-packages (from nltk) (2022.6.2)\n",
            "Looking in indexes: https://pypi.org/simple, https://us-python.pkg.dev/colab-wheels/public/simple/\n",
            "Requirement already satisfied: Sastrawi in /usr/local/lib/python3.7/dist-packages (1.0.1)\n"
          ]
        }
      ]
    },
    {
      "cell_type": "code",
      "source": [
        "import PyPDF2\n",
        "pdfReader = PyPDF2.PdfFileReader('news.pdf')\n",
        "pageObj = pdfReader.getPage(0)\n",
        "document = pageObj.extractText()\n",
        "print(document)"
      ],
      "metadata": {
        "id": "bbJzr4xNz7eW",
        "outputId": "f1415e88-5bb2-4b5b-d949-bbfc7b06ce1a",
        "colab": {
          "base_uri": "https://localhost:8080/"
        }
      },
      "execution_count": 121,
      "outputs": [
        {
          "output_type": "stream",
          "name": "stdout",
          "text": [
            "newsTEMPO.COKami akan mulai dengan diskusi tertutupBerbagai isu disinggung Jokowi dalam pembukaan ini. Pertama soal masalah\n",
            "pupuk. Jika kita tidak segera mengambil langkah agar ketersediaan pupuk\n",
            "mencukupi dengan harga terjangkauKedua soal perang. Jokowi meminta negara yang hadir untuk segera menghentikan\n",
            "perang. Kepala negara meminta pemimpin dunia untuk menghormati hukum\n",
            "internasional dan Piagam PBB secara konsisten.Jokowi menyerukan agar dunia tidak seharusnya dibagi menjadi beberapa bagian.\n",
            "Kita tidak boleh membiarkan dunia jatuh ke dalam perang Â lagiKetiga soal pelaksaan KTT G20. Ujung dari pertemuan ini adalahBuat sayaIndonesiaLaluKita tidak hanya bicaraBaca: Jokowi Buka KTT G20: Kita Tak Boleh Jatuh ke Perang Dingin Lagi\n"
          ]
        }
      ]
    },
    {
      "cell_type": "code",
      "source": [
        "import pandas as pd\n",
        "import re\n",
        "from nltk.corpus import stopwords\n",
        "from nltk.tokenize import word_tokenize\n",
        "import nltk\n",
        "nltk.download('stopwords')"
      ],
      "metadata": {
        "id": "k3W1amwx0lyb",
        "outputId": "061b8559-1afb-443b-c47a-7c2215a0ffc8",
        "colab": {
          "base_uri": "https://localhost:8080/"
        }
      },
      "execution_count": 122,
      "outputs": [
        {
          "output_type": "stream",
          "name": "stderr",
          "text": [
            "[nltk_data] Downloading package stopwords to /root/nltk_data...\n",
            "[nltk_data]   Unzipping corpora/stopwords.zip.\n"
          ]
        },
        {
          "output_type": "execute_result",
          "data": {
            "text/plain": [
              "True"
            ]
          },
          "metadata": {},
          "execution_count": 122
        }
      ]
    },
    {
      "cell_type": "code",
      "source": [
        "word_tokens = word_tokenize(document)\n",
        "print(word_tokens)"
      ],
      "metadata": {
        "id": "UmFTLACR0oTZ",
        "outputId": "ae95388f-c2f1-45d4-ee25-e296c0790fdd",
        "colab": {
          "base_uri": "https://localhost:8080/"
        }
      },
      "execution_count": 123,
      "outputs": [
        {
          "output_type": "stream",
          "name": "stdout",
          "text": [
            "['newsTEMPO.COKami', 'akan', 'mulai', 'dengan', 'diskusi', 'tertutupBerbagai', 'isu', 'disinggung', 'Jokowi', 'dalam', 'pembukaan', 'ini', '.', 'Pertama', 'soal', 'masalah', 'pupuk', '.', 'Jika', 'kita', 'tidak', 'segera', 'mengambil', 'langkah', 'agar', 'ketersediaan', 'pupuk', 'mencukupi', 'dengan', 'harga', 'terjangkauKedua', 'soal', 'perang', '.', 'Jokowi', 'meminta', 'negara', 'yang', 'hadir', 'untuk', 'segera', 'menghentikan', 'perang', '.', 'Kepala', 'negara', 'meminta', 'pemimpin', 'dunia', 'untuk', 'menghormati', 'hukum', 'internasional', 'dan', 'Piagam', 'PBB', 'secara', 'konsisten.Jokowi', 'menyerukan', 'agar', 'dunia', 'tidak', 'seharusnya', 'dibagi', 'menjadi', 'beberapa', 'bagian', '.', 'Kita', 'tidak', 'boleh', 'membiarkan', 'dunia', 'jatuh', 'ke', 'dalam', 'perang', 'Â', 'lagiKetiga', 'soal', 'pelaksaan', 'KTT', 'G20', '.', 'Ujung', 'dari', 'pertemuan', 'ini', 'adalahBuat', 'sayaIndonesiaLaluKita', 'tidak', 'hanya', 'bicaraBaca', ':', 'Jokowi', 'Buka', 'KTT', 'G20', ':', 'Kita', 'Tak', 'Boleh', 'Jatuh', 'ke', 'Perang', 'Dingin', 'Lagi']\n"
          ]
        }
      ]
    },
    {
      "cell_type": "code",
      "source": [
        "stop_words = set(stopwords.words('indonesian'))\n",
        "word_tokens_no_stopwords = [w for w in word_tokens if not w in stop_words]\n",
        "print(word_tokens_no_stopwords)"
      ],
      "metadata": {
        "id": "0bWUxfwc0qD_",
        "outputId": "b12d95f9-14ef-4ac2-b2f2-0d5ab191a323",
        "colab": {
          "base_uri": "https://localhost:8080/"
        }
      },
      "execution_count": 124,
      "outputs": [
        {
          "output_type": "stream",
          "name": "stdout",
          "text": [
            "['newsTEMPO.COKami', 'diskusi', 'tertutupBerbagai', 'isu', 'disinggung', 'Jokowi', 'pembukaan', '.', 'Pertama', 'pupuk', '.', 'Jika', 'mengambil', 'langkah', 'ketersediaan', 'pupuk', 'mencukupi', 'harga', 'terjangkauKedua', 'perang', '.', 'Jokowi', 'negara', 'hadir', 'menghentikan', 'perang', '.', 'Kepala', 'negara', 'pemimpin', 'dunia', 'menghormati', 'hukum', 'internasional', 'Piagam', 'PBB', 'konsisten.Jokowi', 'menyerukan', 'dunia', 'dibagi', '.', 'Kita', 'membiarkan', 'dunia', 'jatuh', 'perang', 'Â', 'lagiKetiga', 'pelaksaan', 'KTT', 'G20', '.', 'Ujung', 'pertemuan', 'adalahBuat', 'sayaIndonesiaLaluKita', 'bicaraBaca', ':', 'Jokowi', 'Buka', 'KTT', 'G20', ':', 'Kita', 'Tak', 'Boleh', 'Jatuh', 'Perang', 'Dingin', 'Lagi']\n"
          ]
        }
      ]
    },
    {
      "cell_type": "code",
      "source": [
        "import os\n",
        "from nltk.tokenize import RegexpTokenizer\n",
        "from sklearn.feature_extraction.text import TfidfVectorizer\n",
        "from sklearn.decomposition import TruncatedSVD"
      ],
      "metadata": {
        "id": "oJv0-BVD0sFj"
      },
      "execution_count": 125,
      "outputs": []
    },
    {
      "cell_type": "code",
      "source": [
        "# Vectorize document using TF-IDF\n",
        "tfidf = TfidfVectorizer(lowercase=True,\n",
        "                        ngram_range = (1,1))\n",
        "\n",
        "# Fit and Transform the documents\n",
        "train_data = tfidf.fit_transform(word_tokens_no_stopwords)\n",
        "train_data"
      ],
      "metadata": {
        "id": "sxEO2cX50tmo",
        "outputId": "852765f5-4cf1-4488-8d0f-afe8b82f4b24",
        "colab": {
          "base_uri": "https://localhost:8080/"
        }
      },
      "execution_count": 126,
      "outputs": [
        {
          "output_type": "execute_result",
          "data": {
            "text/plain": [
              "<70x49 sparse matrix of type '<class 'numpy.float64'>'\n",
              "\twith 63 stored elements in Compressed Sparse Row format>"
            ]
          },
          "metadata": {},
          "execution_count": 126
        }
      ]
    },
    {
      "cell_type": "code",
      "source": [
        "num_components=10\n",
        "\n",
        "# Create SVD object\n",
        "lsa = TruncatedSVD(n_components=num_components, n_iter=100, random_state=42)\n",
        "\n",
        "# Fit SVD model on data\n",
        "lsa.fit_transform(train_data)\n",
        "\n",
        "# Get Singular values and Components \n",
        "Sigma = lsa.singular_values_ \n",
        "V_transpose = lsa.components_.T\n",
        "V_transpose"
      ],
      "metadata": {
        "id": "_dH9urLn1HWM",
        "outputId": "142ba8cd-e188-4a4d-c3bc-2a65cb6ae7da",
        "colab": {
          "base_uri": "https://localhost:8080/"
        }
      },
      "execution_count": 127,
      "outputs": [
        {
          "output_type": "execute_result",
          "data": {
            "text/plain": [
              "array([[-3.41837421e-18, -1.48964542e-17, -2.11842526e-18,\n",
              "         5.62936271e-16,  3.01990012e-17,  1.04805293e-16,\n",
              "        -4.19118692e-18, -1.48968241e-16,  3.38438356e-18,\n",
              "        -2.26943791e-01],\n",
              "       [-8.60006427e-18,  1.60089683e-17, -1.98555182e-17,\n",
              "         4.18662275e-16, -3.36373880e-17,  5.21626664e-17,\n",
              "        -7.99233108e-17,  1.61107533e-15, -6.28844421e-17,\n",
              "         3.57272095e-01],\n",
              "       [-5.88617026e-18, -3.39326353e-19,  9.20604978e-18,\n",
              "        -1.87272350e-15, -1.80758416e-17, -1.48624978e-16,\n",
              "         7.86661192e-17,  1.04373480e-15,  7.01974131e-19,\n",
              "         6.36139825e-02],\n",
              "       [-2.22719739e-18, -2.82426348e-17,  1.42726711e-17,\n",
              "         4.19868812e-16, -1.16958222e-16, -1.56490137e-17,\n",
              "        -1.56638051e-16,  9.15069441e-17,  1.63109785e-17,\n",
              "        -9.17469001e-04],\n",
              "       [-1.64079046e-17, -1.20786509e-17, -1.51395043e-17,\n",
              "         2.77354261e-16, -2.00762384e-17,  1.26683228e-16,\n",
              "        -2.52706582e-18,  2.15794153e-15, -1.26491125e-16,\n",
              "        -6.37961337e-02],\n",
              "       [ 7.93420055e-18,  3.25675854e-17,  1.44148811e-18,\n",
              "        -8.55069081e-16, -3.05476703e-17,  1.93103027e-16,\n",
              "         1.01337271e-16, -6.66810446e-16,  3.90500473e-17,\n",
              "         1.04436805e-01],\n",
              "       [ 6.48959096e-18, -1.37106770e-17,  7.17685145e-18,\n",
              "        -9.85100389e-16,  1.07413799e-16,  2.84100038e-18,\n",
              "         6.04108089e-17, -1.62450282e-15,  8.29343214e-17,\n",
              "        -1.79875799e-01],\n",
              "       [-1.36551511e-18, -6.75334602e-19, -5.33349046e-18,\n",
              "         1.30770371e-15, -1.49953242e-16, -4.89532958e-17,\n",
              "        -1.44894678e-16,  5.14561930e-16,  8.21581699e-18,\n",
              "        -1.00096575e-01],\n",
              "       [ 1.09012533e-17,  5.85064212e-17,  1.28089697e-17,\n",
              "        -1.03298229e-15, -2.85348441e-17,  1.68867999e-16,\n",
              "         9.81875312e-17, -8.23406380e-16,  9.26783696e-17,\n",
              "         1.50289918e-01],\n",
              "       [-1.51262552e-27,  3.45546643e-21,  1.00000000e+00,\n",
              "        -2.18257816e-20, -8.14570626e-20,  2.25908367e-20,\n",
              "        -1.74741845e-19,  1.78359539e-19, -2.38629135e-17,\n",
              "         2.35934427e-17],\n",
              "       [ 7.38315234e-31, -1.23936724e-24,  2.90037603e-18,\n",
              "         6.75424545e-01, -1.90281846e-01, -6.05887253e-02,\n",
              "         2.77756610e-01,  6.41577411e-01,  1.23098337e-01,\n",
              "        -9.21477750e-17],\n",
              "       [ 7.97365303e-18,  3.00673253e-17, -1.16288745e-17,\n",
              "        -5.78838850e-16,  8.14252300e-17,  4.76626712e-17,\n",
              "         1.85574287e-16, -1.29630399e-15,  5.89199653e-17,\n",
              "         9.53843226e-02],\n",
              "       [ 5.53010245e-18, -2.40360041e-18, -2.07959665e-17,\n",
              "        -9.22213262e-16, -1.58333788e-17,  2.83171268e-16,\n",
              "         4.42253909e-18, -4.95532343e-16,  7.76533676e-17,\n",
              "         1.45488497e-01],\n",
              "       [ 1.02196760e-17,  6.49850646e-18, -3.14688530e-19,\n",
              "        -8.16791896e-17, -9.68960879e-18, -6.75778844e-17,\n",
              "        -1.60863143e-17, -1.25060293e-15,  3.14211987e-18,\n",
              "         6.73674019e-02],\n",
              "       [ 1.56589496e-18, -1.24048814e-18,  1.57546904e-17,\n",
              "         2.92850842e-16,  1.34760157e-17, -9.30950656e-18,\n",
              "        -3.73564692e-18, -3.79111304e-16,  2.19200632e-17,\n",
              "         4.85240868e-02],\n",
              "       [-8.07034004e-18,  7.92604651e-18, -1.00705089e-17,\n",
              "        -5.64833248e-17,  3.04097955e-17,  6.04064400e-17,\n",
              "         1.27125041e-16,  1.22869234e-15, -1.78534546e-16,\n",
              "         1.63122021e-02],\n",
              "       [ 1.45382390e-31, -2.85856158e-25,  7.19364524e-19,\n",
              "        -2.96220326e-01, -5.11304475e-01,  3.39408396e-01,\n",
              "        -5.85320473e-01,  4.37045341e-01,  4.48832513e-02,\n",
              "        -2.31140626e-16],\n",
              "       [-3.11691782e-18, -1.31409200e-17, -6.03544917e-18,\n",
              "        -2.92737349e-16,  1.48705153e-17, -4.19503195e-17,\n",
              "         1.26640184e-17,  3.59179970e-16,  1.06586934e-17,\n",
              "        -7.54494041e-02],\n",
              "       [-9.55973139e-21,  9.85797067e-01, -2.63668517e-21,\n",
              "        -3.75872343e-18, -3.01428051e-18,  2.84275847e-18,\n",
              "        -1.03483657e-18, -4.24798519e-19,  2.74938733e-18,\n",
              "        -8.20668991e-17],\n",
              "       [-2.45299964e-19,  2.06337071e-17,  8.08720106e-18,\n",
              "        -1.21396165e-16, -6.17455894e-17,  8.77843024e-17,\n",
              "         5.18707862e-17,  6.06798087e-16, -2.27496774e-17,\n",
              "         2.05789958e-01],\n",
              "       [-1.87861919e-17, -2.90677183e-17, -1.59684795e-17,\n",
              "         3.94882757e-16, -7.94697825e-17,  4.90417273e-18,\n",
              "        -1.06445443e-16,  2.45665232e-15, -1.66269285e-16,\n",
              "        -3.16385704e-02],\n",
              "       [ 4.29181984e-30, -7.22608089e-24,  1.68634177e-17,\n",
              "        -4.33954802e-01, -1.23062996e-01, -4.87015993e-01,\n",
              "         2.09691993e-01,  1.48825853e-01,  7.02306404e-01,\n",
              "        -3.09057533e-17],\n",
              "       [-1.60260160e-21,  1.67940889e-01, -4.46543304e-22,\n",
              "         2.20633496e-17,  1.76935406e-17, -1.66867223e-17,\n",
              "         6.07439284e-18,  2.49352651e-18, -1.61385819e-17,\n",
              "        -1.20728805e-17],\n",
              "       [ 4.11070606e-30, -6.92594059e-24,  1.61480438e-17,\n",
              "         2.24039870e-01,  1.47949885e-01,  6.44917159e-01,\n",
              "        -8.32910017e-03, -2.55685154e-01,  6.68247375e-01,\n",
              "         7.67256352e-17],\n",
              "       [-9.26852319e-19, -1.10707892e-17, -6.41565606e-18,\n",
              "         1.50933632e-16, -8.62189663e-18, -3.63760868e-17,\n",
              "        -7.04147478e-17,  3.40318646e-17, -3.40254060e-17,\n",
              "         1.93437351e-01],\n",
              "       [ 1.18856449e-17,  1.07573603e-17,  1.26172573e-17,\n",
              "        -5.26048840e-16,  3.07861778e-17, -2.03848524e-16,\n",
              "        -4.38206907e-17, -1.10884464e-15,  1.31310754e-16,\n",
              "        -9.69737717e-02],\n",
              "       [ 6.41807385e-18, -2.11290599e-17,  1.02081991e-17,\n",
              "        -1.30095282e-15,  5.11575010e-17, -1.51268084e-16,\n",
              "        -2.30973340e-17, -9.73030770e-16,  9.06778029e-17,\n",
              "         2.96555787e-02],\n",
              "       [-1.51794842e-17, -3.08705483e-17, -1.95825747e-17,\n",
              "        -1.35415429e-15, -2.76219533e-17,  9.01552593e-17,\n",
              "         1.04622099e-16,  1.69743857e-15, -5.67437473e-17,\n",
              "        -7.71656271e-02],\n",
              "       [ 5.04911813e-18,  1.36407963e-17,  1.74257282e-17,\n",
              "         1.03125596e-15,  1.30924182e-17, -1.19694292e-16,\n",
              "         6.08530658e-17, -2.46429996e-16,  9.52387141e-17,\n",
              "        -1.70290709e-01],\n",
              "       [ 5.24818009e-18, -1.08767905e-17,  4.42309538e-18,\n",
              "         2.94387023e-16,  4.57536182e-17, -6.55529693e-17,\n",
              "         1.61682200e-16, -6.25221444e-16,  7.59321063e-17,\n",
              "        -9.07763411e-02],\n",
              "       [ 1.43555381e-18,  1.19467558e-17, -1.32617818e-17,\n",
              "         1.18957778e-15,  1.79548411e-17, -3.96984834e-17,\n",
              "         2.02594367e-17, -1.24534268e-16, -2.63649250e-17,\n",
              "        -1.57109207e-02],\n",
              "       [-3.93165376e-18, -2.17468744e-17,  3.80244381e-18,\n",
              "         1.80628119e-15, -1.06165954e-17,  1.60719247e-16,\n",
              "        -9.07375461e-17,  2.35543401e-16, -5.31959796e-18,\n",
              "        -1.34784100e-01],\n",
              "       [-4.51889698e-18,  1.17823161e-17, -1.77983516e-18,\n",
              "        -2.56701484e-16, -4.55381233e-20, -2.81836806e-16,\n",
              "        -1.35009902e-16,  9.44300796e-16, -4.93091497e-17,\n",
              "         2.29273955e-01],\n",
              "       [-1.18555101e-30,  1.98945795e-24, -4.64756545e-18,\n",
              "        -4.61570966e-01,  1.19993447e-01,  4.73460262e-01,\n",
              "         6.34102620e-01,  3.29101258e-01, -1.94924155e-01,\n",
              "        -5.11202502e-17],\n",
              "       [-1.64079046e-17, -1.20786509e-17, -1.51395043e-17,\n",
              "         2.77598890e-16, -4.45039038e-17,  4.98328931e-17,\n",
              "        -4.71213452e-17,  2.14213852e-15, -1.03007427e-16,\n",
              "        -6.37961337e-02],\n",
              "       [-1.05892684e-17,  1.16427153e-17, -2.84697857e-18,\n",
              "        -8.36126288e-16, -9.41006446e-17, -3.52413393e-17,\n",
              "        -1.62963256e-16,  1.80415604e-15, -1.29215573e-16,\n",
              "         1.90322564e-01],\n",
              "       [ 8.47511975e-18,  1.97837585e-17, -1.44769324e-17,\n",
              "         3.11319658e-16, -2.22100453e-17,  8.96067638e-17,\n",
              "        -9.14389297e-17, -6.79579449e-16,  1.35111766e-17,\n",
              "         3.90079387e-01],\n",
              "       [ 4.63940219e-18,  1.20369881e-19,  2.39726224e-17,\n",
              "        -1.13433316e-15, -8.39075847e-17,  1.59582281e-17,\n",
              "         6.66669808e-17, -3.23803177e-16,  1.19654685e-17,\n",
              "        -4.41792596e-02],\n",
              "       [-2.82313120e-19,  6.04198471e-18,  5.48658175e-18,\n",
              "         8.27743752e-16,  2.92659466e-17,  3.25494714e-17,\n",
              "         1.00763132e-16, -1.69238436e-17, -1.24576008e-17,\n",
              "         1.47108381e-01],\n",
              "       [ 1.00000000e+00,  8.98502560e-21,  1.51659988e-27,\n",
              "         7.27911245e-32, -2.94342265e-32,  5.23337801e-32,\n",
              "        -5.11795506e-32,  4.04404144e-31, -6.05412466e-30,\n",
              "        -6.23169480e-17],\n",
              "       [-4.11732360e-21,  4.90230305e-18, -2.35158930e-17,\n",
              "        -5.06462177e-16,  1.33478020e-17,  1.96682789e-16,\n",
              "         9.19691057e-17, -1.79573176e-16,  2.64336447e-17,\n",
              "         1.01372887e-01],\n",
              "       [-1.19521299e-17,  1.98619452e-17, -1.68122260e-17,\n",
              "        -1.24888406e-15,  4.19957080e-19,  1.14994614e-16,\n",
              "         1.75652455e-17,  1.25636714e-15, -6.21375247e-17,\n",
              "        -3.39973165e-01],\n",
              "       [-2.34382514e-19,  2.25961905e-17,  1.27548290e-17,\n",
              "         4.28051677e-16, -5.34005304e-17,  3.04779535e-17,\n",
              "         3.19132980e-17,  5.70173304e-16, -3.57379558e-17,\n",
              "         1.61852946e-01],\n",
              "       [ 4.04145813e-31, -6.80213283e-25,  1.60250125e-18,\n",
              "        -6.70582760e-02,  8.06801373e-01, -6.21579232e-02,\n",
              "        -3.66230762e-01,  4.48929978e-01,  7.10494768e-02,\n",
              "        -4.85657926e-17],\n",
              "       [ 8.74389380e-18, -6.99640477e-18, -2.32330412e-18,\n",
              "         1.22984808e-15,  6.49783487e-17, -4.86681123e-17,\n",
              "         3.18066237e-17, -1.42930354e-15,  3.07971877e-17,\n",
              "        -4.85526954e-03],\n",
              "       [ 2.21611783e-18, -1.63819463e-17,  3.52384140e-19,\n",
              "         1.09196221e-15, -3.63766080e-17,  7.82731620e-17,\n",
              "        -9.19829625e-17, -1.40389561e-16, -1.66475205e-17,\n",
              "         1.82746516e-01],\n",
              "       [ 2.02389589e-18, -4.09934267e-18,  1.13292339e-18,\n",
              "         1.20092888e-15,  4.81784068e-17,  1.66377557e-18,\n",
              "        -1.40757286e-16, -5.24378950e-16,  3.50847866e-17,\n",
              "         2.02737076e-01],\n",
              "       [ 1.22539273e-17, -4.92403812e-18,  3.84705949e-17,\n",
              "         1.95647604e-16,  2.07409713e-17, -1.95771434e-16,\n",
              "         3.00008162e-18, -1.46013121e-15,  9.72750749e-17,\n",
              "        -1.25823892e-01],\n",
              "       [ 6.11065396e-18,  1.94060687e-17, -2.52021018e-18,\n",
              "         3.08636629e-16,  5.33595105e-17, -2.54191858e-17,\n",
              "         8.42425858e-17, -2.77557274e-16,  8.38643025e-17,\n",
              "         1.73403281e-01]])"
            ]
          },
          "metadata": {},
          "execution_count": 127
        }
      ]
    },
    {
      "cell_type": "code",
      "source": [
        "# Print the topics with their terms\n",
        "terms = tfidf.get_feature_names()\n",
        "\n",
        "for index, component in enumerate(lsa.components_):\n",
        "    zipped = zip(terms, component)\n",
        "    top_terms_key=sorted(zipped, key = lambda t: t[1], reverse=True)[:5]\n",
        "    top_terms_list=list(dict(top_terms_key).keys())\n",
        "    print(\"Topic \"+str(index+1)+\": \",top_terms_list)"
      ],
      "metadata": {
        "id": "BDZCyKHV1JYZ",
        "outputId": "05ad118a-bb82-4224-9b5c-3d2bda961349",
        "colab": {
          "base_uri": "https://localhost:8080/"
        }
      },
      "execution_count": 128,
      "outputs": [
        {
          "output_type": "stream",
          "name": "stderr",
          "text": [
            "WARNING:twisted:/usr/local/lib/python3.7/dist-packages/sklearn/utils/deprecation.py:87: builtins.FutureWarning: Function get_feature_names is deprecated; get_feature_names is deprecated in 1.0 and will be removed in 1.2. Please use get_feature_names_out instead.\n"
          ]
        },
        {
          "output_type": "stream",
          "name": "stdout",
          "text": [
            "Topic 1:  ['perang', 'tertutupberbagai', 'lagiketiga', 'diskusi', 'hukum']\n",
            "Topic 2:  ['jokowi', 'konsisten', 'diskusi', 'dibagi', 'hadir']\n",
            "Topic 3:  ['dunia', 'tertutupberbagai', 'pembukaan', 'mencukupi', 'kita']\n",
            "Topic 4:  ['g20', 'ktt', 'menghormati', 'disinggung', 'sayaindonesialalukita']\n",
            "Topic 5:  ['pupuk', 'ktt', 'negara', 'dingin', 'hadir']\n",
            "Topic 6:  ['ktt', 'negara', 'jatuh', 'harga', 'pertama']\n",
            "Topic 7:  ['negara', 'g20', 'kita', 'hadir', 'mengambil']\n",
            "Topic 8:  ['g20', 'pupuk', 'jatuh', 'negara', 'kita']\n",
            "Topic 9:  ['kita', 'ktt', 'g20', 'pupuk', 'jatuh']\n",
            "Topic 10:  ['pelaksaan', 'bicarabaca', 'menyerukan', 'kepala', 'terjangkaukedua']\n"
          ]
        }
      ]
    },
    {
      "cell_type": "markdown",
      "source": [
        "##Ensemble BaggingClassifier dengan Metode DecisionTreeClassifier\n"
      ],
      "metadata": {
        "id": "bMN9Y7b21Vza"
      }
    },
    {
      "cell_type": "code",
      "source": [
        "from sklearn import model_selection\n",
        "from sklearn.ensemble import BaggingClassifier\n",
        "from sklearn.tree import DecisionTreeClassifier\n",
        "import pandas as pd\n",
        "\n",
        "X = X_train\n",
        "Y = y_train\n",
        "\n",
        "# seed = 8\n",
        "# kfold = model_selection.KFold(n_splits = 3,\n",
        "# \t\t\t\t\trandom_state = seed)\n",
        "\n",
        "# initialize the base classifier\n",
        "base_cls = DecisionTreeClassifier()\n",
        "\n",
        "# no. of base classifier\n",
        "num_trees = 500\n",
        "\n",
        "# bagging classifier\n",
        "model = BaggingClassifier(base_estimator = base_cls,\n",
        "\t\t\t\t\t\tn_estimators = num_trees)\n",
        "\n",
        "results = model_selection.cross_val_score(model, X, Y)\n",
        "print(\"accuracy :\")\n",
        "print(results.mean())"
      ],
      "metadata": {
        "id": "MiFyeGYe1XWS",
        "outputId": "814bb75d-63f6-4acc-e7fc-3d8059fce2e6",
        "colab": {
          "base_uri": "https://localhost:8080/"
        }
      },
      "execution_count": 129,
      "outputs": [
        {
          "output_type": "stream",
          "name": "stdout",
          "text": [
            "accuracy :\n",
            "0.26724137931034486\n"
          ]
        }
      ]
    },
    {
      "cell_type": "markdown",
      "source": [
        "##Ensemble BaggingClassifier dengan Metode SVC"
      ],
      "metadata": {
        "id": "usZSFnl51bQg"
      }
    },
    {
      "cell_type": "code",
      "source": [
        "from sklearn import model_selection\n",
        "from sklearn.ensemble import BaggingClassifier\n",
        "from sklearn.svm import SVC\n",
        "import pandas as pd\n",
        "\n",
        "X = X_train\n",
        "Y = y_train\n",
        "\n",
        "# seed = 8\n",
        "# kfold = model_selection.KFold(n_splits = 3,\n",
        "# \t\t\t\t\trandom_state = seed)\n",
        "\n",
        "# initialize the base classifier\n",
        "base_cls = SVC()\n",
        "\n",
        "# no. of base classifier\n",
        "num_trees = 500\n",
        "\n",
        "# bagging classifier\n",
        "model = BaggingClassifier(base_estimator = base_cls,\n",
        "\t\t\t\t\t\tn_estimators = num_trees)\n",
        "\n",
        "results = model_selection.cross_val_score(model, X, Y)\n",
        "print(\"accuracy :\")\n",
        "print(results.mean())"
      ],
      "metadata": {
        "id": "6AVUtQyK1ZGd",
        "outputId": "bf4618f0-394e-4653-d31e-711444ec8b05",
        "colab": {
          "base_uri": "https://localhost:8080/"
        }
      },
      "execution_count": 130,
      "outputs": [
        {
          "output_type": "stream",
          "name": "stdout",
          "text": [
            "accuracy :\n",
            "0.3798029556650246\n"
          ]
        }
      ]
    },
    {
      "cell_type": "markdown",
      "source": [
        "##Ensemble RandomForestClassifier dengan GridSearchCV"
      ],
      "metadata": {
        "id": "38ETDA3B1ecj"
      }
    },
    {
      "cell_type": "code",
      "source": [
        "from sklearn.ensemble import RandomForestClassifier\n",
        "from sklearn.datasets import make_classification\n",
        "from sklearn.model_selection import GridSearchCV\n",
        "rfc=RandomForestClassifier(random_state=42)\n",
        "param_grid = { \n",
        "    'n_estimators': [50,100,200,500],\n",
        "    'max_features': ['auto', 'sqrt', 'log2'],\n",
        "    'max_depth' : [4,5,6,7,8],\n",
        "    'criterion' :['gini', 'entropy']\n",
        "}\n",
        "CV_rfc = GridSearchCV(estimator=rfc, param_grid=param_grid, cv= 5)\n",
        "CV_rfc.fit(X_train, y_train)"
      ],
      "metadata": {
        "id": "B3qaVham1h97",
        "outputId": "d70fd68a-829c-454b-a756-54604645902b",
        "colab": {
          "base_uri": "https://localhost:8080/"
        }
      },
      "execution_count": 131,
      "outputs": [
        {
          "output_type": "execute_result",
          "data": {
            "text/plain": [
              "GridSearchCV(cv=5, estimator=RandomForestClassifier(random_state=42),\n",
              "             param_grid={'criterion': ['gini', 'entropy'],\n",
              "                         'max_depth': [4, 5, 6, 7, 8],\n",
              "                         'max_features': ['auto', 'sqrt', 'log2'],\n",
              "                         'n_estimators': [50, 100, 200, 500]})"
            ]
          },
          "metadata": {},
          "execution_count": 131
        }
      ]
    },
    {
      "cell_type": "code",
      "source": [
        "CV_rfc.best_params_"
      ],
      "metadata": {
        "id": "GJP-CrT11l0A",
        "outputId": "86bc7872-4489-405e-ba1d-d8af06d71365",
        "colab": {
          "base_uri": "https://localhost:8080/"
        }
      },
      "execution_count": 132,
      "outputs": [
        {
          "output_type": "execute_result",
          "data": {
            "text/plain": [
              "{'criterion': 'gini',\n",
              " 'max_depth': 6,\n",
              " 'max_features': 'log2',\n",
              " 'n_estimators': 50}"
            ]
          },
          "metadata": {},
          "execution_count": 132
        }
      ]
    },
    {
      "cell_type": "code",
      "source": [
        "rfc1=RandomForestClassifier(random_state=42, max_features='log2', n_estimators= 50, max_depth=6, criterion='gini')\n",
        "rfc1.fit(X_train, y_train)"
      ],
      "metadata": {
        "id": "v0DRhW9n1nI6",
        "outputId": "4ddbcb2f-00dd-4f18-eb9e-fa607e34c3a7",
        "colab": {
          "base_uri": "https://localhost:8080/"
        }
      },
      "execution_count": 133,
      "outputs": [
        {
          "output_type": "execute_result",
          "data": {
            "text/plain": [
              "RandomForestClassifier(max_depth=6, max_features='log2', n_estimators=50,\n",
              "                       random_state=42)"
            ]
          },
          "metadata": {},
          "execution_count": 133
        }
      ]
    },
    {
      "cell_type": "code",
      "source": [
        "RandomForestClassifier(criterion='gini', max_depth=6, random_state=42)"
      ],
      "metadata": {
        "id": "hdp9qh0o3Nyk",
        "outputId": "0eab2823-5015-466f-c5c9-8b626ae75e73",
        "colab": {
          "base_uri": "https://localhost:8080/"
        }
      },
      "execution_count": 136,
      "outputs": [
        {
          "output_type": "execute_result",
          "data": {
            "text/plain": [
              "RandomForestClassifier(max_depth=6, random_state=42)"
            ]
          },
          "metadata": {},
          "execution_count": 136
        }
      ]
    },
    {
      "cell_type": "code",
      "source": [
        "pred=rfc1.predict(X_test)\n",
        "print(\"Accuracy for Random Forest on CV data: \",accuracy_score(y_test,pred))"
      ],
      "metadata": {
        "id": "LgKm-qPJ1okv",
        "outputId": "75210d17-d0c7-4ff0-87a6-ae62cc21825f",
        "colab": {
          "base_uri": "https://localhost:8080/"
        }
      },
      "execution_count": 137,
      "outputs": [
        {
          "output_type": "stream",
          "name": "stdout",
          "text": [
            "Accuracy for Random Forest on CV data:  0.3064516129032258\n"
          ]
        }
      ]
    },
    {
      "cell_type": "markdown",
      "source": [
        "##Ensemble StackingClassifier"
      ],
      "metadata": {
        "id": "Kk_1dtV11sJa"
      }
    },
    {
      "cell_type": "code",
      "source": [
        "from sklearn.model_selection import train_test_split\n",
        "#membagi kumpulan data menjadi data pelatihan dan data pengujian.\n",
        "X_train,X_test,y_train,y_test=train_test_split(dj.drop(labels=['label'], axis=1),\n",
        "    dj['label'],\n",
        "    test_size=0.3,\n",
        "    random_state=0)"
      ],
      "metadata": {
        "id": "Wk_IU6M-1rJg"
      },
      "execution_count": 138,
      "outputs": []
    },
    {
      "cell_type": "code",
      "source": [
        "from sklearn.datasets import load_iris\n",
        "from sklearn.ensemble import RandomForestClassifier\n",
        "from sklearn.svm import LinearSVC\n",
        "from sklearn.linear_model import LogisticRegression\n",
        "from sklearn.preprocessing import StandardScaler\n",
        "from sklearn.pipeline import make_pipeline\n",
        "from sklearn.ensemble import StackingClassifier\n",
        "from sklearn.naive_bayes import GaussianNB\n",
        "estimators = [\n",
        "    ('rf', RandomForestClassifier(random_state=42,max_features='log2', n_estimators= 50, max_depth=6, criterion='gini')),\n",
        "    ('rf2', RandomForestClassifier(random_state=42,max_features='log2', n_estimators= 50, max_depth=6, criterion='entropy'))\n",
        "]\n",
        "clf = StackingClassifier(\n",
        "    estimators=estimators, final_estimator=RandomForestClassifier(n_estimators=10, random_state=42)\n",
        ")\n",
        "# from sklearn.model_selection import train_test_split\n",
        "# X_train, X_test, y_train, y_test = train_test_split(\n",
        "#     X, y, stratify=y, random_state=42\n",
        "# )\n",
        "clf.fit(X_train.values, y_train.values).score(X_test.values, y_test.values)"
      ],
      "metadata": {
        "id": "RPas6V3N1wX7",
        "outputId": "069ece61-4cb0-4b8c-a01e-67304088a408",
        "colab": {
          "base_uri": "https://localhost:8080/"
        }
      },
      "execution_count": 140,
      "outputs": [
        {
          "output_type": "execute_result",
          "data": {
            "text/plain": [
              "0.27419354838709675"
            ]
          },
          "metadata": {},
          "execution_count": 140
        }
      ]
    },
    {
      "cell_type": "code",
      "execution_count": null,
      "metadata": {
        "colab": {
          "base_uri": "https://localhost:8080/"
        },
        "id": "ITRIP0kr8TQz",
        "outputId": "9d920486-f54a-4d95-b5c4-99ba475e72fa"
      },
      "outputs": [
        {
          "name": "stderr",
          "output_type": "stream",
          "text": [
            "/usr/local/lib/python3.7/dist-packages/sklearn/utils/validation.py:1692: FutureWarning: Feature names only support names that are all strings. Got feature names with dtypes: ['tuple']. An error will be raised in 1.2.\n",
            "  FutureWarning,\n",
            "/usr/local/lib/python3.7/dist-packages/sklearn/utils/validation.py:1692: FutureWarning: Feature names only support names that are all strings. Got feature names with dtypes: ['tuple']. An error will be raised in 1.2.\n",
            "  FutureWarning,\n"
          ]
        }
      ],
      "source": [
        "from sklearn.cluster import KMeans\n",
        "kmeans = KMeans(n_clusters=3).fit(dataTF)\n",
        "prediksi = kmeans.predict(dataTF)\n",
        "centroids = kmeans.cluster_centers_\n"
      ]
    },
    {
      "cell_type": "code",
      "execution_count": null,
      "metadata": {
        "colab": {
          "base_uri": "https://localhost:8080/"
        },
        "id": "bpmO-Ig3iubR",
        "outputId": "4ed6f489-e78e-495f-ad82-b2f798131ffd"
      },
      "outputs": [
        {
          "data": {
            "text/plain": [
              "array([0, 0, 0, 0, 0, 0, 0, 0, 0, 0, 0, 1, 0, 0, 0, 0, 0, 0, 0, 0, 0, 0,\n",
              "       0, 0, 0, 0, 0, 0, 0, 0, 1, 0, 0, 0, 0, 0, 0, 1, 0, 1, 1, 1, 1, 0,\n",
              "       0, 0, 0, 0, 2, 0, 1, 1, 1, 1, 1, 1, 1, 1, 1, 0, 2, 0, 1, 0, 1, 1,\n",
              "       2, 2, 0, 0, 2], dtype=int32)"
            ]
          },
          "execution_count": 61,
          "metadata": {},
          "output_type": "execute_result"
        }
      ],
      "source": [
        "prediksi\n"
      ]
    },
    {
      "cell_type": "code",
      "execution_count": null,
      "metadata": {
        "colab": {
          "base_uri": "https://localhost:8080/",
          "height": 424
        },
        "id": "WVuLxhFiiwV9",
        "outputId": "79b96778-28b1-4896-fedc-ce90827e854e"
      },
      "outputs": [
        {
          "data": {
            "text/html": [
              "\n",
              "  <div id=\"df-89ac8850-b8a4-453f-9ae0-5c607e09c708\">\n",
              "    <div class=\"colab-df-container\">\n",
              "      <div>\n",
              "<style scoped>\n",
              "    .dataframe tbody tr th:only-of-type {\n",
              "        vertical-align: middle;\n",
              "    }\n",
              "\n",
              "    .dataframe tbody tr th {\n",
              "        vertical-align: top;\n",
              "    }\n",
              "\n",
              "    .dataframe thead th {\n",
              "        text-align: right;\n",
              "    }\n",
              "</style>\n",
              "<table border=\"1\" class=\"dataframe\">\n",
              "  <thead>\n",
              "    <tr style=\"text-align: right;\">\n",
              "      <th></th>\n",
              "      <th>Cluster</th>\n",
              "    </tr>\n",
              "  </thead>\n",
              "  <tbody>\n",
              "    <tr>\n",
              "      <th>0</th>\n",
              "      <td>0</td>\n",
              "    </tr>\n",
              "    <tr>\n",
              "      <th>1</th>\n",
              "      <td>0</td>\n",
              "    </tr>\n",
              "    <tr>\n",
              "      <th>2</th>\n",
              "      <td>0</td>\n",
              "    </tr>\n",
              "    <tr>\n",
              "      <th>3</th>\n",
              "      <td>0</td>\n",
              "    </tr>\n",
              "    <tr>\n",
              "      <th>4</th>\n",
              "      <td>0</td>\n",
              "    </tr>\n",
              "    <tr>\n",
              "      <th>...</th>\n",
              "      <td>...</td>\n",
              "    </tr>\n",
              "    <tr>\n",
              "      <th>66</th>\n",
              "      <td>2</td>\n",
              "    </tr>\n",
              "    <tr>\n",
              "      <th>67</th>\n",
              "      <td>2</td>\n",
              "    </tr>\n",
              "    <tr>\n",
              "      <th>68</th>\n",
              "      <td>0</td>\n",
              "    </tr>\n",
              "    <tr>\n",
              "      <th>69</th>\n",
              "      <td>0</td>\n",
              "    </tr>\n",
              "    <tr>\n",
              "      <th>70</th>\n",
              "      <td>2</td>\n",
              "    </tr>\n",
              "  </tbody>\n",
              "</table>\n",
              "<p>71 rows × 1 columns</p>\n",
              "</div>\n",
              "      <button class=\"colab-df-convert\" onclick=\"convertToInteractive('df-89ac8850-b8a4-453f-9ae0-5c607e09c708')\"\n",
              "              title=\"Convert this dataframe to an interactive table.\"\n",
              "              style=\"display:none;\">\n",
              "        \n",
              "  <svg xmlns=\"http://www.w3.org/2000/svg\" height=\"24px\"viewBox=\"0 0 24 24\"\n",
              "       width=\"24px\">\n",
              "    <path d=\"M0 0h24v24H0V0z\" fill=\"none\"/>\n",
              "    <path d=\"M18.56 5.44l.94 2.06.94-2.06 2.06-.94-2.06-.94-.94-2.06-.94 2.06-2.06.94zm-11 1L8.5 8.5l.94-2.06 2.06-.94-2.06-.94L8.5 2.5l-.94 2.06-2.06.94zm10 10l.94 2.06.94-2.06 2.06-.94-2.06-.94-.94-2.06-.94 2.06-2.06.94z\"/><path d=\"M17.41 7.96l-1.37-1.37c-.4-.4-.92-.59-1.43-.59-.52 0-1.04.2-1.43.59L10.3 9.45l-7.72 7.72c-.78.78-.78 2.05 0 2.83L4 21.41c.39.39.9.59 1.41.59.51 0 1.02-.2 1.41-.59l7.78-7.78 2.81-2.81c.8-.78.8-2.07 0-2.86zM5.41 20L4 18.59l7.72-7.72 1.47 1.35L5.41 20z\"/>\n",
              "  </svg>\n",
              "      </button>\n",
              "      \n",
              "  <style>\n",
              "    .colab-df-container {\n",
              "      display:flex;\n",
              "      flex-wrap:wrap;\n",
              "      gap: 12px;\n",
              "    }\n",
              "\n",
              "    .colab-df-convert {\n",
              "      background-color: #E8F0FE;\n",
              "      border: none;\n",
              "      border-radius: 50%;\n",
              "      cursor: pointer;\n",
              "      display: none;\n",
              "      fill: #1967D2;\n",
              "      height: 32px;\n",
              "      padding: 0 0 0 0;\n",
              "      width: 32px;\n",
              "    }\n",
              "\n",
              "    .colab-df-convert:hover {\n",
              "      background-color: #E2EBFA;\n",
              "      box-shadow: 0px 1px 2px rgba(60, 64, 67, 0.3), 0px 1px 3px 1px rgba(60, 64, 67, 0.15);\n",
              "      fill: #174EA6;\n",
              "    }\n",
              "\n",
              "    [theme=dark] .colab-df-convert {\n",
              "      background-color: #3B4455;\n",
              "      fill: #D2E3FC;\n",
              "    }\n",
              "\n",
              "    [theme=dark] .colab-df-convert:hover {\n",
              "      background-color: #434B5C;\n",
              "      box-shadow: 0px 1px 3px 1px rgba(0, 0, 0, 0.15);\n",
              "      filter: drop-shadow(0px 1px 2px rgba(0, 0, 0, 0.3));\n",
              "      fill: #FFFFFF;\n",
              "    }\n",
              "  </style>\n",
              "\n",
              "      <script>\n",
              "        const buttonEl =\n",
              "          document.querySelector('#df-89ac8850-b8a4-453f-9ae0-5c607e09c708 button.colab-df-convert');\n",
              "        buttonEl.style.display =\n",
              "          google.colab.kernel.accessAllowed ? 'block' : 'none';\n",
              "\n",
              "        async function convertToInteractive(key) {\n",
              "          const element = document.querySelector('#df-89ac8850-b8a4-453f-9ae0-5c607e09c708');\n",
              "          const dataTable =\n",
              "            await google.colab.kernel.invokeFunction('convertToInteractive',\n",
              "                                                     [key], {});\n",
              "          if (!dataTable) return;\n",
              "\n",
              "          const docLinkHtml = 'Like what you see? Visit the ' +\n",
              "            '<a target=\"_blank\" href=https://colab.research.google.com/notebooks/data_table.ipynb>data table notebook</a>'\n",
              "            + ' to learn more about interactive tables.';\n",
              "          element.innerHTML = '';\n",
              "          dataTable['output_type'] = 'display_data';\n",
              "          await google.colab.output.renderOutput(dataTable, element);\n",
              "          const docLink = document.createElement('div');\n",
              "          docLink.innerHTML = docLinkHtml;\n",
              "          element.appendChild(docLink);\n",
              "        }\n",
              "      </script>\n",
              "    </div>\n",
              "  </div>\n",
              "  "
            ],
            "text/plain": [
              "    Cluster\n",
              "0         0\n",
              "1         0\n",
              "2         0\n",
              "3         0\n",
              "4         0\n",
              "..      ...\n",
              "66        2\n",
              "67        2\n",
              "68        0\n",
              "69        0\n",
              "70        2\n",
              "\n",
              "[71 rows x 1 columns]"
            ]
          },
          "execution_count": 62,
          "metadata": {},
          "output_type": "execute_result"
        }
      ],
      "source": [
        "pd.DataFrame(prediksi,columns=['Cluster'])"
      ]
    }
  ],
  "metadata": {
    "colab": {
      "collapsed_sections": [],
      "provenance": []
    },
    "kernelspec": {
      "display_name": "Python 3.9.5 64-bit",
      "language": "python",
      "name": "python3"
    },
    "language_info": {
      "name": "python",
      "version": "3.9.5"
    },
    "vscode": {
      "interpreter": {
        "hash": "8c6fbec5f51f03ca57a9e82abcab4f9c9f952008ea1eced51f224209f8da2fd3"
      }
    }
  },
  "nbformat": 4,
  "nbformat_minor": 0
}