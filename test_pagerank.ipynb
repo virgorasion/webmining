{
 "cells": [
  {
   "cell_type": "code",
   "execution_count": 12,
   "metadata": {},
   "outputs": [
    {
     "name": "stdout",
     "output_type": "stream",
     "text": [
      "Graph with 8 nodes and 1 edges\n",
      "Graph with 8 nodes and 2 edges\n",
      "Graph with 8 nodes and 3 edges\n",
      "Graph with 8 nodes and 4 edges\n",
      "Graph with 8 nodes and 5 edges\n",
      "Graph with 8 nodes and 6 edges\n",
      "Graph with 8 nodes and 7 edges\n",
      "Graph with 8 nodes and 8 edges\n",
      "Graph with 8 nodes and 9 edges\n",
      "Graph with 8 nodes and 10 edges\n",
      "Graph with 8 nodes and 11 edges\n",
      "Graph with 8 nodes and 12 edges\n",
      "Graph with 8 nodes and 13 edges\n",
      "Graph with 8 nodes and 14 edges\n",
      "Graph with 8 nodes and 15 edges\n",
      "Graph with 8 nodes and 16 edges\n",
      "Graph with 8 nodes and 17 edges\n",
      "Graph with 8 nodes and 18 edges\n",
      "['a', 'b', 'c', 'd', 'e', 'f', 'g', 'h']\n"
     ]
    }
   ],
   "source": [
    "import itertools\n",
    "import random\n",
    "\n",
    "import networkx as nx\n",
    "from matplotlib import pyplot as plt\n",
    "\n",
    "\n",
    "nodes = ['a', 'b', 'c', 'd', 'e', 'f', 'g', 'h']\n",
    "\n",
    "# Generate Networkx Graph\n",
    "G = nx.Graph()\n",
    "G.add_nodes_from(nodes)\n",
    "\n",
    "# randomly determine vertices\n",
    "for (node1, node2) in itertools.combinations(nodes, 2):\n",
    "    if random.random() < 0.5:\n",
    "        G.add_edge(node1, node2)\n",
    "        print(G)\n",
    "\n",
    "# Draw generated graph\n",
    "# nx.draw_networkx(G, pos=nx.circular_layout(G), with_labels=True)\n",
    "\n",
    "print(list(G))\n",
    "# Compute Page Rank\n",
    "# pr = nx.pagerank(G, alpha=0.85)\n",
    "\n",
    "# plt.show()"
   ]
  }
 ],
 "metadata": {
  "kernelspec": {
   "display_name": "Python 3.9.5 64-bit",
   "language": "python",
   "name": "python3"
  },
  "language_info": {
   "codemirror_mode": {
    "name": "ipython",
    "version": 3
   },
   "file_extension": ".py",
   "mimetype": "text/x-python",
   "name": "python",
   "nbconvert_exporter": "python",
   "pygments_lexer": "ipython3",
   "version": "3.9.5"
  },
  "orig_nbformat": 4,
  "vscode": {
   "interpreter": {
    "hash": "8c6fbec5f51f03ca57a9e82abcab4f9c9f952008ea1eced51f224209f8da2fd3"
   }
  }
 },
 "nbformat": 4,
 "nbformat_minor": 2
}
